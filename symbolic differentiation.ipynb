{
 "cells": [
  {
   "cell_type": "code",
   "execution_count": 27,
   "metadata": {},
   "outputs": [],
   "source": [
    "import sympy as sym"
   ]
  },
  {
   "cell_type": "code",
   "execution_count": 28,
   "metadata": {},
   "outputs": [],
   "source": [
    "t = sym.Symbol('t')\n",
    "\n",
    "I = sym.Symbol('I')\n",
    "m = sym.Symbol('m')\n",
    "m_inf = sym.Symbol('m_inf')\n",
    "p = sym.Symbol('p')\n",
    "prestep_V = sym.Symbol('prestep_V')\n",
    "step_V = sym.Symbol('step_V')\n",
    "a = sym.Symbol('a')\n",
    "b = sym.Symbol('b')\n",
    "\n",
    "g = sym.Symbol('g')\n",
    "E_rev = sym.Symbol('E_rev')\n",
    "M_ma = sym.Symbol('M_ma')\n",
    "M_mb = sym.Symbol('M_mb')\n",
    "V_2ma = sym.Symbol('V_2ma')\n",
    "V_2mb = sym.Symbol('V_2mb')\n",
    "s_ma = sym.Symbol('s_ma')\n",
    "s_mb = sym.Symbol('s_mb')"
   ]
  },
  {
   "cell_type": "code",
   "execution_count": 36,
   "metadata": {},
   "outputs": [],
   "source": [
    "# H-H model\n",
    "m_inf = 1 / (1 + M_mb/M_ma * ((1+sym.exp((prestep_V-V_2ma)/s_ma)) / (1+sym.exp((prestep_V-V_2mb)/s_mb))))\n",
    "\n",
    "a = M_ma / (1 + sym.exp((step_V - V_2ma) / s_ma))\n",
    "b = M_mb / (1 + sym.exp((step_V - V_2mb) / s_mb))\n",
    "\n",
    "m = (a - (a-(a+b)*m_inf)*sym.exp(-t*(a+b))) / (a + b)\n",
    "I = g * m ** 4 * (step_V - E_rev)"
   ]
  },
  {
   "cell_type": "code",
   "execution_count": 37,
   "metadata": {},
   "outputs": [],
   "source": [
    "dI_dg = sym.diff(I, g)\n",
    "dI_dE_rev = sym.diff(I, E_rev)\n",
    "dI_dM_ma = sym.diff(I, M_ma)\n",
    "dI_dM_mb = sym.diff(I, M_mb)\n",
    "dI_dV_2ma = sym.diff(I, V_2ma)\n",
    "dI_dV_2mb = sym.diff(I, V_2mb)\n",
    "dI_ds_ma = sym.diff(I, s_ma)\n",
    "dI_ds_mb = sym.diff(I, s_mb)"
   ]
  },
  {
   "cell_type": "code",
   "execution_count": 39,
   "metadata": {},
   "outputs": [
    {
     "data": {
      "text/latex": [
       "$\\displaystyle \\frac{s_{ma} \\left(\\frac{M_{ma}}{e^{\\frac{- V_{2ma} + step_{V}}{s_{ma}}} + 1} + \\frac{M_{mb}}{e^{\\frac{- V_{2mb} + step_{V}}{s_{mb}}} + 1}\\right)^{4} \\left(- \\frac{4 M_{ma} g \\left(- E_{rev} + step_{V}\\right) \\left(- V_{2ma} + step_{V}\\right) \\left(\\frac{M_{ma}}{e^{\\frac{- V_{2ma} + step_{V}}{s_{ma}}} + 1} - \\left(\\frac{M_{ma}}{e^{\\frac{- V_{2ma} + step_{V}}{s_{ma}}} + 1} - \\frac{\\frac{M_{ma}}{e^{\\frac{- V_{2ma} + step_{V}}{s_{ma}}} + 1} + \\frac{M_{mb}}{e^{\\frac{- V_{2mb} + step_{V}}{s_{mb}}} + 1}}{1 + \\frac{M_{mb} \\left(e^{\\frac{- V_{2ma} + prestep_{V}}{s_{ma}}} + 1\\right)}{M_{ma} \\left(e^{\\frac{- V_{2mb} + prestep_{V}}{s_{mb}}} + 1\\right)}}\\right) e^{- t \\left(\\frac{M_{ma}}{e^{\\frac{- V_{2ma} + step_{V}}{s_{ma}}} + 1} + \\frac{M_{mb}}{e^{\\frac{- V_{2mb} + step_{V}}{s_{mb}}} + 1}\\right)}\\right)^{4} e^{\\frac{- V_{2ma} + step_{V}}{s_{ma}}}}{s_{ma}^{2} \\left(\\frac{M_{ma}}{e^{\\frac{- V_{2ma} + step_{V}}{s_{ma}}} + 1} + \\frac{M_{mb}}{e^{\\frac{- V_{2mb} + step_{V}}{s_{mb}}} + 1}\\right)^{5} \\left(e^{\\frac{- V_{2ma} + step_{V}}{s_{ma}}} + 1\\right)^{2}} + \\frac{g \\left(- E_{rev} + step_{V}\\right) \\left(\\frac{M_{ma}}{e^{\\frac{- V_{2ma} + step_{V}}{s_{ma}}} + 1} - \\left(\\frac{M_{ma}}{e^{\\frac{- V_{2ma} + step_{V}}{s_{ma}}} + 1} - \\frac{\\frac{M_{ma}}{e^{\\frac{- V_{2ma} + step_{V}}{s_{ma}}} + 1} + \\frac{M_{mb}}{e^{\\frac{- V_{2mb} + step_{V}}{s_{mb}}} + 1}}{1 + \\frac{M_{mb} \\left(e^{\\frac{- V_{2ma} + prestep_{V}}{s_{ma}}} + 1\\right)}{M_{ma} \\left(e^{\\frac{- V_{2mb} + prestep_{V}}{s_{mb}}} + 1\\right)}}\\right) e^{- t \\left(\\frac{M_{ma}}{e^{\\frac{- V_{2ma} + step_{V}}{s_{ma}}} + 1} + \\frac{M_{mb}}{e^{\\frac{- V_{2mb} + step_{V}}{s_{mb}}} + 1}\\right)}\\right)^{3} \\cdot \\left(\\frac{4 M_{ma} t \\left(- V_{2ma} + step_{V}\\right) \\left(\\frac{M_{ma}}{e^{\\frac{- V_{2ma} + step_{V}}{s_{ma}}} + 1} - \\frac{\\frac{M_{ma}}{e^{\\frac{- V_{2ma} + step_{V}}{s_{ma}}} + 1} + \\frac{M_{mb}}{e^{\\frac{- V_{2mb} + step_{V}}{s_{mb}}} + 1}}{1 + \\frac{M_{mb} \\left(e^{\\frac{- V_{2ma} + prestep_{V}}{s_{ma}}} + 1\\right)}{M_{ma} \\left(e^{\\frac{- V_{2mb} + prestep_{V}}{s_{mb}}} + 1\\right)}}\\right) e^{\\frac{- V_{2ma} + step_{V}}{s_{ma}}} e^{- t \\left(\\frac{M_{ma}}{e^{\\frac{- V_{2ma} + step_{V}}{s_{ma}}} + 1} + \\frac{M_{mb}}{e^{\\frac{- V_{2mb} + step_{V}}{s_{mb}}} + 1}\\right)}}{s_{ma}^{2} \\left(e^{\\frac{- V_{2ma} + step_{V}}{s_{ma}}} + 1\\right)^{2}} + \\frac{4 M_{ma} \\left(- V_{2ma} + step_{V}\\right) e^{\\frac{- V_{2ma} + step_{V}}{s_{ma}}}}{s_{ma}^{2} \\left(e^{\\frac{- V_{2ma} + step_{V}}{s_{ma}}} + 1\\right)^{2}} - 4 \\left(\\frac{M_{ma} \\left(- V_{2ma} + step_{V}\\right) e^{\\frac{- V_{2ma} + step_{V}}{s_{ma}}}}{s_{ma}^{2} \\left(e^{\\frac{- V_{2ma} + step_{V}}{s_{ma}}} + 1\\right)^{2}} - \\frac{M_{ma} \\left(- V_{2ma} + step_{V}\\right) e^{\\frac{- V_{2ma} + step_{V}}{s_{ma}}}}{s_{ma}^{2} \\cdot \\left(1 + \\frac{M_{mb} \\left(e^{\\frac{- V_{2ma} + prestep_{V}}{s_{ma}}} + 1\\right)}{M_{ma} \\left(e^{\\frac{- V_{2mb} + prestep_{V}}{s_{mb}}} + 1\\right)}\\right) \\left(e^{\\frac{- V_{2ma} + step_{V}}{s_{ma}}} + 1\\right)^{2}} - \\frac{M_{mb} \\left(- V_{2ma} + prestep_{V}\\right) \\left(\\frac{M_{ma}}{e^{\\frac{- V_{2ma} + step_{V}}{s_{ma}}} + 1} + \\frac{M_{mb}}{e^{\\frac{- V_{2mb} + step_{V}}{s_{mb}}} + 1}\\right) e^{\\frac{- V_{2ma} + prestep_{V}}{s_{ma}}}}{M_{ma} s_{ma}^{2} \\left(1 + \\frac{M_{mb} \\left(e^{\\frac{- V_{2ma} + prestep_{V}}{s_{ma}}} + 1\\right)}{M_{ma} \\left(e^{\\frac{- V_{2mb} + prestep_{V}}{s_{mb}}} + 1\\right)}\\right)^{2} \\left(e^{\\frac{- V_{2mb} + prestep_{V}}{s_{mb}}} + 1\\right)}\\right) e^{- t \\left(\\frac{M_{ma}}{e^{\\frac{- V_{2ma} + step_{V}}{s_{ma}}} + 1} + \\frac{M_{mb}}{e^{\\frac{- V_{2mb} + step_{V}}{s_{mb}}} + 1}\\right)}\\right)}{\\left(\\frac{M_{ma}}{e^{\\frac{- V_{2ma} + step_{V}}{s_{ma}}} + 1} + \\frac{M_{mb}}{e^{\\frac{- V_{2mb} + step_{V}}{s_{mb}}} + 1}\\right)^{4}}\\right)}{g \\left(- E_{rev} + step_{V}\\right) \\left(\\frac{M_{ma}}{e^{\\frac{- V_{2ma} + step_{V}}{s_{ma}}} + 1} - \\left(\\frac{M_{ma}}{e^{\\frac{- V_{2ma} + step_{V}}{s_{ma}}} + 1} - \\frac{\\frac{M_{ma}}{e^{\\frac{- V_{2ma} + step_{V}}{s_{ma}}} + 1} + \\frac{M_{mb}}{e^{\\frac{- V_{2mb} + step_{V}}{s_{mb}}} + 1}}{1 + \\frac{M_{mb} \\left(e^{\\frac{- V_{2ma} + prestep_{V}}{s_{ma}}} + 1\\right)}{M_{ma} \\left(e^{\\frac{- V_{2mb} + prestep_{V}}{s_{mb}}} + 1\\right)}}\\right) e^{- t \\left(\\frac{M_{ma}}{e^{\\frac{- V_{2ma} + step_{V}}{s_{ma}}} + 1} + \\frac{M_{mb}}{e^{\\frac{- V_{2mb} + step_{V}}{s_{mb}}} + 1}\\right)}\\right)^{4}}$"
      ],
      "text/plain": [
       "s_ma*(M_ma/(exp((-V_2ma + step_V)/s_ma) + 1) + M_mb/(exp((-V_2mb + step_V)/s_mb) + 1))**4*(-4*M_ma*g*(-E_rev + step_V)*(-V_2ma + step_V)*(M_ma/(exp((-V_2ma + step_V)/s_ma) + 1) - (M_ma/(exp((-V_2ma + step_V)/s_ma) + 1) - (M_ma/(exp((-V_2ma + step_V)/s_ma) + 1) + M_mb/(exp((-V_2mb + step_V)/s_mb) + 1))/(1 + M_mb*(exp((-V_2ma + prestep_V)/s_ma) + 1)/(M_ma*(exp((-V_2mb + prestep_V)/s_mb) + 1))))*exp(-t*(M_ma/(exp((-V_2ma + step_V)/s_ma) + 1) + M_mb/(exp((-V_2mb + step_V)/s_mb) + 1))))**4*exp((-V_2ma + step_V)/s_ma)/(s_ma**2*(M_ma/(exp((-V_2ma + step_V)/s_ma) + 1) + M_mb/(exp((-V_2mb + step_V)/s_mb) + 1))**5*(exp((-V_2ma + step_V)/s_ma) + 1)**2) + g*(-E_rev + step_V)*(M_ma/(exp((-V_2ma + step_V)/s_ma) + 1) - (M_ma/(exp((-V_2ma + step_V)/s_ma) + 1) - (M_ma/(exp((-V_2ma + step_V)/s_ma) + 1) + M_mb/(exp((-V_2mb + step_V)/s_mb) + 1))/(1 + M_mb*(exp((-V_2ma + prestep_V)/s_ma) + 1)/(M_ma*(exp((-V_2mb + prestep_V)/s_mb) + 1))))*exp(-t*(M_ma/(exp((-V_2ma + step_V)/s_ma) + 1) + M_mb/(exp((-V_2mb + step_V)/s_mb) + 1))))**3*(4*M_ma*t*(-V_2ma + step_V)*(M_ma/(exp((-V_2ma + step_V)/s_ma) + 1) - (M_ma/(exp((-V_2ma + step_V)/s_ma) + 1) + M_mb/(exp((-V_2mb + step_V)/s_mb) + 1))/(1 + M_mb*(exp((-V_2ma + prestep_V)/s_ma) + 1)/(M_ma*(exp((-V_2mb + prestep_V)/s_mb) + 1))))*exp((-V_2ma + step_V)/s_ma)*exp(-t*(M_ma/(exp((-V_2ma + step_V)/s_ma) + 1) + M_mb/(exp((-V_2mb + step_V)/s_mb) + 1)))/(s_ma**2*(exp((-V_2ma + step_V)/s_ma) + 1)**2) + 4*M_ma*(-V_2ma + step_V)*exp((-V_2ma + step_V)/s_ma)/(s_ma**2*(exp((-V_2ma + step_V)/s_ma) + 1)**2) - 4*(M_ma*(-V_2ma + step_V)*exp((-V_2ma + step_V)/s_ma)/(s_ma**2*(exp((-V_2ma + step_V)/s_ma) + 1)**2) - M_ma*(-V_2ma + step_V)*exp((-V_2ma + step_V)/s_ma)/(s_ma**2*(1 + M_mb*(exp((-V_2ma + prestep_V)/s_ma) + 1)/(M_ma*(exp((-V_2mb + prestep_V)/s_mb) + 1)))*(exp((-V_2ma + step_V)/s_ma) + 1)**2) - M_mb*(-V_2ma + prestep_V)*(M_ma/(exp((-V_2ma + step_V)/s_ma) + 1) + M_mb/(exp((-V_2mb + step_V)/s_mb) + 1))*exp((-V_2ma + prestep_V)/s_ma)/(M_ma*s_ma**2*(1 + M_mb*(exp((-V_2ma + prestep_V)/s_ma) + 1)/(M_ma*(exp((-V_2mb + prestep_V)/s_mb) + 1)))**2*(exp((-V_2mb + prestep_V)/s_mb) + 1)))*exp(-t*(M_ma/(exp((-V_2ma + step_V)/s_ma) + 1) + M_mb/(exp((-V_2mb + step_V)/s_mb) + 1))))/(M_ma/(exp((-V_2ma + step_V)/s_ma) + 1) + M_mb/(exp((-V_2mb + step_V)/s_mb) + 1))**4)/(g*(-E_rev + step_V)*(M_ma/(exp((-V_2ma + step_V)/s_ma) + 1) - (M_ma/(exp((-V_2ma + step_V)/s_ma) + 1) - (M_ma/(exp((-V_2ma + step_V)/s_ma) + 1) + M_mb/(exp((-V_2mb + step_V)/s_mb) + 1))/(1 + M_mb*(exp((-V_2ma + prestep_V)/s_ma) + 1)/(M_ma*(exp((-V_2mb + prestep_V)/s_mb) + 1))))*exp(-t*(M_ma/(exp((-V_2ma + step_V)/s_ma) + 1) + M_mb/(exp((-V_2mb + step_V)/s_mb) + 1))))**4)"
      ]
     },
     "execution_count": 39,
     "metadata": {},
     "output_type": "execute_result"
    }
   ],
   "source": [
    "(s_ma / I) * dI_ds_ma"
   ]
  },
  {
   "cell_type": "code",
   "execution_count": 10,
   "metadata": {},
   "outputs": [
    {
     "data": {
      "text/latex": [
       "$\\displaystyle \\frac{1}{1.0 + \\frac{M_{mb} \\left(e^{\\frac{- V_{2ma} - 100}{s_{ma}}} + 1.0\\right)}{M_{ma} \\left(e^{\\frac{- V_{2mb} - 100}{s_{mb}}} + 1.0\\right)}}$"
      ],
      "text/plain": [
       "1/(1.0 + M_mb*(exp((-V_2ma - 100)/s_ma) + 1.0)/(M_ma*(exp((-V_2mb - 100)/s_mb) + 1.0)))"
      ]
     },
     "execution_count": 10,
     "metadata": {},
     "output_type": "execute_result"
    }
   ],
   "source": [
    "m_inf.subs({prestep_V:-100}).evalf()"
   ]
  },
  {
   "cell_type": "code",
   "execution_count": null,
   "metadata": {},
   "outputs": [],
   "source": [
    "dI_dg.subs({step_V: 20, m_inf: m_inf})"
   ]
  }
 ],
 "metadata": {
  "kernelspec": {
   "display_name": "base",
   "language": "python",
   "name": "python3"
  },
  "language_info": {
   "codemirror_mode": {
    "name": "ipython",
    "version": 3
   },
   "file_extension": ".py",
   "mimetype": "text/x-python",
   "name": "python",
   "nbconvert_exporter": "python",
   "pygments_lexer": "ipython3",
   "version": "3.10.9"
  }
 },
 "nbformat": 4,
 "nbformat_minor": 2
}
