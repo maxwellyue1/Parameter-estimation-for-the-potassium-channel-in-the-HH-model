{
 "cells": [
  {
   "cell_type": "code",
   "execution_count": 1,
   "id": "d3b5c381-9600-4886-b979-3e79fce6e73e",
   "metadata": {},
   "outputs": [],
   "source": [
    "import sympy as sym\n",
    "import numpy as np\n",
    "import pandas as pd"
   ]
  },
  {
   "cell_type": "code",
   "execution_count": 2,
   "id": "564d8f10-6c9c-4829-a187-e12d5137ee1b",
   "metadata": {},
   "outputs": [],
   "source": [
    "# define symbols\n",
    "t = sym.Symbol('t')\n",
    "\n",
    "I = sym.Symbol('I')\n",
    "m = sym.Symbol('m')\n",
    "m_inf = sym.Symbol('m_inf')\n",
    "\n",
    "p = sym.Symbol('p')\n",
    "\n",
    "prestep_V = sym.Symbol('prestep_V')\n",
    "step_V = sym.Symbol('step_V')\n",
    "\n",
    "g_max = sym.Symbol('g_max')\n",
    "E_rev = sym.Symbol('E_rev')\n",
    "a_m = sym.Symbol('a_m')\n",
    "b_m = sym.Symbol('b_m')\n",
    "delta_m = sym.Symbol('delta_m')\n",
    "s_m = sym.Symbol('s_m')"
   ]
  },
  {
   "cell_type": "code",
   "execution_count": 3,
   "id": "cc6e49b6-b19a-488f-9fc9-9357748a8b4a",
   "metadata": {},
   "outputs": [],
   "source": [
    "V_2m = -s_m * sym.log(b_m / a_m)\n",
    "tau_0m = 1/a_m * sym.exp(delta_m * V_2m / s_m)\n",
    "m_infty = 1 / (1 + sym.exp((step_V - V_2m) / s_m))\n",
    "tau_m = (tau_0m * sym.exp(delta_m * ((step_V - V_2m) / s_m))) / (1 + sym.exp((step_V - V_2m) / s_m))\n",
    "m_0 = 1 / (1 + sym.exp((prestep_V - V_2m) / s_m))\n",
    "\n",
    "m = m_infty + (m_0 - m_infty) * sym.exp(-t/tau_m)\n",
    "I = g_max * m ** p * (step_V - E_rev)"
   ]
  },
  {
   "cell_type": "code",
   "execution_count": 4,
   "id": "ca580bbd-3584-4cf8-b7c4-c1a5f62a6373",
   "metadata": {},
   "outputs": [],
   "source": [
    "diff_I_p = sym.diff(I, p)\n",
    "diff_I_g_max = sym.diff(I, g_max)\n",
    "diff_I_E_rev = sym.diff(I, E_rev)\n",
    "diff_I_a_m = sym.diff(I, a_m)\n",
    "diff_I_b_m = sym.diff(I, b_m)\n",
    "diff_I_delta_m = sym.diff(I, delta_m)\n",
    "diff_I_s_m = sym.diff(I, s_m)"
   ]
  },
  {
   "cell_type": "code",
   "execution_count": 5,
   "id": "80845c74-d235-4447-8a1a-97b619f9528c",
   "metadata": {},
   "outputs": [],
   "source": [
    "# Create a function from the differentiated expression\n",
    "func_diff_I_p = sym.lambdify((t, prestep_V, step_V, p, g_max, E_rev, a_m, b_m, delta_m, s_m), diff_I_p, \"numpy\")\n",
    "func_diff_I_g_max = sym.lambdify((t, prestep_V, step_V, p, g_max, E_rev, a_m, b_m, delta_m, s_m), diff_I_g_max, \"numpy\")\n",
    "func_diff_I_E_rev = sym.lambdify((t, prestep_V, step_V, p, g_max, E_rev, a_m, b_m, delta_m, s_m), diff_I_E_rev, \"numpy\")\n",
    "func_diff_I_a_m = sym.lambdify((t, prestep_V, step_V, p, g_max, E_rev, a_m, b_m, delta_m, s_m), diff_I_a_m, \"numpy\")\n",
    "func_diff_I_b_m = sym.lambdify((t, prestep_V, step_V, p, g_max, E_rev, a_m, b_m, delta_m, s_m), diff_I_b_m, \"numpy\")\n",
    "func_diff_I_delta_m = sym.lambdify((t, prestep_V, step_V, p, g_max, E_rev, a_m, b_m, delta_m, s_m), diff_I_delta_m, \"numpy\")\n",
    "func_diff_I_s_m = sym.lambdify((t, prestep_V, step_V, p, g_max, E_rev, a_m, b_m, delta_m, s_m), diff_I_s_m, \"numpy\")\n",
    "diff_functions = [func_diff_I_p, func_diff_I_g_max, func_diff_I_E_rev, func_diff_I_a_m, func_diff_I_b_m, func_diff_I_delta_m, func_diff_I_s_m]"
   ]
  },
  {
   "cell_type": "markdown",
   "id": "d071d2c1-6893-4ff3-b719-262364dd6032",
   "metadata": {},
   "source": [
    "#### Read test dataset"
   ]
  },
  {
   "cell_type": "code",
   "execution_count": 6,
   "id": "9fb21561-7ff3-4f08-bdd7-99bf995d2644",
   "metadata": {},
   "outputs": [],
   "source": [
    "from dataset_reader import Traces_Dataset\n",
    "# load and process dataset \n",
    "dataset = Traces_Dataset('dataset_exp_new.csv')"
   ]
  },
  {
   "cell_type": "code",
   "execution_count": 7,
   "id": "616c4c53-4e7d-4a90-928c-b8ecc736f34a",
   "metadata": {},
   "outputs": [
    {
     "data": {
      "text/plain": [
       "(torch.Size([30, 11, 20]), torch.Size([30, 11, 20]), torch.Size([30, 7]))"
      ]
     },
     "execution_count": 7,
     "metadata": {},
     "output_type": "execute_result"
    }
   ],
   "source": [
    "dataset.time_traces.shape, dataset.current_traces.shape, dataset.params.shape"
   ]
  },
  {
   "cell_type": "code",
   "execution_count": null,
   "id": "b7c53b1d-c909-42b3-bea9-0372fe032e94",
   "metadata": {},
   "outputs": [],
   "source": []
  },
  {
   "cell_type": "code",
   "execution_count": null,
   "id": "057aa2af-a77c-4cc5-9d3e-ef06cefd091d",
   "metadata": {},
   "outputs": [],
   "source": []
  },
  {
   "cell_type": "markdown",
   "id": "bcfc32d4-757d-40fc-b2d6-f746717c1672",
   "metadata": {},
   "source": [
    "draft"
   ]
  },
  {
   "cell_type": "code",
   "execution_count": 8,
   "id": "7d1acee5-234c-4c1d-bc4b-564036716b3e",
   "metadata": {},
   "outputs": [],
   "source": [
    "sample = 1\n",
    "len_params = 7 # dont need, same indexing time \n",
    "params = dataset.params[sample].numpy()\n",
    "t_traces = dataset.time_traces[sample].numpy()\n",
    "current_traces = dataset.current_traces[sample].numpy()\n",
    "prestep_V = dataset.prestep_V[sample].numpy()\n",
    "step_Vs = np.arange(dataset.step_V1[sample], dataset.step_V1[sample]+11*10, 10)"
   ]
  },
  {
   "cell_type": "code",
   "execution_count": 9,
   "id": "8eefde90-ab83-4a48-8c05-6abdbe350f84",
   "metadata": {},
   "outputs": [],
   "source": [
    "t_pts_col = t_traces.T.reshape(-1)\n",
    "step_Vs_col = np.tile(step_Vs, 20)"
   ]
  },
  {
   "cell_type": "code",
   "execution_count": 10,
   "id": "c8b6c27b-429b-46b9-9fc0-989414ad7745",
   "metadata": {},
   "outputs": [
    {
     "data": {
      "text/plain": [
       "(220, 7)"
      ]
     },
     "execution_count": 10,
     "metadata": {},
     "output_type": "execute_result"
    }
   ],
   "source": [
    "# Initialize an empty list to store the sens_co_matrix_col arrays\n",
    "sens_co_matrix_col_list = []\n",
    "\n",
    "for p in range(len_params): \n",
    "    sens_co_matrix_col = diff_functions[p](t_pts_col, prestep_V, step_Vs_col, params[0], params[1], params[2], params[3], params[4], params[5], params[6])\n",
    "    sens_co_matrix_col_list.append(sens_co_matrix_col)\n",
    "\n",
    "# Concatenate all arrays horizontally\n",
    "# stacked_matrix = np.hstack(sens_co_matrix_col_list)\n",
    "sens_co_matrix = np.array(sens_co_matrix_col_list).T\n",
    "sens_co_matrix.shape"
   ]
  },
  {
   "cell_type": "code",
   "execution_count": 11,
   "id": "3c91f2a2-d861-41eb-8a00-e68ae430c456",
   "metadata": {},
   "outputs": [],
   "source": [
    "sens_co_matrices = np.stack([sens_co_matrix+1, sens_co_matrix], axis=0)"
   ]
  },
  {
   "cell_type": "code",
   "execution_count": null,
   "id": "efff4d78-79e4-4ccd-a4bc-155ec021a6df",
   "metadata": {},
   "outputs": [],
   "source": []
  },
  {
   "cell_type": "code",
   "execution_count": null,
   "id": "0186af22-3269-447a-8332-63baa3df4b1c",
   "metadata": {},
   "outputs": [],
   "source": []
  },
  {
   "cell_type": "code",
   "execution_count": 8,
   "id": "e5716641-729f-4a91-a387-a71fb19468fd",
   "metadata": {},
   "outputs": [
    {
     "data": {
      "text/plain": [
       "((30, 220, 7), (30, 220, 7), (30, 220, 7))"
      ]
     },
     "execution_count": 8,
     "metadata": {},
     "output_type": "execute_result"
    }
   ],
   "source": [
    "sens_co_matrices_list = []\n",
    "P_matrices_list = []\n",
    "Y_matrices_list = []\n",
    "for sample in range(dataset.__len__()): \n",
    "    # len_params = 7 # dont need, same indexing time \n",
    "    params = dataset.params[sample].numpy()\n",
    "    t_traces = dataset.time_traces[sample].numpy()\n",
    "    current_traces = dataset.current_traces[sample].numpy()\n",
    "    prestep_V = dataset.prestep_V[sample].numpy()\n",
    "    step_Vs = np.arange(dataset.step_V1[sample], dataset.step_V1[sample]+dataset.num_traces*10, 10)\n",
    "\n",
    "    t_pts_col = t_traces.T.reshape(-1)\n",
    "    step_Vs_col = np.tile(step_Vs, dataset.num_pts)\n",
    "\n",
    "    # Initialize an empty list to store the sens_co_matrix_col arrays\n",
    "    sens_co_matrix_col_list = []\n",
    "    \n",
    "    for p in range(dataset.num_params): \n",
    "        sens_co_matrix_col = diff_functions[p](t_pts_col, prestep_V, step_Vs_col, params[0], params[1], params[2], params[3], params[4], params[5], params[6])\n",
    "        sens_co_matrix_col_list.append(sens_co_matrix_col)\n",
    "    \n",
    "    sens_co_matrix = np.array(sens_co_matrix_col_list).T\n",
    "    sens_co_matrices_list.append(sens_co_matrix)\n",
    "\n",
    "    # find the parameter matrix P, and observable matrix Y\n",
    "    P_matrix = np.tile(params, (dataset.num_traces * dataset.num_pts, 1))\n",
    "    P_matrices_list.append(P_matrix)\n",
    "    Y_col = dataset.current_traces[sample].numpy().T.reshape(-1,1)\n",
    "    Y_matrix = np.tile(Y_col, (1, dataset.num_params))\n",
    "    Y_matrices_list.append(Y_matrix)\n",
    "\n",
    "# put lists in 3d numpy matrix\n",
    "sens_co_matrices = np.stack(sens_co_matrices_list, axis=0)\n",
    "P_matrices = np.stack(P_matrices_list, axis=0)\n",
    "Y_matrices = np.stack(Y_matrices_list, axis=0)\n",
    "\n",
    "sens_co_matrices.shape, P_matrices.shape, Y_matrices.shape"
   ]
  },
  {
   "cell_type": "code",
   "execution_count": 9,
   "id": "4cbd0313-26d3-4feb-844b-da3853ce0eba",
   "metadata": {
    "scrolled": true
   },
   "outputs": [
    {
     "data": {
      "text/plain": [
       "(30, 220, 7)"
      ]
     },
     "execution_count": 9,
     "metadata": {},
     "output_type": "execute_result"
    }
   ],
   "source": [
    "relative_sens_co_matrices = (P_matrices / Y_matrices) * sens_co_matrices\n",
    "relative_sens_co_matrices.shape"
   ]
  },
  {
   "cell_type": "code",
   "execution_count": 10,
   "id": "8ae90dee-e50b-472a-b3f1-b4c36bcfef42",
   "metadata": {},
   "outputs": [],
   "source": [
    "# Calculate the 2-norm of each column in each matrix\n",
    "norms = np.linalg.norm(relative_sens_co_matrices, axis=1)\n",
    "# Find the index of the column with the largest 2-norm for each matrix\n",
    "max_norm_indices = np.argmax(norms, axis=1)\n",
    "# max_norm_indices"
   ]
  },
  {
   "cell_type": "markdown",
   "id": "b525472a-cef3-494d-bd59-f2474659d57a",
   "metadata": {
    "jp-MarkdownHeadingCollapsed": true
   },
   "source": [
    "#### find R_2 (matrix operation)"
   ]
  },
  {
   "cell_type": "code",
   "execution_count": 137,
   "id": "7a43f2f6-d092-458a-a1f4-76cfa27df325",
   "metadata": {},
   "outputs": [
    {
     "data": {
      "text/plain": [
       "((1000, 220, 7), (1000, 220, 1))"
      ]
     },
     "execution_count": 137,
     "metadata": {},
     "output_type": "execute_result"
    }
   ],
   "source": [
    "S_tildes = relative_sens_co_matrices\n",
    "X_1s = S_tildes[np.arange(S_tildes.shape[0]), :, max_norm_indices][:, :, np.newaxis]\n",
    "S_tildes.shape, X_1s.shape"
   ]
  },
  {
   "cell_type": "code",
   "execution_count": 138,
   "id": "efaec921-9dfa-4f48-b25b-9a74472ccb08",
   "metadata": {},
   "outputs": [
    {
     "data": {
      "text/plain": [
       "(1000, 220, 7)"
      ]
     },
     "execution_count": 138,
     "metadata": {},
     "output_type": "execute_result"
    }
   ],
   "source": [
    "R_2s = S_tildes - X_1s @ np.linalg.pinv(X_1s.transpose(0, 2, 1) @ X_1s) @ X_1s.transpose(0, 2, 1) @ S_tildes\n",
    "R_2s.shape"
   ]
  },
  {
   "cell_type": "code",
   "execution_count": 139,
   "id": "04429a45-934e-49fe-960c-1770a46d2f4c",
   "metadata": {},
   "outputs": [
    {
     "data": {
      "text/plain": [
       "array([6, 6, 6, 6, 6, 6, 6, 6, 6, 6, 6, 6, 6, 6, 6, 6, 6, 6, 6, 6, 6, 6,\n",
       "       6, 6, 6, 6, 6, 6, 6, 6, 6, 6, 6, 6, 6, 6, 6, 6, 6, 6, 6, 6, 6, 6,\n",
       "       6, 6, 6, 6, 6, 6, 6, 6, 6, 6, 6, 6, 6, 6, 6, 6, 6, 6, 6, 6, 6, 6,\n",
       "       6, 0, 6, 6, 6, 6, 6, 6, 6, 6, 6, 6, 6, 6, 6, 6, 6, 6, 6, 6, 6, 6,\n",
       "       6, 6, 6, 6, 6, 6, 6, 6, 6, 6, 6, 6, 6, 6, 6, 6, 6, 6, 6, 6, 6, 6,\n",
       "       6, 6, 6, 6, 6, 6, 6, 6, 6, 6, 6, 6, 6, 6, 6, 6, 6, 6, 6, 6, 6, 6,\n",
       "       6, 6, 6, 6, 6, 6, 6, 6, 6, 6, 6, 6, 6, 6, 6, 6, 6, 6, 6, 6, 6, 6,\n",
       "       6, 6, 6, 6, 6, 6, 6, 6, 6, 6, 6, 6, 6, 6, 6, 6, 6, 6, 6, 6, 6, 6,\n",
       "       6, 6, 6, 6, 6, 6, 6, 6, 6, 6, 6, 6, 6, 6, 6, 6, 6, 6, 6, 6, 6, 6,\n",
       "       6, 6, 6, 6, 6, 6, 6, 0, 6, 6, 6, 6, 6, 6, 6, 6, 6, 6, 6, 6, 6, 6,\n",
       "       6, 6, 6, 6, 6, 6, 6, 6, 6, 6, 6, 6, 6, 6, 6, 6, 6, 6, 6, 6, 6, 6,\n",
       "       6, 6, 6, 6, 6, 6, 6, 6, 6, 6, 6, 6, 6, 6, 6, 0, 6, 6, 6, 6, 6, 6,\n",
       "       6, 6, 6, 6, 6, 6, 6, 6, 6, 6, 6, 6, 6, 6, 6, 6, 6, 6, 6, 6, 6, 6,\n",
       "       6, 6, 6, 6, 6, 6, 6, 6, 6, 6, 6, 6, 6, 6, 6, 6, 6, 6, 6, 6, 6, 6,\n",
       "       6, 6, 6, 6, 6, 6, 6, 6, 6, 6, 6, 6, 6, 6, 6, 6, 6, 6, 6, 6, 6, 6,\n",
       "       6, 6, 6, 6, 6, 6, 6, 6, 6, 6, 6, 6, 6, 6, 6, 6, 6, 6, 6, 6, 6, 6,\n",
       "       6, 6, 6, 6, 6, 6, 6, 6, 6, 6, 6, 6, 6, 6, 6, 6, 6, 6, 6, 0, 6, 6,\n",
       "       6, 6, 6, 6, 6, 6, 6, 6, 6, 6, 6, 6, 6, 6, 6, 6, 6, 6, 6, 6, 6, 6,\n",
       "       6, 6, 6, 6, 6, 6, 6, 6, 6, 6, 6, 6, 6, 6, 6, 6, 6, 6, 6, 6, 6, 6,\n",
       "       6, 6, 6, 6, 6, 6, 6, 6, 6, 6, 6, 6, 6, 6, 6, 6, 6, 6, 6, 6, 6, 6,\n",
       "       6, 6, 6, 6, 6, 6, 6, 6, 6, 6, 6, 6, 6, 6, 6, 6, 6, 6, 6, 6, 6, 6,\n",
       "       6, 6, 6, 6, 6, 6, 6, 6, 6, 6, 6, 6, 6, 6, 6, 6, 6, 6, 6, 6, 6, 6,\n",
       "       6, 6, 6, 6, 6, 6, 6, 6, 6, 6, 6, 6, 6, 6, 6, 6, 6, 6, 6, 6, 6, 6,\n",
       "       6, 6, 6, 6, 6, 6, 6, 6, 6, 6, 6, 6, 6, 6, 6, 6, 6, 6, 6, 6, 6, 6,\n",
       "       6, 6, 6, 6, 6, 6, 6, 6, 6, 6, 6, 6, 6, 6, 6, 6, 6, 6, 6, 6, 6, 6,\n",
       "       6, 6, 6, 6, 6, 6, 6, 6, 6, 6, 6, 6, 6, 6, 6, 6, 6, 6, 6, 6, 6, 6,\n",
       "       6, 6, 6, 6, 6, 6, 6, 6, 6, 6, 6, 0, 6, 6, 6, 6, 6, 6, 6, 6, 6, 6,\n",
       "       6, 6, 6, 6, 6, 6, 6, 6, 6, 6, 6, 6, 6, 6, 6, 6, 6, 6, 6, 6, 6, 6,\n",
       "       6, 6, 6, 6, 6, 6, 6, 6, 6, 6, 6, 6, 6, 6, 6, 6, 6, 6, 6, 6, 6, 6,\n",
       "       6, 6, 6, 6, 6, 6, 6, 6, 6, 6, 6, 6, 6, 6, 6, 6, 6, 6, 6, 6, 6, 6,\n",
       "       6, 6, 6, 6, 6, 6, 6, 6, 6, 6, 6, 6, 6, 6, 6, 6, 6, 6, 6, 6, 6, 6,\n",
       "       6, 6, 6, 6, 6, 6, 6, 6, 6, 6, 6, 6, 6, 6, 6, 6, 6, 6, 6, 6, 6, 6,\n",
       "       6, 6, 6, 6, 6, 6, 6, 6, 6, 6, 6, 6, 6, 6, 6, 6, 6, 6, 6, 6, 6, 6,\n",
       "       6, 6, 6, 6, 6, 6, 6, 6, 6, 6, 6, 6, 6, 6, 6, 6, 6, 6, 6, 6, 6, 6,\n",
       "       6, 6, 6, 6, 6, 6, 6, 6, 6, 6, 6, 6, 6, 6, 6, 6, 6, 6, 6, 6, 6, 6,\n",
       "       6, 6, 6, 6, 6, 6, 6, 6, 6, 6, 6, 6, 6, 6, 6, 6, 6, 6, 6, 6, 6, 6,\n",
       "       6, 6, 6, 6, 6, 6, 6, 6, 6, 6, 6, 6, 6, 6, 6, 6, 6, 6, 6, 6, 6, 6,\n",
       "       6, 6, 6, 6, 6, 6, 6, 6, 6, 6, 6, 6, 6, 6, 6, 6, 6, 6, 6, 6, 6, 6,\n",
       "       6, 6, 6, 6, 6, 6, 6, 6, 6, 6, 6, 6, 6, 6, 6, 6, 6, 6, 6, 6, 6, 6,\n",
       "       6, 6, 6, 6, 6, 6, 6, 6, 6, 6, 6, 6, 6, 6, 6, 6, 6, 6, 6, 6, 6, 6,\n",
       "       6, 6, 6, 6, 6, 6, 6, 6, 6, 6, 6, 6, 6, 6, 6, 6, 6, 6, 6, 6, 6, 6,\n",
       "       6, 6, 6, 6, 6, 6, 6, 6, 6, 6, 6, 6, 6, 6, 6, 6, 6, 0, 6, 6, 6, 6,\n",
       "       6, 6, 6, 6, 6, 6, 6, 6, 6, 6, 6, 6, 6, 6, 6, 6, 6, 6, 6, 6, 6, 6,\n",
       "       6, 6, 6, 6, 6, 6, 6, 6, 6, 6, 6, 6, 6, 6, 6, 6, 6, 6, 6, 6, 6, 6,\n",
       "       6, 6, 6, 6, 6, 6, 6, 6, 6, 6, 6, 6, 6, 6, 6, 6, 6, 6, 6, 6, 6, 6,\n",
       "       6, 6, 6, 6, 6, 6, 6, 6, 6, 6])"
      ]
     },
     "execution_count": 139,
     "metadata": {},
     "output_type": "execute_result"
    }
   ],
   "source": [
    "# Calculate the 2-norm of each column in each matrix\n",
    "R_2_norms = np.linalg.norm(R_2s, axis=1)\n",
    "# Find the index of the column with the largest 2-norm for each matrix\n",
    "R_2_max_norm_indices = np.argmax(R_2_norms, axis=1)\n",
    "R_2_max_norm_indices"
   ]
  },
  {
   "cell_type": "markdown",
   "id": "d922c924-9898-4da3-96c8-f4d970a13da4",
   "metadata": {
    "jp-MarkdownHeadingCollapsed": true
   },
   "source": [
    "#### Find R_3 (matrix operation)"
   ]
  },
  {
   "cell_type": "code",
   "execution_count": 152,
   "id": "666fc77b-ba75-4548-ba42-24e2d2621760",
   "metadata": {},
   "outputs": [
    {
     "data": {
      "text/plain": [
       "(1000, 220, 1)"
      ]
     },
     "execution_count": 152,
     "metadata": {},
     "output_type": "execute_result"
    }
   ],
   "source": [
    "X_1s.shape"
   ]
  },
  {
   "cell_type": "code",
   "execution_count": 153,
   "id": "2d2b6675-b7df-4368-a528-3f35aa00e705",
   "metadata": {},
   "outputs": [
    {
     "data": {
      "text/plain": [
       "(1000, 220, 1)"
      ]
     },
     "execution_count": 153,
     "metadata": {},
     "output_type": "execute_result"
    }
   ],
   "source": [
    "new_X1s = S_tildes[np.arange(S_tildes.shape[0]), :, R_2_max_norm_indices][:, :, np.newaxis]\n",
    "new_X1s.shape"
   ]
  },
  {
   "cell_type": "code",
   "execution_count": 145,
   "id": "bd9bcd7e-88ee-4c78-adf8-312e4cd13e5f",
   "metadata": {},
   "outputs": [
    {
     "data": {
      "text/plain": [
       "(1000, 220, 2)"
      ]
     },
     "execution_count": 145,
     "metadata": {},
     "output_type": "execute_result"
    }
   ],
   "source": [
    "X_2s = np.concatenate((X_1s, new_X1s), axis=2)\n",
    "X_2s.shape"
   ]
  },
  {
   "cell_type": "code",
   "execution_count": 146,
   "id": "90c89860-1ed8-493f-9b83-381d61bb0819",
   "metadata": {},
   "outputs": [
    {
     "data": {
      "text/plain": [
       "(1000, 220, 7)"
      ]
     },
     "execution_count": 146,
     "metadata": {},
     "output_type": "execute_result"
    }
   ],
   "source": [
    "R_3s = S_tildes - X_2s @ np.linalg.pinv(X_2s.transpose(0, 2, 1) @ X_2s) @ X_2s.transpose(0, 2, 1) @ S_tildes\n",
    "R_3s.shape"
   ]
  },
  {
   "cell_type": "code",
   "execution_count": 147,
   "id": "23c85c27-86ce-4fff-99a6-8914704d3940",
   "metadata": {},
   "outputs": [
    {
     "data": {
      "text/plain": [
       "array([1, 5, 5, 5, 5, 5, 5, 1, 5, 5, 5, 5, 5, 5, 5, 5, 5, 5, 5, 5, 5, 5,\n",
       "       5, 5, 5, 5, 5, 5, 5, 5, 5, 5, 5, 5, 5, 5, 5, 5, 5, 5, 4, 5, 5, 1,\n",
       "       5, 3, 5, 5, 5, 5, 4, 5, 5, 5, 5, 5, 5, 5, 5, 5, 5, 5, 5, 1, 5, 5,\n",
       "       5, 5, 5, 5, 5, 5, 5, 5, 5, 5, 5, 5, 5, 5, 5, 5, 4, 5, 1, 5, 5, 1,\n",
       "       5, 1, 5, 5, 5, 3, 1, 5, 5, 5, 5, 5, 5, 5, 5, 5, 5, 5, 5, 1, 5, 5,\n",
       "       5, 5, 5, 5, 5, 5, 5, 5, 5, 1, 4, 5, 5, 3, 5, 5, 5, 5, 5, 5, 5, 5,\n",
       "       5, 5, 5, 5, 5, 5, 5, 5, 5, 5, 5, 5, 5, 5, 3, 5, 5, 5, 1, 5, 5, 5,\n",
       "       5, 4, 5, 5, 5, 5, 5, 5, 5, 4, 5, 5, 5, 5, 5, 5, 5, 5, 3, 5, 1, 5,\n",
       "       5, 5, 5, 5, 3, 5, 5, 5, 5, 3, 5, 5, 5, 5, 5, 5, 5, 5, 5, 5, 5, 5,\n",
       "       3, 5, 5, 5, 5, 5, 5, 5, 5, 5, 5, 5, 5, 3, 5, 1, 5, 5, 3, 5, 5, 5,\n",
       "       5, 5, 5, 5, 4, 5, 5, 5, 1, 1, 5, 2, 5, 5, 5, 5, 5, 5, 5, 5, 5, 5,\n",
       "       5, 5, 5, 5, 5, 5, 5, 5, 5, 5, 5, 5, 5, 5, 5, 5, 5, 1, 5, 5, 5, 5,\n",
       "       5, 5, 5, 5, 5, 5, 1, 5, 3, 5, 5, 5, 5, 5, 5, 5, 5, 5, 5, 5, 1, 5,\n",
       "       5, 5, 5, 5, 5, 5, 5, 5, 5, 3, 5, 1, 5, 5, 5, 5, 5, 5, 5, 5, 5, 5,\n",
       "       5, 5, 5, 5, 5, 5, 5, 5, 3, 5, 5, 5, 5, 5, 5, 5, 5, 5, 4, 5, 5, 5,\n",
       "       2, 5, 5, 5, 5, 5, 5, 5, 1, 5, 5, 4, 5, 5, 5, 3, 1, 5, 5, 5, 5, 5,\n",
       "       5, 5, 5, 5, 5, 5, 5, 5, 3, 5, 1, 5, 5, 5, 5, 5, 5, 5, 5, 5, 5, 1,\n",
       "       5, 5, 5, 5, 5, 5, 5, 5, 5, 5, 5, 5, 5, 5, 5, 5, 5, 5, 5, 5, 5, 5,\n",
       "       5, 5, 5, 5, 5, 5, 5, 5, 5, 5, 5, 5, 5, 1, 5, 5, 1, 5, 5, 2, 5, 5,\n",
       "       5, 5, 5, 1, 5, 5, 5, 5, 5, 5, 1, 5, 5, 5, 5, 5, 5, 5, 5, 5, 5, 5,\n",
       "       5, 5, 5, 5, 5, 5, 5, 3, 5, 5, 5, 5, 5, 5, 5, 5, 5, 3, 5, 3, 5, 5,\n",
       "       5, 5, 5, 5, 5, 5, 5, 5, 5, 5, 5, 5, 5, 5, 5, 5, 5, 5, 5, 5, 5, 5,\n",
       "       5, 3, 5, 5, 5, 5, 5, 5, 5, 5, 5, 5, 5, 5, 5, 5, 5, 5, 5, 5, 3, 5,\n",
       "       5, 5, 5, 5, 5, 5, 5, 5, 5, 5, 4, 5, 5, 5, 5, 5, 4, 5, 5, 5, 5, 5,\n",
       "       1, 5, 1, 5, 5, 2, 5, 5, 5, 5, 5, 5, 5, 5, 5, 5, 5, 5, 5, 5, 5, 5,\n",
       "       5, 5, 1, 1, 5, 5, 5, 5, 5, 5, 1, 5, 5, 5, 5, 5, 5, 5, 5, 5, 5, 5,\n",
       "       5, 5, 5, 5, 5, 5, 5, 5, 5, 5, 5, 5, 5, 5, 5, 5, 5, 5, 5, 5, 5, 5,\n",
       "       5, 5, 5, 5, 5, 5, 5, 3, 5, 5, 5, 5, 5, 5, 5, 5, 4, 5, 1, 5, 5, 5,\n",
       "       5, 5, 5, 5, 1, 3, 5, 5, 5, 5, 5, 5, 5, 5, 5, 5, 5, 5, 5, 5, 1, 3,\n",
       "       5, 5, 5, 5, 2, 5, 5, 5, 5, 5, 5, 5, 5, 2, 5, 2, 5, 5, 5, 5, 5, 3,\n",
       "       5, 5, 5, 5, 5, 5, 5, 5, 5, 5, 5, 5, 5, 5, 5, 5, 5, 5, 5, 5, 5, 5,\n",
       "       5, 2, 1, 5, 5, 5, 5, 5, 1, 2, 5, 5, 5, 3, 5, 5, 1, 5, 5, 1, 5, 5,\n",
       "       3, 5, 5, 5, 5, 5, 5, 5, 1, 5, 5, 5, 5, 5, 5, 5, 1, 5, 5, 5, 5, 5,\n",
       "       5, 5, 3, 5, 2, 5, 5, 5, 5, 1, 5, 5, 5, 5, 1, 5, 5, 5, 5, 5, 2, 5,\n",
       "       5, 5, 3, 5, 5, 5, 3, 5, 5, 5, 5, 5, 5, 5, 5, 5, 5, 5, 5, 1, 5, 5,\n",
       "       5, 5, 5, 5, 5, 5, 5, 5, 5, 5, 5, 5, 3, 5, 1, 5, 5, 5, 1, 5, 5, 5,\n",
       "       5, 5, 5, 5, 5, 5, 5, 5, 1, 5, 5, 5, 3, 5, 5, 3, 5, 4, 5, 5, 5, 5,\n",
       "       5, 5, 4, 5, 5, 5, 5, 1, 5, 5, 5, 5, 5, 5, 5, 5, 5, 5, 5, 5, 5, 4,\n",
       "       3, 5, 5, 5, 5, 5, 5, 5, 5, 5, 5, 5, 5, 3, 5, 5, 1, 5, 5, 5, 5, 5,\n",
       "       1, 5, 3, 5, 5, 5, 5, 5, 5, 5, 5, 5, 3, 5, 5, 5, 5, 5, 5, 5, 5, 5,\n",
       "       5, 5, 5, 5, 5, 5, 5, 5, 5, 5, 4, 3, 5, 5, 3, 5, 5, 5, 5, 5, 5, 5,\n",
       "       5, 5, 5, 5, 5, 5, 5, 5, 5, 5, 5, 5, 1, 5, 5, 5, 5, 5, 5, 5, 5, 5,\n",
       "       4, 5, 5, 5, 4, 5, 5, 5, 5, 5, 5, 5, 5, 5, 1, 5, 5, 5, 5, 5, 5, 5,\n",
       "       5, 5, 1, 5, 5, 5, 5, 5, 5, 5, 5, 5, 5, 5, 5, 5, 3, 5, 5, 5, 5, 5,\n",
       "       5, 5, 5, 5, 5, 5, 5, 5, 5, 5, 5, 5, 5, 5, 5, 5, 5, 5, 2, 5, 5, 5,\n",
       "       5, 5, 5, 5, 5, 5, 5, 5, 5, 5])"
      ]
     },
     "execution_count": 147,
     "metadata": {},
     "output_type": "execute_result"
    }
   ],
   "source": [
    "# Calculate the 2-norm of each column in each matrix\n",
    "R_3_norms = np.linalg.norm(R_3s, axis=1)\n",
    "# Find the index of the column with the largest 2-norm for each matrix\n",
    "R_3_max_norm_indices = np.argmax(R_3_norms, axis=1)\n",
    "R_3_max_norm_indices"
   ]
  },
  {
   "cell_type": "code",
   "execution_count": null,
   "id": "04284173-b108-4980-9bbc-af7ca3792cfb",
   "metadata": {},
   "outputs": [],
   "source": []
  },
  {
   "cell_type": "markdown",
   "id": "af12360c-0373-491d-b232-a523d3b7970a",
   "metadata": {},
   "source": [
    "#### Iteratively finding all Rs, and ranks of params sensitivity across all samples"
   ]
  },
  {
   "cell_type": "code",
   "execution_count": 11,
   "id": "a96cb0f2-68b0-4570-bba1-52215ad9ad96",
   "metadata": {},
   "outputs": [
    {
     "data": {
      "text/plain": [
       "((30, 220, 7), (30, 220, 1))"
      ]
     },
     "execution_count": 11,
     "metadata": {},
     "output_type": "execute_result"
    }
   ],
   "source": [
    "S_tildes = relative_sens_co_matrices\n",
    "X_s = S_tildes[np.arange(S_tildes.shape[0]), :, max_norm_indices][:, :, np.newaxis]\n",
    "S_tildes.shape, X_s.shape"
   ]
  },
  {
   "cell_type": "code",
   "execution_count": 12,
   "id": "4e8c6256-4475-40c7-9333-95f581d7155e",
   "metadata": {},
   "outputs": [],
   "source": [
    "X_i_list = []\n",
    "max_norm_indices_ranks = [max_norm_indices]\n",
    "for i in range(dataset.num_params-1): \n",
    "    para_cols = S_tildes[np.arange(S_tildes.shape[0]), :, max_norm_indices][:, :, np.newaxis]\n",
    "    X_i_list.append(para_cols)\n",
    "    X_i = np.concatenate(X_i_list, axis=2)\n",
    "    Rs = S_tildes - X_i @ np.linalg.pinv(X_i.transpose(0, 2, 1) @ X_i) @ X_i.transpose(0, 2, 1) @ S_tildes\n",
    "    # Calculate the 2-norm of each column in each matrix\n",
    "    R_norms = np.linalg.norm(Rs, axis=1)\n",
    "    # Find the index of the column with the largest 2-norm for each matrix\n",
    "    max_norm_indices = np.argmax(R_norms, axis=1)\n",
    "    max_norm_indices_ranks.append(max_norm_indices)"
   ]
  },
  {
   "cell_type": "code",
   "execution_count": 14,
   "id": "8a5e91f7",
   "metadata": {},
   "outputs": [
    {
     "data": {
      "text/plain": [
       "(30, 7)"
      ]
     },
     "execution_count": 14,
     "metadata": {},
     "output_type": "execute_result"
    }
   ],
   "source": [
    "R_norms.shape"
   ]
  },
  {
   "cell_type": "code",
   "execution_count": 13,
   "id": "522c91e4-32e3-4c7f-84c9-a0cdaae1256e",
   "metadata": {},
   "outputs": [
    {
     "data": {
      "text/plain": [
       "(30, 7)"
      ]
     },
     "execution_count": 13,
     "metadata": {},
     "output_type": "execute_result"
    }
   ],
   "source": [
    "ranks_all_samples = np.stack(max_norm_indices_ranks, axis=1)\n",
    "ranks_all_samples.shape"
   ]
  },
  {
   "cell_type": "code",
   "execution_count": 14,
   "id": "642aa517-3e6a-4bcb-8295-0015d894a69b",
   "metadata": {},
   "outputs": [
    {
     "data": {
      "image/png": "[encoded data removed]",
      "text/plain": [
       "<Figure size 1200x800 with 1 Axes>"
      ]
     },
     "metadata": {},
     "output_type": "display_data"
    }
   ],
   "source": [
    "import matplotlib.pyplot as plt\n",
    "import matplotlib.colors as mcolors\n",
    "import numpy as np\n",
    "\n",
    "# Define the starting and ending colors (in this case, dark blue to light blue)\n",
    "start_color = 'black'\n",
    "end_color = 'lightgray'\n",
    "colormap = mcolors.LinearSegmentedColormap.from_list(\"\", [start_color, end_color])\n",
    "# Number of colors in the list\n",
    "num_colors = 7\n",
    "colors = [mcolors.to_hex(colormap(i / (num_colors - 1))) for i in range(num_colors)]\n",
    "\n",
    "sample_data = ranks_all_samples\n",
    "\n",
    "# Set up the plot\n",
    "plt.figure(figsize=(12, 8))\n",
    "plt.title('Distribution of Element Rankings')\n",
    "\n",
    "# Plot histograms for all element indices\n",
    "for i in range(7):\n",
    "    element_data = sample_data[:, i]\n",
    "    plt.hist(element_data, bins=np.arange(0, 8), color=colors[i], alpha=0.5, label=f'{i+1}', align='left')\n",
    "\n",
    "plt.xlabel('Ranking')\n",
    "plt.ylabel('Frequency')\n",
    "plt.xticks(np.arange(0, 7), ['$p$', '$g_{max}$', '$E_{rev}$', '$a_m$', '$b_m$', '$\\u03B1_m$', '$s_m$'])\n",
    "plt.legend(title='Identifiability Ranks')\n",
    "plt.grid(axis='y', linestyle='--', alpha=0.7)\n",
    "plt.show()\n",
    "\n"
   ]
  },
  {
   "cell_type": "code",
   "execution_count": null,
   "id": "3f4d45c0",
   "metadata": {},
   "outputs": [],
   "source": []
  }
 ],
 "metadata": {
  "kernelspec": {
   "display_name": "Python 3 (ipykernel)",
   "language": "python",
   "name": "python3"
  },
  "language_info": {
   "codemirror_mode": {
    "name": "ipython",
    "version": 3
   },
   "file_extension": ".py",
   "mimetype": "text/x-python",
   "name": "python",
   "nbconvert_exporter": "python",
   "pygments_lexer": "ipython3",
   "version": "3.10.9"
  }
 },
 "nbformat": 4,
 "nbformat_minor": 5
}
