{
 "cells": [
  {
   "cell_type": "code",
   "execution_count": 1,
   "metadata": {},
   "outputs": [],
   "source": [
    "import torch\n",
    "import csv\n",
    "import os\n",
    "import random\n",
    "import numpy as np\n",
    "from torch.utils.data import TensorDataset, DataLoader, random_split\n",
    "import pandas as pd\n",
    "from dataset_reader import Traces_Dataset\n",
    "from mlp_model import MLP\n",
    "import torch.nn as nn\n",
    "import torch.optim as optim\n",
    "import matplotlib.pyplot as plt\n",
    "import uuid"
   ]
  },
  {
   "cell_type": "code",
   "execution_count": 2,
   "metadata": {},
   "outputs": [
    {
     "name": "stdout",
     "output_type": "stream",
     "text": [
      "Experiment ID: ece4165e\n"
     ]
    }
   ],
   "source": [
    "# initialize a dictionary of training history to store in a csv file\n",
    "history_dict = {}\n",
    "\n",
    "unique_id = str(uuid.uuid4())[:8]\n",
    "history_dict['unique_id'] = unique_id\n",
    "print(f'Experiment ID: {unique_id}')"
   ]
  },
  {
   "cell_type": "code",
   "execution_count": 3,
   "metadata": {},
   "outputs": [
    {
     "name": "stdout",
     "output_type": "stream",
     "text": [
      "Using device: cuda\n"
     ]
    }
   ],
   "source": [
    "# making training reproducible\n",
    "seed = 42\n",
    "random.seed(seed)\n",
    "np.random.seed(seed)\n",
    "torch.manual_seed(seed)\n",
    "torch.backends.cudnn.deterministic = True\n",
    "torch.backends.cudnn.benchmark = False\n",
    "history_dict['seed'] = seed\n",
    "\n",
    "device = torch.device('cuda' if torch.cuda.is_available() else 'cpu')  # Uncomment this line\n",
    "print(f\"Using device: {device}\")"
   ]
  },
  {
   "cell_type": "code",
   "execution_count": 4,
   "metadata": {},
   "outputs": [
    {
     "name": "stdout",
     "output_type": "stream",
     "text": [
      "torch.Size([1672000, 442])\n",
      "torch.Size([1672000, 431])\n"
     ]
    }
   ],
   "source": [
    "# load and process dataset \n",
    "dataset = Traces_Dataset('dataset_exp.csv')\n",
    "print(dataset.inputs.shape)\n",
    "dataset.split_dataset(0.95, 0.05, 0)\n",
    "dataset.clean_features()\n",
    "dataset.find_mean_std()\n",
    "dataset.normalize()\n",
    "print(dataset.inputs.shape)\n",
    "history_dict['normalize_mean'] = dataset.train_mean.tolist()\n",
    "history_dict['normalize_std'] = dataset.train_std.tolist()\n",
    "history_dict['dataset'] = (dataset.inputs.shape[0], dataset.inputs.shape[1])"
   ]
  },
  {
   "cell_type": "code",
   "execution_count": 5,
   "metadata": {
    "scrolled": true
   },
   "outputs": [
    {
     "data": {
      "text/plain": [
       "(torch.Size([1672000, 431]), torch.Size([1672000, 7]))"
      ]
     },
     "execution_count": 5,
     "metadata": {},
     "output_type": "execute_result"
    }
   ],
   "source": [
    "dataset.inputs.shape, dataset.params.shape"
   ]
  },
  {
   "cell_type": "code",
   "execution_count": 6,
   "metadata": {},
   "outputs": [],
   "source": [
    "# initialize train, val, test set\n",
    "X_train = dataset[dataset.train_set.indices][0]\n",
    "Y_train = dataset[dataset.train_set.indices][1]\n",
    "\n",
    "X_val = dataset[dataset.val_set.indices][0]\n",
    "Y_val = dataset[dataset.val_set.indices][1]\n",
    "\n",
    "X_test = dataset[dataset.test_set.indices][0]\n",
    "Y_test = dataset[dataset.test_set.indices][1]\n",
    "\n",
    "# initialize NN model\n",
    "model = MLP(dataset.inputs.shape[1], dataset.params.shape[1]).to(device)\n",
    "model.initialize_weights()"
   ]
  },
  {
   "cell_type": "code",
   "execution_count": 7,
   "metadata": {},
   "outputs": [
    {
     "data": {
      "text/plain": [
       "[Sequential(\n",
       "   (0): Linear(in_features=431, out_features=512, bias=True)\n",
       "   (1): SiLU()\n",
       "   (2): Linear(in_features=512, out_features=512, bias=True)\n",
       "   (3): SiLU()\n",
       "   (4): Linear(in_features=512, out_features=7, bias=True)\n",
       " )]"
      ]
     },
     "execution_count": 7,
     "metadata": {},
     "output_type": "execute_result"
    }
   ],
   "source": [
    "# store model architecture\n",
    "architecture = []\n",
    "for name, layer in model.named_children():\n",
    "    architecture.append(layer)\n",
    "history_dict['architecture'] = architecture\n",
    "architecture"
   ]
  },
  {
   "cell_type": "code",
   "execution_count": 8,
   "metadata": {},
   "outputs": [
    {
     "data": {
      "text/plain": [
       "'Adam 0.001'"
      ]
     },
     "execution_count": 8,
     "metadata": {},
     "output_type": "execute_result"
    }
   ],
   "source": [
    "# loss function and optimizer\n",
    "loss_fn = nn.MSELoss()  # mean square error\n",
    "optimizer = optim.Adam(model.parameters(), lr=0.001) \n",
    "\n",
    "# record optimizer\n",
    "lr = optimizer.param_groups[0]['lr']\n",
    "history_dict['optimizer'] = f'{optimizer.__class__.__name__} {lr}'\n",
    "history_dict['optimizer']"
   ]
  },
  {
   "cell_type": "code",
   "execution_count": 9,
   "metadata": {},
   "outputs": [],
   "source": [
    "# functions to save and load best nn model, and create an unique id to store the model\n",
    "def checkpoint(model, filename, folder='models'):\n",
    "    os.makedirs(folder, exist_ok=True)\n",
    "    filepath = os.path.join(folder, filename)\n",
    "    torch.save(model.state_dict(), filepath)\n",
    "    return filepath\n",
    "def resume(model, filepath):\n",
    "    model.load_state_dict(torch.load(filepath))"
   ]
  },
  {
   "cell_type": "code",
   "execution_count": 10,
   "metadata": {},
   "outputs": [
    {
     "name": "stdout",
     "output_type": "stream",
     "text": [
      "Number of model parameters: 487431\n"
     ]
    }
   ],
   "source": [
    "# this is a 1d vector containing all weight in the nn model, no bias included. \n",
    "def weights_1d(model): \n",
    "    # Get parameters with gradients\n",
    "    parameters_with_grad = [param for param in model.parameters() if param.requires_grad]\n",
    "    # Concatenate parameters into a 1D tensor\n",
    "    flat_parameters = torch.cat([param.view(-1) for param in parameters_with_grad])\n",
    "    return flat_parameters\n",
    "print(f'Number of model parameters: {weights_1d(model).shape[0]}')\n",
    "weights_change_updates = np.array([])  # using numpy array to save memory \n",
    "weights_change_epochs = []"
   ]
  },
  {
   "cell_type": "code",
   "execution_count": 11,
   "metadata": {},
   "outputs": [],
   "source": [
    "# training parameters\n",
    "n_epochs = 300   # number of epochs to run\n",
    "batch_size = 1024  # size of each batch\n",
    "history_dict['epochs'] = n_epochs\n",
    "history_dict['batch size'] = batch_size"
   ]
  },
  {
   "cell_type": "code",
   "execution_count": 12,
   "metadata": {},
   "outputs": [],
   "source": [
    "# initialize dataloader \n",
    "train_dataset = TensorDataset(X_train, Y_train)\n",
    "train_loader = DataLoader(train_dataset, batch_size=batch_size, shuffle=True)\n",
    "\n",
    "val_dataset = TensorDataset(X_val, Y_val)\n",
    "val_loader = DataLoader(val_dataset, batch_size=batch_size, shuffle=True)\n",
    "\n",
    "# initialization train, val losses\n",
    "train_losses = []\n",
    "val_losses = []\n",
    "\n",
    "best_validation_loss = float('inf')"
   ]
  },
  {
   "cell_type": "code",
   "execution_count": 13,
   "metadata": {},
   "outputs": [
    {
     "name": "stdout",
     "output_type": "stream",
     "text": [
      "1: train-62.6716931007572, val-16.54904969145612\n",
      "2: train-11.189554934034643, val-6.992077234314709\n",
      "3: train-5.64911772448992, val-5.0027310964537826\n",
      "4: train-3.9072952562386227, val-4.4037420662438\n",
      "5: train-3.0532474586951364, val-2.9871750052382304\n",
      "6: train-2.5715044062469423, val-3.022079069439958\n",
      "7: train-2.311320321307969, val-5.12194286904684\n",
      "8: train-2.068951534779416, val-1.7953665896159847\n",
      "9: train-1.9132905398524298, val-1.424917048070489\n",
      "10: train-1.8253025176368423, val-1.235075821963752\n",
      "11: train-1.6801503267638462, val-1.5062551643790267\n",
      "12: train-1.6206898790659363, val-1.8762150639440955\n",
      "13: train-1.5017424070266718, val-1.5562393723464594\n",
      "14: train-1.4419831199206643, val-1.4205641005097367\n",
      "15: train-1.406957579603822, val-1.1583436407694003\n",
      "16: train-1.332465099574057, val-1.6337572132668845\n",
      "17: train-1.3020591890420188, val-2.0170876456470026\n",
      "18: train-1.2469455631661046, val-0.7933097554416191\n",
      "19: train-1.1806662295820172, val-2.577138929832272\n",
      "20: train-1.200869419237541, val-0.8385596907720333\n",
      "21: train-1.119467884513367, val-1.029495431882579\n",
      "22: train-1.129883279275034, val-0.9853482449926981\n",
      "23: train-1.0946702314444732, val-0.71460300902041\n",
      "24: train-1.0247847380827075, val-1.3841036718066146\n",
      "25: train-1.0491608419868441, val-1.238108763607537\n",
      "26: train-0.9786001249533338, val-0.8179303618465982\n",
      "27: train-0.948446402172606, val-0.6286899614624861\n",
      "28: train-1.0044613683538646, val-0.9700267801924449\n",
      "29: train-0.8928864058107138, val-2.117763299767564\n",
      "30: train-0.9459437027996042, val-1.0523784473174955\n",
      "31: train-0.8946161056993548, val-0.8112644444151622\n",
      "32: train-0.9000012415278819, val-0.6734576130785593\n",
      "33: train-0.8834504264493271, val-0.9351427169834695\n",
      "34: train-0.8636306040949121, val-0.9306044971070638\n",
      "35: train-0.8306337357930762, val-0.6500317272616596\n",
      "36: train-0.8180589243846456, val-0.7639472659041242\n",
      "37: train-0.8208941905231205, val-1.8276359322594433\n",
      "38: train-0.8129923856173901, val-0.9107842699783605\n",
      "39: train-0.7796502807705673, val-0.6932829712949148\n",
      "40: train-0.8242477089665907, val-1.1432657525306795\n",
      "41: train-0.7284651626784777, val-0.5196515314462709\n",
      "42: train-0.7524588961999134, val-0.5614699325183543\n",
      "43: train-0.733504029365314, val-0.6792448250258841\n",
      "44: train-0.7262364446099118, val-0.3266822732076412\n",
      "45: train-0.7132836093492422, val-1.1853165168587754\n",
      "46: train-0.7042457288726396, val-0.4792679275681333\n",
      "47: train-0.6950853571929422, val-0.3459850535160158\n",
      "48: train-0.6856931681389508, val-1.2484627889423836\n",
      "49: train-0.6651979061515675, val-0.4608801421595783\n",
      "50: train-0.6846967007023925, val-0.35406655218543076\n",
      "51: train-0.6554959469772491, val-0.4676880847390105\n",
      "52: train-0.6359468346903312, val-0.6243988755272656\n",
      "53: train-0.6338199557947743, val-1.0276279078751076\n",
      "54: train-0.6142125832704232, val-1.7177687810688484\n",
      "55: train-0.6353812406953309, val-1.6131545072648583\n",
      "56: train-0.6247535737749842, val-0.3400071902972896\n",
      "57: train-0.605581039111562, val-0.36533081204426\n",
      "58: train-0.5808247281814513, val-0.6842738673454378\n",
      "59: train-0.5949722391159571, val-0.4073524991186654\n",
      "60: train-0.6040325950082276, val-0.36411609482474444\n",
      "61: train-0.5599069588231979, val-1.3335062963206594\n",
      "62: train-0.5766211435506025, val-0.34579330755443105\n",
      "63: train-0.5578174453478345, val-0.36186586284055944\n",
      "64: train-0.5597214560821345, val-0.49280342823121603\n",
      "65: train-0.527610715929918, val-1.8113558786671335\n",
      "66: train-0.544456028965177, val-0.5804839057893287\n",
      "67: train-0.5261702285023387, val-0.5853719736744718\n",
      "68: train-0.5310525366383576, val-0.4044051650093823\n",
      "69: train-0.5324915266720597, val-0.3354980898339574\n",
      "70: train-0.5098340937618128, val-0.9017586119291259\n",
      "71: train-0.5191221405492769, val-0.4390785436077816\n",
      "72: train-0.5342715033570055, val-0.3837888934990255\n",
      "73: train-0.48798442859509866, val-1.0297570831891967\n",
      "74: train-0.5287262168856933, val-0.27746904005364675\n",
      "75: train-0.48792270921439546, val-1.2557498565534266\n",
      "76: train-0.5160203225929866, val-0.5834464612530499\n",
      "77: train-0.46302033426988987, val-0.27928185662845284\n",
      "78: train-0.48534444036903146, val-0.35501870912749595\n",
      "79: train-0.4899121180618393, val-0.8623947661097456\n",
      "80: train-0.4688570734267075, val-0.3480045886301413\n",
      "81: train-0.47156229485594425, val-0.5234852549506397\n",
      "82: train-0.45523996293045504, val-0.8635903655028925\n",
      "83: train-0.4563160096823247, val-0.6353607504833035\n",
      "84: train-0.466736992408243, val-0.3668656370988706\n",
      "85: train-0.47158200573176146, val-0.3553761850769927\n",
      "86: train-0.4435418326426874, val-0.4702386067407887\n",
      "87: train-0.437080790567183, val-0.50545346373465\n",
      "88: train-0.4398090918500399, val-0.47086053141733497\n",
      "89: train-0.4540727025128363, val-0.6393962415253244\n",
      "90: train-0.44298049613602997, val-0.5876640768312826\n",
      "91: train-0.4355846208750664, val-1.6861906996587428\n",
      "92: train-0.41631668263604654, val-0.4861607006410273\n",
      "93: train-0.4544001800805023, val-0.2529737446002844\n",
      "94: train-0.39759465196582766, val-0.31397926316755576\n",
      "95: train-0.4378961325987943, val-0.8314835327427562\n",
      "96: train-0.40428194195300954, val-0.35520174663241316\n",
      "97: train-0.42534694985784205, val-0.3047717618869572\n",
      "98: train-0.406278832469942, val-0.7073378214022008\n",
      "99: train-0.4136260737492175, val-0.2698531083580924\n",
      "100: train-0.39941744614373315, val-0.36190861717956824\n",
      "101: train-0.4008209951433171, val-0.7171152088700271\n",
      "102: train-0.4026612252208222, val-0.25106163068515497\n",
      "103: train-0.3911149650332086, val-0.28013973719463114\n",
      "104: train-0.37582233929814596, val-0.2213813666163421\n",
      "105: train-0.4016150739524014, val-0.2941150501733873\n",
      "106: train-0.38680256060660656, val-0.5017240061992552\n",
      "107: train-0.3766692958138499, val-0.6473711452833036\n",
      "108: train-0.3926703399239281, val-0.4214277089369006\n",
      "109: train-0.3869827335613981, val-0.27529882457925053\n",
      "110: train-0.3801331628334814, val-0.2183881723662702\n",
      "111: train-0.3622011354759566, val-0.39174881286737395\n",
      "112: train-0.3733749486093131, val-0.30984481769364053\n",
      "113: train-0.36808270505466256, val-0.43261112781559546\n",
      "114: train-0.38194380336700334, val-0.8510985367181825\n",
      "115: train-0.3785474567299651, val-0.7572711575322035\n",
      "116: train-0.3656933775565289, val-1.3569390046887282\n",
      "117: train-0.3526723916095096, val-0.3585637931416674\n",
      "118: train-0.34268305501564567, val-0.44689446905764135\n",
      "119: train-0.3861837777472341, val-0.3269100450887913\n",
      "120: train-0.3503839339936133, val-1.1346212669116695\n",
      "121: train-0.34134959003206383, val-0.22011174752217968\n",
      "122: train-0.3700771374896783, val-0.5842535819222288\n",
      "123: train-0.3319961219286719, val-0.2933656771372004\n",
      "124: train-0.33768053885702926, val-0.13944871814512624\n",
      "125: train-0.3402828572836426, val-0.46676273934724855\n",
      "126: train-0.3624758561208998, val-0.5417109353513252\n",
      "127: train-0.3179595284115946, val-0.63719242811203\n",
      "128: train-0.35894607818810287, val-0.24400364516711817\n",
      "129: train-0.32275400117289316, val-0.3818529982392381\n",
      "130: train-0.35181221253593864, val-0.21880788156172123\n",
      "131: train-0.3429665915648808, val-0.20764071040037202\n",
      "132: train-0.32132217939463015, val-0.1845257720205842\n",
      "133: train-0.3395934044383466, val-1.226676658886235\n",
      "134: train-0.3358652151103333, val-0.18883259467235425\n",
      "135: train-0.3130351850503729, val-0.7987325991072306\n",
      "136: train-0.31750472458367496, val-0.2539306097641224\n",
      "137: train-0.32909656534470694, val-0.4717239468562894\n",
      "138: train-0.3271811209695855, val-0.6105033239213432\n",
      "139: train-0.31962384688235895, val-0.3357857520260462\n",
      "140: train-0.32710800372236937, val-0.27203913287418646\n",
      "141: train-0.3035842607124257, val-0.30490263496957176\n",
      "142: train-0.30192177455161806, val-0.3468166775092846\n",
      "143: train-0.3023674517351481, val-0.4999518314512765\n",
      "144: train-0.31635025213232515, val-0.24766796100430372\n",
      "145: train-0.31049265295804773, val-0.14394795767417767\n",
      "146: train-0.3126884699155836, val-0.1726390639456307\n",
      "147: train-0.30118641979781163, val-0.7120510092595729\n",
      "148: train-0.3018649234580471, val-0.6312173154295945\n",
      "149: train-0.30137609870451476, val-0.28886820103337124\n",
      "150: train-0.29312946647405624, val-1.1446848991440564\n",
      "151: train-0.31451065158087416, val-0.7139238802398123\n",
      "152: train-0.2872932209902126, val-0.2560494923736991\n",
      "153: train-0.2872349483767505, val-0.28556505954120215\n",
      "154: train-0.281712344501974, val-0.17983165310650337\n",
      "155: train-0.2963517732274978, val-0.2335711626744852\n",
      "156: train-0.28045445872163494, val-0.3524116826493566\n",
      "157: train-0.3044471004929816, val-0.29145377165660624\n",
      "158: train-0.28436543816009285, val-0.19763795141039825\n",
      "159: train-0.28274117290167156, val-1.7015655462334796\n",
      "160: train-0.29312572363744843, val-0.3116650948437249\n",
      "161: train-0.270448648975682, val-0.25140371318997407\n",
      "162: train-0.2824140355499826, val-0.6600956466139817\n",
      "163: train-0.26825796126762463, val-0.4984514262618088\n",
      "164: train-0.2790810992057944, val-0.387751381208257\n",
      "165: train-0.27319718244456753, val-0.26660695853756694\n",
      "166: train-0.28283823083740534, val-0.9145061620851842\n",
      "167: train-0.2740117326503639, val-0.6156118403120738\n",
      "168: train-0.27205550018217917, val-0.4973377781670268\n",
      "169: train-0.2817328161627208, val-0.4200179286119414\n",
      "170: train-0.2594476254685715, val-0.3093514522401298\n",
      "171: train-0.28782632842314304, val-1.2904831767082214\n",
      "172: train-0.27360831864523827, val-0.5745869126261735\n",
      "173: train-0.25754655178482694, val-0.18211819922051778\n",
      "174: train-0.27004129811161265, val-0.6789995613621502\n",
      "175: train-0.25925054325789365, val-0.36741589300516175\n",
      "176: train-0.2638453974042894, val-0.18209776445859815\n",
      "177: train-0.27054169262308125, val-0.2989200280933845\n",
      "178: train-0.25283003777515184, val-0.6635695048948613\n",
      "179: train-0.2532515300188175, val-0.27593821178122263\n",
      "180: train-0.26487282079346863, val-0.25680859423265223\n",
      "181: train-0.2543066437068136, val-0.2648950021077947\n",
      "182: train-0.27154754153596833, val-0.23544818199262385\n",
      "183: train-0.2542898857044344, val-0.4610442642758532\n",
      "184: train-0.25756352200873733, val-0.18749790093520793\n",
      "185: train-0.2456358362075671, val-0.3296890989309404\n",
      "186: train-0.2674557578116271, val-0.1666535000975539\n",
      "187: train-0.2401027027805595, val-0.1690513253575418\n",
      "188: train-0.25606461365217553, val-0.48074423794339344\n",
      "189: train-0.2560889000725961, val-0.27075832664239696\n",
      "190: train-0.23638891625534936, val-0.24757784041689662\n",
      "191: train-0.2577905071822485, val-0.4404112202365224\n",
      "192: train-0.2587500694159841, val-0.22817001219202832\n",
      "193: train-0.24006480570479305, val-0.13333412877670148\n",
      "194: train-0.25657067637525727, val-0.2633824857269845\n",
      "195: train-0.2433464433325781, val-0.5355615659457881\n",
      "196: train-0.23986841580763305, val-0.2278900633497936\n",
      "197: train-0.23587457458824687, val-0.2330807890833878\n",
      "198: train-0.23284076024614966, val-0.4272152988648996\n",
      "199: train-0.2296188020905883, val-0.27120381484671335\n",
      "200: train-0.2569328855588725, val-2.489705888236441\n",
      "201: train-0.2478363398059281, val-0.18540304008780456\n",
      "202: train-0.2362228453005712, val-0.3557124737559295\n",
      "203: train-0.2284649989961349, val-0.12645527538729878\n",
      "204: train-0.2363649624227018, val-0.5090714733048183\n",
      "205: train-0.21560257298334204, val-1.1913106281582901\n",
      "206: train-0.2380033050730978, val-0.2592714632429728\n",
      "207: train-0.23347824577184528, val-0.4489491814520301\n",
      "208: train-0.23470855107262117, val-0.3993811745469163\n",
      "209: train-0.2197601102705392, val-0.2644887395748278\n",
      "210: train-0.21784045091666973, val-0.8359621661465343\n",
      "211: train-0.23551497485046996, val-0.2698360841448714\n",
      "212: train-0.22611624352422724, val-0.18088518101267698\n",
      "213: train-0.2347366610762769, val-0.5266210760285215\n",
      "214: train-0.22339174455300587, val-0.22578560688146732\n",
      "215: train-0.23328128423945038, val-0.31425105762190936\n",
      "216: train-0.2201512404573486, val-0.1858906262531513\n",
      "217: train-0.2187513755466405, val-0.12508699425110004\n",
      "218: train-0.22813617249413096, val-0.14058662678410366\n",
      "219: train-0.21684017128877572, val-0.3040569584544112\n",
      "220: train-0.22150921510273264, val-0.16416094960962854\n",
      "221: train-0.2335262044342523, val-0.3657068919117858\n",
      "222: train-0.22934134486467414, val-0.22164443807631004\n",
      "223: train-0.20072848900442117, val-0.38928464818291547\n",
      "224: train-0.22215770539760435, val-0.362145194193212\n",
      "225: train-0.20966261619529158, val-0.14140991657608892\n",
      "226: train-0.2158864459320519, val-0.3818279490238283\n",
      "227: train-0.21157153992020747, val-0.1733960336664828\n",
      "228: train-0.2319575485091695, val-0.14854078758053663\n",
      "229: train-0.20120812998124465, val-0.47269102240481026\n",
      "230: train-0.2217982270149994, val-0.2741419965537583\n",
      "231: train-0.2154878316538351, val-0.1765284654570789\n",
      "232: train-0.21816771532188065, val-0.19109369505469392\n",
      "233: train-0.20720473993761637, val-0.6566197814010992\n",
      "234: train-0.20909350418207265, val-0.1814725969622775\n",
      "235: train-0.2042851769029326, val-0.3407965622297147\n",
      "236: train-0.22494579101768658, val-1.019127121058906\n",
      "237: train-0.20309723070678637, val-0.18017668676812473\n",
      "238: train-0.20914849714068792, val-0.4624180841009791\n",
      "239: train-0.19674002790353118, val-0.3926948272600407\n",
      "240: train-0.20911156938689732, val-0.1511646688166188\n",
      "241: train-0.20334287226372927, val-0.11353344070475276\n",
      "242: train-0.22338186016248673, val-0.13268756157741313\n",
      "243: train-0.19538039273880037, val-0.13602536226191173\n",
      "244: train-0.21613848132570995, val-0.14800275971249835\n",
      "245: train-0.194966908635514, val-0.2915891886847775\n",
      "246: train-0.19978567804017863, val-0.18616161858890115\n",
      "247: train-0.20661651822690344, val-1.604375390017905\n",
      "248: train-0.21857772099775905, val-0.1321199796185261\n",
      "249: train-0.2095172355748406, val-0.21798174373987245\n",
      "250: train-0.19816495995421307, val-0.16355293462189233\n",
      "251: train-0.20736987775278076, val-0.09518103674054146\n",
      "252: train-0.2055479271731042, val-0.2020393520957086\n",
      "253: train-0.21015474660869343, val-1.3861515100409345\n",
      "254: train-0.20009755365281684, val-0.2579361925401339\n",
      "255: train-0.2039316064538914, val-0.11082492959572048\n",
      "256: train-0.20115079549285247, val-0.19529326859770751\n",
      "257: train-0.19468422562181564, val-0.14098242379543258\n",
      "258: train-0.20406295826956244, val-0.5286762303695446\n",
      "259: train-0.20669606991937942, val-0.1577298335912751\n",
      "260: train-0.1942812726525686, val-0.2792168419535567\n",
      "261: train-0.19969107429784982, val-0.28668247563083\n",
      "262: train-0.19514061891012968, val-0.15636468687798918\n",
      "263: train-0.18510692374127888, val-0.17451102377437963\n",
      "264: train-0.1929956331930709, val-0.13087354373277688\n",
      "265: train-0.1875702757652388, val-0.29289122798093936\n",
      "266: train-0.19174066851798868, val-0.18602009680939885\n",
      "267: train-0.20091936020324602, val-0.1962910061929284\n",
      "268: train-0.18655003181457058, val-0.15542930582674538\n",
      "269: train-0.19059769235810592, val-0.14859860772039832\n",
      "270: train-0.18411312235240854, val-0.1378775664219042\n",
      "271: train-0.18996408625659486, val-0.11293475438908833\n",
      "272: train-0.18616431470259487, val-0.16714188329330304\n",
      "273: train-0.1907852664445863, val-0.14011656402087794\n",
      "274: train-0.17966899846334816, val-0.3500015255881519\n",
      "275: train-0.19323274617073768, val-0.16464628951578605\n",
      "276: train-0.18346584415706546, val-0.24576193475868643\n",
      "277: train-0.1837042828676166, val-0.09623066390432962\n",
      "278: train-0.19013544781008715, val-0.14948748270185983\n",
      "279: train-0.1858329096972251, val-0.3275333301323216\n",
      "280: train-0.18381143223071836, val-0.18442606835103617\n",
      "281: train-0.18068291876013823, val-1.0096146915017106\n",
      "282: train-0.18318792166591613, val-0.15252508577413676\n",
      "283: train-0.19596829671489516, val-0.3066815977416387\n",
      "284: train-0.1721917600250928, val-0.37644295140010553\n",
      "285: train-0.1807293371494245, val-0.1715470766875802\n",
      "286: train-0.1735367906788729, val-0.3962822541957948\n",
      "287: train-0.17543602395159452, val-0.3232298980398876\n",
      "288: train-0.18470347994343214, val-0.1922750431226521\n",
      "289: train-0.19089977689730675, val-0.17806374881325698\n",
      "290: train-0.17197757539550593, val-0.13705195213963345\n",
      "291: train-0.18241527775475352, val-0.1652339015428613\n",
      "292: train-0.19116260691008233, val-0.18489286830512489\n",
      "293: train-0.1843354518227663, val-0.11290708611287721\n",
      "294: train-0.1813011116098574, val-0.1557513061093121\n",
      "295: train-0.18438404176345805, val-0.10008812523106249\n",
      "296: train-0.16982966197952243, val-0.12382393303077395\n",
      "297: train-0.17972138914106817, val-0.15559746397704613\n",
      "298: train-0.16633062393490955, val-0.20086932927370071\n",
      "299: train-0.1776450046376546, val-0.10131167665850825\n",
      "300: train-0.1929928891567187, val-0.28125618071090885\n"
     ]
    }
   ],
   "source": [
    "# record the weights with no training\n",
    "# with torch.no_grad():\n",
    "#     previous_weights_epoch = weights_1d(model)\n",
    "\n",
    "# Training loop\n",
    "for epoch in range(1, n_epochs + 1):\n",
    "    model.train()  # Set the model to training mode\n",
    "    total_loss = 0.0\n",
    "\n",
    "    for inputs, labels in train_loader:\n",
    "        inputs, labels = inputs.to(device), labels.to(device)\n",
    "        optimizer.zero_grad()  # Zero the gradients\n",
    "        outputs = model(inputs)  # Forward pass\n",
    "        loss = loss_fn(outputs, labels)  # Calculate the loss\n",
    "        loss.backward()  # Backward pass\n",
    "        optimizer.step()  # Update weights\n",
    "\n",
    "        # record the weights changes across each updates (batches)\n",
    "        # with torch.no_grad():\n",
    "        #     current_weights = weights_1d(model)\n",
    "        #     if 'previous_weights' in locals():\n",
    "        #         weight_change = torch.norm(current_weights - previous_weights).item()#.cpu()\n",
    "        #         weights_change_updates = np.append(weights_change_updates, weight_change)\n",
    "        #     previous_weights = current_weights\n",
    "\n",
    "        total_loss += loss.item()\n",
    "\n",
    "    # Average training loss for the epoch\n",
    "    avg_train_loss = total_loss / len(train_loader)\n",
    "    train_losses.append(avg_train_loss)\n",
    "\n",
    "    # Validation loop\n",
    "    model.eval()  # Set the model to evaluation mode\n",
    "    total_val_loss = 0.0\n",
    "\n",
    "    with torch.no_grad():  # Disable gradient calculation during validation\n",
    "        # record the weights change across epochs\n",
    "        # current_weights_epoch = weights_1d(model)\n",
    "        # if 'previous_weights_epoch' in locals():\n",
    "        #     weight_change_epoch = torch.norm(current_weights_epoch - previous_weights_epoch).item()#.cpu()\n",
    "        #     weights_change_epochs.append(weight_change_epoch)\n",
    "        # previous_weights_epoch = current_weights_epoch\n",
    "\n",
    "        # validation\n",
    "        for val_inputs, val_labels in val_loader:\n",
    "            val_inputs, val_labels = val_inputs.to(device), val_labels.to(device)\n",
    "            val_outputs = model(val_inputs)\n",
    "            val_loss = loss_fn(val_outputs, val_labels)\n",
    "            total_val_loss += val_loss.item()\n",
    "\n",
    "    # Average validation loss for the epoch\n",
    "    avg_val_loss = total_val_loss / len(val_loader)\n",
    "    val_losses.append(avg_val_loss)\n",
    "\n",
    "    print(f'{epoch}: train-{avg_train_loss}, val-{avg_val_loss}')\n",
    "\n",
    "    # saving the model with best training mse\n",
    "    # if len(train_losses) != 1:\n",
    "    #     if avg_train_loss < train_losses[-2]: \n",
    "    #         best_loss = avg_train_loss\n",
    "    #         best_epoch = epoch\n",
    "    #         model_path = checkpoint(model, f\"model_{unique_id}.pth\")\n",
    "    if avg_val_loss < best_validation_loss:\n",
    "        best_epoch = epoch\n",
    "        model_path = checkpoint(model, f\"model_{unique_id}.pth\")\n",
    "        best_training_loss = avg_train_loss\n",
    "        best_validation_loss = avg_val_loss"
   ]
  },
  {
   "cell_type": "code",
   "execution_count": 14,
   "metadata": {},
   "outputs": [],
   "source": [
    "# record training, validationg losses, weight updates, and the result model path\n",
    "history_dict['best_epoch'] = best_epoch\n",
    "history_dict['best_val'] = best_validation_loss\n",
    "history_dict['best_train'] = best_training_loss\n",
    "history_dict['training'] = train_losses\n",
    "history_dict['validation'] = val_losses\n",
    "history_dict['weights'] = weights_change_epochs\n",
    "history_dict['model'] = model_path"
   ]
  },
  {
   "cell_type": "code",
   "execution_count": 15,
   "metadata": {},
   "outputs": [],
   "source": [
    "def experiment_records(row_data, file_path = 'experiment records.csv'): \n",
    "    '''\n",
    "    row_data is a dictionary of the row_data we want to store\n",
    "    '''\n",
    "    # Check if the file exists\n",
    "    file_exists = os.path.isfile(file_path)\n",
    "\n",
    "    with open(file_path, mode='a' if file_exists else 'w', newline='') as csv_file:\n",
    "        # Create a CSV writer object\n",
    "        csv_writer = csv.writer(csv_file)\n",
    "\n",
    "        # If the file is newly created, write the header row\n",
    "        if not file_exists:\n",
    "            header_row = row_data.keys() if isinstance(row_data, dict) else row_data\n",
    "            csv_writer.writerow(header_row)\n",
    "\n",
    "        # Write the data row\n",
    "        if isinstance(row_data, dict):\n",
    "            csv_writer.writerow(row_data.values())\n",
    "        else:\n",
    "            csv_writer.writerow(row_data)"
   ]
  },
  {
   "cell_type": "code",
   "execution_count": 16,
   "metadata": {},
   "outputs": [],
   "source": [
    "experiment_records(history_dict)"
   ]
  },
  {
   "cell_type": "code",
   "execution_count": 17,
   "metadata": {},
   "outputs": [
    {
     "name": "stdout",
     "output_type": "stream",
     "text": [
      "Best validation loss: 0.09518103674054146, at epoch: 251\n",
      "Number of total training samples:  1588400\n"
     ]
    }
   ],
   "source": [
    "print(f\"Best validation loss: {best_validation_loss}, at epoch: {best_epoch}\")\n",
    "#print(\"RMSE: %.2f\" % np.sqrt(best_mse))\n",
    "print('Number of total training samples: ', X_train.shape[0])"
   ]
  },
  {
   "cell_type": "code",
   "execution_count": 18,
   "metadata": {},
   "outputs": [
    {
     "data": {
      "text/plain": [
       "(0.0, 2.0)"
      ]
     },
     "execution_count": 18,
     "metadata": {},
     "output_type": "execute_result"
    },
    {
     "data": {
      "image/png": "[encoded data removed]",
      "text/plain": [
       "<Figure size 640x480 with 1 Axes>"
      ]
     },
     "metadata": {},
     "output_type": "display_data"
    }
   ],
   "source": [
    "plt.plot(train_losses, label='train_history')\n",
    "plt.plot(val_losses, label = 'val_history')\n",
    "plt.legend()\n",
    "plt.ylim(0, 2)"
   ]
  },
  {
   "cell_type": "code",
   "execution_count": 19,
   "metadata": {},
   "outputs": [
    {
     "data": {
      "image/png": "[encoded data removed]",
      "text/plain": [
       "<Figure size 640x480 with 1 Axes>"
      ]
     },
     "metadata": {},
     "output_type": "display_data"
    }
   ],
   "source": [
    "os.makedirs('train_figures', exist_ok=True)\n",
    "plt.figure()  # Create a new figure\n",
    "plt.plot(train_losses, label='train_history')\n",
    "#plt.plot(train_loss_history, label='train_history')\n",
    "plt.plot(val_losses, label = 'val_history')\n",
    "plt.legend()\n",
    "#plt.ylim(100, 300)\n",
    "#plt.xlim(0,10)\n",
    "plt.savefig(f'train_figures/{unique_id}.png')\n",
    "\n",
    "# os.makedirs('weights_figures', exist_ok=True)\n",
    "# plt.figure()  # Create a new figure\n",
    "# plt.plot(weights_change_updates, label = 'norm_weights_diff') \n",
    "# plt.xlabel('Epoch')\n",
    "# plt.ylabel('Norm of diff in model weights across batch updates')\n",
    "# plt.legend()\n",
    "# plt.savefig(f'weights_figures/updates {unique_id}.png')\n",
    "\n",
    "# plt.figure()  # Create a new figure\n",
    "# plt.plot(weights_change_epochs, label = 'norm_weights_diff') \n",
    "# plt.xlabel('Epoch')\n",
    "# plt.ylabel('Norm of diff in model weights across epochs')\n",
    "# plt.legend()\n",
    "# plt.savefig(f'weights_figures/epochs {unique_id}.png')\n",
    "\n",
    "# print(train_losses)\n",
    "# print(weights_change_epochs)"
   ]
  },
  {
   "cell_type": "code",
   "execution_count": null,
   "metadata": {},
   "outputs": [],
   "source": []
  },
  {
   "cell_type": "code",
   "execution_count": null,
   "metadata": {},
   "outputs": [],
   "source": []
  },
  {
   "cell_type": "markdown",
   "metadata": {},
   "source": [
    "Test the model"
   ]
  },
  {
   "cell_type": "code",
   "execution_count": 1,
   "metadata": {},
   "outputs": [],
   "source": [
    "from dataset_reader import Traces_Dataset\n",
    "from mlp_model import MLP\n",
    "import ast\n",
    "import numpy as np\n",
    "import pandas as pd\n",
    "import csv\n",
    "import os\n",
    "import random\n",
    "import torch\n",
    "# load and process dataset \n",
    "dataset_test = Traces_Dataset('dataset_exp_test.csv')"
   ]
  },
  {
   "cell_type": "code",
   "execution_count": 2,
   "metadata": {},
   "outputs": [],
   "source": [
    "exp_narva_df = pd.read_csv('experiment records.csv')\n",
    "# define the index of experiemnt (model)\n",
    "num_experiment = 1"
   ]
  },
  {
   "cell_type": "code",
   "execution_count": 3,
   "metadata": {},
   "outputs": [],
   "source": [
    "normalized_mean = torch.tensor(ast.literal_eval(exp_narva_df['normalize_mean'][num_experiment]))\n",
    "normalized_std = torch.tensor(ast.literal_eval(exp_narva_df['normalize_std'][num_experiment]))\n",
    "\n",
    "dataset_test.clean_features()\n",
    "dataset_test.normalize_test(normalized_mean, normalized_std)\n",
    "\n",
    "target_params = dataset_test.params"
   ]
  },
  {
   "cell_type": "code",
   "execution_count": 4,
   "metadata": {},
   "outputs": [
    {
     "data": {
      "text/plain": [
       "<All keys matched successfully>"
      ]
     },
     "execution_count": 4,
     "metadata": {},
     "output_type": "execute_result"
    }
   ],
   "source": [
    "# Specify the path to your saved model\n",
    "model_path = exp_narva_df['model'][num_experiment]\n",
    "\n",
    "# Load the model with map_location\n",
    "device = torch.device('cpu')  # Map tensors to CPU\n",
    "model = torch.load(model_path, map_location=device)\n",
    "model = MLP(dataset_test.inputs.shape[1])\n",
    "\n",
    "model.load_state_dict(torch.load(exp_narva_df['model'][num_experiment], map_location=device))"
   ]
  },
  {
   "cell_type": "code",
   "execution_count": 5,
   "metadata": {},
   "outputs": [
    {
     "data": {
      "text/plain": [
       "(torch.Size([1000, 7]), torch.Size([1000, 7]))"
      ]
     },
     "execution_count": 5,
     "metadata": {},
     "output_type": "execute_result"
    }
   ],
   "source": [
    "estimated_params = model(dataset_test.inputs)\n",
    "estimated_params.shape, target_params.shape"
   ]
  },
  {
   "cell_type": "code",
   "execution_count": 6,
   "metadata": {},
   "outputs": [],
   "source": [
    "mse_each_param = (estimated_params - target_params)**2\n",
    "avg_mse_each_param = torch.mean((estimated_params - target_params)**2, dim=0)\n",
    "overall_mse = torch.mean(avg_mse_each_param)\n",
    "avg_re_each_param = torch.mean(((estimated_params - target_params)/target_params)**2, dim=0)\n",
    "overall_re = torch.mean(avg_re_each_param)\n"
   ]
  },
  {
   "cell_type": "code",
   "execution_count": 9,
   "metadata": {},
   "outputs": [
    {
     "data": {
      "text/plain": [
       "(tensor([0.0016, 0.1684, 0.3699, 0.0048, 0.0341, 0.0006, 0.0125],\n",
       "        grad_fn=<MeanBackward1>),\n",
       " tensor(0.0845, grad_fn=<MeanBackward0>))"
      ]
     },
     "execution_count": 9,
     "metadata": {},
     "output_type": "execute_result"
    }
   ],
   "source": [
    "avg_mse_each_param, overall_mse"
   ]
  },
  {
   "cell_type": "code",
   "execution_count": 11,
   "metadata": {},
   "outputs": [
    {
     "data": {
      "text/plain": [
       "(tensor([3.7551e-04, 1.1992e-05, 5.3728e-05, 3.6317e-02, 7.3819e-04, 5.8502e-02,\n",
       "         8.5039e-05], grad_fn=<MeanBackward1>),\n",
       " tensor(0.0137, grad_fn=<MeanBackward0>))"
      ]
     },
     "execution_count": 11,
     "metadata": {},
     "output_type": "execute_result"
    }
   ],
   "source": [
    "avg_re_each_param, overall_re"
   ]
  },
  {
   "cell_type": "code",
   "execution_count": 13,
   "metadata": {},
   "outputs": [
    {
     "data": {
      "text/plain": [
       "(tensor([0.0295, 0.2884, 0.3971, 0.0525, 0.1327, 0.0188, 0.0896],\n",
       "        grad_fn=<MeanBackward1>),\n",
       " tensor([0.0129, 0.0024, 0.0049, 0.0650, 0.0118, 0.0968, 0.0072],\n",
       "        grad_fn=<MeanBackward1>))"
      ]
     },
     "execution_count": 13,
     "metadata": {},
     "output_type": "execute_result"
    }
   ],
   "source": [
    "mae_params = torch.mean(torch.abs(estimated_params - target_params), dim=0)\n",
    "mape_params = torch.mean(torch.abs((estimated_params - target_params)/target_params), dim=0)\n",
    "mae_params, mape_params"
   ]
  },
  {
   "cell_type": "code",
   "execution_count": null,
   "metadata": {},
   "outputs": [],
   "source": []
  }
 ],
 "metadata": {
  "kernelspec": {
   "display_name": "Python 3 (ipykernel)",
   "language": "python",
   "name": "python3"
  },
  "language_info": {
   "codemirror_mode": {
    "name": "ipython",
    "version": 3
   },
   "file_extension": ".py",
   "mimetype": "text/x-python",
   "name": "python",
   "nbconvert_exporter": "python",
   "pygments_lexer": "ipython3",
   "version": "3.10.2"
  }
 },
 "nbformat": 4,
 "nbformat_minor": 4
}
