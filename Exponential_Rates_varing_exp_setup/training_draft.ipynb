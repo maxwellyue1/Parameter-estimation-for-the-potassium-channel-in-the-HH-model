{
 "cells": [
  {
   "cell_type": "code",
   "execution_count": 1,
   "metadata": {},
   "outputs": [],
   "source": [
    "import torch\n",
    "import csv\n",
    "import os\n",
    "import random\n",
    "import numpy as np\n",
    "from torch.utils.data import TensorDataset, DataLoader, random_split\n",
    "import pandas as pd\n",
    "from dataset_reader import Traces_Dataset\n",
    "from mlp_model import MLP\n",
    "import torch.nn as nn\n",
    "import torch.optim as optim\n",
    "import matplotlib.pyplot as plt\n",
    "import uuid"
   ]
  },
  {
   "cell_type": "code",
   "execution_count": 2,
   "metadata": {},
   "outputs": [
    {
     "name": "stdout",
     "output_type": "stream",
     "text": [
      "Experiment ID: 6eabb4e5\n"
     ]
    }
   ],
   "source": [
    "# initialize a dictionary of training history to store in a csv file\n",
    "history_dict = {}\n",
    "\n",
    "unique_id = str(uuid.uuid4())[:8]\n",
    "history_dict['unique_id'] = unique_id\n",
    "print(f'Experiment ID: {unique_id}')"
   ]
  },
  {
   "cell_type": "code",
   "execution_count": 3,
   "metadata": {},
   "outputs": [
    {
     "name": "stdout",
     "output_type": "stream",
     "text": [
      "Using device: cuda\n"
     ]
    }
   ],
   "source": [
    "# making training reproducible\n",
    "seed = 42\n",
    "random.seed(seed)\n",
    "np.random.seed(seed)\n",
    "torch.manual_seed(seed)\n",
    "torch.backends.cudnn.deterministic = True\n",
    "torch.backends.cudnn.benchmark = False\n",
    "history_dict['seed'] = seed\n",
    "\n",
    "device = torch.device('cuda' if torch.cuda.is_available() else 'cpu')  # Uncomment this line\n",
    "print(f\"Using device: {device}\")"
   ]
  },
  {
   "cell_type": "code",
   "execution_count": 4,
   "metadata": {},
   "outputs": [
    {
     "name": "stdout",
     "output_type": "stream",
     "text": [
      "torch.Size([776000, 442])\n",
      "torch.Size([776000, 431])\n"
     ]
    }
   ],
   "source": [
    "# load and process dataset \n",
    "dataset = Traces_Dataset('dataset_exp.csv')\n",
    "print(dataset.inputs.shape)\n",
    "dataset.split_dataset(0.95, 0.05, 0)\n",
    "dataset.clean_features()\n",
    "dataset.find_mean_std()\n",
    "dataset.normalize()\n",
    "print(dataset.inputs.shape)\n",
    "history_dict['normalize_mean'] = dataset.train_mean.tolist()\n",
    "history_dict['normalize_std'] = dataset.train_std.tolist()\n",
    "history_dict['dataset'] = (dataset.inputs.shape[0], dataset.inputs.shape[1])"
   ]
  },
  {
   "cell_type": "code",
   "execution_count": 5,
   "metadata": {
    "scrolled": true
   },
   "outputs": [
    {
     "data": {
      "text/plain": [
       "(torch.Size([776000, 431]), torch.Size([776000, 7]))"
      ]
     },
     "execution_count": 5,
     "metadata": {},
     "output_type": "execute_result"
    }
   ],
   "source": [
    "dataset.inputs.shape, dataset.params.shape"
   ]
  },
  {
   "cell_type": "code",
   "execution_count": 6,
   "metadata": {},
   "outputs": [],
   "source": [
    "# initialize train, val, test set\n",
    "X_train = dataset[dataset.train_set.indices][0]\n",
    "Y_train = dataset[dataset.train_set.indices][1]\n",
    "\n",
    "X_val = dataset[dataset.val_set.indices][0]\n",
    "Y_val = dataset[dataset.val_set.indices][1]\n",
    "\n",
    "X_test = dataset[dataset.test_set.indices][0]\n",
    "Y_test = dataset[dataset.test_set.indices][1]\n",
    "\n",
    "# initialize NN model\n",
    "model = MLP(dataset.inputs.shape[1], dataset.params.shape[1]).to(device)\n",
    "model.initialize_weights()"
   ]
  },
  {
   "cell_type": "code",
   "execution_count": 7,
   "metadata": {},
   "outputs": [
    {
     "data": {
      "text/plain": [
       "[Sequential(\n",
       "   (0): Linear(in_features=431, out_features=512, bias=True)\n",
       "   (1): SiLU()\n",
       "   (2): Linear(in_features=512, out_features=512, bias=True)\n",
       "   (3): SiLU()\n",
       "   (4): Linear(in_features=512, out_features=7, bias=True)\n",
       " )]"
      ]
     },
     "execution_count": 7,
     "metadata": {},
     "output_type": "execute_result"
    }
   ],
   "source": [
    "# store model architecture\n",
    "architecture = []\n",
    "for name, layer in model.named_children():\n",
    "    architecture.append(layer)\n",
    "history_dict['architecture'] = architecture\n",
    "architecture"
   ]
  },
  {
   "cell_type": "code",
   "execution_count": 8,
   "metadata": {},
   "outputs": [
    {
     "data": {
      "text/plain": [
       "'Adam 0.001'"
      ]
     },
     "execution_count": 8,
     "metadata": {},
     "output_type": "execute_result"
    }
   ],
   "source": [
    "# loss function and optimizer\n",
    "loss_fn = nn.MSELoss()  # mean square error\n",
    "optimizer = optim.Adam(model.parameters(), lr=0.001) \n",
    "\n",
    "# record optimizer\n",
    "lr = optimizer.param_groups[0]['lr']\n",
    "history_dict['optimizer'] = f'{optimizer.__class__.__name__} {lr}'\n",
    "history_dict['optimizer']"
   ]
  },
  {
   "cell_type": "code",
   "execution_count": 9,
   "metadata": {},
   "outputs": [],
   "source": [
    "# functions to save and load best nn model, and create an unique id to store the model\n",
    "def checkpoint(model, filename, folder='models'):\n",
    "    os.makedirs(folder, exist_ok=True)\n",
    "    filepath = os.path.join(folder, filename)\n",
    "    torch.save(model.state_dict(), filepath)\n",
    "    return filepath\n",
    "def resume(model, filepath):\n",
    "    model.load_state_dict(torch.load(filepath))"
   ]
  },
  {
   "cell_type": "code",
   "execution_count": 10,
   "metadata": {},
   "outputs": [
    {
     "name": "stdout",
     "output_type": "stream",
     "text": [
      "Number of model parameters: 487431\n"
     ]
    }
   ],
   "source": [
    "# this is a 1d vector containing all weight in the nn model, no bias included. \n",
    "def weights_1d(model): \n",
    "    # Get parameters with gradients\n",
    "    parameters_with_grad = [param for param in model.parameters() if param.requires_grad]\n",
    "    # Concatenate parameters into a 1D tensor\n",
    "    flat_parameters = torch.cat([param.view(-1) for param in parameters_with_grad])\n",
    "    return flat_parameters\n",
    "print(f'Number of model parameters: {weights_1d(model).shape[0]}')\n",
    "weights_change_updates = np.array([])  # using numpy array to save memory \n",
    "weights_change_epochs = []"
   ]
  },
  {
   "cell_type": "code",
   "execution_count": 11,
   "metadata": {},
   "outputs": [],
   "source": [
    "# training parameters\n",
    "n_epochs = 300   # number of epochs to run\n",
    "batch_size = 1024  # size of each batch\n",
    "history_dict['epochs'] = n_epochs\n",
    "history_dict['batch size'] = batch_size"
   ]
  },
  {
   "cell_type": "code",
   "execution_count": 12,
   "metadata": {},
   "outputs": [],
   "source": [
    "# initialize dataloader \n",
    "train_dataset = TensorDataset(X_train, Y_train)\n",
    "train_loader = DataLoader(train_dataset, batch_size=batch_size, shuffle=True)\n",
    "\n",
    "val_dataset = TensorDataset(X_val, Y_val)\n",
    "val_loader = DataLoader(val_dataset, batch_size=batch_size, shuffle=True)\n",
    "\n",
    "# initialization train, val losses\n",
    "train_losses = []\n",
    "val_losses = []\n",
    "\n",
    "best_validation_loss = float('inf')"
   ]
  },
  {
   "cell_type": "code",
   "execution_count": 13,
   "metadata": {},
   "outputs": [
    {
     "name": "stdout",
     "output_type": "stream",
     "text": [
      "1: train-112.71570099724664, val-21.580206168325322\n",
      "2: train-19.59459612104628, val-17.017973297520687\n",
      "3: train-14.623048149214851, val-12.371798339642977\n",
      "4: train-9.256521307759815, val-7.281983475936086\n",
      "5: train-6.764703277746836, val-5.882092701761346\n",
      "6: train-5.35810061428282, val-4.704112906205027\n",
      "7: train-4.408255284362369, val-3.491073150383799\n",
      "8: train-3.880662476685312, val-3.4359918519070276\n",
      "9: train-3.4603785809543397, val-4.551704318899858\n",
      "10: train-3.020250927077399, val-2.47310241272575\n",
      "11: train-2.766701895329687, val-1.9430078424905475\n",
      "12: train-2.6250678380330403, val-2.816089234854046\n",
      "13: train-2.5119232391317685, val-2.0337778643557898\n",
      "14: train-2.290079507893986, val-1.6417778228458606\n",
      "15: train-2.1357098071111573, val-2.119119383786854\n",
      "16: train-2.055517697830995, val-2.271594135384811\n",
      "17: train-2.0517219689157273, val-2.5442793432034945\n",
      "18: train-1.9341132558882237, val-1.6967507569413436\n",
      "19: train-1.9112211915353934, val-1.912658111045235\n",
      "20: train-1.8141788894931474, val-1.6701160418359857\n",
      "21: train-1.7824228785104221, val-1.394482970237732\n",
      "22: train-1.7270979829132558, val-2.276737269602324\n",
      "23: train-1.7138315984772312, val-3.587023402515211\n",
      "24: train-1.7142687156796454, val-1.2714194216226276\n",
      "25: train-1.6001603186130524, val-2.200295416932357\n",
      "26: train-1.613148357388046, val-0.7695020358813437\n",
      "27: train-1.5006265283458762, val-1.9194537087490684\n",
      "28: train-1.5783440553479724, val-1.3388058668688725\n",
      "29: train-1.5034694489505556, val-2.083748764113376\n",
      "30: train-1.4237302232119773, val-2.0588313341140747\n",
      "31: train-1.4375437843302885, val-2.101629523854507\n",
      "32: train-1.400886195484135, val-0.8995844627681532\n",
      "33: train-1.3659808880752988, val-1.0301184136616557\n",
      "34: train-1.358926670998335, val-1.4034519509265297\n",
      "35: train-1.2860117139915626, val-1.0661862649415668\n",
      "36: train-1.2342939895060328, val-0.7536010240253649\n",
      "37: train-1.357772920694616, val-0.979049961817892\n",
      "38: train-1.1991355508565902, val-1.3661892225867824\n",
      "39: train-1.2239628968139489, val-0.5946161778349626\n",
      "40: train-1.2222282384832701, val-0.6617003036172766\n",
      "41: train-1.193509981284539, val-0.536767474914852\n",
      "42: train-1.144806965523296, val-1.3181559380732084\n",
      "43: train-1.1569245110783313, val-0.6555013970324868\n",
      "44: train-1.0801119164046313, val-0.6227366924285889\n",
      "45: train-1.107070898802744, val-2.0495990828463904\n",
      "46: train-1.1586315117776393, val-0.7603065873447218\n",
      "47: train-1.1599617938200633, val-0.6458957603103236\n",
      "48: train-1.0306609397547113, val-1.0250647569957532\n",
      "49: train-1.1295951356904375, val-0.7826044810445685\n",
      "50: train-1.0055992386407322, val-1.0780977920482033\n",
      "51: train-1.1054747830248541, val-1.1740101873874664\n",
      "52: train-1.035775046257509, val-1.5947793628040112\n",
      "53: train-0.9915004608945714, val-1.6289125367214805\n",
      "54: train-0.9621554111854898, val-0.8740869478175515\n",
      "55: train-1.029636757903629, val-0.6401817280995218\n",
      "56: train-0.9415054951690965, val-0.7331504868833643\n",
      "57: train-1.040729357302189, val-0.7832005227866926\n",
      "58: train-1.0054852119750446, val-0.7563755873002505\n",
      "59: train-0.9512811839166615, val-0.409225070947095\n",
      "60: train-0.9357565249419875, val-0.7980479394134722\n",
      "61: train-0.9423467447774277, val-0.6670685959489722\n",
      "62: train-0.9169491352306471, val-1.538857268659692\n",
      "63: train-0.8649666793230507, val-0.8324280930192847\n",
      "64: train-0.8999638658844762, val-1.2572568372676247\n",
      "65: train-0.9432939184208711, val-0.7480302484411943\n",
      "66: train-0.8573050091250075, val-0.5123833864927292\n",
      "67: train-0.9347901586857107, val-0.7319943606853485\n",
      "68: train-0.8922927794357141, val-0.4747338553792552\n",
      "69: train-0.8845021720975638, val-0.9451313379563784\n",
      "70: train-0.868982481625345, val-0.9393844651548486\n",
      "71: train-0.8709870615353187, val-0.484012013987491\n",
      "72: train-0.8625217989914947, val-0.9005337624173415\n",
      "73: train-0.8150643972886933, val-0.6472445146033639\n",
      "74: train-0.833535321884685, val-0.9311025832828722\n",
      "75: train-0.8280607844392459, val-0.7794395904791983\n",
      "76: train-0.7700375519692898, val-0.39789019525051117\n",
      "77: train-0.8987133883767657, val-1.039413963493548\n",
      "78: train-0.7882457949221134, val-1.1331455676179183\n",
      "79: train-0.7519869454825918, val-0.7629474589699193\n",
      "80: train-0.8250147277696265, val-0.878303515283685\n",
      "81: train-0.8110234337134494, val-0.6529667283359327\n",
      "82: train-0.7496308366457621, val-0.8576060659007022\n",
      "83: train-0.8046987735148933, val-0.5994473789867601\n",
      "84: train-0.7444623244719373, val-0.5283777611820322\n",
      "85: train-0.7857550215803915, val-1.0868673606922752\n",
      "86: train-0.7638684990505378, val-0.7566858796696914\n",
      "87: train-0.7178497287548251, val-1.1192950559289832\n",
      "88: train-0.8202392228154672, val-0.7770546627672095\n",
      "89: train-0.8293985780328512, val-0.33188794396425547\n",
      "90: train-0.6905062718523873, val-0.628958639345671\n",
      "91: train-0.6994915157970455, val-1.217527188752827\n",
      "92: train-0.7401885660158263, val-0.47638676746895436\n",
      "93: train-0.7339906319561932, val-0.4894890761689136\n",
      "94: train-0.6637703674534957, val-0.4973418226367549\n",
      "95: train-0.7214771057789524, val-0.8417638885347467\n",
      "96: train-0.6581870842104157, val-0.38379933645850733\n",
      "97: train-0.7299323261611992, val-0.6218430603805342\n",
      "98: train-0.6721945751458407, val-0.7330905136309172\n",
      "99: train-0.7100657714323865, val-3.2954361752459875\n",
      "100: train-0.7096960996795032, val-1.0764951015773572\n",
      "101: train-0.6403116585065921, val-3.559578581860191\n",
      "102: train-0.7209831950358219, val-1.1320759606988806\n",
      "103: train-0.6963657237175438, val-0.5276531788863634\n",
      "104: train-0.64540427374757, val-1.04422800321328\n",
      "105: train-0.6674811695598893, val-0.4742586369577207\n",
      "106: train-0.639497738931742, val-0.7622437979045668\n",
      "107: train-0.6937215111114913, val-0.45675169009911387\n",
      "108: train-0.6154619660642412, val-0.40233801462148366\n",
      "109: train-0.6805785800640781, val-2.0065567807147375\n",
      "110: train-0.6377160356276566, val-0.29315137784732015\n",
      "111: train-0.6317550393856234, val-0.4854718007539448\n",
      "112: train-0.5931208380601473, val-0.78694853970879\n",
      "113: train-0.6955009055427379, val-0.43789267069415044\n",
      "114: train-0.6300092095302211, val-0.776141168255555\n",
      "115: train-0.6313109357323912, val-0.623790548035973\n",
      "116: train-0.629210643366807, val-1.0497180678342517\n",
      "117: train-0.6564870717003941, val-0.9986824001136579\n",
      "118: train-0.5591390109724469, val-0.6938210302277615\n",
      "119: train-0.601177673579918, val-0.3689423525019696\n",
      "120: train-0.6006639290601015, val-0.4918360216052909\n",
      "121: train-0.6344635330347551, val-1.276767871881786\n",
      "122: train-0.6360325895663764, val-1.2186706709234338\n",
      "123: train-0.6410185712286167, val-0.29626048277867467\n",
      "124: train-0.5582748724561598, val-0.3055037016931333\n",
      "125: train-0.6471175101068285, val-0.5507902793194118\n",
      "126: train-0.586857875664201, val-0.6978238648489902\n",
      "127: train-0.5961846102649967, val-0.40073662447301966\n",
      "128: train-0.5817709545708365, val-0.6279243419044896\n",
      "129: train-0.5426515821367502, val-0.5672851463681773\n",
      "130: train-0.576469244952831, val-0.31300225540211324\n",
      "131: train-0.5219496421722902, val-0.28199182529198497\n",
      "132: train-0.6259632622823119, val-0.35156538219828354\n",
      "133: train-0.5446954464539886, val-0.38030049047972025\n",
      "134: train-0.5804488241465555, val-1.0412371723275435\n",
      "135: train-0.590413340077632, val-0.3682854967681985\n",
      "136: train-0.5316388549490108, val-0.7447870765861712\n",
      "137: train-0.5570092546236184, val-0.43526944361234965\n",
      "138: train-0.5252774446167879, val-0.47612059665353673\n",
      "139: train-0.5424075997744997, val-0.2992291952434339\n",
      "140: train-0.5794574279959003, val-0.2988913686651933\n",
      "141: train-0.5179922106986244, val-0.32266668112654434\n",
      "142: train-0.5364026022454103, val-0.48641018255760793\n",
      "143: train-0.5511720013908215, val-0.5787184975649181\n",
      "144: train-0.5272428078783883, val-0.6757319177451887\n",
      "145: train-0.5178995243584116, val-0.8240244749345278\n",
      "146: train-0.55775113567296, val-0.31747956417108836\n",
      "147: train-0.4988000105238623, val-0.3740074077719136\n",
      "148: train-0.563519072222213, val-0.28343780809327174\n",
      "149: train-0.4739369579901298, val-0.8026808233637559\n",
      "150: train-0.5040964242898756, val-0.3702642117675982\n",
      "151: train-0.5166012370958925, val-1.608788998503434\n",
      "152: train-0.5145655715217193, val-0.427400130974619\n",
      "153: train-0.5074471234654386, val-0.28907356764140885\n",
      "154: train-0.5166184396379524, val-0.45438557706381144\n",
      "155: train-0.5198721379041672, val-0.4597182634629701\n",
      "156: train-0.47831250990016594, val-0.6810206849324075\n",
      "157: train-0.5067607653016846, val-0.2801024286370528\n",
      "158: train-0.5101450333371759, val-0.7934332411540183\n",
      "159: train-0.5058521525313456, val-0.8241728136413976\n",
      "160: train-0.45112699415120816, val-0.2136792748382217\n",
      "161: train-0.5269009579800897, val-0.8425515043108087\n",
      "162: train-0.4881432062428859, val-0.4156700631505565\n",
      "163: train-0.5053004389214847, val-0.339650212149871\n",
      "164: train-0.4426948354062107, val-0.4823963877401854\n",
      "165: train-0.49766387722144523, val-0.3899813357152437\n",
      "166: train-0.506320971602367, val-0.32945382281353597\n",
      "167: train-0.5032855453383591, val-0.32202074166975525\n",
      "168: train-0.4623184984135959, val-0.4553937613964081\n",
      "169: train-0.48976662719829217, val-0.41294331378058385\n",
      "170: train-0.4399624626462658, val-0.7292764704478415\n",
      "171: train-0.5074251808019148, val-0.5262688539530102\n",
      "172: train-0.4765625952846474, val-0.40584281714339004\n",
      "173: train-0.47254707113736205, val-0.606461415165349\n",
      "174: train-0.43331199580182633, val-0.601608229310889\n",
      "175: train-0.5005513303602735, val-0.28395158601434606\n",
      "176: train-0.4496345365626944, val-0.2915249451210624\n",
      "177: train-0.4603248291545444, val-0.49636368610356985\n",
      "178: train-0.4794943797091643, val-0.30005660417832825\n",
      "179: train-0.4475762445686592, val-1.6205511218623112\n",
      "180: train-0.4518865963133673, val-0.6745931239504563\n",
      "181: train-0.45201558919830453, val-0.1705613948012653\n",
      "182: train-0.4649562418460846, val-0.19562312333207382\n",
      "183: train-0.44355820982406535, val-0.4295222476909035\n",
      "184: train-0.45242237519058914, val-0.23049633910781459\n",
      "185: train-0.4497436871338222, val-0.3085635610316929\n",
      "186: train-0.43833655330042043, val-0.6557087992366991\n",
      "187: train-0.44960283036861154, val-0.536145670633567\n",
      "188: train-0.4151112489195334, val-0.36079077422618866\n",
      "189: train-0.42848421852621765, val-0.18693728392061434\n",
      "190: train-0.47011056207120416, val-0.26719830381242854\n",
      "191: train-0.43949544264210594, val-0.2772631562854114\n",
      "192: train-0.4400298913112945, val-0.40607406669541407\n",
      "193: train-0.418128116397808, val-0.41283171584731654\n",
      "194: train-0.4388219515482585, val-0.40350258664080974\n",
      "195: train-0.44261437041891943, val-0.5041046299432453\n",
      "196: train-0.43959997966885567, val-0.9502236027466623\n",
      "197: train-0.444674666515655, val-0.2670212831152113\n",
      "198: train-0.43531134292069407, val-0.958614319562912\n",
      "199: train-0.39042196036833854, val-0.4145270915407884\n",
      "200: train-0.43539131444154516, val-0.36095570733672694\n",
      "201: train-0.43656758477704394, val-0.19215868178166842\n",
      "202: train-0.4263751895787815, val-0.48292742042165054\n",
      "203: train-0.3883816279574401, val-0.1953112945744866\n",
      "204: train-0.42866739007747834, val-0.556677664581098\n",
      "205: train-0.3968475291919377, val-0.6874202215357831\n",
      "206: train-0.421825802905692, val-0.29692468752986506\n",
      "207: train-0.3916554126681553, val-0.502325678342267\n",
      "208: train-0.41304524278061255, val-0.3261334574536273\n",
      "209: train-0.4418470408353541, val-0.2542254269907349\n",
      "210: train-0.40496116934551135, val-0.2449749516029107\n",
      "211: train-0.3734267380192048, val-0.3403402025762357\n",
      "212: train-0.4233413936880728, val-0.6550280828224985\n",
      "213: train-0.3860073823688759, val-0.37218766698711797\n",
      "214: train-0.4185901732287473, val-0.5771800224718294\n",
      "215: train-0.4044944961762263, val-0.30401155901582616\n",
      "216: train-0.40149360249439875, val-0.36665832055242437\n",
      "217: train-0.4230773468501866, val-0.9661767043565449\n",
      "218: train-0.3736055028728313, val-0.41101023633229106\n",
      "219: train-0.48668691797388924, val-0.3036988299143942\n",
      "220: train-0.3387731733628445, val-0.3117025337721172\n",
      "221: train-0.4034859952516854, val-0.29267660763702896\n",
      "222: train-0.38465815355173416, val-0.3706958027262437\n",
      "223: train-0.39187880595111185, val-0.19395504931085988\n",
      "224: train-0.42551223097576035, val-0.22610191451875786\n",
      "225: train-0.38040787678004967, val-0.21945403437865407\n",
      "226: train-0.3966448961239722, val-0.3204482033064491\n",
      "227: train-0.4184354711530937, val-1.068964017064948\n",
      "228: train-0.3746433796050648, val-0.37732896444044617\n",
      "229: train-0.4275119534279737, val-0.36941828147361155\n",
      "230: train-0.38555065531076654, val-0.30856884937537343\n",
      "231: train-0.3982031947726177, val-0.2593751588934346\n",
      "232: train-0.35937688282380503, val-0.27726558007692037\n",
      "233: train-0.3869215094484389, val-0.3636476264188164\n",
      "234: train-0.34725959327899747, val-0.4072198107054359\n",
      "235: train-0.40973923889299235, val-0.32756158395817403\n",
      "236: train-0.36392336829255023, val-0.3752853784121965\n",
      "237: train-0.3499919586401019, val-0.7351804422704797\n",
      "238: train-0.3807125971342126, val-0.36685760554514435\n",
      "239: train-0.4025801069310142, val-0.39798340593513687\n",
      "240: train-0.3529149327427149, val-0.7364852506863443\n",
      "241: train-0.3628435191905333, val-0.5720275216980985\n",
      "242: train-0.3473330771860977, val-0.8386783192032262\n",
      "243: train-0.3850140437276827, val-0.2723810433557159\n",
      "244: train-0.3617635902431276, val-0.21619053733976265\n",
      "245: train-0.3538538556339012, val-0.18790635152866966\n",
      "246: train-0.37654554816997715, val-0.25342886032242523\n",
      "247: train-0.37414150428440834, val-0.44768257125427846\n",
      "248: train-0.33894628612324595, val-0.16390082867521988\n",
      "249: train-0.3594779837048716, val-0.24884633170930961\n",
      "250: train-0.3850027578572432, val-0.3477873057126999\n",
      "251: train-0.3373998972069886, val-0.4612389575493963\n",
      "252: train-0.39204164476444325, val-0.46230556070804596\n",
      "253: train-0.37567369148342145, val-0.25249941960761424\n",
      "254: train-0.3330255685891542, val-0.49959017414795726\n",
      "255: train-0.346913100220263, val-0.18500841879530958\n",
      "256: train-0.35448989626020194, val-0.22258997316423215\n",
      "257: train-0.39402234125882385, val-0.21517165632624374\n",
      "258: train-0.3058632541551358, val-0.3226824763574098\n",
      "259: train-0.3675935305861963, val-0.3967278725222537\n",
      "260: train-0.3394367870253821, val-0.42046867938418137\n",
      "261: train-0.3266356717898614, val-0.5886566607575667\n",
      "262: train-0.32152921091765163, val-0.27881752738827154\n",
      "263: train-0.3973657666395108, val-0.24802963710144946\n",
      "264: train-0.45454773378248015, val-0.20805495977401733\n",
      "265: train-0.3221279284502897, val-0.19481866493036873\n",
      "266: train-0.3125441527614991, val-0.23418503921282918\n",
      "267: train-0.38204650464985107, val-0.5066260350377936\n",
      "268: train-0.30186148227916826, val-0.5835733680348647\n",
      "269: train-0.33866491177015834, val-0.8081255429669431\n",
      "270: train-0.34261018151624334, val-0.7070535295887997\n",
      "271: train-0.34504602203766505, val-0.18278627764237554\n",
      "272: train-0.33989635547623037, val-0.49701737573272303\n",
      "273: train-0.3731501261289749, val-0.29312036460951757\n",
      "274: train-0.30617946084174846, val-0.25039502860684143\n",
      "275: train-0.3509068123996258, val-0.2661485381816563\n",
      "276: train-0.3238040781786872, val-0.38202281609961863\n",
      "277: train-0.3213471757558485, val-0.2994157405276048\n",
      "278: train-0.3252822697059148, val-0.1470687197227227\n",
      "279: train-0.3729122055694461, val-0.18564375882086\n",
      "280: train-0.29820781619184544, val-0.3794762500022587\n",
      "281: train-0.3410985095633401, val-0.21513543042697406\n",
      "282: train-0.33719785335577196, val-0.7306915207913047\n",
      "283: train-0.3105496045719418, val-0.5046878511968412\n",
      "284: train-0.3419363839965728, val-0.17889417433425\n",
      "285: train-0.3502309756870899, val-1.1036649973768937\n",
      "286: train-0.29083910506839555, val-0.18361386225411766\n",
      "287: train-0.3207368679655095, val-0.21782302699590983\n",
      "288: train-0.3760418570910891, val-0.29049259855558995\n",
      "289: train-0.33485451359301804, val-0.3005300517144956\n",
      "290: train-0.30717639880668784, val-0.25976503640413284\n",
      "291: train-0.3135502342962556, val-0.26581368516934545\n",
      "292: train-0.35929946754541664, val-0.293473808388961\n",
      "293: train-0.285242878831923, val-0.31353771372845296\n",
      "294: train-0.3250828811691867, val-0.1272017291109813\n",
      "295: train-0.3008011433192425, val-0.28221872135212545\n",
      "296: train-0.32736653711439834, val-0.38442314925946686\n",
      "297: train-0.30662908347116574, val-0.1888047695944184\n",
      "298: train-0.33574855795337094, val-0.2370300802745317\n",
      "299: train-0.2932797685989903, val-0.25686978901687424\n",
      "300: train-0.3148969634539551, val-0.2362128778507835\n"
     ]
    }
   ],
   "source": [
    "# record the weights with no training\n",
    "# with torch.no_grad():\n",
    "#     previous_weights_epoch = weights_1d(model)\n",
    "\n",
    "# Training loop\n",
    "for epoch in range(1, n_epochs + 1):\n",
    "    model.train()  # Set the model to training mode\n",
    "    total_loss = 0.0\n",
    "\n",
    "    for inputs, labels in train_loader:\n",
    "        inputs, labels = inputs.to(device), labels.to(device)\n",
    "        optimizer.zero_grad()  # Zero the gradients\n",
    "        outputs = model(inputs)  # Forward pass\n",
    "        loss = loss_fn(outputs, labels)  # Calculate the loss\n",
    "        loss.backward()  # Backward pass\n",
    "        optimizer.step()  # Update weights\n",
    "\n",
    "        # record the weights changes across each updates (batches)\n",
    "        # with torch.no_grad():\n",
    "        #     current_weights = weights_1d(model)\n",
    "        #     if 'previous_weights' in locals():\n",
    "        #         weight_change = torch.norm(current_weights - previous_weights).item()#.cpu()\n",
    "        #         weights_change_updates = np.append(weights_change_updates, weight_change)\n",
    "        #     previous_weights = current_weights\n",
    "\n",
    "        total_loss += loss.item()\n",
    "\n",
    "    # Average training loss for the epoch\n",
    "    avg_train_loss = total_loss / len(train_loader)\n",
    "    train_losses.append(avg_train_loss)\n",
    "\n",
    "    # Validation loop\n",
    "    model.eval()  # Set the model to evaluation mode\n",
    "    total_val_loss = 0.0\n",
    "\n",
    "    with torch.no_grad():  # Disable gradient calculation during validation\n",
    "        # record the weights change across epochs\n",
    "        # current_weights_epoch = weights_1d(model)\n",
    "        # if 'previous_weights_epoch' in locals():\n",
    "        #     weight_change_epoch = torch.norm(current_weights_epoch - previous_weights_epoch).item()#.cpu()\n",
    "        #     weights_change_epochs.append(weight_change_epoch)\n",
    "        # previous_weights_epoch = current_weights_epoch\n",
    "\n",
    "        # validation\n",
    "        for val_inputs, val_labels in val_loader:\n",
    "            val_inputs, val_labels = val_inputs.to(device), val_labels.to(device)\n",
    "            val_outputs = model(val_inputs)\n",
    "            val_loss = loss_fn(val_outputs, val_labels)\n",
    "            total_val_loss += val_loss.item()\n",
    "\n",
    "    # Average validation loss for the epoch\n",
    "    avg_val_loss = total_val_loss / len(val_loader)\n",
    "    val_losses.append(avg_val_loss)\n",
    "\n",
    "    print(f'{epoch}: train-{avg_train_loss}, val-{avg_val_loss}')\n",
    "\n",
    "    # saving the model with best training mse\n",
    "    # if len(train_losses) != 1:\n",
    "    #     if avg_train_loss < train_losses[-2]: \n",
    "    #         best_loss = avg_train_loss\n",
    "    #         best_epoch = epoch\n",
    "    #         model_path = checkpoint(model, f\"model_{unique_id}.pth\")\n",
    "    if avg_val_loss < best_validation_loss:\n",
    "        best_epoch = epoch\n",
    "        model_path = checkpoint(model, f\"model_{unique_id}.pth\")\n",
    "        best_training_loss = avg_train_loss\n",
    "        best_validation_loss = avg_val_loss"
   ]
  },
  {
   "cell_type": "code",
   "execution_count": 14,
   "metadata": {},
   "outputs": [],
   "source": [
    "# record training, validationg losses, weight updates, and the result model path\n",
    "history_dict['best_epoch'] = best_epoch\n",
    "history_dict['best_val'] = best_validation_loss\n",
    "history_dict['best_train'] = best_training_loss\n",
    "history_dict['training'] = train_losses\n",
    "history_dict['validation'] = val_losses\n",
    "history_dict['weights'] = weights_change_epochs\n",
    "history_dict['model'] = model_path"
   ]
  },
  {
   "cell_type": "code",
   "execution_count": 17,
   "metadata": {},
   "outputs": [],
   "source": [
    "def experiment_records(row_data, file_path = 'experiment records.csv'): \n",
    "    '''\n",
    "    row_data is a dictionary of the row_data we want to store\n",
    "    '''\n",
    "    # Check if the file exists\n",
    "    file_exists = os.path.isfile(file_path)\n",
    "\n",
    "    with open(file_path, mode='a' if file_exists else 'w', newline='') as csv_file:\n",
    "        # Create a CSV writer object\n",
    "        csv_writer = csv.writer(csv_file)\n",
    "\n",
    "        # If the file is newly created, write the header row\n",
    "        if not file_exists:\n",
    "            header_row = row_data.keys() if isinstance(row_data, dict) else row_data\n",
    "            csv_writer.writerow(header_row)\n",
    "\n",
    "        # Write the data row\n",
    "        if isinstance(row_data, dict):\n",
    "            csv_writer.writerow(row_data.values())\n",
    "        else:\n",
    "            csv_writer.writerow(row_data)"
   ]
  },
  {
   "cell_type": "code",
   "execution_count": 18,
   "metadata": {},
   "outputs": [],
   "source": [
    "experiment_records(history_dict)"
   ]
  },
  {
   "cell_type": "code",
   "execution_count": 19,
   "metadata": {},
   "outputs": [
    {
     "name": "stdout",
     "output_type": "stream",
     "text": [
      "Best validation loss: 0.1272017291109813, at epoch: 294\n",
      "Number of total training samples:  737200\n"
     ]
    }
   ],
   "source": [
    "print(f\"Best validation loss: {best_validation_loss}, at epoch: {best_epoch}\")\n",
    "#print(\"RMSE: %.2f\" % np.sqrt(best_mse))\n",
    "print('Number of total training samples: ', X_train.shape[0])"
   ]
  },
  {
   "cell_type": "code",
   "execution_count": 23,
   "metadata": {},
   "outputs": [
    {
     "data": {
      "text/plain": [
       "(0.0, 2.0)"
      ]
     },
     "execution_count": 23,
     "metadata": {},
     "output_type": "execute_result"
    },
    {
     "data": {
      "image/png": "[encoded data removed]",
      "text/plain": [
       "<Figure size 640x480 with 1 Axes>"
      ]
     },
     "metadata": {},
     "output_type": "display_data"
    }
   ],
   "source": [
    "plt.plot(train_losses, label='train_history')\n",
    "plt.plot(val_losses, label = 'val_history')\n",
    "plt.legend()\n",
    "plt.ylim(0, 2)"
   ]
  },
  {
   "cell_type": "code",
   "execution_count": 20,
   "metadata": {},
   "outputs": [
    {
     "data": {
      "image/png": "[encoded data removed]",
      "text/plain": [
       "<Figure size 640x480 with 1 Axes>"
      ]
     },
     "metadata": {},
     "output_type": "display_data"
    }
   ],
   "source": [
    "os.makedirs('train_figures', exist_ok=True)\n",
    "plt.figure()  # Create a new figure\n",
    "plt.plot(train_losses, label='train_history')\n",
    "#plt.plot(train_loss_history, label='train_history')\n",
    "plt.plot(val_losses, label = 'val_history')\n",
    "plt.legend()\n",
    "#plt.ylim(100, 300)\n",
    "#plt.xlim(0,10)\n",
    "plt.savefig(f'train_figures/{unique_id}.png')\n",
    "\n",
    "# os.makedirs('weights_figures', exist_ok=True)\n",
    "# plt.figure()  # Create a new figure\n",
    "# plt.plot(weights_change_updates, label = 'norm_weights_diff') \n",
    "# plt.xlabel('Epoch')\n",
    "# plt.ylabel('Norm of diff in model weights across batch updates')\n",
    "# plt.legend()\n",
    "# plt.savefig(f'weights_figures/updates {unique_id}.png')\n",
    "\n",
    "# plt.figure()  # Create a new figure\n",
    "# plt.plot(weights_change_epochs, label = 'norm_weights_diff') \n",
    "# plt.xlabel('Epoch')\n",
    "# plt.ylabel('Norm of diff in model weights across epochs')\n",
    "# plt.legend()\n",
    "# plt.savefig(f'weights_figures/epochs {unique_id}.png')\n",
    "\n",
    "# print(train_losses)\n",
    "# print(weights_change_epochs)"
   ]
  },
  {
   "cell_type": "code",
   "execution_count": null,
   "metadata": {},
   "outputs": [],
   "source": []
  },
  {
   "cell_type": "code",
   "execution_count": null,
   "metadata": {},
   "outputs": [],
   "source": []
  },
  {
   "cell_type": "markdown",
   "metadata": {},
   "source": [
    "Test the model"
   ]
  },
  {
   "cell_type": "code",
   "execution_count": 27,
   "metadata": {
    "scrolled": true
   },
   "outputs": [
    {
     "data": {
      "text/plain": [
       "MLP(\n",
       "  (layers): Sequential(\n",
       "    (0): Linear(in_features=429, out_features=512, bias=True)\n",
       "    (1): SiLU()\n",
       "    (2): Linear(in_features=512, out_features=512, bias=True)\n",
       "    (3): SiLU()\n",
       "    (4): Linear(in_features=512, out_features=7, bias=True)\n",
       "  )\n",
       ")"
      ]
     },
     "execution_count": 27,
     "metadata": {},
     "output_type": "execute_result"
    }
   ],
   "source": [
    "resume(model, f'models/model_{unique_id}.pth')\n",
    "model.cpu()"
   ]
  },
  {
   "cell_type": "code",
   "execution_count": 39,
   "metadata": {},
   "outputs": [
    {
     "data": {
      "text/plain": [
       "(tensor([  0.9303, 137.5029, -63.6215,   0.8221,  22.4191,   0.5264, -14.9443]),\n",
       " tensor([  1.0000, 137.7803, -63.5929,   0.8495,  22.3191,   0.4920, -14.9882]))"
      ]
     },
     "execution_count": 39,
     "metadata": {},
     "output_type": "execute_result"
    }
   ],
   "source": [
    "test_sample = 13407\n",
    "model(X_val[test_sample]).detach(), Y_val[test_sample]"
   ]
  },
  {
   "cell_type": "code",
   "execution_count": 51,
   "metadata": {},
   "outputs": [
    {
     "data": {
      "text/plain": [
       "1696700"
      ]
     },
     "execution_count": 51,
     "metadata": {},
     "output_type": "execute_result"
    }
   ],
   "source": [
    "X_train.shape[0]"
   ]
  },
  {
   "cell_type": "code",
   "execution_count": null,
   "metadata": {},
   "outputs": [],
   "source": []
  },
  {
   "cell_type": "code",
   "execution_count": null,
   "metadata": {},
   "outputs": [],
   "source": []
  },
  {
   "cell_type": "code",
   "execution_count": 29,
   "metadata": {},
   "outputs": [
    {
     "data": {
      "text/html": [
       "<div>\n",
       "<style scoped>\n",
       "    .dataframe tbody tr th:only-of-type {\n",
       "        vertical-align: middle;\n",
       "    }\n",
       "\n",
       "    .dataframe tbody tr th {\n",
       "        vertical-align: top;\n",
       "    }\n",
       "\n",
       "    .dataframe thead th {\n",
       "        text-align: right;\n",
       "    }\n",
       "</style>\n",
       "<table border=\"1\" class=\"dataframe\">\n",
       "  <thead>\n",
       "    <tr style=\"text-align: right;\">\n",
       "      <th></th>\n",
       "      <th>unique_id</th>\n",
       "      <th>seed</th>\n",
       "      <th>normalize_mean</th>\n",
       "      <th>normalize_std</th>\n",
       "      <th>dataset</th>\n",
       "      <th>architecture</th>\n",
       "      <th>optimizer</th>\n",
       "      <th>epochs</th>\n",
       "      <th>batch size</th>\n",
       "      <th>best_epoch</th>\n",
       "      <th>best_val</th>\n",
       "      <th>best_train</th>\n",
       "      <th>training</th>\n",
       "      <th>validation</th>\n",
       "      <th>weights</th>\n",
       "      <th>model</th>\n",
       "    </tr>\n",
       "  </thead>\n",
       "  <tbody>\n",
       "    <tr>\n",
       "      <th>0</th>\n",
       "      <td>45c4bad6</td>\n",
       "      <td>42</td>\n",
       "      <td>[0.008891306817531586, 0.013731910847127438, 0...</td>\n",
       "      <td>[0.012370031327009201, 0.016995912417769432, 0...</td>\n",
       "      <td>torch.Size([1786000, 429])</td>\n",
       "      <td>[Sequential(\\n  (0): Linear(in_features=429, o...</td>\n",
       "      <td>Adam 0.001</td>\n",
       "      <td>300</td>\n",
       "      <td>1024</td>\n",
       "      <td>258</td>\n",
       "      <td>0.029846</td>\n",
       "      <td>0.080799</td>\n",
       "      <td>[31.792827115982647, 2.3219674535378965, 1.444...</td>\n",
       "      <td>[8.479385934092782, 0.9476684358986941, 0.5425...</td>\n",
       "      <td>[]</td>\n",
       "      <td>models/model_45c4bad6.pth</td>\n",
       "    </tr>\n",
       "    <tr>\n",
       "      <th>1</th>\n",
       "      <td>b292ea70</td>\n",
       "      <td>42</td>\n",
       "      <td>[0.008891306817531586, 0.013731910847127438, 0...</td>\n",
       "      <td>[0.012370031327009201, 0.016995912417769432, 0...</td>\n",
       "      <td>(1786000, 429)</td>\n",
       "      <td>[Sequential(\\n  (0): Linear(in_features=429, o...</td>\n",
       "      <td>Adam 0.001</td>\n",
       "      <td>300</td>\n",
       "      <td>1024</td>\n",
       "      <td>230</td>\n",
       "      <td>0.025296</td>\n",
       "      <td>0.070175</td>\n",
       "      <td>[43.09805644616062, 3.1102608075398024, 1.6109...</td>\n",
       "      <td>[6.09941353039308, 2.2470590323209763, 1.44377...</td>\n",
       "      <td>[]</td>\n",
       "      <td>models/model_b292ea70.pth</td>\n",
       "    </tr>\n",
       "  </tbody>\n",
       "</table>\n",
       "</div>"
      ],
      "text/plain": [
       "  unique_id  seed                                     normalize_mean  \\\n",
       "0  45c4bad6    42  [0.008891306817531586, 0.013731910847127438, 0...   \n",
       "1  b292ea70    42  [0.008891306817531586, 0.013731910847127438, 0...   \n",
       "\n",
       "                                       normalize_std  \\\n",
       "0  [0.012370031327009201, 0.016995912417769432, 0...   \n",
       "1  [0.012370031327009201, 0.016995912417769432, 0...   \n",
       "\n",
       "                      dataset  \\\n",
       "0  torch.Size([1786000, 429])   \n",
       "1              (1786000, 429)   \n",
       "\n",
       "                                        architecture   optimizer  epochs  \\\n",
       "0  [Sequential(\\n  (0): Linear(in_features=429, o...  Adam 0.001     300   \n",
       "1  [Sequential(\\n  (0): Linear(in_features=429, o...  Adam 0.001     300   \n",
       "\n",
       "   batch size  best_epoch  best_val  best_train  \\\n",
       "0        1024         258  0.029846    0.080799   \n",
       "1        1024         230  0.025296    0.070175   \n",
       "\n",
       "                                            training  \\\n",
       "0  [31.792827115982647, 2.3219674535378965, 1.444...   \n",
       "1  [43.09805644616062, 3.1102608075398024, 1.6109...   \n",
       "\n",
       "                                          validation weights  \\\n",
       "0  [8.479385934092782, 0.9476684358986941, 0.5425...      []   \n",
       "1  [6.09941353039308, 2.2470590323209763, 1.44377...      []   \n",
       "\n",
       "                       model  \n",
       "0  models/model_45c4bad6.pth  \n",
       "1  models/model_b292ea70.pth  "
      ]
     },
     "execution_count": 29,
     "metadata": {},
     "output_type": "execute_result"
    }
   ],
   "source": [
    "import pandas as pd\n",
    "\n",
    "# Read the CSV file into a DataFrame\n",
    "df = pd.read_csv('experiment records.csv')\n",
    "\n",
    "df"
   ]
  },
  {
   "cell_type": "code",
   "execution_count": null,
   "metadata": {},
   "outputs": [],
   "source": []
  }
 ],
 "metadata": {
  "kernelspec": {
   "display_name": "Python 3 (ipykernel)",
   "language": "python",
   "name": "python3"
  },
  "language_info": {
   "codemirror_mode": {
    "name": "ipython",
    "version": 3
   },
   "file_extension": ".py",
   "mimetype": "text/x-python",
   "name": "python",
   "nbconvert_exporter": "python",
   "pygments_lexer": "ipython3",
   "version": "3.10.2"
  }
 },
 "nbformat": 4,
 "nbformat_minor": 4
}
