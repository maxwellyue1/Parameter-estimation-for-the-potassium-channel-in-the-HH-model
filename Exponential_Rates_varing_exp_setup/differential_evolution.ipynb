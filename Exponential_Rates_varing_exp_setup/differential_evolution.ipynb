{
 "cells": [
  {
   "cell_type": "markdown",
   "id": "dd1c7b47-4baa-45b3-9d66-3276c462b065",
   "metadata": {},
   "source": [
    "#### Define the objective function"
   ]
  },
  {
   "cell_type": "code",
   "execution_count": null,
   "id": "d47f36f2",
   "metadata": {},
   "outputs": [],
   "source": [
    "from exp_hh_model import HH_model_exp\n"
   ]
  },
  {
   "cell_type": "code",
   "execution_count": null,
   "id": "112d2ece-c7f9-4b12-9a1b-9eafaa234146",
   "metadata": {},
   "outputs": [],
   "source": [
    "def obj(x, *args): \n",
    "    '''\n",
    "    x: a 1-D array of the variables for the obj function (the parameters we are estimating)\n",
    "    arge: a tupleo f additional fixed parameters (prestep_V, step_V0, ...)\n",
    "    '''\n",
    "    "
   ]
  }
 ],
 "metadata": {
  "kernelspec": {
   "display_name": "Python 3 (ipykernel)",
   "language": "python",
   "name": "python3"
  },
  "language_info": {
   "codemirror_mode": {
    "name": "ipython",
    "version": 3
   },
   "file_extension": ".py",
   "mimetype": "text/x-python",
   "name": "python",
   "nbconvert_exporter": "python",
   "pygments_lexer": "ipython3",
   "version": "3.10.9"
  }
 },
 "nbformat": 4,
 "nbformat_minor": 5
}
