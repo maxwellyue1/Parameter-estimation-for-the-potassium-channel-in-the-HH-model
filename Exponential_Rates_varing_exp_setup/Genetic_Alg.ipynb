{
 "cells": [
  {
   "cell_type": "code",
   "execution_count": 2,
   "id": "dd1c7b47-4baa-45b3-9d66-3276c462b065",
   "metadata": {},
   "outputs": [
    {
     "ename": "IndentationError",
     "evalue": "expected an indented block after 'for' statement on line 11 (2160760904.py, line 12)",
     "output_type": "error",
     "traceback": [
      "\u001b[0;36m  Cell \u001b[0;32mIn[2], line 12\u001b[0;36m\u001b[0m\n\u001b[0;31m    for j in range(popsize):\u001b[0m\n\u001b[0m    ^\u001b[0m\n\u001b[0;31mIndentationError\u001b[0m\u001b[0;31m:\u001b[0m expected an indented block after 'for' statement on line 11\n"
     ]
    }
   ],
   "source": [
    "import numpy as np\n",
    "def de(fobj, bounds, mut=0.8, crossp=0.7, popsize=20, its=1000):\n",
    "    dimensions = len(bounds)\n",
    "    pop = np.random.rand(popsize, dimensions)\n",
    "    min_b, max_b = np.asarray(bounds).T\n",
    "    diff = np.fabs(min_b - max_b)\n",
    "    pop_denorm = min_b + pop * diff\n",
    "    fitness = np.asarray([fobj(ind) for ind in pop_denorm])\n",
    "    best_idx = np.argmin(fitness)\n",
    "    best = pop_denorm[best_idx]\n",
    "    for i in range(its):\n",
    "    for j in range(popsize):\n",
    "    idxs = [idx for idx in range(popsize) if idx != j]\n",
    "    a, b, c = pop[np.random.choice(idxs, 3, replace = False)]\n",
    "    mutant = np.clip(a + mut * (b - c), 0, 1)\n",
    "    cross_points = np.random.rand(dimensions) < crossp\n",
    "    if not np.any(cross_points):\n",
    "    cross_points[np.random.randint(0, dimensions)] = True\n",
    "    trial = np.where(cross_points, mutant, pop[j])\n",
    "    trial_denorm = min_b + trial * diff\n",
    "    f = fobj(trial_denorm)\n",
    "    if f < fitness[j]:\n",
    "    fitness[j] = f\n",
    "    pop[j] = trial\n",
    "    if f < fitness[best_idx]:\n",
    "    best_idx = j\n",
    "    best = trial_denorm\n",
    "    yield best, fitness[best_idx]"
   ]
  },
  {
   "cell_type": "code",
   "execution_count": null,
   "id": "112d2ece-c7f9-4b12-9a1b-9eafaa234146",
   "metadata": {},
   "outputs": [],
   "source": []
  }
 ],
 "metadata": {
  "kernelspec": {
   "display_name": "Python 3 (ipykernel)",
   "language": "python",
   "name": "python3"
  },
  "language_info": {
   "codemirror_mode": {
    "name": "ipython",
    "version": 3
   },
   "file_extension": ".py",
   "mimetype": "text/x-python",
   "name": "python",
   "nbconvert_exporter": "python",
   "pygments_lexer": "ipython3",
   "version": "3.10.2"
  }
 },
 "nbformat": 4,
 "nbformat_minor": 5
}
