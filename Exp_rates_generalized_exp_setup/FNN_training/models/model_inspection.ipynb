{
 "cells": [
  {
   "cell_type": "code",
   "execution_count": 3,
   "metadata": {},
   "outputs": [],
   "source": [
    "import torch\n",
    "import csv\n",
    "import os\n",
    "import random\n",
    "import numpy as np\n",
    "from torch.utils.data import TensorDataset, DataLoader, random_split\n",
    "import pandas as pd\n",
    "import sys  # Import the sys module\n",
    "import torch.nn as nn\n",
    "import torch.optim as optim\n",
    "import matplotlib.pyplot as plt\n",
    "import uuid\n",
    "import itertools\n",
    "import torch.nn as nn\n",
    "import torch.nn.init as init\n",
    "\n",
    "sys.path.append('../..')\n",
    "from dataset_reader import Traces_Dataset"
   ]
  },
  {
   "cell_type": "code",
   "execution_count": 5,
   "metadata": {},
   "outputs": [
    {
     "ename": "NameError",
     "evalue": "name 'traces_train' is not defined",
     "output_type": "error",
     "traceback": [
      "\u001b[0;31m---------------------------------------------------------------------------\u001b[0m",
      "\u001b[0;31mNameError\u001b[0m                                 Traceback (most recent call last)",
      "Cell \u001b[0;32mIn[5], line 9\u001b[0m\n\u001b[1;32m      3\u001b[0m     \u001b[38;5;124;03m'''\u001b[39;00m\n\u001b[1;32m      4\u001b[0m \u001b[38;5;124;03m    adding a dim to dataset, default = 2, so theres one channel for time, one for current\u001b[39;00m\n\u001b[1;32m      5\u001b[0m \u001b[38;5;124;03m    '''\u001b[39;00m\n\u001b[1;32m      6\u001b[0m     \u001b[38;5;28;01mreturn\u001b[39;00m inputs\u001b[38;5;241m.\u001b[39mreshape(\u001b[38;5;241m-\u001b[39m\u001b[38;5;241m1\u001b[39m, n_traces, n_points)\u001b[38;5;241m.\u001b[39mtranspose(\u001b[38;5;241m1\u001b[39m,\u001b[38;5;241m2\u001b[39m)\n\u001b[0;32m----> 9\u001b[0m traces_train_transformed \u001b[38;5;241m=\u001b[39m rnn_add_dim(\u001b[43mtraces_train\u001b[49m)\n\u001b[1;32m     10\u001b[0m traces_val_transformed \u001b[38;5;241m=\u001b[39m rnn_add_dim(traces_val)\n\u001b[1;32m     11\u001b[0m traces_train_transformed\u001b[38;5;241m.\u001b[39mshape, traces_val_transformed\u001b[38;5;241m.\u001b[39mshape\n",
      "\u001b[0;31mNameError\u001b[0m: name 'traces_train' is not defined"
     ]
    }
   ],
   "source": [
    "# load model RNN parameters\n",
    "def rnn_add_dim(inputs, n_points=20, n_traces=16): \n",
    "    '''\n",
    "    adding a dim to dataset, default = 2, so theres one channel for time, one for current\n",
    "    '''\n",
    "    return inputs.reshape(-1, n_traces, n_points).transpose(1,2)\n",
    "\n",
    "\n",
    "traces_train_transformed = rnn_add_dim(traces_train)\n",
    "traces_val_transformed = rnn_add_dim(traces_val)\n",
    "traces_train_transformed.shape, traces_val_transformed.shape"
   ]
  },
  {
   "cell_type": "code",
   "execution_count": 6,
   "metadata": {},
   "outputs": [],
   "source": [
    "class simple_RNN_Model(nn.Module):\n",
    "    def __init__(self, input_size, hidden_size, num_layers, mlp_hidden_size, output_size):\n",
    "        super(simple_RNN_Model, self).__init__()\n",
    "        \n",
    "        # Define the RNN layer (LSTM in this case)\n",
    "        self.rnn = nn.LSTM(input_size, hidden_size, num_layers, batch_first=True)\n",
    "        \n",
    "        # Define the MLP layers\n",
    "        self.mlp = nn.Sequential(\n",
    "            nn.Linear(hidden_size + 9, mlp_hidden_size),\n",
    "            nn.SiLU(),\n",
    "            nn.Linear(mlp_hidden_size, output_size)\n",
    "        )\n",
    "        \n",
    "    def forward(self, x):\n",
    "        x_setup = x[:, :9]\n",
    "        x_traces = x[:, 9:]\n",
    "        # print(x_setup.shape, x_traces.shape)\n",
    "\n",
    "        # Forward pass through the RNN layer\n",
    "        _, (h_n, _) = self.rnn(rnn_add_dim(x_traces,20,16))\n",
    "        # print(rnn_add_dim(x_traces,20,16).shape)\n",
    "        # Extract the hidden state from the last time step\n",
    "        rnn_output = h_n[-1]\n",
    "        \n",
    "        # Forward pass through the MLP layers\n",
    "        # print(torch.cat((x_setup, rnn_output), dim=1).shape)\n",
    "        output = self.mlp(torch.cat((x_setup, rnn_output), dim=1))\n",
    "        \n",
    "        return output\n",
    "\n",
    "    def initialize_weights(self):\n",
    "        for name, param in self.named_parameters():\n",
    "            if 'weight' in name:\n",
    "                nn.init.xavier_uniform_(param)\n",
    "            elif 'bias' in name:\n",
    "                nn.init.zeros_(param)"
   ]
  },
  {
   "cell_type": "code",
   "execution_count": null,
   "metadata": {},
   "outputs": [],
   "source": []
  }
 ],
 "metadata": {
  "kernelspec": {
   "display_name": "base",
   "language": "python",
   "name": "python3"
  },
  "language_info": {
   "codemirror_mode": {
    "name": "ipython",
    "version": 3
   },
   "file_extension": ".py",
   "mimetype": "text/x-python",
   "name": "python",
   "nbconvert_exporter": "python",
   "pygments_lexer": "ipython3",
   "version": "3.10.9"
  }
 },
 "nbformat": 4,
 "nbformat_minor": 2
}
