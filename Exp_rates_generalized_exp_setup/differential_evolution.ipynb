{
 "cells": [
  {
   "cell_type": "markdown",
   "id": "dd1c7b47-4baa-45b3-9d66-3276c462b065",
   "metadata": {},
   "source": [
    "#### Dependencies"
   ]
  },
  {
   "cell_type": "code",
   "execution_count": 1,
   "id": "a042cda2",
   "metadata": {},
   "outputs": [],
   "source": [
    "from dataset_reader import Traces_Dataset\n",
    "from DE_obj_model import de_obj_model   \n",
    "from exp_hh_model import HH_model_exp\n",
    "import numpy as np\n",
    "import matplotlib.pyplot as plt"
   ]
  },
  {
   "cell_type": "markdown",
   "id": "35fa76a5",
   "metadata": {},
   "source": [
    "#### Read test dataset"
   ]
  },
  {
   "cell_type": "code",
   "execution_count": 2,
   "id": "52536dd9",
   "metadata": {},
   "outputs": [],
   "source": [
    "dataset = Traces_Dataset('dataset_test.csv')\n",
    "\n",
    "sample = 1\n",
    "params = dataset.params.numpy()\n",
    "current_traces = dataset.current_traces.numpy()\n",
    "time_traces = dataset.time_traces.numpy()\n",
    "\n",
    "prestep_V_2d = dataset.prestep_V[sample].numpy().reshape(-1,1)\n",
    "step_Vs_2d = dataset.step_Vs[sample].numpy().reshape(-1,1)\n",
    "t = time_traces[sample]\n",
    "# target_traces = current_traces[sample]\n",
    "target_params = params[sample]"
   ]
  },
  {
   "cell_type": "code",
   "execution_count": 3,
   "id": "d47f36f2",
   "metadata": {},
   "outputs": [],
   "source": [
    "# sim setup for obj evaluation model\n",
    "sim_setup_2d = {'prestep_V': prestep_V_2d, 'step_Vs': step_Vs_2d, 't': t}\n",
    "\n",
    "# model = de_obj_model(target_params, sim_setup_2d)"
   ]
  },
  {
   "cell_type": "code",
   "execution_count": 27,
   "id": "1dc1bc0b",
   "metadata": {},
   "outputs": [],
   "source": [
    "# sim_traces = model.simulation()\n",
    "# sim_traces.shape"
   ]
  },
  {
   "cell_type": "markdown",
   "id": "cf41fc1f",
   "metadata": {
    "jp-MarkdownHeadingCollapsed": true
   },
   "source": [
    "#### Plotting function for trail, target, and real data"
   ]
  },
  {
   "cell_type": "code",
   "execution_count": 6,
   "id": "40d5d364",
   "metadata": {},
   "outputs": [],
   "source": [
    "def plot_trail_target_real(sim_setup_1d, t, sim_traces, target_traces, target_params): \n",
    "    '''\n",
    "    sim_setup_1d is the exp setup for hh model, all default as in hh class\n",
    "    t is the target time traces from generated dataset\n",
    "    sim_traces is the generated during searching stage\n",
    "    target_traces is the target current traces from the generated dataset\n",
    "    target_params is the target params from the generated dataset, dict\n",
    "    '''\n",
    "    # compare samples and simulations using sample params\n",
    "    hh_model = HH_model_exp(target_params, sim_setup_1d)\n",
    "    current_traces_sim = hh_model.simulation()\n",
    "\n",
    "    colors = ['blue', 'red', 'green', 'purple', 'orange', 'yellow', 'cyan', 'magenta', 'brown', 'gray', 'black']\n",
    "\n",
    "    for step in range(t.shape[0]): \n",
    "        plt.plot(t[step], sim_traces[step], linestyle='-', color=colors[step])\n",
    "        plt.plot(t[step], target_traces[step], linestyle=':', color=colors[step])\n",
    "        plt.plot(sim_setup_1d['t'], current_traces_sim[step], linestyle='--', color=colors[step])\n",
    "    plt.legend()\n",
    "    plt.title(f\"prestep_V: {sim_setup_1d['prestep_V']}; step_V1: {sim_setup_1d['step_Vs'][0]}\")\n"
   ]
  },
  {
   "cell_type": "code",
   "execution_count": 7,
   "id": "bdbc1a6a",
   "metadata": {},
   "outputs": [
    {
     "ename": "NameError",
     "evalue": "name 'sim_traces' is not defined",
     "output_type": "error",
     "traceback": [
      "\u001b[0;31m---------------------------------------------------------------------------\u001b[0m",
      "\u001b[0;31mNameError\u001b[0m                                 Traceback (most recent call last)",
      "Cell \u001b[0;32mIn[7], line 4\u001b[0m\n\u001b[1;32m      2\u001b[0m sim_setup_1d \u001b[38;5;241m=\u001b[39m {\u001b[38;5;124m'\u001b[39m\u001b[38;5;124mprestep_V\u001b[39m\u001b[38;5;124m'\u001b[39m: np\u001b[38;5;241m.\u001b[39msqueeze(prestep_V_2d), \u001b[38;5;124m'\u001b[39m\u001b[38;5;124mstep_Vs\u001b[39m\u001b[38;5;124m'\u001b[39m: np\u001b[38;5;241m.\u001b[39msqueeze(step_Vs_2d), \u001b[38;5;124m'\u001b[39m\u001b[38;5;124mt\u001b[39m\u001b[38;5;124m'\u001b[39m: np\u001b[38;5;241m.\u001b[39marange(\u001b[38;5;241m0.0\u001b[39m, \u001b[38;5;241m6.0\u001b[39m, \u001b[38;5;241m0.01\u001b[39m)}\n\u001b[1;32m      3\u001b[0m target_params_dict \u001b[38;5;241m=\u001b[39m {\u001b[38;5;124m'\u001b[39m\u001b[38;5;124mp\u001b[39m\u001b[38;5;124m'\u001b[39m: target_params[\u001b[38;5;241m0\u001b[39m], \u001b[38;5;124m'\u001b[39m\u001b[38;5;124mg_max\u001b[39m\u001b[38;5;124m'\u001b[39m: target_params[\u001b[38;5;241m1\u001b[39m], \u001b[38;5;124m'\u001b[39m\u001b[38;5;124mE_rev\u001b[39m\u001b[38;5;124m'\u001b[39m: target_params[\u001b[38;5;241m2\u001b[39m], \u001b[38;5;124m'\u001b[39m\u001b[38;5;124ma_m\u001b[39m\u001b[38;5;124m'\u001b[39m: target_params[\u001b[38;5;241m3\u001b[39m], \u001b[38;5;124m'\u001b[39m\u001b[38;5;124mb_m\u001b[39m\u001b[38;5;124m'\u001b[39m: target_params[\u001b[38;5;241m4\u001b[39m], \u001b[38;5;124m'\u001b[39m\u001b[38;5;124mdelta_m\u001b[39m\u001b[38;5;124m'\u001b[39m: target_params[\u001b[38;5;241m5\u001b[39m], \u001b[38;5;124m'\u001b[39m\u001b[38;5;124ms_m\u001b[39m\u001b[38;5;124m'\u001b[39m: target_params[\u001b[38;5;241m6\u001b[39m]}\n\u001b[0;32m----> 4\u001b[0m plot_trail_target_real(sim_setup_1d, t, \u001b[43msim_traces\u001b[49m, target_traces, target_params_dict)\n",
      "\u001b[0;31mNameError\u001b[0m: name 'sim_traces' is not defined"
     ]
    }
   ],
   "source": [
    "# sim setup for plotting real data\n",
    "sim_setup_1d = {'prestep_V': np.squeeze(prestep_V_2d), 'step_Vs': np.squeeze(step_Vs_2d), 't': np.arange(0.0, 6.0, 0.01)}\n",
    "target_params_dict = {'p': target_params[0], 'g_max': target_params[1], 'E_rev': target_params[2], 'a_m': target_params[3], 'b_m': target_params[4], 'delta_m': target_params[5], 's_m': target_params[6]}\n",
    "plot_trail_target_real(sim_setup_1d, t, sim_traces, target_traces, target_params_dict)"
   ]
  },
  {
   "cell_type": "markdown",
   "id": "82a43a41",
   "metadata": {},
   "source": [
    "#### Define obj function"
   ]
  },
  {
   "cell_type": "code",
   "execution_count": 4,
   "id": "112d2ece-c7f9-4b12-9a1b-9eafaa234146",
   "metadata": {},
   "outputs": [],
   "source": [
    "def obj(x, *args): \n",
    "    '''\n",
    "    x: a 1-D array of the variables for the obj function (the parameters we are estimating)\n",
    "    args: a tupleo f additional fixed parameters (prestep_V, step_V0, time_traces)\n",
    "    *args=(sim_setup_2d, target_params)\n",
    "    '''\n",
    "    trail_model = de_obj_model(x, args[0])\n",
    "    trail_traces = trail_model.simulation()\n",
    "    # print(trail_traces[1])\n",
    "    target_model = de_obj_model(args[1], args[0])\n",
    "    target_traces = target_model.simulation()\n",
    "    # print(target_traces[1]) \n",
    "    \n",
    "    return np.sum(np.square(trail_traces - target_traces))\n"
   ]
  },
  {
   "cell_type": "code",
   "execution_count": 5,
   "id": "7a64bec5",
   "metadata": {},
   "outputs": [
    {
     "name": "stdout",
     "output_type": "stream",
     "text": [
      "0.0\n"
     ]
    }
   ],
   "source": [
    "fitness = obj(params[sample], *(sim_setup_2d, target_params))\n",
    "print(fitness)"
   ]
  },
  {
   "cell_type": "markdown",
   "id": "93a5b32f",
   "metadata": {},
   "source": [
    "#### Define bounds"
   ]
  },
  {
   "cell_type": "code",
   "execution_count": 6,
   "id": "8062af9e",
   "metadata": {},
   "outputs": [],
   "source": [
    "# these bounds are from the distribution of the params in the dataset used for NN training\n",
    "params_searching_bounds = {\n",
    "    'p': (1, 4),\n",
    "    'g_max': (100, 140), \n",
    "    'E_rev': (-100, -60), \n",
    "    'a_m': (0, 100), \n",
    "    'b_m': (0, 100), \n",
    "    'delta_m': (0, 1), \n",
    "    's_m': (-100, 0)\n",
    "}\n",
    "bounds = [params_searching_bounds['p'], params_searching_bounds['g_max'], params_searching_bounds['E_rev'], params_searching_bounds['a_m'], params_searching_bounds['b_m'], params_searching_bounds['delta_m'], params_searching_bounds['s_m']]"
   ]
  },
  {
   "cell_type": "code",
   "execution_count": 14,
   "id": "70faffe4",
   "metadata": {},
   "outputs": [],
   "source": [
    "# def callback_function(xk, convergence):\n",
    "#     callback_function.iteration += 1\n",
    "#     print(\"Iteration:\", callback_function.iteration)\n",
    "#     print(\"Solution:\", xk)\n",
    "#     print(\"Objective value:\", obj(xk, sim_setup_2d, target_params))\n",
    "#     print(\"------------------------\")\n",
    "# callback_function.iteration = 0  # Initialize the iteration counter"
   ]
  },
  {
   "cell_type": "code",
   "execution_count": 16,
   "id": "2efbf0eb",
   "metadata": {},
   "outputs": [
    {
     "name": "stderr",
     "output_type": "stream",
     "text": [
      "/Users/maxwellyue/Documents/GitHub/Compute-Canada-Research/Exp_rates_generalized_exp_setup/DE_obj_model.py:42: RuntimeWarning: invalid value encountered in divide\n",
      "  return ((tau_0m * np.exp(self.delta_m * ((V - self.V_2m) / self.s_m))) / (1 + np.exp((V - self.V_2m) / self.s_m))).reshape((-1,1))\n"
     ]
    }
   ],
   "source": [
    "from scipy.optimize import differential_evolution\n",
    "result = differential_evolution(obj, bounds, args=(sim_setup_2d, target_params), maxiter=1000)#, callback=callback_function)"
   ]
  },
  {
   "cell_type": "code",
   "execution_count": 8,
   "id": "f17e9312",
   "metadata": {},
   "outputs": [
    {
     "data": {
      "text/plain": [
       "(array([  1.        , 133.65648   , -81.39668   ,   4.1990376 ,\n",
       "         12.4988    ,   0.39262012, -11.015537  ], dtype=float32),\n",
       " array([  1.        , 133.65648479, -81.3966775 ,   4.1990373 ,\n",
       "         12.49880051,   0.39262009, -11.01553655]))"
      ]
     },
     "execution_count": 8,
     "metadata": {},
     "output_type": "execute_result"
    }
   ],
   "source": [
    "target_params, result.x"
   ]
  },
  {
   "cell_type": "code",
   "execution_count": 9,
   "id": "c5f3126f",
   "metadata": {},
   "outputs": [
    {
     "data": {
      "text/plain": [
       "array([5.02251217e-22, 3.48942953e-11, 2.74724105e-11, 6.20176264e-14,\n",
       "       5.45464608e-14, 4.73896655e-16, 5.02978803e-13])"
      ]
     },
     "execution_count": 9,
     "metadata": {},
     "output_type": "execute_result"
    }
   ],
   "source": [
    "((target_params - result.x) ** 2)"
   ]
  },
  {
   "cell_type": "code",
   "execution_count": 10,
   "id": "370befb7",
   "metadata": {},
   "outputs": [
    {
     "data": {
      "text/plain": [
       "array([  1.        , 133.65648479, -81.3966775 ,   4.1990373 ,\n",
       "        12.49880051,   0.39262009, -11.01553655])"
      ]
     },
     "execution_count": 10,
     "metadata": {},
     "output_type": "execute_result"
    }
   ],
   "source": [
    "result.x"
   ]
  },
  {
   "cell_type": "code",
   "execution_count": 35,
   "id": "dc06586a",
   "metadata": {},
   "outputs": [
    {
     "data": {
      "text/plain": [
       " message: Optimization terminated successfully.\n",
       " success: True\n",
       "     fun: 6.48722942770685e-06\n",
       "       x: [ 1.000e+00  1.337e+02 -8.140e+01  4.199e+00  1.250e+01\n",
       "            3.926e-01 -1.102e+01]\n",
       "     nit: 772\n",
       "    nfev: 81197\n",
       "     jac: [ 4.200e+01  6.163e-03  4.059e-03  0.000e+00  0.000e+00\n",
       "            0.000e+00  0.000e+00]"
      ]
     },
     "execution_count": 35,
     "metadata": {},
     "output_type": "execute_result"
    }
   ],
   "source": [
    "result"
   ]
  },
  {
   "cell_type": "markdown",
   "id": "7482fe36",
   "metadata": {},
   "source": [
    "#### Run DE on all test dataset, check result mse on all params here"
   ]
  },
  {
   "cell_type": "code",
   "execution_count": 16,
   "id": "6636a6b4",
   "metadata": {},
   "outputs": [],
   "source": [
    "mse_mat = np.load('de_mse_params_all_test.npy')"
   ]
  },
  {
   "cell_type": "code",
   "execution_count": 17,
   "id": "d41967fe",
   "metadata": {},
   "outputs": [
    {
     "data": {
      "text/plain": [
       "(30, 7)"
      ]
     },
     "execution_count": 17,
     "metadata": {},
     "output_type": "execute_result"
    }
   ],
   "source": [
    "mse_mat.shape"
   ]
  },
  {
   "cell_type": "code",
   "execution_count": 18,
   "id": "34b3f40e",
   "metadata": {},
   "outputs": [
    {
     "data": {
      "text/plain": [
       "array([1.68353114e-03, 5.70682053e+01, 1.12901201e+02, 2.79381230e-03,\n",
       "       7.58826951e+00, 1.83145674e-04, 7.30552287e-02])"
      ]
     },
     "execution_count": 18,
     "metadata": {},
     "output_type": "execute_result"
    }
   ],
   "source": [
    "mse_params = np.mean(mse_mat, axis=0)\n",
    "mse_params"
   ]
  },
  {
   "cell_type": "code",
   "execution_count": null,
   "id": "2a3def27",
   "metadata": {},
   "outputs": [],
   "source": []
  },
  {
   "cell_type": "markdown",
   "id": "852211fb",
   "metadata": {},
   "source": [
    "## Define obj fct and estimate for single param"
   ]
  },
  {
   "cell_type": "code",
   "execution_count": 20,
   "id": "d881570b",
   "metadata": {},
   "outputs": [],
   "source": [
    "def obj_i_param(x, *args): \n",
    "    '''\n",
    "    x: a single float value of the i-th param\n",
    "    args: a tupleo f additional fixed parameters (prestep_V, step_V0, time_traces)\n",
    "    *args=(i, sim_setup_2d, target_params)\n",
    "    '''\n",
    "    params = args[2].copy()\n",
    "    params[args[0]] = x\n",
    "    trail_model = de_obj_model(params, args[1])\n",
    "    trail_traces = trail_model.simulation()\n",
    "    # print(trail_traces[1])\n",
    "    target_model = de_obj_model(args[2], args[1])\n",
    "    target_traces = target_model.simulation()\n",
    "    # print(target_traces[1]) \n",
    "    \n",
    "    return np.sum(np.square(trail_traces - target_traces))"
   ]
  },
  {
   "cell_type": "code",
   "execution_count": 21,
   "id": "862edade",
   "metadata": {},
   "outputs": [
    {
     "data": {
      "text/plain": [
       "[(-17, -10)]"
      ]
     },
     "execution_count": 21,
     "metadata": {},
     "output_type": "execute_result"
    }
   ],
   "source": [
    "params_searching_bounds = {\n",
    "    'p': (1, 5),\n",
    "    'g_max': (100, 140), \n",
    "    'E_rev': (-100, -60), \n",
    "    'a_m': (0, 13), \n",
    "    'b_m': (0, 100), \n",
    "    'delta_m': (0, 1), \n",
    "    's_m': (-17, -10)\n",
    "}\n",
    "i = 6\n",
    "key_at_index = list(params_searching_bounds.keys())[i]\n",
    "bounds = [params_searching_bounds[key_at_index]]\n",
    "bounds"
   ]
  },
  {
   "cell_type": "code",
   "execution_count": 22,
   "id": "f4477916",
   "metadata": {},
   "outputs": [
    {
     "data": {
      "text/plain": [
       " message: Optimization terminated successfully.\n",
       " success: True\n",
       "     fun: 0.0\n",
       "       x: [-1.105e+01]\n",
       "     nit: 22\n",
       "    nfev: 347"
      ]
     },
     "execution_count": 22,
     "metadata": {},
     "output_type": "execute_result"
    }
   ],
   "source": [
    "from scipy.optimize import differential_evolution\n",
    "result = differential_evolution(obj_i_param, bounds, args=(i, sim_setup_2d, target_params), maxiter=100)#, tol = 1e-10)\n",
    "result"
   ]
  },
  {
   "cell_type": "code",
   "execution_count": 32,
   "id": "2ded42cf",
   "metadata": {},
   "outputs": [
    {
     "data": {
      "text/plain": [
       "array([2.0789837e-15])"
      ]
     },
     "execution_count": 32,
     "metadata": {},
     "output_type": "execute_result"
    }
   ],
   "source": [
    "((target_params[i] - result.x) ** 2)"
   ]
  },
  {
   "cell_type": "markdown",
   "id": "6a3b9d57",
   "metadata": {},
   "source": [
    "#### Results for all single param estimation"
   ]
  },
  {
   "cell_type": "code",
   "execution_count": 27,
   "id": "a3f3f845",
   "metadata": {},
   "outputs": [
    {
     "data": {
      "text/plain": [
       "((30, 7), (30, 7))"
      ]
     },
     "execution_count": 27,
     "metadata": {},
     "output_type": "execute_result"
    }
   ],
   "source": [
    "mses = np.load('de_mses_on_ith_params.npy')\n",
    "nits = np.load('de_nit_on_ith_params.npy')\n",
    "mses.shape, nits.shape"
   ]
  },
  {
   "cell_type": "code",
   "execution_count": 28,
   "id": "0a1e5a21",
   "metadata": {},
   "outputs": [
    {
     "name": "stdout",
     "output_type": "stream",
     "text": [
      "[1.40752475e-15 6.77700377e-15 2.20245039e-15 1.40308669e-15\n",
      " 2.14625476e-15 1.44141350e-15 2.20503233e-15]\n",
      "Sorted indices: [3 0 5 4 2 6 1]\n"
     ]
    }
   ],
   "source": [
    "arr = mses.mean(axis=0)\n",
    "print(arr)\n",
    "\n",
    "sorted_indices = np.argsort(arr)\n",
    "\n",
    "print(\"Sorted indices:\", sorted_indices)"
   ]
  },
  {
   "cell_type": "code",
   "execution_count": 29,
   "id": "702beaa8",
   "metadata": {},
   "outputs": [
    {
     "name": "stdout",
     "output_type": "stream",
     "text": [
      "[27.         26.1        26.53333333 26.53333333 26.83333333 27.23333333\n",
      " 26.33333333]\n",
      "Sorted indices: [1 6 2 3 4 0 5]\n"
     ]
    }
   ],
   "source": [
    "arr = nits.mean(axis=0)\n",
    "print(arr)\n",
    "\n",
    "sorted_indices = np.argsort(arr)\n",
    "\n",
    "print(\"Sorted indices:\", sorted_indices)"
   ]
  },
  {
   "cell_type": "code",
   "execution_count": null,
   "id": "245fd0dd",
   "metadata": {},
   "outputs": [],
   "source": []
  }
 ],
 "metadata": {
  "kernelspec": {
   "display_name": "Python 3 (ipykernel)",
   "language": "python",
   "name": "python3"
  },
  "language_info": {
   "codemirror_mode": {
    "name": "ipython",
    "version": 3
   },
   "file_extension": ".py",
   "mimetype": "text/x-python",
   "name": "python",
   "nbconvert_exporter": "python",
   "pygments_lexer": "ipython3",
   "version": "3.10.9"
  }
 },
 "nbformat": 4,
 "nbformat_minor": 5
}
