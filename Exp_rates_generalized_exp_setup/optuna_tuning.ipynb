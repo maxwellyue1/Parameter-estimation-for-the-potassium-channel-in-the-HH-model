{
 "cells": [
  {
   "cell_type": "code",
   "execution_count": 18,
   "metadata": {},
   "outputs": [],
   "source": [
    "import torch\n",
    "import csv\n",
    "import os\n",
    "import random\n",
    "import numpy as np\n",
    "from torch.utils.data import TensorDataset, DataLoader, random_split\n",
    "import pandas as pd\n",
    "import torch.nn as nn\n",
    "import torch.nn.functional as F\n",
    "import torch.optim as optim\n",
    "import optuna\n",
    "from optuna.trial import TrialState\n",
    "\n",
    "\n",
    "\n",
    "from dataset_reader import Traces_Dataset\n",
    "from mlp_model import MLP"
   ]
  },
  {
   "cell_type": "code",
   "execution_count": 6,
   "metadata": {},
   "outputs": [],
   "source": [
    "DEVICE = torch.device('cuda' if torch.cuda.is_available() else 'cpu')\n",
    "target_features = 7\n",
    "DIR = os.getcwd()\n",
    "EPOCHS = 300\n",
    "\n",
    "N_TRAIN_EXAMPLES = 200 * 30\n",
    "N_VALID_EXAMPLES = 200 * 10"
   ]
  },
  {
   "cell_type": "code",
   "execution_count": 7,
   "metadata": {},
   "outputs": [],
   "source": [
    "def define_model(trial):\n",
    "    # We optimize the number of layers, hidden units and dropout ratio in each layer.\n",
    "    n_layers = trial.suggest_int(\"n_layers\", 1, 5)\n",
    "    layers = []\n",
    "\n",
    "    in_features = 321\n",
    "    for i in range(n_layers):\n",
    "        out_features = trial.suggest_int(\"n_units_l{}\".format(i), 256, 1024)\n",
    "        layers.append(nn.Linear(in_features, out_features))\n",
    "        layers.append(nn.ReLU())\n",
    "        p = trial.suggest_float(\"dropout_l{}\".format(i), 0.2, 0.5)\n",
    "        layers.append(nn.Dropout(p))\n",
    "        in_features = out_features\n",
    "\n",
    "    layers.append(nn.Linear(in_features, target_features))\n",
    "    # layers.append(nn.LogSoftmax(dim=1))\n",
    "\n",
    "    return nn.Sequential(*layers)"
   ]
  },
  {
   "cell_type": "code",
   "execution_count": 10,
   "metadata": {},
   "outputs": [],
   "source": [
    "def get_dataset(trial):\n",
    "# def get_dataset():\n",
    "    batch_size = trial.suggest_categorical('batch_size', [16, 32, 64, 128, 256, 512, 1024])\n",
    "    \n",
    "    dataset = Traces_Dataset('dataset2mil.csv')\n",
    "    dataset.split_dataset(0.95, 0.05, 0)\n",
    "    dataset.clean_features()\n",
    "    dataset.find_mean_std()\n",
    "    dataset.normalize()\n",
    "    print(dataset.inputs.shape)\n",
    "\n",
    "    # initialize train, val, test set\n",
    "    X_train = dataset[dataset.train_set.indices][0]\n",
    "    Y_train = dataset[dataset.train_set.indices][1]\n",
    "\n",
    "    X_val = dataset[dataset.val_set.indices][0]\n",
    "    Y_val = dataset[dataset.val_set.indices][1]\n",
    "\n",
    "    X_test = dataset[dataset.test_set.indices][0]\n",
    "    Y_test = dataset[dataset.test_set.indices][1]\n",
    "\n",
    "    # initialize dataloader \n",
    "    train_dataset = TensorDataset(X_train, Y_train)\n",
    "    train_loader = DataLoader(train_dataset, batch_size=batch_size, shuffle=True)\n",
    "\n",
    "    val_dataset = TensorDataset(X_val, Y_val)\n",
    "    val_loader = DataLoader(val_dataset, batch_size=batch_size, shuffle=True)\n",
    "\n",
    "    return train_loader, val_loader"
   ]
  },
  {
   "cell_type": "code",
   "execution_count": 11,
   "metadata": {},
   "outputs": [
    {
     "ename": "TypeError",
     "evalue": "get_dataset() missing 1 required positional argument: 'trial'",
     "output_type": "error",
     "traceback": [
      "\u001b[0;31m---------------------------------------------------------------------------\u001b[0m",
      "\u001b[0;31mTypeError\u001b[0m                                 Traceback (most recent call last)",
      "Cell \u001b[0;32mIn[11], line 1\u001b[0m\n\u001b[0;32m----> 1\u001b[0m train_loader, valid_loader \u001b[38;5;241m=\u001b[39m \u001b[43mget_dataset\u001b[49m\u001b[43m(\u001b[49m\u001b[43m)\u001b[49m\n",
      "\u001b[0;31mTypeError\u001b[0m: get_dataset() missing 1 required positional argument: 'trial'"
     ]
    }
   ],
   "source": [
    "train_loader, valid_loader = get_dataset()"
   ]
  },
  {
   "cell_type": "code",
   "execution_count": 14,
   "metadata": {},
   "outputs": [],
   "source": [
    "def objective(trial):\n",
    "    # Generate the model.\n",
    "    model = define_model(trial).to(DEVICE)\n",
    "\n",
    "    # Generate the optimizers.\n",
    "    # optimizer_name = trial.suggest_categorical(\"optimizer\", [\"Adam\", \"RMSprop\", \"SGD\"])\n",
    "    # lr = trial.suggest_float(\"lr\", 1e-5, 1e-1, log=True)\n",
    "    # optimizer = getattr(optim, optimizer_name)(model.parameters(), lr=lr)\n",
    "\n",
    "    learning_rate = trial.suggest_loguniform('learning_rate', 1e-5, 1e-2)\n",
    "    weight_decay = trial.suggest_loguniform('weight_decay', 1e-5, 1e-2)\n",
    "    optimizer = optim.Adam(model.parameters(), lr=learning_rate, weight_decay=weight_decay)\n",
    "    \n",
    "    \n",
    "\n",
    "    # Get the FashionMNIST dataset.\n",
    "    train_loader, valid_loader = get_dataset(trial)\n",
    "\n",
    "    # Training of the model.\n",
    "    for epoch in range(EPOCHS):\n",
    "        model.train()\n",
    "        for batch_idx, (train_inputs, train_targets) in enumerate(train_loader):\n",
    "            # Limiting training data for faster epochs.\n",
    "            if batch_idx * 10 >= N_TRAIN_EXAMPLES:\n",
    "                break\n",
    "\n",
    "            # data, target = data.view(data.size(0), -1).to(DEVICE), target.to(DEVICE)\n",
    "            train_inputs, train_targets = train_inputs.to(DEVICE), train_targets.to(DEVICE)\n",
    "\n",
    "            optimizer.zero_grad()\n",
    "            train_outputs = model(train_inputs)\n",
    "            loss = nn.MSELoss()(train_outputs, train_targets)\n",
    "            loss.backward()\n",
    "            optimizer.step()\n",
    "\n",
    "        # Validation of the model.\n",
    "        model.eval()\n",
    "        total_val_loss = 0.0\n",
    "        with torch.no_grad():\n",
    "            for batch_idx, (val_inputs, val_targets) in enumerate(valid_loader):\n",
    "                # Limiting validation data.\n",
    "                if batch_idx * 10 >= N_VALID_EXAMPLES:\n",
    "                    break\n",
    "                \n",
    "                # data, target = data.view(data.size(0), -1).to(DEVICE), target.to(DEVICE)\n",
    "                val_inputs, val_targets = val_inputs.to(DEVICE), val_targets.to(DEVICE)\n",
    "\n",
    "                val_outputs = model(val_inputs)\n",
    "                # Get the index of the max log-probability.\n",
    "                val_loss = nn.MSELoss()(val_outputs, val_targets)\n",
    "                total_val_loss += val_loss.item()\n",
    "\n",
    "            # Average validation loss for the epoch\n",
    "        avg_val_loss = total_val_loss / len(valid_loader)\n",
    "\n",
    "        trial.report(avg_val_loss, epoch)\n",
    "\n",
    "        # Handle pruning based on the intermediate value.\n",
    "        if trial.should_prune():\n",
    "            raise optuna.exceptions.TrialPruned()\n",
    "\n",
    "    return avg_val_loss"
   ]
  },
  {
   "cell_type": "code",
   "execution_count": 16,
   "metadata": {},
   "outputs": [
    {
     "name": "stderr",
     "output_type": "stream",
     "text": [
      "[I 2024-04-01 13:07:48,778] A new study created in memory with name: no-name-7500f8bd-3961-49d5-a671-5928b970e199\n"
     ]
    },
    {
     "name": "stdout",
     "output_type": "stream",
     "text": [
      "torch.Size([2000000, 321])\n"
     ]
    },
    {
     "name": "stderr",
     "output_type": "stream",
     "text": [
      "[I 2024-04-01 13:11:07,121] Trial 0 finished with value: 0.8730292456054688 and parameters: {'n_layers': 4, 'n_units_l0': 71, 'dropout_l0': 0.4445239726779925, 'n_units_l1': 127, 'dropout_l1': 0.20740221654317176, 'n_units_l2': 76, 'dropout_l2': 0.3480329677764086, 'n_units_l3': 114, 'dropout_l3': 0.3555190575964995, 'optimizer': 'RMSprop', 'lr': 0.00017397762540722925, 'batch_size': 32}. Best is trial 0 with value: 0.8730292456054688.\n"
     ]
    },
    {
     "name": "stdout",
     "output_type": "stream",
     "text": [
      "torch.Size([2000000, 321])\n"
     ]
    },
    {
     "name": "stderr",
     "output_type": "stream",
     "text": [
      "[I 2024-04-01 13:14:13,390] Trial 1 finished with value: 4.3783700561523435 and parameters: {'n_layers': 3, 'n_units_l0': 46, 'dropout_l0': 0.4182265386826598, 'n_units_l1': 94, 'dropout_l1': 0.2977704783286363, 'n_units_l2': 50, 'dropout_l2': 0.24387440383554604, 'optimizer': 'RMSprop', 'lr': 1.4052400230743504e-05, 'batch_size': 32}. Best is trial 0 with value: 0.8730292456054688.\n"
     ]
    },
    {
     "name": "stdout",
     "output_type": "stream",
     "text": [
      "Study statistics: \n",
      "  Number of finished trials:  2\n",
      "  Number of pruned trials:  0\n",
      "  Number of complete trials:  2\n",
      "Best trial:\n",
      "  Value:  0.8730292456054688\n",
      "  Params: \n",
      "    n_layers: 4\n",
      "    n_units_l0: 71\n",
      "    dropout_l0: 0.4445239726779925\n",
      "    n_units_l1: 127\n",
      "    dropout_l1: 0.20740221654317176\n",
      "    n_units_l2: 76\n",
      "    dropout_l2: 0.3480329677764086\n",
      "    n_units_l3: 114\n",
      "    dropout_l3: 0.3555190575964995\n",
      "    optimizer: RMSprop\n",
      "    lr: 0.00017397762540722925\n",
      "    batch_size: 32\n"
     ]
    }
   ],
   "source": [
    "if __name__ == \"__main__\":\n",
    "    study = optuna.create_study(direction=\"minimize\")\n",
    "    study.optimize(objective, n_trials=2, timeout=600)\n",
    "\n",
    "    pruned_trials = study.get_trials(deepcopy=False, states=[TrialState.PRUNED])\n",
    "    complete_trials = study.get_trials(deepcopy=False, states=[TrialState.COMPLETE])\n",
    "\n",
    "    print(\"Study statistics: \")\n",
    "    print(\"  Number of finished trials: \", len(study.trials))\n",
    "    print(\"  Number of pruned trials: \", len(pruned_trials))\n",
    "    print(\"  Number of complete trials: \", len(complete_trials))\n",
    "\n",
    "    print(\"Best trial:\")\n",
    "    trial = study.best_trial\n",
    "\n",
    "    print(\"  Value: \", trial.value)\n",
    "\n",
    "    print(\"  Params: \")\n",
    "    for key, value in trial.params.items():\n",
    "        print(\"    {}: {}\".format(key, value))"
   ]
  },
  {
   "cell_type": "code",
   "execution_count": 17,
   "metadata": {},
   "outputs": [
    {
     "data": {
      "text/plain": [
       "{'dropout_l2': 0.15503875968992245,\n",
       " 'n_units_l2': 0.14728682170542634,\n",
       " 'n_units_l0': 0.14728682170542634,\n",
       " 'lr': 0.13953488372093023,\n",
       " 'dropout_l0': 0.13953488372093023,\n",
       " 'n_units_l1': 0.1317829457364341,\n",
       " 'dropout_l1': 0.12403100775193797,\n",
       " 'n_layers': 0.015503875968992246,\n",
       " 'optimizer': 0.0,\n",
       " 'batch_size': 0.0}"
      ]
     },
     "execution_count": 17,
     "metadata": {},
     "output_type": "execute_result"
    }
   ],
   "source": [
    "optuna.importance.get_param_importances(study)"
   ]
  },
  {
   "cell_type": "code",
   "execution_count": null,
   "metadata": {},
   "outputs": [],
   "source": []
  },
  {
   "cell_type": "code",
   "execution_count": null,
   "metadata": {},
   "outputs": [],
   "source": []
  }
 ],
 "metadata": {
  "kernelspec": {
   "display_name": "Python 3 (ipykernel)",
   "language": "python",
   "name": "python3"
  },
  "language_info": {
   "codemirror_mode": {
    "name": "ipython",
    "version": 3
   },
   "file_extension": ".py",
   "mimetype": "text/x-python",
   "name": "python",
   "nbconvert_exporter": "python",
   "pygments_lexer": "ipython3",
   "version": "3.10.2"
  }
 },
 "nbformat": 4,
 "nbformat_minor": 4
}
