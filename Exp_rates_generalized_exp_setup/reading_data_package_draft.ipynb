{
 "cells": [
  {
   "cell_type": "code",
   "execution_count": 39,
   "id": "75d76ab3-bb04-47d4-9cb3-3dc9692803e6",
   "metadata": {
    "scrolled": true
   },
   "outputs": [],
   "source": [
    "import datatable as dt\n",
    "import torch "
   ]
  },
  {
   "cell_type": "code",
   "execution_count": 40,
   "id": "65603e76-8b25-47ca-afe3-734548d4c568",
   "metadata": {
    "scrolled": true
   },
   "outputs": [
    {
     "name": "stdout",
     "output_type": "stream",
     "text": [
      "Train size: (2000000, 336)\n",
      "CPU times: user 38.3 s, sys: 1min 12s, total: 1min 51s\n",
      "Wall time: 17.4 s\n"
     ]
    }
   ],
   "source": [
    "%%time\n",
    "\n",
    "data = dt.fread(\"dataset2mil.csv\")\n",
    "\n",
    "print(\"Train size:\", data.shape)"
   ]
  },
  {
   "cell_type": "code",
   "execution_count": 47,
   "id": "5524b65c-3453-46b3-a416-44271c14bae6",
   "metadata": {},
   "outputs": [
    {
     "name": "stdout",
     "output_type": "stream",
     "text": [
      "CPU times: user 187 ms, sys: 342 ms, total: 529 ms\n",
      "Wall time: 529 ms\n"
     ]
    }
   ],
   "source": [
    "%%time\n",
    "df = data.to_pandas().values"
   ]
  },
  {
   "cell_type": "code",
   "execution_count": 43,
   "id": "2846a8a1-a725-4a59-9e91-59cbfc59fdea",
   "metadata": {
    "scrolled": true
   },
   "outputs": [],
   "source": [
    "df=torch.tensor(df.values)"
   ]
  },
  {
   "cell_type": "code",
   "execution_count": 44,
   "id": "c2726c87-4b44-4fdc-bd02-dedab261c9eb",
   "metadata": {},
   "outputs": [],
   "source": [
    "num_traces = 8; num_pts = 20; num_params = 7"
   ]
  },
  {
   "cell_type": "code",
   "execution_count": 45,
   "id": "f4d392a4-508e-4ab6-9e3f-efcc216a16e6",
   "metadata": {},
   "outputs": [
    {
     "data": {
      "text/plain": [
       "tensor([[[0.0000, 0.0134, 0.0184,  ..., 0.0803, 0.0967, 0.2700],\n",
       "         [0.0000, 0.0315, 0.0411,  ..., 0.1758, 0.2105, 0.5500],\n",
       "         [0.0000, 0.0485, 0.0628,  ..., 0.2686, 0.3220, 0.8100],\n",
       "         ...,\n",
       "         [0.0000, 0.0234, 0.0310,  ..., 0.1331, 0.1593, 0.4300],\n",
       "         [0.0000, 0.0148, 0.0206,  ..., 0.0885, 0.1062, 0.2900],\n",
       "         [0.0000, 0.0104, 0.0129,  ..., 0.0586, 0.0698, 0.2000]],\n",
       "\n",
       "        [[0.0000, 0.0130, 0.0185,  ..., 0.0981, 0.1191, 0.3400],\n",
       "         [0.0000, 0.0175, 0.0243,  ..., 0.1281, 0.1557, 0.4300],\n",
       "         [0.0000, 0.0215, 0.0296,  ..., 0.1539, 0.1869, 0.5100],\n",
       "         ...,\n",
       "         [0.0000, 0.0159, 0.0224,  ..., 0.1181, 0.1435, 0.4000],\n",
       "         [0.0000, 0.0116, 0.0158,  ..., 0.0859, 0.1042, 0.3000],\n",
       "         [0.0000, 0.0065, 0.0111,  ..., 0.0589, 0.0716, 0.2100]],\n",
       "\n",
       "        [[0.0000, 0.0064, 0.0110,  ..., 0.0585, 0.0709, 0.2100],\n",
       "         [0.0000, 0.0127, 0.0180,  ..., 0.0958, 0.1162, 0.3300],\n",
       "         [0.0000, 0.0206, 0.0279,  ..., 0.1462, 0.1775, 0.4900],\n",
       "         ...,\n",
       "         [0.0000, 0.0315, 0.0430,  ..., 0.2242, 0.2723, 0.7200],\n",
       "         [0.0000, 0.0271, 0.0372,  ..., 0.1943, 0.2360, 0.6400],\n",
       "         [0.0000, 0.0218, 0.0302,  ..., 0.1568, 0.1902, 0.5200]],\n",
       "\n",
       "        ...,\n",
       "\n",
       "        [[0.0000, 0.0151, 0.0209,  ..., 0.0898, 0.1079, 0.3000],\n",
       "         [0.0000, 0.0414, 0.0536,  ..., 0.2294, 0.2751, 0.7000],\n",
       "         [0.0000, 0.0646, 0.0837,  ..., 0.3579, 0.4288, 1.0600],\n",
       "         ...,\n",
       "         [0.0000, 0.0323, 0.0421,  ..., 0.1802, 0.2162, 0.5700],\n",
       "         [0.0000, 0.0224, 0.0296,  ..., 0.1268, 0.1519, 0.4100],\n",
       "         [0.0000, 0.0148, 0.0207,  ..., 0.0888, 0.1067, 0.3000]],\n",
       "\n",
       "        [[0.0000, 0.0134, 0.0184,  ..., 0.0806, 0.0969, 0.2700],\n",
       "         [0.0000, 0.0428, 0.0555,  ..., 0.2379, 0.2852, 0.7300],\n",
       "         [0.0000, 0.0933, 0.1208,  ..., 0.5153, 0.6175, 1.4700],\n",
       "         ...,\n",
       "         [0.0000, 0.1033, 0.1337,  ..., 0.5707, 0.6839, 1.6100],\n",
       "         [0.0000, 0.0851, 0.1104,  ..., 0.4707, 0.5641, 1.3500],\n",
       "         [0.0000, 0.0698, 0.0903,  ..., 0.3852, 0.4615, 1.1300]],\n",
       "\n",
       "        [[0.0000, 0.0168, 0.0225,  ..., 0.0982, 0.1177, 0.3200],\n",
       "         [0.0000, 0.0417, 0.0540,  ..., 0.2313, 0.2773, 0.7100],\n",
       "         [0.0000, 0.0831, 0.1076,  ..., 0.4594, 0.5505, 1.3200],\n",
       "         ...,\n",
       "         [0.0000, 0.1599, 0.2067,  ..., 0.8817, 1.0563, 2.3800],\n",
       "         [0.0000, 0.1557, 0.2014,  ..., 0.8589, 1.0291, 2.3200],\n",
       "         [0.0000, 0.1479, 0.1914,  ..., 0.8162, 0.9779, 2.2200]]],\n",
       "       dtype=torch.float64)"
      ]
     },
     "execution_count": 45,
     "metadata": {},
     "output_type": "execute_result"
    }
   ],
   "source": [
    "torch.reshape(df[:, (1+num_traces):((1+num_traces)+num_traces*num_pts)],(-1, num_traces, num_pts))"
   ]
  },
  {
   "cell_type": "code",
   "execution_count": 46,
   "id": "53380e94-f760-46c6-94c0-831776a68bd9",
   "metadata": {},
   "outputs": [
    {
     "data": {
      "text/plain": [
       "tensor([ -61., -131.,  -83.,  ...,  -86., -112., -111.], dtype=torch.float64)"
      ]
     },
     "execution_count": 46,
     "metadata": {},
     "output_type": "execute_result"
    }
   ],
   "source": [
    "df[:, 0]"
   ]
  },
  {
   "cell_type": "code",
   "execution_count": 1,
   "id": "8893c272-86a5-4853-929f-ae9e0bfddcc0",
   "metadata": {},
   "outputs": [
    {
     "data": {
      "text/html": [
       "<style type='text/css'>\n",
       ".datatable table.frame { margin-bottom: 0; }\n",
       ".datatable table.frame thead { border-bottom: none; }\n",
       ".datatable table.frame tr.coltypes td {  color: #FFFFFF;  line-height: 6px;  padding: 0 0.5em;}\n",
       ".datatable .bool    { background: #DDDD99; }\n",
       ".datatable .object  { background: #565656; }\n",
       ".datatable .int     { background: #5D9E5D; }\n",
       ".datatable .float   { background: #4040CC; }\n",
       ".datatable .str     { background: #CC4040; }\n",
       ".datatable .time    { background: #40CC40; }\n",
       ".datatable .row_index {  background: var(--jp-border-color3);  border-right: 1px solid var(--jp-border-color0);  color: var(--jp-ui-font-color3);  font-size: 9px;}\n",
       ".datatable .frame tbody td { text-align: left; }\n",
       ".datatable .frame tr.coltypes .row_index {  background: var(--jp-border-color0);}\n",
       ".datatable th:nth-child(2) { padding-left: 12px; }\n",
       ".datatable .hellipsis {  color: var(--jp-cell-editor-border-color);}\n",
       ".datatable .vellipsis {  background: var(--jp-layout-color0);  color: var(--jp-cell-editor-border-color);}\n",
       ".datatable .na {  color: var(--jp-cell-editor-border-color);  font-size: 80%;}\n",
       ".datatable .sp {  opacity: 0.25;}\n",
       ".datatable .footer { font-size: 9px; }\n",
       ".datatable .frame_dimensions {  background: var(--jp-border-color3);  border-top: 1px solid var(--jp-border-color0);  color: var(--jp-ui-font-color3);  display: inline-block;  opacity: 0.6;  padding: 1px 10px 1px 5px;}\n",
       "</style>\n"
      ],
      "text/plain": [
       "<IPython.core.display.HTML object>"
      ]
     },
     "metadata": {},
     "output_type": "display_data"
    }
   ],
   "source": [
    "from dataset_reader import Traces_Dataset"
   ]
  },
  {
   "cell_type": "code",
   "execution_count": 2,
   "id": "00fd86ae-815e-435c-a93a-4875dda22797",
   "metadata": {},
   "outputs": [
    {
     "name": "stdout",
     "output_type": "stream",
     "text": [
      "CPU times: user 54 s, sys: 36.9 s, total: 1min 30s\n",
      "Wall time: 13.1 s\n"
     ]
    }
   ],
   "source": [
    "%%time\n",
    "dataset = Traces_Dataset('dataset2mil.csv')"
   ]
  },
  {
   "cell_type": "code",
   "execution_count": 3,
   "id": "6d834794-d321-4502-a4a2-26cdbf097e37",
   "metadata": {},
   "outputs": [
    {
     "name": "stdout",
     "output_type": "stream",
     "text": [
      "torch.Size([2000000, 321])\n"
     ]
    }
   ],
   "source": [
    "dataset.split_dataset(0.95, 0.05, 0)\n",
    "dataset.clean_features()\n",
    "dataset.find_mean_std()\n",
    "dataset.normalize()\n",
    "print(dataset.inputs.shape)"
   ]
  },
  {
   "cell_type": "code",
   "execution_count": null,
   "id": "65710b87-d373-4edf-b38a-94eabd23ec00",
   "metadata": {},
   "outputs": [],
   "source": []
  }
 ],
 "metadata": {
  "kernelspec": {
   "display_name": "Python 3 (ipykernel)",
   "language": "python",
   "name": "python3"
  },
  "language_info": {
   "codemirror_mode": {
    "name": "ipython",
    "version": 3
   },
   "file_extension": ".py",
   "mimetype": "text/x-python",
   "name": "python",
   "nbconvert_exporter": "python",
   "pygments_lexer": "ipython3",
   "version": "3.10.2"
  }
 },
 "nbformat": 4,
 "nbformat_minor": 5
}
