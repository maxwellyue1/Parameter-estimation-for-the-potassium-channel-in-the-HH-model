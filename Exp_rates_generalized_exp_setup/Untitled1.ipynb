{
 "cells": [
  {
   "cell_type": "code",
   "execution_count": 5,
   "id": "5875ac42-5625-4932-bc98-b1f8f2e3940e",
   "metadata": {},
   "outputs": [],
   "source": [
    "import torch\n",
    "import csv\n",
    "import os\n",
    "import random\n",
    "import numpy as np\n",
    "from torch.utils.data import TensorDataset, DataLoader, random_split\n",
    "import pandas as pd\n",
    "from dataset_reader import Traces_Dataset\n",
    "from mlp_model import MLP\n",
    "import torch.nn as nn\n",
    "import torch.optim as optim\n",
    "import matplotlib.pyplot as plt\n",
    "import uuid\n",
    "\n",
    "# # initialize a dictionary of training history to store in a csv file\n",
    "# history_dict = {}\n",
    "\n",
    "# unique_id = str(uuid.uuid4())[:8]\n",
    "# history_dict['unique_id'] = unique_id\n",
    "# print(f'Experiment ID: {unique_id}')\n",
    "\n",
    "# # making training reproducible\n",
    "# seed = 42\n",
    "# random.seed(seed)\n",
    "# np.random.seed(seed)\n",
    "# torch.manual_seed(seed)\n",
    "# torch.backends.cudnn.deterministic = True\n",
    "# torch.backends.cudnn.benchmark = False\n",
    "# history_dict['seed'] = seed\n",
    "\n",
    "# device = torch.device('cuda' if torch.cuda.is_available() else 'cpu')  # Uncomment this line\n",
    "# print(f\"Using device: {device}\")\n",
    "\n",
    "# # load and process dataset \n",
    "# # dataset = Traces_Dataset('dataset2mil.csv')\n",
    "# dataset = Traces_Dataset('dataset_test.csv')\n",
    "# dataset.split_dataset(0.95, 0.05, 0)\n",
    "# dataset.clean_features()\n",
    "# dataset.find_mean_std()\n",
    "# dataset.normalize()\n",
    "# print(dataset.inputs.shape)\n",
    "# history_dict['normalize_mean'] = dataset.train_mean.tolist()\n",
    "# history_dict['normalize_std'] = dataset.train_std.tolist()\n",
    "# history_dict['dataset'] = (dataset.inputs.shape[0], dataset.inputs.shape[1])\n",
    "\n",
    "# # initialize train, val, test set\n",
    "# X_train = dataset[dataset.train_set.indices][0]\n",
    "# Y_train = dataset[dataset.train_set.indices][1]\n",
    "\n",
    "# X_val = dataset[dataset.val_set.indices][0]\n",
    "# Y_val = dataset[dataset.val_set.indices][1]\n",
    "\n",
    "# X_test = dataset[dataset.test_set.indices][0]\n",
    "# Y_test = dataset[dataset.test_set.indices][1]\n",
    "\n",
    "# # initialize NN model\n",
    "model = MLP(321, 7)\n",
    "model.initialize_weights()\n",
    "\n",
    "# # store model architecture\n",
    "# architecture = []\n",
    "# for name, layer in model.named_children():\n",
    "#     architecture.append(layer)\n",
    "# history_dict['architecture'] = architecture\n",
    "\n",
    "# loss function and optimizer\n",
    "loss_fn = nn.MSELoss()  # mean square error\n",
    "optimizer = optim.Adam(model.parameters(), lr=0.001, weight_decay=0.0001)\n",
    "\n",
    "# record optimizer\n",
    "lr = optimizer.param_groups[0]['lr']\n",
    "# history_dict['optimizer'] = f'{optimizer.__class__.__name__} {lr}'"
   ]
  },
  {
   "cell_type": "code",
   "execution_count": 7,
   "id": "9d50439c-c0a4-4fc8-bec8-de410db7167b",
   "metadata": {},
   "outputs": [
    {
     "data": {
      "text/plain": [
       "('Adam', 0.001)"
      ]
     },
     "execution_count": 7,
     "metadata": {},
     "output_type": "execute_result"
    }
   ],
   "source": [
    "optimizer.__class__.__name__, lr"
   ]
  },
  {
   "cell_type": "code",
   "execution_count": null,
   "id": "f973d19a-18f5-4576-9205-87968ee3def5",
   "metadata": {},
   "outputs": [],
   "source": []
  }
 ],
 "metadata": {
  "kernelspec": {
   "display_name": "Python 3 (ipykernel)",
   "language": "python",
   "name": "python3"
  },
  "language_info": {
   "codemirror_mode": {
    "name": "ipython",
    "version": 3
   },
   "file_extension": ".py",
   "mimetype": "text/x-python",
   "name": "python",
   "nbconvert_exporter": "python",
   "pygments_lexer": "ipython3",
   "version": "3.10.2"
  }
 },
 "nbformat": 4,
 "nbformat_minor": 5
}
