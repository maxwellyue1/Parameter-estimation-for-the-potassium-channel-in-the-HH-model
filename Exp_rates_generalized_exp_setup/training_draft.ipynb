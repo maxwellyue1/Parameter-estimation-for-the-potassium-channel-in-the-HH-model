{
 "cells": [
  {
   "cell_type": "code",
   "execution_count": 1,
   "metadata": {},
   "outputs": [],
   "source": [
    "import torch\n",
    "import csv\n",
    "import os\n",
    "import random\n",
    "import numpy as np\n",
    "from torch.utils.data import TensorDataset, DataLoader, random_split\n",
    "import pandas as pd\n",
    "from dataset_reader import Traces_Dataset\n",
    "from mlp_model import MLP\n",
    "import torch.nn as nn\n",
    "import torch.optim as optim\n",
    "import matplotlib.pyplot as plt\n",
    "import uuid"
   ]
  },
  {
   "cell_type": "code",
   "execution_count": 2,
   "metadata": {},
   "outputs": [
    {
     "name": "stdout",
     "output_type": "stream",
     "text": [
      "Experiment ID: 23523214\n"
     ]
    }
   ],
   "source": [
    "# initialize a dictionary of training history to store in a csv file\n",
    "history_dict = {}\n",
    "\n",
    "unique_id = str(uuid.uuid4())[:8]\n",
    "history_dict['unique_id'] = unique_id\n",
    "print(f'Experiment ID: {unique_id}')"
   ]
  },
  {
   "cell_type": "code",
   "execution_count": 3,
   "metadata": {},
   "outputs": [
    {
     "name": "stdout",
     "output_type": "stream",
     "text": [
      "Using device: cuda\n"
     ]
    }
   ],
   "source": [
    "# making training reproducible\n",
    "seed = 42\n",
    "random.seed(seed)\n",
    "np.random.seed(seed)\n",
    "torch.manual_seed(seed)\n",
    "torch.backends.cudnn.deterministic = True\n",
    "torch.backends.cudnn.benchmark = False\n",
    "history_dict['seed'] = seed\n",
    "\n",
    "device = torch.device('cuda' if torch.cuda.is_available() else 'cpu')  # Uncomment this line\n",
    "print(f\"Using device: {device}\")"
   ]
  },
  {
   "cell_type": "code",
   "execution_count": 4,
   "metadata": {},
   "outputs": [
    {
     "name": "stdout",
     "output_type": "stream",
     "text": [
      "torch.Size([2000000, 329])\n",
      "torch.Size([2000000, 321])\n"
     ]
    }
   ],
   "source": [
    "# load and process dataset \n",
    "dataset = Traces_Dataset('dataset2mil.csv')\n",
    "print(dataset.inputs.shape)\n",
    "dataset.split_dataset(0.95, 0.05, 0)\n",
    "dataset.clean_features()\n",
    "dataset.find_mean_std()\n",
    "dataset.normalize()\n",
    "print(dataset.inputs.shape)\n",
    "history_dict['normalize_mean'] = dataset.train_mean.tolist()\n",
    "history_dict['normalize_std'] = dataset.train_std.tolist()\n",
    "history_dict['dataset'] = (dataset.inputs.shape[0], dataset.inputs.shape[1])"
   ]
  },
  {
   "cell_type": "code",
   "execution_count": 5,
   "metadata": {
    "scrolled": true
   },
   "outputs": [
    {
     "data": {
      "text/plain": [
       "(torch.Size([2000000, 321]), torch.Size([2000000, 7]))"
      ]
     },
     "execution_count": 5,
     "metadata": {},
     "output_type": "execute_result"
    }
   ],
   "source": [
    "dataset.inputs.shape, dataset.params.shape"
   ]
  },
  {
   "cell_type": "code",
   "execution_count": 6,
   "metadata": {},
   "outputs": [],
   "source": [
    "# initialize train, val, test set\n",
    "X_train = dataset[dataset.train_set.indices][0]\n",
    "Y_train = dataset[dataset.train_set.indices][1]\n",
    "\n",
    "X_val = dataset[dataset.val_set.indices][0]\n",
    "Y_val = dataset[dataset.val_set.indices][1]\n",
    "\n",
    "X_test = dataset[dataset.test_set.indices][0]\n",
    "Y_test = dataset[dataset.test_set.indices][1]\n",
    "\n",
    "# initialize NN model\n",
    "model = MLP(dataset.inputs.shape[1], dataset.params.shape[1]).to(device)\n",
    "model.initialize_weights()"
   ]
  },
  {
   "cell_type": "code",
   "execution_count": 7,
   "metadata": {},
   "outputs": [
    {
     "data": {
      "text/plain": [
       "[Sequential(\n",
       "   (0): Linear(in_features=321, out_features=512, bias=True)\n",
       "   (1): SiLU()\n",
       "   (2): Linear(in_features=512, out_features=512, bias=True)\n",
       "   (3): SiLU()\n",
       "   (4): Linear(in_features=512, out_features=7, bias=True)\n",
       " )]"
      ]
     },
     "execution_count": 7,
     "metadata": {},
     "output_type": "execute_result"
    }
   ],
   "source": [
    "# store model architecture\n",
    "architecture = []\n",
    "for name, layer in model.named_children():\n",
    "    architecture.append(layer)\n",
    "history_dict['architecture'] = architecture\n",
    "architecture"
   ]
  },
  {
   "cell_type": "code",
   "execution_count": 8,
   "metadata": {},
   "outputs": [
    {
     "data": {
      "text/plain": [
       "'Adam 0.001'"
      ]
     },
     "execution_count": 8,
     "metadata": {},
     "output_type": "execute_result"
    }
   ],
   "source": [
    "# loss function and optimizer\n",
    "loss_fn = nn.MSELoss()  # mean square error\n",
    "optimizer = optim.Adam(model.parameters(), lr=0.001) \n",
    "\n",
    "# record optimizer\n",
    "lr = optimizer.param_groups[0]['lr']\n",
    "history_dict['optimizer'] = f'{optimizer.__class__.__name__} {lr}'\n",
    "history_dict['optimizer']"
   ]
  },
  {
   "cell_type": "code",
   "execution_count": 9,
   "metadata": {},
   "outputs": [],
   "source": [
    "# functions to save and load best nn model, and create an unique id to store the model\n",
    "def checkpoint(model, filename, folder='models'):\n",
    "    os.makedirs(folder, exist_ok=True)\n",
    "    filepath = os.path.join(folder, filename)\n",
    "    torch.save(model.state_dict(), filepath)\n",
    "    return filepath\n",
    "def resume(model, filepath):\n",
    "    model.load_state_dict(torch.load(filepath))"
   ]
  },
  {
   "cell_type": "code",
   "execution_count": 10,
   "metadata": {},
   "outputs": [
    {
     "name": "stdout",
     "output_type": "stream",
     "text": [
      "Number of model parameters: 431111\n"
     ]
    }
   ],
   "source": [
    "# this is a 1d vector containing all weight in the nn model, no bias included. \n",
    "def weights_1d(model): \n",
    "    # Get parameters with gradients\n",
    "    parameters_with_grad = [param for param in model.parameters() if param.requires_grad]\n",
    "    # Concatenate parameters into a 1D tensor\n",
    "    flat_parameters = torch.cat([param.view(-1) for param in parameters_with_grad])\n",
    "    return flat_parameters\n",
    "print(f'Number of model parameters: {weights_1d(model).shape[0]}')\n",
    "weights_change_updates = np.array([])  # using numpy array to save memory \n",
    "weights_change_epochs = []"
   ]
  },
  {
   "cell_type": "code",
   "execution_count": 11,
   "metadata": {},
   "outputs": [],
   "source": [
    "# training parameters\n",
    "n_epochs = 300   # number of epochs to run\n",
    "batch_size = 1024  # size of each batch\n",
    "history_dict['epochs'] = n_epochs\n",
    "history_dict['batch size'] = batch_size"
   ]
  },
  {
   "cell_type": "code",
   "execution_count": 12,
   "metadata": {},
   "outputs": [],
   "source": [
    "# initialize dataloader \n",
    "train_dataset = TensorDataset(X_train, Y_train)\n",
    "train_loader = DataLoader(train_dataset, batch_size=batch_size, shuffle=True)\n",
    "\n",
    "val_dataset = TensorDataset(X_val, Y_val)\n",
    "val_loader = DataLoader(val_dataset, batch_size=batch_size, shuffle=True)\n",
    "\n",
    "# initialization train, val losses\n",
    "train_losses = []\n",
    "val_losses = []\n",
    "\n",
    "best_validation_loss = float('inf')"
   ]
  },
  {
   "cell_type": "code",
   "execution_count": 13,
   "metadata": {},
   "outputs": [
    {
     "name": "stdout",
     "output_type": "stream",
     "text": [
      "1: train-62.996370259030115, val-19.088517675594407\n",
      "2: train-15.037727444336332, val-10.879216875348773\n",
      "3: train-8.683378277924554, val-8.880475550281759\n",
      "4: train-6.417414477416154, val-5.442385493492593\n",
      "5: train-5.214575350541493, val-6.105018119422757\n",
      "6: train-4.529012566111211, val-4.718318374789491\n",
      "7: train-3.9947917564161894, val-2.944160531978218\n",
      "8: train-3.6693888465906013, val-2.830274362953342\n",
      "9: train-3.407837216196389, val-2.9398970141702767\n",
      "10: train-3.23466879489093, val-2.4330214821562475\n",
      "11: train-3.0497245289513777, val-4.987603352994335\n",
      "12: train-2.88396451224027, val-2.1530691908330333\n",
      "13: train-2.790607750929635, val-2.722707906547858\n",
      "14: train-2.728369351926035, val-2.106310226479355\n",
      "15: train-2.6227234413140805, val-4.39133139045871\n",
      "16: train-2.5206242894818045, val-2.421000045173022\n",
      "17: train-2.4476460007115683, val-2.492729807386593\n",
      "18: train-2.370259619221605, val-1.7092770155595274\n",
      "19: train-2.3471571151809445, val-2.246262774175527\n",
      "20: train-2.3155997328717133, val-1.5936389419497277\n",
      "21: train-2.1896877272761075, val-2.930491257687004\n",
      "22: train-2.1435034268632016, val-1.6089546218210338\n",
      "23: train-2.2344778515398502, val-1.3915133305958338\n",
      "24: train-2.0720226352649003, val-2.0226033865189064\n",
      "25: train-2.004650616568738, val-3.541450719444119\n",
      "26: train-2.000857605470409, val-1.5418034645975853\n",
      "27: train-1.9675405639191639, val-2.284340814668305\n",
      "28: train-1.936923004044541, val-1.4405529377411823\n",
      "29: train-1.8498410050403968, val-1.2152621113524145\n",
      "30: train-1.8663073789392566, val-1.4797490652726621\n",
      "31: train-1.7474732419861287, val-3.0449212254310143\n",
      "32: train-1.8729470304438267, val-2.2507994625033163\n",
      "33: train-1.7428266944941775, val-1.292751363345555\n",
      "34: train-1.7655472864942818, val-1.3669007761137826\n",
      "35: train-1.6733916710484131, val-1.3452817006986968\n",
      "36: train-1.6827895507087995, val-2.466253959402746\n",
      "37: train-1.6076177948893144, val-1.6669686424488923\n",
      "38: train-1.5756842343393584, val-1.1816891857555933\n",
      "39: train-1.5871270910740412, val-1.0370493549473432\n",
      "40: train-1.575715501182552, val-1.3486482184760424\n",
      "41: train-1.5525984714321535, val-1.5243396090001475\n",
      "42: train-1.5049913901321847, val-1.2741383362789542\n",
      "43: train-1.502495388307705, val-1.7499434595205345\n",
      "44: train-1.4816543308311496, val-1.0775444063605095\n",
      "45: train-1.4449467441902077, val-1.0751508516924722\n",
      "46: train-1.4329593689983775, val-1.4521807638966306\n",
      "47: train-1.4189208591806477, val-1.6844986969110918\n",
      "48: train-1.5217660144613734, val-1.0945923997431386\n",
      "49: train-1.3791540157178352, val-1.902167218072074\n",
      "50: train-1.4082722787199349, val-0.8450846951835009\n",
      "51: train-1.3884766555616055, val-1.0559307081358773\n",
      "52: train-1.3294134401106115, val-1.7150449740643403\n",
      "53: train-1.3295954797288467, val-1.267305548093757\n",
      "54: train-1.3432626452232743, val-1.4691720483254413\n",
      "55: train-1.2898967579842127, val-1.7513229165758406\n",
      "56: train-1.2775040402173483, val-1.8196631511863397\n",
      "57: train-1.3611662218282963, val-1.0832965453060306\n",
      "58: train-1.2537286076534153, val-0.9405265268014402\n",
      "59: train-1.304390600850356, val-1.0382580416543143\n",
      "60: train-1.2325462697973024, val-5.86718226452263\n",
      "61: train-1.2302886274289981, val-1.1908816111331084\n",
      "62: train-1.2344246505406395, val-2.6421858412878856\n",
      "63: train-1.208768803289096, val-1.0588354066926606\n",
      "64: train-1.234278829928873, val-1.0271431542172724\n",
      "65: train-1.19989447518862, val-1.4443037400440293\n",
      "66: train-1.1671473898057794, val-1.3186570722229627\n",
      "67: train-1.1457159387204667, val-0.7777997115436865\n",
      "68: train-1.1705265158209308, val-1.1312561345343688\n",
      "69: train-1.1138064329640875, val-2.2637297036696453\n",
      "70: train-1.138699226787892, val-1.2960355257501408\n",
      "71: train-1.1550435786585098, val-1.5821506928424447\n",
      "72: train-1.133434897176279, val-2.8029341965305563\n",
      "73: train-1.0942088630018305, val-1.5562109399814994\n",
      "74: train-1.09933213634288, val-1.0865382874498561\n",
      "75: train-1.0778968387989905, val-0.7588444394724709\n",
      "76: train-1.0731352298231474, val-1.3965653339210822\n",
      "77: train-1.1094909026126922, val-0.8698147492749351\n",
      "78: train-1.0926156736235937, val-1.0528797562025032\n",
      "79: train-1.0230929501964872, val-0.7623149430265233\n",
      "80: train-1.0826768305249, val-1.1180138673101152\n",
      "81: train-1.0456991154893205, val-1.3374584402356828\n",
      "82: train-1.0314527111577576, val-0.7014873976610145\n",
      "83: train-1.0202045755717775, val-2.6372525156760704\n",
      "84: train-1.0745047779978607, val-0.6200554002912677\n",
      "85: train-0.9933432485619239, val-0.6453730044316273\n",
      "86: train-1.0347490767498726, val-1.5375590774477745\n",
      "87: train-0.996789612614646, val-3.0021010004744237\n",
      "88: train-0.9889575225012056, val-0.8904986685636093\n",
      "89: train-0.9836903394617397, val-0.540165192618662\n",
      "90: train-0.969547881070396, val-1.060550209819054\n",
      "91: train-0.985634148731057, val-1.1817960362045132\n",
      "92: train-0.943090587051521, val-0.6780273056760127\n",
      "93: train-0.9843115136990773, val-0.7966575245467984\n",
      "94: train-0.9173136954195797, val-0.5503637662955693\n",
      "95: train-0.9462017106887852, val-1.492350300964044\n",
      "96: train-0.9084208284440483, val-0.8287357091903687\n",
      "97: train-0.9253519319062089, val-0.5419448045443516\n",
      "98: train-0.9397355736040607, val-2.46891488591019\n",
      "99: train-0.8889073723092161, val-0.6676720763955798\n",
      "100: train-0.9202018467516735, val-0.5192992057727308\n",
      "101: train-0.9116590766974821, val-0.9152664341488663\n",
      "102: train-0.9094599881209433, val-1.069581961753417\n",
      "103: train-0.896365749617589, val-0.6153735086625937\n",
      "104: train-0.8678606087341905, val-1.2671875649568987\n",
      "105: train-0.8557815630438512, val-0.9001062427248273\n",
      "106: train-0.9168211873299603, val-1.1886764357284623\n",
      "107: train-0.8857368427842599, val-0.9983722914238365\n",
      "108: train-0.8624434264794248, val-1.404322972103041\n",
      "109: train-0.8662452977632398, val-0.9509033524260229\n",
      "110: train-0.8456018850175214, val-1.1554853806690293\n",
      "111: train-0.8425564814102033, val-1.3868062155587333\n",
      "112: train-0.8258806388375575, val-1.3966453683619597\n",
      "113: train-0.848573157756493, val-1.9379226127449347\n",
      "114: train-0.8343014107888629, val-1.0921386638466193\n",
      "115: train-0.8166280183138261, val-0.6153199599713696\n",
      "116: train-0.8142271983148209, val-0.47703074922367017\n",
      "117: train-0.8241819869726896, val-0.6541496448370875\n",
      "118: train-0.8158634998996196, val-0.6580073261747554\n",
      "119: train-0.820049659108165, val-0.736847063716577\n",
      "120: train-0.7849588280640029, val-0.9384577481114135\n",
      "121: train-0.8109604326269493, val-0.5761231697943746\n",
      "122: train-0.7979363532223064, val-0.9012680905205863\n",
      "123: train-0.8223310695672087, val-0.8508672033037458\n",
      "124: train-0.766409307830678, val-1.0678937921718674\n",
      "125: train-0.7942093062086095, val-0.5583641912255969\n",
      "126: train-0.8173528239291546, val-0.5021503230138701\n",
      "127: train-0.7943519989253375, val-0.48493645142535774\n",
      "128: train-0.7499326984076922, val-0.8417028991543517\n",
      "129: train-0.7671889206555126, val-1.1474437141905025\n",
      "130: train-0.7571675579448969, val-0.5239442456133512\n",
      "131: train-0.7585578359791945, val-0.8394241089723549\n",
      "132: train-0.7443680604116927, val-0.73926386723713\n",
      "133: train-0.7557345798062481, val-0.9619153750186064\n",
      "134: train-0.7599157293102351, val-0.5682981141975948\n",
      "135: train-0.7449489851835472, val-0.5216746579627601\n",
      "136: train-0.743537132740663, val-0.9856426502977099\n",
      "137: train-0.7496193115888484, val-0.7273866886995277\n",
      "138: train-0.7705034969599339, val-0.550699100506549\n",
      "139: train-0.723950797089793, val-0.9216520920091745\n",
      "140: train-0.7196654915841746, val-0.49535321216193995\n",
      "141: train-0.7150634810456942, val-0.7920165518108679\n",
      "142: train-0.7599712704340446, val-0.9683895767951498\n",
      "143: train-0.7030390202035678, val-0.6470293311440215\n",
      "144: train-0.7229625737968961, val-0.39460872569862676\n",
      "145: train-0.7122186323113996, val-0.6714462035772751\n",
      "146: train-0.6944947575122632, val-0.4304993797321709\n",
      "147: train-0.7176482004980589, val-0.6430983129812746\n",
      "148: train-0.696868748195341, val-0.5979047156110102\n",
      "149: train-0.7458873628638685, val-0.6465098161478432\n",
      "150: train-0.6919367904694558, val-0.547258626137461\n",
      "151: train-0.697284533449545, val-0.44781629619549734\n",
      "152: train-0.6710127479926651, val-0.9636910010357292\n",
      "153: train-0.6980796934683519, val-0.5843947323001161\n",
      "154: train-0.6977600156377745, val-0.5479519397628551\n",
      "155: train-0.6822239926791397, val-0.45235442202918386\n",
      "156: train-0.6707064040197894, val-0.940445314864723\n",
      "157: train-0.6857041392057878, val-0.5887764065849538\n",
      "158: train-0.6702684740905233, val-0.8241058886051178\n",
      "159: train-0.7038552351617093, val-0.854281526439044\n",
      "160: train-0.671892125946309, val-1.3091872675078255\n",
      "161: train-0.6476614498292449, val-0.5111265535257301\n",
      "162: train-0.6729229936328042, val-0.5952421256474086\n",
      "163: train-0.6958888118187415, val-0.5142552353897873\n",
      "164: train-0.6587653295056701, val-0.49501578509807587\n",
      "165: train-0.6531555043966991, val-0.6342954115600002\n",
      "166: train-0.6800480581787897, val-0.5608175260071852\n",
      "167: train-0.6454626390758645, val-1.0137721038594538\n",
      "168: train-0.6517473964646844, val-0.9384424193781249\n",
      "169: train-0.6561594201524839, val-0.46457131450273553\n",
      "170: train-0.6498881665797069, val-0.7924205879775845\n",
      "171: train-0.6517143169867581, val-0.31330448510695474\n",
      "172: train-0.6476735501983685, val-1.2005454891798448\n",
      "173: train-0.6448036641572955, val-0.4897964104097717\n",
      "174: train-0.6539164135184395, val-0.5196663557874913\n",
      "175: train-0.6369188597811193, val-1.1946577107419774\n",
      "176: train-0.6263249538646176, val-0.8861375809932241\n",
      "177: train-0.6340634417318707, val-0.5529263609526108\n",
      "178: train-0.6090244467707415, val-0.8617450035348231\n",
      "179: train-0.6234168240816558, val-1.3503254530381184\n",
      "180: train-0.6550078069197078, val-0.9353892876177418\n",
      "181: train-0.6228997065075512, val-0.8453370381374748\n",
      "182: train-0.5978660395304705, val-0.5604955958468574\n",
      "183: train-0.6011825177641906, val-0.43077764462451545\n",
      "184: train-0.6329262626501893, val-0.868425369870906\n",
      "185: train-0.6076240578007981, val-0.34902810503025444\n",
      "186: train-0.6134076327535098, val-0.6483441767643909\n",
      "187: train-0.6029082441156537, val-0.7956804079668862\n",
      "188: train-0.5939674760728818, val-0.49122100551517645\n",
      "189: train-0.5885464490856975, val-0.8071248117758303\n",
      "190: train-0.6073583730111092, val-0.49540974260592946\n",
      "191: train-0.5996382965882919, val-0.6649556537063754\n",
      "192: train-0.573693310368228, val-0.7401922016727681\n",
      "193: train-0.5660877259897774, val-0.8165492579645041\n",
      "194: train-0.6340706971040445, val-2.0700019269573446\n",
      "195: train-0.5984025093935559, val-0.4236371988544659\n",
      "196: train-0.5995603517452576, val-0.4867014237204377\n",
      "197: train-0.580694847154142, val-0.3709197537023194\n",
      "198: train-0.5959552192883887, val-0.7057290521203256\n",
      "199: train-0.5993159816215008, val-0.31431744977527737\n",
      "200: train-0.5973454999801671, val-0.6688555032014847\n",
      "201: train-0.5789195645343641, val-0.49670687926058865\n",
      "202: train-0.5730445693760854, val-0.7141953579017094\n",
      "203: train-0.5797573671804677, val-0.30980232205926156\n",
      "204: train-0.5747769041597073, val-1.1124658025040919\n",
      "205: train-0.5716819217557023, val-0.5074365698561376\n",
      "206: train-0.5782127700954804, val-0.9552751280823533\n",
      "207: train-0.5436507984433837, val-0.5480088755792502\n",
      "208: train-0.5571014518319661, val-0.4619310039038561\n",
      "209: train-0.5593574924137572, val-0.6659762324119101\n",
      "210: train-0.5566301775598449, val-0.5651476465317667\n",
      "211: train-0.5798910829110135, val-1.1598700625555856\n",
      "212: train-0.5664558892523677, val-0.653563950742994\n",
      "213: train-0.5428028315594741, val-0.9960220839296069\n",
      "214: train-0.5655257410996047, val-0.3940834859196021\n",
      "215: train-0.57167188522149, val-0.39976195595702346\n",
      "216: train-0.5614538585108801, val-0.43769849745594724\n",
      "217: train-0.546488780841424, val-1.3251526088130718\n",
      "218: train-0.5499947704294503, val-0.5147301360052459\n",
      "219: train-0.5413437821292157, val-0.45012628484745415\n",
      "220: train-0.5594111797801251, val-0.30062058339921793\n",
      "221: train-0.5264875465313551, val-1.3007554715993452\n",
      "222: train-0.5318771687834042, val-0.6761837978752292\n",
      "223: train-0.560580512958354, val-0.392206034185935\n",
      "224: train-0.5346189156447634, val-0.4955000567192934\n",
      "225: train-0.545864672632888, val-0.8062452041372961\n",
      "226: train-0.5185463575100333, val-1.0869016659503081\n",
      "227: train-0.5416613009613778, val-1.3178279180915988\n",
      "228: train-0.5235973385178709, val-0.31215170436367695\n",
      "229: train-0.5225779698551472, val-0.36767392255822007\n",
      "230: train-0.5262245126630597, val-0.3515840251835025\n",
      "231: train-0.5180784008256962, val-0.5098868328697828\n",
      "232: train-0.5216932063681426, val-0.47881724943920057\n",
      "233: train-0.5225487649360478, val-0.5816757016035975\n",
      "234: train-0.5285707142220104, val-2.29321751910813\n",
      "235: train-0.5020764752146627, val-0.3101511840917626\n",
      "236: train-0.5180118472781032, val-0.629801829858702\n",
      "237: train-0.5248878267031677, val-0.4323629603093984\n",
      "238: train-0.5223809068556875, val-1.1868897378444672\n",
      "239: train-0.5166616100448601, val-0.3159508423841729\n",
      "240: train-0.4982872177156267, val-0.3837585351905044\n",
      "241: train-0.5064566787573156, val-0.40786276636075003\n",
      "242: train-0.5182485913713302, val-0.3873205802270344\n",
      "243: train-0.49576629208529305, val-0.3700001273228198\n",
      "244: train-0.5013724600350291, val-0.4491948302911252\n",
      "245: train-0.4999060254816994, val-0.3558604160741884\n",
      "246: train-0.5147866637381757, val-0.531438655086926\n",
      "247: train-0.48085750146479955, val-0.5685998736595621\n",
      "248: train-0.50615127122126, val-0.5396620552150571\n",
      "249: train-0.5122496258017832, val-0.391970512818317\n",
      "250: train-0.4976902892010222, val-0.42332943544095875\n",
      "251: train-0.49831621457244557, val-0.4231388219157044\n",
      "252: train-0.5301052896097174, val-0.5583661490557145\n",
      "253: train-0.49252293909225486, val-0.5228489506609586\n",
      "254: train-0.5286926402196545, val-0.6891443048204694\n",
      "255: train-0.47142245154827833, val-0.6609606536067262\n",
      "256: train-0.49424940421535024, val-0.6902747689461222\n",
      "257: train-0.4844088108471498, val-0.42927268938142427\n",
      "258: train-0.48613112455169705, val-0.3887862292479496\n",
      "259: train-0.4874127957777217, val-0.6428684275977465\n",
      "260: train-0.4981390910367642, val-0.5917989356177193\n",
      "261: train-0.47882654381402096, val-0.8063696191018942\n",
      "262: train-0.48835268160649414, val-0.37254523501104236\n",
      "263: train-0.4798119077940696, val-0.45404621259290345\n",
      "264: train-0.48347708371724807, val-0.3043111945901598\n",
      "265: train-0.4960113014335391, val-1.0912392048203214\n",
      "266: train-0.4801949613711572, val-0.5900994803832502\n",
      "267: train-0.4794536116452695, val-0.42547005445373304\n",
      "268: train-0.5038221665369026, val-0.7637654609826147\n",
      "269: train-0.47728249607286577, val-0.3284720044050898\n",
      "270: train-0.45819440637394016, val-0.5019863199214546\n",
      "271: train-0.4648229978288171, val-0.38390335075709286\n",
      "272: train-0.4826033664546136, val-0.3539924822291549\n",
      "273: train-0.4632742391369338, val-0.28087590026612186\n",
      "274: train-0.4768846964158503, val-0.5757819359399834\n",
      "275: train-0.4606830596538453, val-0.8852768412658146\n",
      "276: train-0.47648323096078016, val-0.38629874921574886\n",
      "277: train-0.44290784768888664, val-0.6424812382581283\n",
      "278: train-0.4733815543947677, val-0.3220723380847853\n",
      "279: train-0.4717982082451084, val-0.34576879502559194\n",
      "280: train-0.47677984432285203, val-0.3427932219845908\n",
      "281: train-0.45263185360115665, val-0.461600090776171\n",
      "282: train-0.4428948495248011, val-0.2928037964263741\n",
      "283: train-0.4674356686641815, val-0.5647619102074175\n",
      "284: train-0.466697634615261, val-0.31934275934282613\n",
      "285: train-0.4647093584022388, val-0.4831756405076202\n",
      "286: train-0.43815720315765716, val-0.5310344376734325\n",
      "287: train-0.46724111207857216, val-0.5233831360023848\n",
      "288: train-0.4524416535177493, val-0.27258965464270846\n",
      "289: train-0.44369416679897955, val-0.6665177552067504\n",
      "290: train-0.46791291579700495, val-0.6311480792201295\n",
      "291: train-0.4512207435026508, val-0.36345228096660304\n",
      "292: train-0.4451025787516144, val-1.6367687923567635\n",
      "293: train-0.45300302965213257, val-0.6305316382524918\n",
      "294: train-0.45344774228328005, val-0.3636737243861568\n",
      "295: train-0.46216588864777364, val-0.40004439560734495\n",
      "296: train-0.43723787059044017, val-0.32921755374694356\n",
      "297: train-0.44616044624226875, val-0.2505846440183873\n",
      "298: train-0.4319317120143437, val-0.6590441203847224\n",
      "299: train-0.4555011311433567, val-0.5884945927834024\n",
      "300: train-0.43500579725790384, val-0.285700119423623\n"
     ]
    }
   ],
   "source": [
    "# record the weights with no training\n",
    "# with torch.no_grad():\n",
    "#     previous_weights_epoch = weights_1d(model)\n",
    "\n",
    "# Training loop\n",
    "for epoch in range(1, n_epochs + 1):\n",
    "    model.train()  # Set the model to training mode\n",
    "    total_loss = 0.0\n",
    "\n",
    "    for inputs, labels in train_loader:\n",
    "        inputs, labels = inputs.to(device), labels.to(device)\n",
    "        optimizer.zero_grad()  # Zero the gradients\n",
    "        outputs = model(inputs)  # Forward pass\n",
    "        loss = loss_fn(outputs, labels)  # Calculate the loss\n",
    "        loss.backward()  # Backward pass\n",
    "        optimizer.step()  # Update weights\n",
    "\n",
    "        # record the weights changes across each updates (batches)\n",
    "        # with torch.no_grad():\n",
    "        #     current_weights = weights_1d(model)\n",
    "        #     if 'previous_weights' in locals():\n",
    "        #         weight_change = torch.norm(current_weights - previous_weights).item()#.cpu()\n",
    "        #         weights_change_updates = np.append(weights_change_updates, weight_change)\n",
    "        #     previous_weights = current_weights\n",
    "\n",
    "        total_loss += loss.item()\n",
    "\n",
    "    # Average training loss for the epoch\n",
    "    avg_train_loss = total_loss / len(train_loader)\n",
    "    train_losses.append(avg_train_loss)\n",
    "\n",
    "    # Validation loop\n",
    "    model.eval()  # Set the model to evaluation mode\n",
    "    total_val_loss = 0.0\n",
    "\n",
    "    with torch.no_grad():  # Disable gradient calculation during validation\n",
    "        # record the weights change across epochs\n",
    "        # current_weights_epoch = weights_1d(model)\n",
    "        # if 'previous_weights_epoch' in locals():\n",
    "        #     weight_change_epoch = torch.norm(current_weights_epoch - previous_weights_epoch).item()#.cpu()\n",
    "        #     weights_change_epochs.append(weight_change_epoch)\n",
    "        # previous_weights_epoch = current_weights_epoch\n",
    "\n",
    "        # validation\n",
    "        for val_inputs, val_labels in val_loader:\n",
    "            val_inputs, val_labels = val_inputs.to(device), val_labels.to(device)\n",
    "            val_outputs = model(val_inputs)\n",
    "            val_loss = loss_fn(val_outputs, val_labels)\n",
    "            total_val_loss += val_loss.item()\n",
    "\n",
    "    # Average validation loss for the epoch\n",
    "    avg_val_loss = total_val_loss / len(val_loader)\n",
    "    val_losses.append(avg_val_loss)\n",
    "\n",
    "    print(f'{epoch}: train-{avg_train_loss}, val-{avg_val_loss}')\n",
    "\n",
    "    # saving the model with best training mse\n",
    "    # if len(train_losses) != 1:\n",
    "    #     if avg_train_loss < train_losses[-2]: \n",
    "    #         best_loss = avg_train_loss\n",
    "    #         best_epoch = epoch\n",
    "    #         model_path = checkpoint(model, f\"model_{unique_id}.pth\")\n",
    "    if avg_val_loss < best_validation_loss:\n",
    "        best_epoch = epoch\n",
    "        model_path = checkpoint(model, f\"model_{unique_id}.pth\")\n",
    "        best_training_loss = avg_train_loss\n",
    "        best_validation_loss = avg_val_loss"
   ]
  },
  {
   "cell_type": "code",
   "execution_count": 14,
   "metadata": {},
   "outputs": [],
   "source": [
    "# record training, validationg losses, weight updates, and the result model path\n",
    "history_dict['best_epoch'] = best_epoch\n",
    "history_dict['best_val'] = best_validation_loss\n",
    "history_dict['best_train'] = best_training_loss\n",
    "history_dict['training'] = train_losses\n",
    "history_dict['validation'] = val_losses\n",
    "history_dict['weights'] = weights_change_epochs\n",
    "history_dict['model'] = model_path"
   ]
  },
  {
   "cell_type": "code",
   "execution_count": 15,
   "metadata": {},
   "outputs": [],
   "source": [
    "def experiment_records(row_data, file_path = 'experiment records.csv'): \n",
    "    '''\n",
    "    row_data is a dictionary of the row_data we want to store\n",
    "    '''\n",
    "    # Check if the file exists\n",
    "    file_exists = os.path.isfile(file_path)\n",
    "\n",
    "    with open(file_path, mode='a' if file_exists else 'w', newline='') as csv_file:\n",
    "        # Create a CSV writer object\n",
    "        csv_writer = csv.writer(csv_file)\n",
    "\n",
    "        # If the file is newly created, write the header row\n",
    "        if not file_exists:\n",
    "            header_row = row_data.keys() if isinstance(row_data, dict) else row_data\n",
    "            csv_writer.writerow(header_row)\n",
    "\n",
    "        # Write the data row\n",
    "        if isinstance(row_data, dict):\n",
    "            csv_writer.writerow(row_data.values())\n",
    "        else:\n",
    "            csv_writer.writerow(row_data)"
   ]
  },
  {
   "cell_type": "code",
   "execution_count": 16,
   "metadata": {},
   "outputs": [],
   "source": [
    "experiment_records(history_dict)"
   ]
  },
  {
   "cell_type": "code",
   "execution_count": 17,
   "metadata": {},
   "outputs": [
    {
     "name": "stdout",
     "output_type": "stream",
     "text": [
      "Best validation loss: 0.22380348806046257, at epoch: 298\n",
      "Number of total training samples:  2343393\n"
     ]
    }
   ],
   "source": [
    "print(f\"Best validation loss: {best_validation_loss}, at epoch: {best_epoch}\")\n",
    "#print(\"RMSE: %.2f\" % np.sqrt(best_mse))\n",
    "print('Number of total training samples: ', X_train.shape[0])"
   ]
  },
  {
   "cell_type": "code",
   "execution_count": 18,
   "metadata": {},
   "outputs": [
    {
     "data": {
      "text/plain": [
       "(0.0, 10.0)"
      ]
     },
     "execution_count": 18,
     "metadata": {},
     "output_type": "execute_result"
    },
    {
     "data": {
      "image/png": "[encoded data removed]",
      "text/plain": [
       "<Figure size 640x480 with 1 Axes>"
      ]
     },
     "metadata": {},
     "output_type": "display_data"
    }
   ],
   "source": [
    "plt.plot(train_losses, label='train_history')\n",
    "plt.plot(val_losses, label = 'val_history')\n",
    "plt.legend()\n",
    "plt.ylim(0, 10)"
   ]
  },
  {
   "cell_type": "code",
   "execution_count": 19,
   "metadata": {},
   "outputs": [
    {
     "data": {
      "image/png": "[encoded data removed]",
      "text/plain": [
       "<Figure size 640x480 with 1 Axes>"
      ]
     },
     "metadata": {},
     "output_type": "display_data"
    }
   ],
   "source": [
    "os.makedirs('train_figures', exist_ok=True)\n",
    "plt.figure()  # Create a new figure\n",
    "plt.plot(train_losses, label='train_history')\n",
    "#plt.plot(train_loss_history, label='train_history')\n",
    "plt.plot(val_losses, label = 'val_history')\n",
    "plt.legend()\n",
    "#plt.ylim(100, 300)\n",
    "#plt.xlim(0,10)\n",
    "plt.savefig(f'train_figures/{unique_id}.png')\n",
    "\n",
    "# os.makedirs('weights_figures', exist_ok=True)\n",
    "# plt.figure()  # Create a new figure\n",
    "# plt.plot(weights_change_updates, label = 'norm_weights_diff') \n",
    "# plt.xlabel('Epoch')\n",
    "# plt.ylabel('Norm of diff in model weights across batch updates')\n",
    "# plt.legend()\n",
    "# plt.savefig(f'weights_figures/updates {unique_id}.png')\n",
    "\n",
    "# plt.figure()  # Create a new figure\n",
    "# plt.plot(weights_change_epochs, label = 'norm_weights_diff') \n",
    "# plt.xlabel('Epoch')\n",
    "# plt.ylabel('Norm of diff in model weights across epochs')\n",
    "# plt.legend()\n",
    "# plt.savefig(f'weights_figures/epochs {unique_id}.png')\n",
    "\n",
    "# print(train_losses)\n",
    "# print(weights_change_epochs)"
   ]
  },
  {
   "cell_type": "code",
   "execution_count": null,
   "metadata": {},
   "outputs": [],
   "source": []
  },
  {
   "cell_type": "code",
   "execution_count": null,
   "metadata": {},
   "outputs": [],
   "source": []
  },
  {
   "cell_type": "markdown",
   "metadata": {},
   "source": [
    "Test the model"
   ]
  },
  {
   "cell_type": "code",
   "execution_count": 20,
   "metadata": {},
   "outputs": [],
   "source": [
    "from dataset_reader import Traces_Dataset\n",
    "from mlp_model import MLP\n",
    "import ast\n",
    "import numpy as np\n",
    "import pandas as pd\n",
    "import csv\n",
    "import os\n",
    "import random\n",
    "import torch\n",
    "# load and process dataset \n",
    "dataset_test = Traces_Dataset('dataset_test.csv')"
   ]
  },
  {
   "cell_type": "code",
   "execution_count": 21,
   "metadata": {},
   "outputs": [],
   "source": [
    "exp_narva_df = pd.read_csv('experiment records.csv')\n",
    "# define the index of experiemnt (model)\n",
    "num_experiment = 0"
   ]
  },
  {
   "cell_type": "code",
   "execution_count": 22,
   "metadata": {},
   "outputs": [],
   "source": [
    "normalized_mean = torch.tensor(ast.literal_eval(exp_narva_df['normalize_mean'][num_experiment]))\n",
    "normalized_std = torch.tensor(ast.literal_eval(exp_narva_df['normalize_std'][num_experiment]))\n",
    "\n",
    "dataset_test.clean_features()\n",
    "dataset_test.normalize_test(normalized_mean, normalized_std)\n",
    "\n",
    "target_params = dataset_test.params"
   ]
  },
  {
   "cell_type": "code",
   "execution_count": 23,
   "metadata": {},
   "outputs": [
    {
     "data": {
      "text/plain": [
       "<All keys matched successfully>"
      ]
     },
     "execution_count": 23,
     "metadata": {},
     "output_type": "execute_result"
    }
   ],
   "source": [
    "# Specify the path to your saved model\n",
    "model_path = exp_narva_df['model'][num_experiment]\n",
    "\n",
    "# Load the model with map_location\n",
    "device = torch.device('cpu')  # Map tensors to CPU\n",
    "model = torch.load(model_path, map_location=device)\n",
    "model = MLP(dataset_test.inputs.shape[1])\n",
    "\n",
    "model.load_state_dict(torch.load(exp_narva_df['model'][num_experiment], map_location=device))"
   ]
  },
  {
   "cell_type": "code",
   "execution_count": 24,
   "metadata": {},
   "outputs": [
    {
     "data": {
      "text/plain": [
       "(torch.Size([1000, 7]), torch.Size([1000, 7]))"
      ]
     },
     "execution_count": 24,
     "metadata": {},
     "output_type": "execute_result"
    }
   ],
   "source": [
    "estimated_params = model(dataset_test.inputs)\n",
    "estimated_params.shape, target_params.shape"
   ]
  },
  {
   "cell_type": "code",
   "execution_count": 25,
   "metadata": {},
   "outputs": [],
   "source": [
    "mse_each_param = (estimated_params - target_params)**2\n",
    "avg_mse_each_param = torch.mean((estimated_params - target_params)**2, dim=0)\n",
    "overall_mse = torch.mean(avg_mse_each_param)\n",
    "avg_re_each_param = torch.mean(((estimated_params - target_params)/target_params)**2, dim=0)\n",
    "overall_re = torch.mean(avg_re_each_param)\n"
   ]
  },
  {
   "cell_type": "code",
   "execution_count": 26,
   "metadata": {},
   "outputs": [
    {
     "data": {
      "text/plain": [
       "(tensor([0.0025, 0.6481, 1.0226, 0.0299, 0.0730, 0.0014, 0.0098],\n",
       "        grad_fn=<MeanBackward1>),\n",
       " tensor(0.2553, grad_fn=<MeanBackward0>))"
      ]
     },
     "execution_count": 26,
     "metadata": {},
     "output_type": "execute_result"
    }
   ],
   "source": [
    "avg_mse_each_param, overall_mse"
   ]
  },
  {
   "cell_type": "code",
   "execution_count": 27,
   "metadata": {},
   "outputs": [
    {
     "data": {
      "text/plain": [
       "(tensor([5.8448e-04, 4.9033e-05, 1.4570e-04, 1.8186e-02, 9.3434e-03, 2.8343e+00,\n",
       "         1.1329e-04], grad_fn=<MeanBackward1>),\n",
       " tensor(0.4090, grad_fn=<MeanBackward0>))"
      ]
     },
     "execution_count": 27,
     "metadata": {},
     "output_type": "execute_result"
    }
   ],
   "source": [
    "avg_re_each_param, overall_re"
   ]
  },
  {
   "cell_type": "code",
   "execution_count": 28,
   "metadata": {},
   "outputs": [
    {
     "data": {
      "text/plain": [
       "(tensor([0.0346, 0.5157, 0.5826, 0.1218, 0.1832, 0.0315, 0.0716],\n",
       "        grad_fn=<MeanBackward1>),\n",
       " tensor([0.0160, 0.0043, 0.0073, 0.0620, 0.0260, 0.2843, 0.0073],\n",
       "        grad_fn=<MeanBackward1>))"
      ]
     },
     "execution_count": 28,
     "metadata": {},
     "output_type": "execute_result"
    }
   ],
   "source": [
    "mae_params = torch.mean(torch.abs(estimated_params - target_params), dim=0)\n",
    "mape_params = torch.mean(torch.abs((estimated_params - target_params)/target_params), dim=0)\n",
    "mae_params, mape_params"
   ]
  },
  {
   "cell_type": "code",
   "execution_count": 29,
   "metadata": {},
   "outputs": [
    {
     "data": {
      "text/plain": [
       "tensor(0.0582, grad_fn=<MeanBackward0>)"
      ]
     },
     "execution_count": 29,
     "metadata": {},
     "output_type": "execute_result"
    }
   ],
   "source": [
    "torch.mean(mape_params)"
   ]
  },
  {
   "cell_type": "code",
   "execution_count": null,
   "metadata": {},
   "outputs": [],
   "source": []
  },
  {
   "cell_type": "code",
   "execution_count": 35,
   "metadata": {},
   "outputs": [],
   "source": [
    "import pandas as pd\n",
    "\n",
    "# Read the CSV file into a pandas DataFrame\n",
    "df = pd.read_csv(\"dataset.csv\")\n",
    "\n",
    "# Keep only the first 1000 rows\n",
    "df = df.head(2000000)\n",
    "\n",
    "# Write the modified DataFrame back to a new CSV file\n",
    "df.to_csv(\"dataset2mil.csv\", index=False)\n"
   ]
  },
  {
   "cell_type": "code",
   "execution_count": null,
   "metadata": {},
   "outputs": [],
   "source": []
  }
 ],
 "metadata": {
  "kernelspec": {
   "display_name": "Python 3 (ipykernel)",
   "language": "python",
   "name": "python3"
  },
  "language_info": {
   "codemirror_mode": {
    "name": "ipython",
    "version": 3
   },
   "file_extension": ".py",
   "mimetype": "text/x-python",
   "name": "python",
   "nbconvert_exporter": "python",
   "pygments_lexer": "ipython3",
   "version": "3.10.2"
  }
 },
 "nbformat": 4,
 "nbformat_minor": 4
}
