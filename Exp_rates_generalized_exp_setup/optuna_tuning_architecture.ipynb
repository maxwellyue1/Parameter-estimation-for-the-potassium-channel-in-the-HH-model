{
 "cells": [
  {
   "cell_type": "code",
   "execution_count": 1,
   "metadata": {},
   "outputs": [
    {
     "data": {
      "text/html": [
       "<style type='text/css'>\n",
       ".datatable table.frame { margin-bottom: 0; }\n",
       ".datatable table.frame thead { border-bottom: none; }\n",
       ".datatable table.frame tr.coltypes td {  color: #FFFFFF;  line-height: 6px;  padding: 0 0.5em;}\n",
       ".datatable .bool    { background: #DDDD99; }\n",
       ".datatable .object  { background: #565656; }\n",
       ".datatable .int     { background: #5D9E5D; }\n",
       ".datatable .float   { background: #4040CC; }\n",
       ".datatable .str     { background: #CC4040; }\n",
       ".datatable .time    { background: #40CC40; }\n",
       ".datatable .row_index {  background: var(--jp-border-color3);  border-right: 1px solid var(--jp-border-color0);  color: var(--jp-ui-font-color3);  font-size: 9px;}\n",
       ".datatable .frame tbody td { text-align: left; }\n",
       ".datatable .frame tr.coltypes .row_index {  background: var(--jp-border-color0);}\n",
       ".datatable th:nth-child(2) { padding-left: 12px; }\n",
       ".datatable .hellipsis {  color: var(--jp-cell-editor-border-color);}\n",
       ".datatable .vellipsis {  background: var(--jp-layout-color0);  color: var(--jp-cell-editor-border-color);}\n",
       ".datatable .na {  color: var(--jp-cell-editor-border-color);  font-size: 80%;}\n",
       ".datatable .sp {  opacity: 0.25;}\n",
       ".datatable .footer { font-size: 9px; }\n",
       ".datatable .frame_dimensions {  background: var(--jp-border-color3);  border-top: 1px solid var(--jp-border-color0);  color: var(--jp-ui-font-color3);  display: inline-block;  opacity: 0.6;  padding: 1px 10px 1px 5px;}\n",
       "</style>\n"
      ],
      "text/plain": [
       "<IPython.core.display.HTML object>"
      ]
     },
     "metadata": {},
     "output_type": "display_data"
    }
   ],
   "source": [
    "import torch\n",
    "import csv\n",
    "import os\n",
    "import random\n",
    "import numpy as np\n",
    "from torch.utils.data import TensorDataset, DataLoader, random_split\n",
    "import pandas as pd\n",
    "import torch.nn as nn\n",
    "import torch.nn.functional as F\n",
    "import torch.optim as optim\n",
    "import optuna\n",
    "from optuna.trial import TrialState\n",
    "\n",
    "\n",
    "\n",
    "from dataset_reader import Traces_Dataset\n",
    "from mlp_model import MLP"
   ]
  },
  {
   "cell_type": "code",
   "execution_count": 3,
   "metadata": {},
   "outputs": [
    {
     "name": "stdout",
     "output_type": "stream",
     "text": [
      "cuda\n"
     ]
    }
   ],
   "source": [
    "DEVICE = torch.device('cuda' if torch.cuda.is_available() else 'cpu')\n",
    "target_features = 7\n",
    "DIR = os.getcwd()\n",
    "EPOCHS = 30\n",
    "BATCH_SIZE = 1024\n",
    "print(DEVICE)\n",
    "# N_TRAIN_EXAMPLES = 200 * 30\n",
    "# N_VALID_EXAMPLES = 200 * 10"
   ]
  },
  {
   "cell_type": "code",
   "execution_count": 4,
   "metadata": {},
   "outputs": [],
   "source": [
    "def define_model(trial):\n",
    "    # We optimize the number of layers, hidden units and dropout ratio in each layer.\n",
    "    n_layers = trial.suggest_int(\"n_layers\", 1, 5)\n",
    "    layers = []\n",
    "\n",
    "    in_features = 321\n",
    "    for i in range(n_layers):\n",
    "        out_features = trial.suggest_int(\"n_units_l{}\".format(i), 256, 1024)\n",
    "        layers.append(nn.Linear(in_features, out_features))\n",
    "        \n",
    "        if trial.suggest_categorical(f\"use_batchnorm_l{i}\", [True, False]):\n",
    "            layers.append(nn.BatchNorm1d(out_features))  # Assuming 1D input\n",
    "            \n",
    "        layers.append(nn.ReLU())\n",
    "        # p = trial.suggest_float(\"dropout_l{}\".format(i), 0.2, 0.5)\n",
    "        # layers.append(nn.Dropout(p))\n",
    "        in_features = out_features\n",
    "\n",
    "    layers.append(nn.Linear(in_features, target_features))\n",
    "    # layers.append(nn.LogSoftmax(dim=1))\n",
    "\n",
    "    return nn.Sequential(*layers)"
   ]
  },
  {
   "cell_type": "code",
   "execution_count": 9,
   "metadata": {},
   "outputs": [],
   "source": [
    "dataset = Traces_Dataset('dataset_test.csv')\n",
    "dataset.split_dataset(0.95, 0.05, 0)\n",
    "dataset.clean_features()\n",
    "dataset.find_mean_std()\n",
    "dataset.normalize()\n",
    "# print(dataset.inputs.shape)\n",
    "X_train = dataset[dataset.train_set.indices][0]\n",
    "Y_train = dataset[dataset.train_set.indices][1]\n",
    "\n",
    "X_val = dataset[dataset.val_set.indices][0]\n",
    "Y_val = dataset[dataset.val_set.indices][1]\n",
    "\n",
    "X_test = dataset[dataset.test_set.indices][0]\n",
    "Y_test = dataset[dataset.test_set.indices][1]"
   ]
  },
  {
   "cell_type": "code",
   "execution_count": 13,
   "metadata": {},
   "outputs": [],
   "source": [
    "def get_dataset(trial):\n",
    "    # initialize dataloader \n",
    "    train_dataset = TensorDataset(X_train, Y_train)\n",
    "    train_loader = DataLoader(train_dataset, batch_size=BATCH_SIZE, shuffle=True)\n",
    "\n",
    "    val_dataset = TensorDataset(X_val, Y_val)\n",
    "    val_loader = DataLoader(val_dataset, batch_size=BATCH_SIZE, shuffle=True)\n",
    "    # print('get')\n",
    "\n",
    "    return train_loader, val_loader"
   ]
  },
  {
   "cell_type": "code",
   "execution_count": 17,
   "metadata": {},
   "outputs": [],
   "source": [
    "def objective(trial):\n",
    "    # Generate the model.\n",
    "    model = define_model(trial).to(DEVICE)\n",
    "\n",
    "    # Generate the optimizers.\n",
    "    # optimizer_name = trial.suggest_categorical(\"optimizer\", [\"Adam\", \"RMSprop\", \"SGD\"])\n",
    "    # lr = trial.suggest_float(\"lr\", 1e-5, 1e-1, log=True)\n",
    "    # optimizer = getattr(optim, optimizer_name)(model.parameters(), lr=lr)\n",
    "\n",
    "    # learning_rate = trial.suggest_loguniform('learning_rate', 1e-5, 1e-2)\n",
    "    # weight_decay = trial.suggest_loguniform('weight_decay', 1e-5, 1e-2)\n",
    "    optimizer = optim.Adam(model.parameters(), lr=0.001, weight_decay=0.0001)\n",
    "    \n",
    "    \n",
    "\n",
    "    # Get the FashionMNIST dataset.\n",
    "    train_loader, valid_loader = get_dataset(trial)\n",
    "\n",
    "    # Training of the model.\n",
    "    for epoch in range(EPOCHS):\n",
    "        model.train()\n",
    "        for batch_idx, (train_inputs, train_targets) in enumerate(train_loader):\n",
    "            # Limiting training data for faster epochs.\n",
    "            # if batch_idx * 10 >= N_TRAIN_EXAMPLES:\n",
    "            #     break\n",
    "\n",
    "            # data, target = data.view(data.size(0), -1).to(DEVICE), target.to(DEVICE)\n",
    "            train_inputs, train_targets = train_inputs.to(DEVICE), train_targets.to(DEVICE)\n",
    "\n",
    "            optimizer.zero_grad()\n",
    "            train_outputs = model(train_inputs)\n",
    "            loss = nn.MSELoss()(train_outputs, train_targets)\n",
    "            loss.backward()\n",
    "            optimizer.step()\n",
    "\n",
    "        # Validation of the model.\n",
    "        model.eval()\n",
    "        total_val_loss = 0.0\n",
    "        with torch.no_grad():\n",
    "            for batch_idx, (val_inputs, val_targets) in enumerate(valid_loader):\n",
    "                # Limiting validation data.\n",
    "                # if batch_idx * 10 >= N_VALID_EXAMPLES:\n",
    "                #     break\n",
    "                \n",
    "                # data, target = data.view(data.size(0), -1).to(DEVICE), target.to(DEVICE)\n",
    "                val_inputs, val_targets = val_inputs.to(DEVICE), val_targets.to(DEVICE)\n",
    "\n",
    "                val_outputs = model(val_inputs)\n",
    "                # Get the index of the max log-probability.\n",
    "                val_loss = nn.MSELoss()(val_outputs, val_targets)\n",
    "                total_val_loss += val_loss.item()\n",
    "\n",
    "            # Average validation loss for the epoch\n",
    "        avg_val_loss = total_val_loss / len(valid_loader)\n",
    "        # print(f'{epoch}: {avg_val_loss}')\n",
    "\n",
    "        trial.report(avg_val_loss, epoch)\n",
    "\n",
    "        # Handle pruning based on the intermediate value.\n",
    "        if trial.should_prune():\n",
    "            raise optuna.exceptions.TrialPruned()\n",
    "\n",
    "    return avg_val_loss"
   ]
  },
  {
   "cell_type": "code",
   "execution_count": 18,
   "metadata": {
    "scrolled": true
   },
   "outputs": [
    {
     "name": "stderr",
     "output_type": "stream",
     "text": [
      "[I 2024-04-02 04:16:38,877] A new study created in memory with name: no-name-10827c5b-b0db-4713-8b90-6fdb0bf1817b\n"
     ]
    },
    {
     "data": {
      "application/vnd.jupyter.widget-view+json": {
       "model_id": "522a57045ce94e22bf234f2d433686ec",
       "version_major": 2,
       "version_minor": 0
      },
      "text/plain": [
       "  0%|          | 0/20 [00:00<?, ?it/s]"
      ]
     },
     "metadata": {},
     "output_type": "display_data"
    },
    {
     "name": "stdout",
     "output_type": "stream",
     "text": [
      "[I 2024-04-02 04:19:00,988] Trial 2 finished with value: 2726.561279296875 and parameters: {'n_layers': 1, 'n_units_l0': 567, 'use_batchnorm_l0': True}. Best is trial 2 with value: 2726.561279296875.\n",
      "[I 2024-04-02 04:19:02,015] Trial 18 finished with value: 2773.21044921875 and parameters: {'n_layers': 1, 'n_units_l0': 496, 'use_batchnorm_l0': True}. Best is trial 2 with value: 2726.561279296875.\n",
      "[I 2024-04-02 04:19:02,089] Trial 15 finished with value: 849.1092529296875 and parameters: {'n_layers': 1, 'n_units_l0': 984, 'use_batchnorm_l0': False}. Best is trial 15 with value: 849.1092529296875.\n",
      "[I 2024-04-02 04:19:02,432] Trial 6 finished with value: 1759.9322509765625 and parameters: {'n_layers': 1, 'n_units_l0': 421, 'use_batchnorm_l0': False}. Best is trial 15 with value: 849.1092529296875.\n",
      "[I 2024-04-02 04:19:02,445] Trial 10 finished with value: 370.9873352050781 and parameters: {'n_layers': 2, 'n_units_l0': 935, 'use_batchnorm_l0': False, 'n_units_l1': 523, 'use_batchnorm_l1': False}. Best is trial 10 with value: 370.9873352050781.\n",
      "[I 2024-04-02 04:19:02,470] Trial 1 pruned. \n",
      "[I 2024-04-02 04:19:02,504] Trial 7 finished with value: 938.8278198242188 and parameters: {'n_layers': 1, 'n_units_l0': 940, 'use_batchnorm_l0': False}. Best is trial 10 with value: 370.9873352050781.\n",
      "[I 2024-04-02 04:19:03,630] Trial 4 pruned. \n",
      "[I 2024-04-02 04:19:03,648] Trial 0 finished with value: 277.7822570800781 and parameters: {'n_layers': 4, 'n_units_l0': 623, 'use_batchnorm_l0': False, 'n_units_l1': 662, 'use_batchnorm_l1': False, 'n_units_l2': 1006, 'use_batchnorm_l2': True, 'n_units_l3': 585, 'use_batchnorm_l3': False}. Best is trial 0 with value: 277.7822570800781.\n",
      "[I 2024-04-02 04:19:03,803] Trial 3 pruned. \n",
      "[I 2024-04-02 04:19:03,921] Trial 8 finished with value: 422.83258056640625 and parameters: {'n_layers': 3, 'n_units_l0': 467, 'use_batchnorm_l0': True, 'n_units_l1': 597, 'use_batchnorm_l1': False, 'n_units_l2': 730, 'use_batchnorm_l2': False}. Best is trial 0 with value: 277.7822570800781.\n",
      "[I 2024-04-02 04:19:04,200] Trial 12 pruned. \n",
      "[I 2024-04-02 04:19:04,201] Trial 13 pruned. \n",
      "[I 2024-04-02 04:19:04,352] Trial 5 finished with value: 542.4890747070312 and parameters: {'n_layers': 3, 'n_units_l0': 484, 'use_batchnorm_l0': True, 'n_units_l1': 862, 'use_batchnorm_l1': False, 'n_units_l2': 919, 'use_batchnorm_l2': False}. Best is trial 0 with value: 277.7822570800781.\n",
      "[I 2024-04-02 04:19:04,502] Trial 11 finished with value: 445.55517578125 and parameters: {'n_layers': 4, 'n_units_l0': 818, 'use_batchnorm_l0': False, 'n_units_l1': 534, 'use_batchnorm_l1': False, 'n_units_l2': 702, 'use_batchnorm_l2': True, 'n_units_l3': 325, 'use_batchnorm_l3': False}. Best is trial 0 with value: 277.7822570800781.\n",
      "[I 2024-04-02 04:19:05,553] Trial 9 finished with value: 822.7650756835938 and parameters: {'n_layers': 4, 'n_units_l0': 909, 'use_batchnorm_l0': False, 'n_units_l1': 1022, 'use_batchnorm_l1': True, 'n_units_l2': 577, 'use_batchnorm_l2': True, 'n_units_l3': 891, 'use_batchnorm_l3': False}. Best is trial 0 with value: 277.7822570800781.\n",
      "[I 2024-04-02 04:19:05,736] Trial 16 finished with value: 244.4046173095703 and parameters: {'n_layers': 4, 'n_units_l0': 631, 'use_batchnorm_l0': True, 'n_units_l1': 414, 'use_batchnorm_l1': True, 'n_units_l2': 466, 'use_batchnorm_l2': False, 'n_units_l3': 711, 'use_batchnorm_l3': False}. Best is trial 16 with value: 244.4046173095703.\n",
      "[I 2024-04-02 04:19:05,956] Trial 17 finished with value: 166.93255615234375 and parameters: {'n_layers': 5, 'n_units_l0': 695, 'use_batchnorm_l0': False, 'n_units_l1': 999, 'use_batchnorm_l1': True, 'n_units_l2': 671, 'use_batchnorm_l2': False, 'n_units_l3': 260, 'use_batchnorm_l3': False, 'n_units_l4': 334, 'use_batchnorm_l4': False}. Best is trial 17 with value: 166.93255615234375.\n",
      "[I 2024-04-02 04:19:06,085] Trial 14 finished with value: 313.76666259765625 and parameters: {'n_layers': 5, 'n_units_l0': 820, 'use_batchnorm_l0': True, 'n_units_l1': 984, 'use_batchnorm_l1': False, 'n_units_l2': 702, 'use_batchnorm_l2': False, 'n_units_l3': 722, 'use_batchnorm_l3': True, 'n_units_l4': 636, 'use_batchnorm_l4': False}. Best is trial 17 with value: 166.93255615234375.\n",
      "[I 2024-04-02 04:19:06,201] Trial 19 finished with value: 432.2403564453125 and parameters: {'n_layers': 5, 'n_units_l0': 735, 'use_batchnorm_l0': False, 'n_units_l1': 836, 'use_batchnorm_l1': True, 'n_units_l2': 481, 'use_batchnorm_l2': False, 'n_units_l3': 694, 'use_batchnorm_l3': True, 'n_units_l4': 918, 'use_batchnorm_l4': False}. Best is trial 17 with value: 166.93255615234375.\n",
      "Study statistics: \n",
      "  Number of finished trials:  20\n",
      "  Number of pruned trials:  5\n",
      "  Number of complete trials:  15\n",
      "Best trial:\n",
      "  Value:  166.93255615234375\n",
      "  Params: \n",
      "    n_layers: 5\n",
      "    n_units_l0: 695\n",
      "    use_batchnorm_l0: False\n",
      "    n_units_l1: 999\n",
      "    use_batchnorm_l1: True\n",
      "    n_units_l2: 671\n",
      "    use_batchnorm_l2: False\n",
      "    n_units_l3: 260\n",
      "    use_batchnorm_l3: False\n",
      "    n_units_l4: 334\n",
      "    use_batchnorm_l4: False\n"
     ]
    }
   ],
   "source": [
    "if __name__ == \"__main__\":\n",
    "    study = optuna.create_study(direction=\"minimize\")\n",
    "    study.optimize(objective, n_trials=20, timeout=None, n_jobs=-1, show_progress_bar=True)\n",
    "\n",
    "    pruned_trials = study.get_trials(deepcopy=False, states=[TrialState.PRUNED])\n",
    "    complete_trials = study.get_trials(deepcopy=False, states=[TrialState.COMPLETE])\n",
    "\n",
    "    print(\"Study statistics: \")\n",
    "    print(\"  Number of finished trials: \", len(study.trials))\n",
    "    print(\"  Number of pruned trials: \", len(pruned_trials))\n",
    "    print(\"  Number of complete trials: \", len(complete_trials))\n",
    "\n",
    "    print(\"Best trial:\")\n",
    "    trial = study.best_trial\n",
    "\n",
    "    print(\"  Value: \", trial.value)\n",
    "\n",
    "    print(\"  Params: \")\n",
    "    for key, value in trial.params.items():\n",
    "        print(\"    {}: {}\".format(key, value))"
   ]
  },
  {
   "cell_type": "code",
   "execution_count": null,
   "metadata": {},
   "outputs": [],
   "source": [
    "optuna.importance.get_param_importances(study)"
   ]
  },
  {
   "cell_type": "code",
   "execution_count": null,
   "metadata": {},
   "outputs": [],
   "source": []
  },
  {
   "cell_type": "code",
   "execution_count": null,
   "metadata": {},
   "outputs": [],
   "source": []
  }
 ],
 "metadata": {
  "kernelspec": {
   "display_name": "Python 3 (ipykernel)",
   "language": "python",
   "name": "python3"
  },
  "language_info": {
   "codemirror_mode": {
    "name": "ipython",
    "version": 3
   },
   "file_extension": ".py",
   "mimetype": "text/x-python",
   "name": "python",
   "nbconvert_exporter": "python",
   "pygments_lexer": "ipython3",
   "version": "3.10.2"
  }
 },
 "nbformat": 4,
 "nbformat_minor": 4
}
