{
 "cells": [
  {
   "cell_type": "code",
   "execution_count": 2,
   "metadata": {},
   "outputs": [],
   "source": [
    "import numpy as np\n",
    "import matplotlib.pyplot as plt\n",
    "import pandas as pd\n",
    "\n",
    "import sys\n",
    "sys.path.append('..')\n",
    "from exp_hh_model import HH_model_exp\n",
    "from dataset_reader import Traces_Dataset"
   ]
  },
  {
   "cell_type": "code",
   "execution_count": 3,
   "metadata": {},
   "outputs": [],
   "source": [
    "dataset = Traces_Dataset('dataset_120.csv')\n",
    "time_traces = dataset.time_traces.numpy()"
   ]
  },
  {
   "cell_type": "code",
   "execution_count": 4,
   "metadata": {},
   "outputs": [
    {
     "data": {
      "text/plain": [
       "(8000,)"
      ]
     },
     "execution_count": 4,
     "metadata": {},
     "output_type": "execute_result"
    }
   ],
   "source": [
    "endpoints = time_traces[:, :, -1].flatten()\n",
    "endpoints.shape"
   ]
  },
  {
   "cell_type": "code",
   "execution_count": 5,
   "metadata": {},
   "outputs": [
    {
     "data": {
      "text/plain": [
       "(0.2, 59.47)"
      ]
     },
     "execution_count": 5,
     "metadata": {},
     "output_type": "execute_result"
    }
   ],
   "source": [
    "np.min(endpoints), np.max(endpoints)"
   ]
  },
  {
   "cell_type": "code",
   "execution_count": 6,
   "metadata": {},
   "outputs": [
    {
     "data": {
      "text/plain": [
       "(0.0, 10.0)"
      ]
     },
     "execution_count": 6,
     "metadata": {},
     "output_type": "execute_result"
    },
    {
     "data": {
      "image/png": "[encoded data removed]",
      "text/plain": [
       "<Figure size 640x480 with 1 Axes>"
      ]
     },
     "metadata": {},
     "output_type": "display_data"
    }
   ],
   "source": [
    "densities, bins, _ = plt.hist(endpoints, bins=1000, density=True, alpha=0.7)\n",
    "plt.xlim(0, 10)"
   ]
  },
  {
   "cell_type": "code",
   "execution_count": 7,
   "metadata": {},
   "outputs": [],
   "source": [
    "pb = densities * np.diff(bins)"
   ]
  },
  {
   "cell_type": "code",
   "execution_count": 8,
   "metadata": {},
   "outputs": [],
   "source": [
    "cdf = np.cumsum(pb)"
   ]
  },
  {
   "cell_type": "code",
   "execution_count": 9,
   "metadata": {},
   "outputs": [
    {
     "name": "stdout",
     "output_type": "stream",
     "text": [
      "Index of the closest element to 0.95: 73\n",
      "Closest percentile to 0.95: 0.9495\n"
     ]
    }
   ],
   "source": [
    "# Find the index of the closest element to 0.95\n",
    "target_percentile = 0.95\n",
    "closest_index = np.argmin(np.abs(cdf - target_percentile))\n",
    "\n",
    "print(\"Index of the closest element to 0.95:\", closest_index)\n",
    "print(\"Closest percentile to 0.95:\", cdf[closest_index])"
   ]
  },
  {
   "cell_type": "code",
   "execution_count": 10,
   "metadata": {},
   "outputs": [
    {
     "data": {
      "text/plain": [
       "(1000, 1000, 1000, 1000)"
      ]
     },
     "execution_count": 10,
     "metadata": {},
     "output_type": "execute_result"
    }
   ],
   "source": [
    "len(densities), len(np.diff(bins)), len(pb), len(cdf)"
   ]
  },
  {
   "cell_type": "code",
   "execution_count": 11,
   "metadata": {},
   "outputs": [
    {
     "data": {
      "text/plain": [
       "4.58597993850708"
      ]
     },
     "execution_count": 11,
     "metadata": {},
     "output_type": "execute_result"
    }
   ],
   "source": [
    "bins[closest_index+1]"
   ]
  },
  {
   "cell_type": "code",
   "execution_count": 19,
   "metadata": {},
   "outputs": [],
   "source": [
    "index_of_6ms = np.argmin(np.abs(bins - 6))"
   ]
  },
  {
   "cell_type": "code",
   "execution_count": 47,
   "metadata": {},
   "outputs": [
    {
     "data": {
      "text/plain": [
       "(0.0, 10.0)"
      ]
     },
     "execution_count": 47,
     "metadata": {},
     "output_type": "execute_result"
    },
    {
     "data": {
      "image/png": "[encoded data removed]",
      "text/plain": [
       "<Figure size 640x480 with 1 Axes>"
      ]
     },
     "metadata": {},
     "output_type": "display_data"
    }
   ],
   "source": [
    "#CDF\n",
    "plt.plot(bins[:-1], cdf)\n",
    "plt.xlabel('Time ($ms$)')\n",
    "plt.ylabel('Probability')\n",
    "\n",
    "point1 = (bins[closest_index], cdf[closest_index])\n",
    "point2 = (bins[index_of_6ms], cdf[index_of_6ms])\n",
    "\n",
    "# Set spines position\n",
    "plt.gca().spines['left'].set_position(('data', 0))  # y-axis at x=0\n",
    "plt.gca().spines['bottom'].set_position(('data', 0))  # x-axis at y=0\n",
    "plt.gca().spines['top'].set_visible(False)\n",
    "plt.gca().spines['right'].set_visible(False)\n",
    "\n",
    "# Dashed lines reaching the x and y axes\n",
    "plt.plot([point1[0], point1[0]], [point1[1], 0], 'r--')\n",
    "plt.plot([point1[0], 0], [point1[1], point1[1]], 'r--')\n",
    "\n",
    "plt.plot([point2[0], point2[0]], [point2[1], 0], 'b--')\n",
    "plt.plot([point2[0], 0], [point2[1], point2[1]], 'b--')\n",
    "\n",
    "# Set ticks on x-axis corresponding to point 1 and point 2\n",
    "plt.xticks([0, point1[0], point2[0], 10], ['0', f'{point1[0]:.2f}', f'{point2[0]:.0f}', '10'], fontsize=6)\n",
    "\n",
    "# Set ticks on y-axis corresponding to point 1 and point 2\n",
    "plt.yticks([0, point1[1], point2[1], 1], ['0', f'{point1[1]:.2f}', f'{point2[1]:.2f}', '1'], fontsize=6)\n",
    "\n",
    "plt.xlim(0, 10)"
   ]
  },
  {
   "cell_type": "code",
   "execution_count": 13,
   "metadata": {},
   "outputs": [
    {
     "data": {
      "text/plain": [
       "<matplotlib.legend.Legend at 0x290282d10>"
      ]
     },
     "execution_count": 13,
     "metadata": {},
     "output_type": "execute_result"
    },
    {
     "data": {
      "image/png": "[encoded data removed]",
      "text/plain": [
       "<Figure size 640x480 with 1 Axes>"
      ]
     },
     "metadata": {},
     "output_type": "display_data"
    }
   ],
   "source": [
    "# current recordings saturation time Histogram\n",
    "plt.hist(endpoints, bins=1000)\n",
    "plt.xlim(0, 10)\n",
    "plt.axvline(bins[closest_index+1], color='r', linestyle='--', label='$95^{th}$ percentile')\n",
    "plt.axvline(6, color='b', linestyle='--', label = f'$6 \\,ms$')\n",
    "plt.xlabel('Time ($ms$)')\n",
    "plt.ylabel('Count')\n",
    "plt.legend()"
   ]
  }
 ],
 "metadata": {
  "kernelspec": {
   "display_name": "base",
   "language": "python",
   "name": "python3"
  },
  "language_info": {
   "codemirror_mode": {
    "name": "ipython",
    "version": 3
   },
   "file_extension": ".py",
   "mimetype": "text/x-python",
   "name": "python",
   "nbconvert_exporter": "python",
   "pygments_lexer": "ipython3",
   "version": "3.10.9"
  }
 },
 "nbformat": 4,
 "nbformat_minor": 2
}
