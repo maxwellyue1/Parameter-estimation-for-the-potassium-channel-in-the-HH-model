{
 "cells": [
  {
   "cell_type": "code",
   "execution_count": 1,
   "metadata": {},
   "outputs": [],
   "source": [
    "import sympy as sym\n",
    "import numpy as np\n",
    "import pandas as pd"
   ]
  },
  {
   "cell_type": "code",
   "execution_count": 2,
   "metadata": {},
   "outputs": [],
   "source": [
    "# define symbols\n",
    "t = sym.Symbol('t')\n",
    "\n",
    "I = sym.Symbol('I')\n",
    "m = sym.Symbol('m')\n",
    "m_inf = sym.Symbol('m_inf')\n",
    "\n",
    "p = sym.Symbol('p')\n",
    "\n",
    "prestep_V = sym.Symbol('prestep_V')\n",
    "step_V = sym.Symbol('step_V')\n",
    "\n",
    "g_max = sym.Symbol('g_max')\n",
    "E_rev = sym.Symbol('E_rev')\n",
    "a_m = sym.Symbol('a_m')\n",
    "b_m = sym.Symbol('b_m')\n",
    "delta_m = sym.Symbol('delta_m')\n",
    "s_m = sym.Symbol('s_m')"
   ]
  },
  {
   "cell_type": "code",
   "execution_count": 3,
   "metadata": {},
   "outputs": [],
   "source": [
    "V_2m = -s_m * sym.log(b_m / a_m)\n",
    "tau_0m = 1/a_m * sym.exp(delta_m * V_2m / s_m)\n",
    "m_infty = 1 / (1 + sym.exp((step_V - V_2m) / s_m))\n",
    "tau_m = (tau_0m * sym.exp(delta_m * ((step_V - V_2m) / s_m))) / (1 + sym.exp((step_V - V_2m) / s_m))\n",
    "m_0 = 1 / (1 + sym.exp((prestep_V - V_2m) / s_m))\n",
    "\n",
    "m = m_infty + (m_0 - m_infty) * sym.exp(-t/tau_m)\n",
    "I = g_max * m ** p * (step_V - E_rev)"
   ]
  },
  {
   "cell_type": "code",
   "execution_count": 4,
   "metadata": {},
   "outputs": [],
   "source": [
    "diff_I_p = sym.diff(I, p)\n",
    "diff_I_g_max = sym.diff(I, g_max)\n",
    "diff_I_E_rev = sym.diff(I, E_rev)\n",
    "diff_I_a_m = sym.diff(I, a_m)\n",
    "diff_I_b_m = sym.diff(I, b_m)\n",
    "diff_I_delta_m = sym.diff(I, delta_m)\n",
    "diff_I_s_m = sym.diff(I, s_m)"
   ]
  },
  {
   "cell_type": "code",
   "execution_count": 5,
   "metadata": {},
   "outputs": [],
   "source": [
    "# Create a function from the differentiated expression\n",
    "func_diff_I_p = sym.lambdify((t, prestep_V, step_V, p, g_max, E_rev, a_m, b_m, delta_m, s_m), diff_I_p, \"numpy\")\n",
    "func_diff_I_g_max = sym.lambdify((t, prestep_V, step_V, p, g_max, E_rev, a_m, b_m, delta_m, s_m), diff_I_g_max, \"numpy\")\n",
    "func_diff_I_E_rev = sym.lambdify((t, prestep_V, step_V, p, g_max, E_rev, a_m, b_m, delta_m, s_m), diff_I_E_rev, \"numpy\")\n",
    "func_diff_I_a_m = sym.lambdify((t, prestep_V, step_V, p, g_max, E_rev, a_m, b_m, delta_m, s_m), diff_I_a_m, \"numpy\")\n",
    "func_diff_I_b_m = sym.lambdify((t, prestep_V, step_V, p, g_max, E_rev, a_m, b_m, delta_m, s_m), diff_I_b_m, \"numpy\")\n",
    "func_diff_I_delta_m = sym.lambdify((t, prestep_V, step_V, p, g_max, E_rev, a_m, b_m, delta_m, s_m), diff_I_delta_m, \"numpy\")\n",
    "func_diff_I_s_m = sym.lambdify((t, prestep_V, step_V, p, g_max, E_rev, a_m, b_m, delta_m, s_m), diff_I_s_m, \"numpy\")\n",
    "diff_functions = [func_diff_I_p, func_diff_I_g_max, func_diff_I_E_rev, func_diff_I_a_m, func_diff_I_b_m, func_diff_I_delta_m, func_diff_I_s_m]"
   ]
  },
  {
   "cell_type": "markdown",
   "metadata": {},
   "source": [
    "#### Read test dataset"
   ]
  },
  {
   "cell_type": "code",
   "execution_count": 7,
   "metadata": {},
   "outputs": [],
   "source": [
    "import sys\n",
    "sys.path.append('..')\n",
    "\n",
    "from dataset_reader import Traces_Dataset\n",
    "# load and process dataset \n",
    "dataset = Traces_Dataset('../dataset_test.csv')"
   ]
  },
  {
   "cell_type": "code",
   "execution_count": 8,
   "metadata": {},
   "outputs": [
    {
     "data": {
      "text/plain": [
       "(torch.Size([1000, 8, 20]), torch.Size([1000, 8, 20]), torch.Size([1000, 7]))"
      ]
     },
     "execution_count": 8,
     "metadata": {},
     "output_type": "execute_result"
    }
   ],
   "source": [
    "dataset.time_traces.shape, dataset.current_traces.shape, dataset.params.shape"
   ]
  },
  {
   "cell_type": "code",
   "execution_count": 17,
   "metadata": {},
   "outputs": [
    {
     "name": "stderr",
     "output_type": "stream",
     "text": [
      "<lambdifygenerated-1>:2: RuntimeWarning: divide by zero encountered in log\n",
      "  return g_max*(-E_rev + step_V)*((-1/(exp((s_m*log(b_m/a_m) + step_V)/s_m) + 1) + (exp((prestep_V + s_m*log(b_m/a_m))/s_m) + 1)**(-1.0))*exp(-a_m*t*(exp((s_m*log(b_m/a_m) + step_V)/s_m) + 1)*exp(delta_m*log(b_m/a_m))*exp(-delta_m*(s_m*log(b_m/a_m) + step_V)/s_m)) + (exp((s_m*log(b_m/a_m) + step_V)/s_m) + 1)**(-1.0))**p*log((-1/(exp((s_m*log(b_m/a_m) + step_V)/s_m) + 1) + (exp((prestep_V + s_m*log(b_m/a_m))/s_m) + 1)**(-1.0))*exp(-a_m*t*(exp((s_m*log(b_m/a_m) + step_V)/s_m) + 1)*exp(delta_m*log(b_m/a_m))*exp(-delta_m*(s_m*log(b_m/a_m) + step_V)/s_m)) + (exp((s_m*log(b_m/a_m) + step_V)/s_m) + 1)**(-1.0))\n",
      "<lambdifygenerated-1>:2: RuntimeWarning: invalid value encountered in multiply\n",
      "  return g_max*(-E_rev + step_V)*((-1/(exp((s_m*log(b_m/a_m) + step_V)/s_m) + 1) + (exp((prestep_V + s_m*log(b_m/a_m))/s_m) + 1)**(-1.0))*exp(-a_m*t*(exp((s_m*log(b_m/a_m) + step_V)/s_m) + 1)*exp(delta_m*log(b_m/a_m))*exp(-delta_m*(s_m*log(b_m/a_m) + step_V)/s_m)) + (exp((s_m*log(b_m/a_m) + step_V)/s_m) + 1)**(-1.0))**p*log((-1/(exp((s_m*log(b_m/a_m) + step_V)/s_m) + 1) + (exp((prestep_V + s_m*log(b_m/a_m))/s_m) + 1)**(-1.0))*exp(-a_m*t*(exp((s_m*log(b_m/a_m) + step_V)/s_m) + 1)*exp(delta_m*log(b_m/a_m))*exp(-delta_m*(s_m*log(b_m/a_m) + step_V)/s_m)) + (exp((s_m*log(b_m/a_m) + step_V)/s_m) + 1)**(-1.0))\n",
      "<lambdifygenerated-4>:2: RuntimeWarning: invalid value encountered in divide\n",
      "  return g_max*p*(-E_rev + step_V)*((-1/(exp((s_m*log(b_m/a_m) + step_V)/s_m) + 1) + (exp((prestep_V + s_m*log(b_m/a_m))/s_m) + 1)**(-1.0))*exp(-a_m*t*(exp((s_m*log(b_m/a_m) + step_V)/s_m) + 1)*exp(delta_m*log(b_m/a_m))*exp(-delta_m*(s_m*log(b_m/a_m) + step_V)/s_m)) + (exp((s_m*log(b_m/a_m) + step_V)/s_m) + 1)**(-1.0))**p*((-exp((s_m*log(b_m/a_m) + step_V)/s_m)/(a_m*(exp((s_m*log(b_m/a_m) + step_V)/s_m) + 1)**2) + exp((prestep_V + s_m*log(b_m/a_m))/s_m)/(a_m*(exp((prestep_V + s_m*log(b_m/a_m))/s_m) + 1)**2))*exp(-a_m*t*(exp((s_m*log(b_m/a_m) + step_V)/s_m) + 1)*exp(delta_m*log(b_m/a_m))*exp(-delta_m*(s_m*log(b_m/a_m) + step_V)/s_m)) + (-t*(exp((s_m*log(b_m/a_m) + step_V)/s_m) + 1)*exp(delta_m*log(b_m/a_m))*exp(-delta_m*(s_m*log(b_m/a_m) + step_V)/s_m) + t*exp(delta_m*log(b_m/a_m))*exp((s_m*log(b_m/a_m) + step_V)/s_m)*exp(-delta_m*(s_m*log(b_m/a_m) + step_V)/s_m))*(-1/(exp((s_m*log(b_m/a_m) + step_V)/s_m) + 1) + (exp((prestep_V + s_m*log(b_m/a_m))/s_m) + 1)**(-1.0))*exp(-a_m*t*(exp((s_m*log(b_m/a_m) + step_V)/s_m) + 1)*exp(delta_m*log(b_m/a_m))*exp(-delta_m*(s_m*log(b_m/a_m) + step_V)/s_m)) + exp((s_m*log(b_m/a_m) + step_V)/s_m)/(a_m*(exp((s_m*log(b_m/a_m) + step_V)/s_m) + 1)**2))/((-1/(exp((s_m*log(b_m/a_m) + step_V)/s_m) + 1) + (exp((prestep_V + s_m*log(b_m/a_m))/s_m) + 1)**(-1.0))*exp(-a_m*t*(exp((s_m*log(b_m/a_m) + step_V)/s_m) + 1)*exp(delta_m*log(b_m/a_m))*exp(-delta_m*(s_m*log(b_m/a_m) + step_V)/s_m)) + (exp((s_m*log(b_m/a_m) + step_V)/s_m) + 1)**(-1.0))\n",
      "<lambdifygenerated-5>:2: RuntimeWarning: invalid value encountered in divide\n",
      "  return g_max*p*(-E_rev + step_V)*((-1/(exp((s_m*log(b_m/a_m) + step_V)/s_m) + 1) + (exp((prestep_V + s_m*log(b_m/a_m))/s_m) + 1)**(-1.0))*exp(-a_m*t*(exp((s_m*log(b_m/a_m) + step_V)/s_m) + 1)*exp(delta_m*log(b_m/a_m))*exp(-delta_m*(s_m*log(b_m/a_m) + step_V)/s_m)) + (exp((s_m*log(b_m/a_m) + step_V)/s_m) + 1)**(-1.0))**p*(-a_m*t*(-1/(exp((s_m*log(b_m/a_m) + step_V)/s_m) + 1) + (exp((prestep_V + s_m*log(b_m/a_m))/s_m) + 1)**(-1.0))*exp(delta_m*log(b_m/a_m))*exp((s_m*log(b_m/a_m) + step_V)/s_m)*exp(-delta_m*(s_m*log(b_m/a_m) + step_V)/s_m)*exp(-a_m*t*(exp((s_m*log(b_m/a_m) + step_V)/s_m) + 1)*exp(delta_m*log(b_m/a_m))*exp(-delta_m*(s_m*log(b_m/a_m) + step_V)/s_m))/b_m + (exp((s_m*log(b_m/a_m) + step_V)/s_m)/(b_m*(exp((s_m*log(b_m/a_m) + step_V)/s_m) + 1)**2) - exp((prestep_V + s_m*log(b_m/a_m))/s_m)/(b_m*(exp((prestep_V + s_m*log(b_m/a_m))/s_m) + 1)**2))*exp(-a_m*t*(exp((s_m*log(b_m/a_m) + step_V)/s_m) + 1)*exp(delta_m*log(b_m/a_m))*exp(-delta_m*(s_m*log(b_m/a_m) + step_V)/s_m)) - exp((s_m*log(b_m/a_m) + step_V)/s_m)/(b_m*(exp((s_m*log(b_m/a_m) + step_V)/s_m) + 1)**2))/((-1/(exp((s_m*log(b_m/a_m) + step_V)/s_m) + 1) + (exp((prestep_V + s_m*log(b_m/a_m))/s_m) + 1)**(-1.0))*exp(-a_m*t*(exp((s_m*log(b_m/a_m) + step_V)/s_m) + 1)*exp(delta_m*log(b_m/a_m))*exp(-delta_m*(s_m*log(b_m/a_m) + step_V)/s_m)) + (exp((s_m*log(b_m/a_m) + step_V)/s_m) + 1)**(-1.0))\n",
      "<lambdifygenerated-6>:2: RuntimeWarning: invalid value encountered in divide\n",
      "  return g_max*p*(-E_rev + step_V)*((-1/(exp((s_m*log(b_m/a_m) + step_V)/s_m) + 1) + (exp((prestep_V + s_m*log(b_m/a_m))/s_m) + 1)**(-1.0))*exp(-a_m*t*(exp((s_m*log(b_m/a_m) + step_V)/s_m) + 1)*exp(delta_m*log(b_m/a_m))*exp(-delta_m*(s_m*log(b_m/a_m) + step_V)/s_m)) + (exp((s_m*log(b_m/a_m) + step_V)/s_m) + 1)**(-1.0))**p*(-a_m*t*(exp((s_m*log(b_m/a_m) + step_V)/s_m) + 1)*exp(delta_m*log(b_m/a_m))*exp(-delta_m*(s_m*log(b_m/a_m) + step_V)/s_m)*log(b_m/a_m) + a_m*t*(s_m*log(b_m/a_m) + step_V)*(exp((s_m*log(b_m/a_m) + step_V)/s_m) + 1)*exp(delta_m*log(b_m/a_m))*exp(-delta_m*(s_m*log(b_m/a_m) + step_V)/s_m)/s_m)*(-1/(exp((s_m*log(b_m/a_m) + step_V)/s_m) + 1) + (exp((prestep_V + s_m*log(b_m/a_m))/s_m) + 1)**(-1.0))*exp(-a_m*t*(exp((s_m*log(b_m/a_m) + step_V)/s_m) + 1)*exp(delta_m*log(b_m/a_m))*exp(-delta_m*(s_m*log(b_m/a_m) + step_V)/s_m))/((-1/(exp((s_m*log(b_m/a_m) + step_V)/s_m) + 1) + (exp((prestep_V + s_m*log(b_m/a_m))/s_m) + 1)**(-1.0))*exp(-a_m*t*(exp((s_m*log(b_m/a_m) + step_V)/s_m) + 1)*exp(delta_m*log(b_m/a_m))*exp(-delta_m*(s_m*log(b_m/a_m) + step_V)/s_m)) + (exp((s_m*log(b_m/a_m) + step_V)/s_m) + 1)**(-1.0))\n",
      "<lambdifygenerated-7>:2: RuntimeWarning: invalid value encountered in divide\n",
      "  return g_max*p*(-E_rev + step_V)*((-1/(exp((s_m*log(b_m/a_m) + step_V)/s_m) + 1) + (exp((prestep_V + s_m*log(b_m/a_m))/s_m) + 1)**(-1.0))*exp(-a_m*t*(exp((s_m*log(b_m/a_m) + step_V)/s_m) + 1)*exp(delta_m*log(b_m/a_m))*exp(-delta_m*(s_m*log(b_m/a_m) + step_V)/s_m)) + (exp((s_m*log(b_m/a_m) + step_V)/s_m) + 1)**(-1.0))**p*(-(log(b_m/a_m)/s_m - (s_m*log(b_m/a_m) + step_V)/s_m**2)*exp((s_m*log(b_m/a_m) + step_V)/s_m)/(exp((s_m*log(b_m/a_m) + step_V)/s_m) + 1)**2 + (-(log(b_m/a_m)/s_m - (prestep_V + s_m*log(b_m/a_m))/s_m**2)*exp((prestep_V + s_m*log(b_m/a_m))/s_m)/(exp((prestep_V + s_m*log(b_m/a_m))/s_m) + 1)**2 + (log(b_m/a_m)/s_m - (s_m*log(b_m/a_m) + step_V)/s_m**2)*exp((s_m*log(b_m/a_m) + step_V)/s_m)/(exp((s_m*log(b_m/a_m) + step_V)/s_m) + 1)**2)*exp(-a_m*t*(exp((s_m*log(b_m/a_m) + step_V)/s_m) + 1)*exp(delta_m*log(b_m/a_m))*exp(-delta_m*(s_m*log(b_m/a_m) + step_V)/s_m)) + (-a_m*t*(log(b_m/a_m)/s_m - (s_m*log(b_m/a_m) + step_V)/s_m**2)*exp(delta_m*log(b_m/a_m))*exp((s_m*log(b_m/a_m) + step_V)/s_m)*exp(-delta_m*(s_m*log(b_m/a_m) + step_V)/s_m) - a_m*t*(-delta_m*log(b_m/a_m)/s_m + delta_m*(s_m*log(b_m/a_m) + step_V)/s_m**2)*(exp((s_m*log(b_m/a_m) + step_V)/s_m) + 1)*exp(delta_m*log(b_m/a_m))*exp(-delta_m*(s_m*log(b_m/a_m) + step_V)/s_m))*(-1/(exp((s_m*log(b_m/a_m) + step_V)/s_m) + 1) + (exp((prestep_V + s_m*log(b_m/a_m))/s_m) + 1)**(-1.0))*exp(-a_m*t*(exp((s_m*log(b_m/a_m) + step_V)/s_m) + 1)*exp(delta_m*log(b_m/a_m))*exp(-delta_m*(s_m*log(b_m/a_m) + step_V)/s_m)))/((-1/(exp((s_m*log(b_m/a_m) + step_V)/s_m) + 1) + (exp((prestep_V + s_m*log(b_m/a_m))/s_m) + 1)**(-1.0))*exp(-a_m*t*(exp((s_m*log(b_m/a_m) + step_V)/s_m) + 1)*exp(delta_m*log(b_m/a_m))*exp(-delta_m*(s_m*log(b_m/a_m) + step_V)/s_m)) + (exp((s_m*log(b_m/a_m) + step_V)/s_m) + 1)**(-1.0))\n"
     ]
    },
    {
     "data": {
      "text/plain": [
       "((1000, 160, 7), (1000, 160, 7), (1000, 160, 7))"
      ]
     },
     "execution_count": 17,
     "metadata": {},
     "output_type": "execute_result"
    }
   ],
   "source": [
    "sens_co_matrices_list = []\n",
    "P_matrices_list = []\n",
    "Y_matrices_list = []\n",
    "for sample in range(dataset.__len__()): \n",
    "    # len_params = 7 # dont need, same indexing time \n",
    "    params = dataset.params[sample].numpy()\n",
    "    t_traces = dataset.time_traces[sample].numpy()\n",
    "    current_traces = dataset.current_traces[sample].numpy()\n",
    "    prestep_V = dataset.prestep_V[sample].numpy()\n",
    "    step_Vs = dataset.step_Vs[sample].numpy()\n",
    "\n",
    "    t_pts_col = t_traces.T.reshape(-1)\n",
    "    step_Vs_col = np.tile(step_Vs, dataset.num_pts)\n",
    "\n",
    "    # Initialize an empty list to store the sens_co_matrix_col arrays\n",
    "    sens_co_matrix_col_list = []\n",
    "    \n",
    "    for p in range(dataset.num_params): \n",
    "        sens_co_matrix_col = diff_functions[p](t_pts_col, prestep_V, step_Vs_col, params[0], params[1], params[2], params[3], params[4], params[5], params[6])\n",
    "        sens_co_matrix_col_list.append(sens_co_matrix_col)\n",
    "    \n",
    "    sens_co_matrix = np.array(sens_co_matrix_col_list).T\n",
    "    sens_co_matrices_list.append(sens_co_matrix)\n",
    "\n",
    "    # find the parameter matrix P, and observable matrix Y\n",
    "    P_matrix = np.tile(params, (dataset.num_traces * dataset.num_pts, 1))\n",
    "    P_matrices_list.append(P_matrix)\n",
    "    Y_col = dataset.current_traces[sample].numpy().T.reshape(-1,1)\n",
    "    Y_matrix = np.tile(Y_col, (1, dataset.num_params))\n",
    "    Y_matrices_list.append(Y_matrix)\n",
    "\n",
    "# put lists in 3d numpy matrix\n",
    "sens_co_matrices = np.stack(sens_co_matrices_list, axis=0)\n",
    "P_matrices = np.stack(P_matrices_list, axis=0)\n",
    "Y_matrices = np.stack(Y_matrices_list, axis=0)\n",
    "\n",
    "sens_co_matrices.shape, P_matrices.shape, Y_matrices.shape"
   ]
  },
  {
   "cell_type": "code",
   "execution_count": 18,
   "metadata": {},
   "outputs": [
    {
     "data": {
      "text/plain": [
       "(True, False, False)"
      ]
     },
     "execution_count": 18,
     "metadata": {},
     "output_type": "execute_result"
    }
   ],
   "source": [
    "np.isnan(sens_co_matrices).any(), np.isnan(P_matrices).any(), np.isnan(Y_matrices).any()"
   ]
  },
  {
   "cell_type": "code",
   "execution_count": 60,
   "metadata": {},
   "outputs": [
    {
     "name": "stderr",
     "output_type": "stream",
     "text": [
      "/var/folders/7_/yd2c8wld3sggx9gtmv9ydwm80000gn/T/ipykernel_36966/2943788318.py:1: RuntimeWarning: overflow encountered in divide\n",
      "  relative_sens_co_matrices = (P_matrices / Y_matrices) * sens_co_matrices\n",
      "/var/folders/7_/yd2c8wld3sggx9gtmv9ydwm80000gn/T/ipykernel_36966/2943788318.py:1: RuntimeWarning: invalid value encountered in multiply\n",
      "  relative_sens_co_matrices = (P_matrices / Y_matrices) * sens_co_matrices\n"
     ]
    },
    {
     "data": {
      "text/plain": [
       "((1000, 160, 7), (1000, 7), (1000,), (1000, 160))"
      ]
     },
     "execution_count": 60,
     "metadata": {},
     "output_type": "execute_result"
    }
   ],
   "source": [
    "relative_sens_co_matrices = (P_matrices / Y_matrices) * sens_co_matrices\n",
    "# Calculate the 2-norm of each column in each matrix\n",
    "norms = np.linalg.norm(relative_sens_co_matrices, axis=1)\n",
    "# Find the index of the column with the largest 2-norm for each matrix\n",
    "max_norm_indices = np.argmax(norms, axis=1)\n",
    "# Find the maximum 2-norm column vector\n",
    "X_1 = relative_sens_co_matrices[np.arange(relative_sens_co_matrices.shape[0]), :, max_norm_indices]\n",
    "# max_norm_indices\n",
    "relative_sens_co_matrices.shape, norms.shape, max_norm_indices.shape, X_1.shape"
   ]
  },
  {
   "cell_type": "code",
   "execution_count": 58,
   "metadata": {},
   "outputs": [
    {
     "data": {
      "text/plain": [
       "array([[172.99443054,   0.        ,   0.        , ...,   0.        ,\n",
       "          0.        ,   0.        ],\n",
       "       [ 46.02626801,   0.        ,   0.        , ...,   0.        ,\n",
       "          0.        ,   0.        ],\n",
       "       [131.17332458,   0.        ,   0.        , ...,   0.        ,\n",
       "          0.        ,   0.        ],\n",
       "       ...,\n",
       "       [  0.        ,   0.        ,   0.        , ...,   0.        ,\n",
       "          0.        ,  76.82957458],\n",
       "       [  0.        ,   0.        ,   0.        , ...,   0.        ,\n",
       "          0.        , 111.48114777],\n",
       "       [ 35.79984665,   0.        ,   0.        , ...,   0.        ,\n",
       "          0.        ,   0.        ]])"
      ]
     },
     "execution_count": 58,
     "metadata": {},
     "output_type": "execute_result"
    }
   ],
   "source": [
    "# Initializa the identifiability score for 1000 sample \n",
    "# 1000 by 7 matrix\n",
    "identifiability_score = np.zeros((1000, 7))\n",
    "\n",
    "identifiability_score[np.arange(len(max_norm_indices)),max_norm_indices] = norms[np.arange(len(max_norm_indices)),max_norm_indices]\n",
    "identifiability_score"
   ]
  },
  {
   "cell_type": "code",
   "execution_count": 83,
   "metadata": {},
   "outputs": [
    {
     "data": {
      "text/plain": [
       "((1000, 160, 1), (1000, 1, 160), (1000, 160, 7))"
      ]
     },
     "execution_count": 83,
     "metadata": {},
     "output_type": "execute_result"
    }
   ],
   "source": [
    "X = X_1[:, :, np.newaxis]\n",
    "X.shape, X.transpose(0,2,1).shape, relative_sens_co_matrices.shape"
   ]
  },
  {
   "cell_type": "code",
   "execution_count": 87,
   "metadata": {},
   "outputs": [
    {
     "data": {
      "text/plain": [
       "(1000, 160, 7)"
      ]
     },
     "execution_count": 87,
     "metadata": {},
     "output_type": "execute_result"
    }
   ],
   "source": [
    "R = relative_sens_co_matrices - X @ np.linalg.inv(X.transpose(0,2,1) @ X) @ X.transpose(0,2,1) @ relative_sens_co_matrices\n",
    "R.shape"
   ]
  },
  {
   "cell_type": "code",
   "execution_count": 89,
   "metadata": {},
   "outputs": [
    {
     "data": {
      "text/plain": [
       "((1000, 7), (1000,))"
      ]
     },
     "execution_count": 89,
     "metadata": {},
     "output_type": "execute_result"
    }
   ],
   "source": [
    "norms = np.linalg.norm(R, axis=1)\n",
    "max_norm_indices = np.argmax(norms, axis=1)\n",
    "norms.shape, max_norm_indices.shape"
   ]
  },
  {
   "cell_type": "code",
   "execution_count": 90,
   "metadata": {},
   "outputs": [
    {
     "ename": "KeyboardInterrupt",
     "evalue": "",
     "output_type": "error",
     "traceback": [
      "\u001b[0;31m---------------------------------------------------------------------------\u001b[0m",
      "\u001b[0;31mKeyboardInterrupt\u001b[0m                         Traceback (most recent call last)",
      "Cell \u001b[0;32mIn[90], line 3\u001b[0m\n\u001b[1;32m      1\u001b[0m j\u001b[38;5;241m=\u001b[39m\u001b[38;5;241m1\u001b[39m\n\u001b[1;32m      2\u001b[0m \u001b[38;5;28;01mwhile\u001b[39;00m j \u001b[38;5;241m<\u001b[39m \u001b[38;5;241m7\u001b[39m: \n\u001b[0;32m----> 3\u001b[0m     R \u001b[38;5;241m=\u001b[39m relative_sens_co_matrices \u001b[38;5;241m-\u001b[39m X \u001b[38;5;241m@\u001b[39m \u001b[43mnp\u001b[49m\u001b[38;5;241;43m.\u001b[39;49m\u001b[43mlinalg\u001b[49m\u001b[38;5;241;43m.\u001b[39;49m\u001b[43minv\u001b[49m\u001b[43m(\u001b[49m\u001b[43mX\u001b[49m\u001b[38;5;241;43m.\u001b[39;49m\u001b[43mtranspose\u001b[49m\u001b[43m(\u001b[49m\u001b[38;5;241;43m0\u001b[39;49m\u001b[43m,\u001b[49m\u001b[38;5;241;43m2\u001b[39;49m\u001b[43m,\u001b[49m\u001b[38;5;241;43m1\u001b[39;49m\u001b[43m)\u001b[49m\u001b[43m \u001b[49m\u001b[38;5;241;43m@\u001b[39;49m\u001b[43m \u001b[49m\u001b[43mX\u001b[49m\u001b[43m)\u001b[49m \u001b[38;5;241m@\u001b[39m X\u001b[38;5;241m.\u001b[39mtranspose(\u001b[38;5;241m0\u001b[39m,\u001b[38;5;241m2\u001b[39m,\u001b[38;5;241m1\u001b[39m) \u001b[38;5;241m@\u001b[39m relative_sens_co_matrices\n\u001b[1;32m      4\u001b[0m     \u001b[38;5;66;03m# Calculate the 2-norm of each column in each matrix\u001b[39;00m\n\u001b[1;32m      5\u001b[0m     norms \u001b[38;5;241m=\u001b[39m np\u001b[38;5;241m.\u001b[39mlinalg\u001b[38;5;241m.\u001b[39mnorm(R, axis\u001b[38;5;241m=\u001b[39m\u001b[38;5;241m1\u001b[39m)\n",
      "File \u001b[0;32m<__array_function__ internals>:180\u001b[0m, in \u001b[0;36minv\u001b[0;34m(*args, **kwargs)\u001b[0m\n",
      "File \u001b[0;32m~/anaconda3/lib/python3.10/site-packages/numpy/linalg/linalg.py:552\u001b[0m, in \u001b[0;36minv\u001b[0;34m(a)\u001b[0m\n\u001b[1;32m    550\u001b[0m signature \u001b[38;5;241m=\u001b[39m \u001b[38;5;124m'\u001b[39m\u001b[38;5;124mD->D\u001b[39m\u001b[38;5;124m'\u001b[39m \u001b[38;5;28;01mif\u001b[39;00m isComplexType(t) \u001b[38;5;28;01melse\u001b[39;00m \u001b[38;5;124m'\u001b[39m\u001b[38;5;124md->d\u001b[39m\u001b[38;5;124m'\u001b[39m\n\u001b[1;32m    551\u001b[0m extobj \u001b[38;5;241m=\u001b[39m get_linalg_error_extobj(_raise_linalgerror_singular)\n\u001b[0;32m--> 552\u001b[0m ainv \u001b[38;5;241m=\u001b[39m \u001b[43m_umath_linalg\u001b[49m\u001b[38;5;241;43m.\u001b[39;49m\u001b[43minv\u001b[49m\u001b[43m(\u001b[49m\u001b[43ma\u001b[49m\u001b[43m,\u001b[49m\u001b[43m \u001b[49m\u001b[43msignature\u001b[49m\u001b[38;5;241;43m=\u001b[39;49m\u001b[43msignature\u001b[49m\u001b[43m,\u001b[49m\u001b[43m \u001b[49m\u001b[43mextobj\u001b[49m\u001b[38;5;241;43m=\u001b[39;49m\u001b[43mextobj\u001b[49m\u001b[43m)\u001b[49m\n\u001b[1;32m    553\u001b[0m \u001b[38;5;28;01mreturn\u001b[39;00m wrap(ainv\u001b[38;5;241m.\u001b[39mastype(result_t, copy\u001b[38;5;241m=\u001b[39m\u001b[38;5;28;01mFalse\u001b[39;00m))\n",
      "\u001b[0;31mKeyboardInterrupt\u001b[0m: "
     ]
    }
   ],
   "source": [
    "j=1\n",
    "while j < 7: \n",
    "    R = relative_sens_co_matrices - X @ np.linalg.inv(X.transpose(0,2,1) @ X) @ X.transpose(0,2,1) @ relative_sens_co_matrices\n",
    "    # Calculate the 2-norm of each column in each matrix\n",
    "    norms = np.linalg.norm(R, axis=1)\n",
    "    # Find the index of the column with the largest 2-norm for each matrix\n",
    "    max_norm_indices = np.argmax(norms, axis=1)\n",
    "    # Find the maximum 2-norm column vector\n",
    "    X_j = R[np.arange(R.shape[0]), :, max_norm_indices]\n",
    "    identifiability_score[np.arange(len(max_norm_indices)), max_norm_indices] = norms[np.arange(len(max_norm_indices)), max_norm_indices]\n",
    "    X = np.concatenate((X, X_j[:, :, np.newaxis]), axis=2)"
   ]
  },
  {
   "cell_type": "code",
   "execution_count": null,
   "metadata": {},
   "outputs": [],
   "source": []
  },
  {
   "cell_type": "code",
   "execution_count": null,
   "metadata": {},
   "outputs": [],
   "source": []
  },
  {
   "cell_type": "code",
   "execution_count": 22,
   "metadata": {},
   "outputs": [
    {
     "data": {
      "text/plain": [
       "((1000, 160, 7), (1000, 160, 1))"
      ]
     },
     "execution_count": 22,
     "metadata": {},
     "output_type": "execute_result"
    }
   ],
   "source": [
    "S_tildes = relative_sens_co_matrices\n",
    "X_s = S_tildes[np.arange(S_tildes.shape[0]), :, max_norm_indices][:, :, np.newaxis]\n",
    "S_tildes.shape, X_s.shape"
   ]
  },
  {
   "cell_type": "code",
   "execution_count": 23,
   "metadata": {},
   "outputs": [
    {
     "ename": "LinAlgError",
     "evalue": "SVD did not converge",
     "output_type": "error",
     "traceback": [
      "\u001b[0;31m---------------------------------------------------------------------------\u001b[0m",
      "\u001b[0;31mLinAlgError\u001b[0m                               Traceback (most recent call last)",
      "Cell \u001b[0;32mIn[23], line 7\u001b[0m\n\u001b[1;32m      5\u001b[0m X_i_list\u001b[38;5;241m.\u001b[39mappend(para_cols)\n\u001b[1;32m      6\u001b[0m X_i \u001b[38;5;241m=\u001b[39m np\u001b[38;5;241m.\u001b[39mconcatenate(X_i_list, axis\u001b[38;5;241m=\u001b[39m\u001b[38;5;241m2\u001b[39m)\n\u001b[0;32m----> 7\u001b[0m Rs \u001b[38;5;241m=\u001b[39m S_tildes \u001b[38;5;241m-\u001b[39m X_i \u001b[38;5;241m@\u001b[39m \u001b[43mnp\u001b[49m\u001b[38;5;241;43m.\u001b[39;49m\u001b[43mlinalg\u001b[49m\u001b[38;5;241;43m.\u001b[39;49m\u001b[43mpinv\u001b[49m\u001b[43m(\u001b[49m\u001b[43mX_i\u001b[49m\u001b[38;5;241;43m.\u001b[39;49m\u001b[43mtranspose\u001b[49m\u001b[43m(\u001b[49m\u001b[38;5;241;43m0\u001b[39;49m\u001b[43m,\u001b[49m\u001b[43m \u001b[49m\u001b[38;5;241;43m2\u001b[39;49m\u001b[43m,\u001b[49m\u001b[43m \u001b[49m\u001b[38;5;241;43m1\u001b[39;49m\u001b[43m)\u001b[49m\u001b[43m \u001b[49m\u001b[38;5;241;43m@\u001b[39;49m\u001b[43m \u001b[49m\u001b[43mX_i\u001b[49m\u001b[43m)\u001b[49m \u001b[38;5;241m@\u001b[39m X_i\u001b[38;5;241m.\u001b[39mtranspose(\u001b[38;5;241m0\u001b[39m, \u001b[38;5;241m2\u001b[39m, \u001b[38;5;241m1\u001b[39m) \u001b[38;5;241m@\u001b[39m S_tildes\n\u001b[1;32m      8\u001b[0m \u001b[38;5;66;03m# Calculate the 2-norm of each column in each matrix\u001b[39;00m\n\u001b[1;32m      9\u001b[0m R_norms \u001b[38;5;241m=\u001b[39m np\u001b[38;5;241m.\u001b[39mlinalg\u001b[38;5;241m.\u001b[39mnorm(Rs, axis\u001b[38;5;241m=\u001b[39m\u001b[38;5;241m1\u001b[39m)\n",
      "File \u001b[0;32m<__array_function__ internals>:180\u001b[0m, in \u001b[0;36mpinv\u001b[0;34m(*args, **kwargs)\u001b[0m\n",
      "File \u001b[0;32m~/anaconda3/lib/python3.10/site-packages/numpy/linalg/linalg.py:1998\u001b[0m, in \u001b[0;36mpinv\u001b[0;34m(a, rcond, hermitian)\u001b[0m\n\u001b[1;32m   1996\u001b[0m     \u001b[38;5;28;01mreturn\u001b[39;00m wrap(res)\n\u001b[1;32m   1997\u001b[0m a \u001b[38;5;241m=\u001b[39m a\u001b[38;5;241m.\u001b[39mconjugate()\n\u001b[0;32m-> 1998\u001b[0m u, s, vt \u001b[38;5;241m=\u001b[39m \u001b[43msvd\u001b[49m\u001b[43m(\u001b[49m\u001b[43ma\u001b[49m\u001b[43m,\u001b[49m\u001b[43m \u001b[49m\u001b[43mfull_matrices\u001b[49m\u001b[38;5;241;43m=\u001b[39;49m\u001b[38;5;28;43;01mFalse\u001b[39;49;00m\u001b[43m,\u001b[49m\u001b[43m \u001b[49m\u001b[43mhermitian\u001b[49m\u001b[38;5;241;43m=\u001b[39;49m\u001b[43mhermitian\u001b[49m\u001b[43m)\u001b[49m\n\u001b[1;32m   2000\u001b[0m \u001b[38;5;66;03m# discard small singular values\u001b[39;00m\n\u001b[1;32m   2001\u001b[0m cutoff \u001b[38;5;241m=\u001b[39m rcond[\u001b[38;5;241m.\u001b[39m\u001b[38;5;241m.\u001b[39m\u001b[38;5;241m.\u001b[39m, newaxis] \u001b[38;5;241m*\u001b[39m amax(s, axis\u001b[38;5;241m=\u001b[39m\u001b[38;5;241m-\u001b[39m\u001b[38;5;241m1\u001b[39m, keepdims\u001b[38;5;241m=\u001b[39m\u001b[38;5;28;01mTrue\u001b[39;00m)\n",
      "File \u001b[0;32m<__array_function__ internals>:180\u001b[0m, in \u001b[0;36msvd\u001b[0;34m(*args, **kwargs)\u001b[0m\n",
      "File \u001b[0;32m~/anaconda3/lib/python3.10/site-packages/numpy/linalg/linalg.py:1657\u001b[0m, in \u001b[0;36msvd\u001b[0;34m(a, full_matrices, compute_uv, hermitian)\u001b[0m\n\u001b[1;32m   1654\u001b[0m         gufunc \u001b[38;5;241m=\u001b[39m _umath_linalg\u001b[38;5;241m.\u001b[39msvd_n_s\n\u001b[1;32m   1656\u001b[0m signature \u001b[38;5;241m=\u001b[39m \u001b[38;5;124m'\u001b[39m\u001b[38;5;124mD->DdD\u001b[39m\u001b[38;5;124m'\u001b[39m \u001b[38;5;28;01mif\u001b[39;00m isComplexType(t) \u001b[38;5;28;01melse\u001b[39;00m \u001b[38;5;124m'\u001b[39m\u001b[38;5;124md->ddd\u001b[39m\u001b[38;5;124m'\u001b[39m\n\u001b[0;32m-> 1657\u001b[0m u, s, vh \u001b[38;5;241m=\u001b[39m \u001b[43mgufunc\u001b[49m\u001b[43m(\u001b[49m\u001b[43ma\u001b[49m\u001b[43m,\u001b[49m\u001b[43m \u001b[49m\u001b[43msignature\u001b[49m\u001b[38;5;241;43m=\u001b[39;49m\u001b[43msignature\u001b[49m\u001b[43m,\u001b[49m\u001b[43m \u001b[49m\u001b[43mextobj\u001b[49m\u001b[38;5;241;43m=\u001b[39;49m\u001b[43mextobj\u001b[49m\u001b[43m)\u001b[49m\n\u001b[1;32m   1658\u001b[0m u \u001b[38;5;241m=\u001b[39m u\u001b[38;5;241m.\u001b[39mastype(result_t, copy\u001b[38;5;241m=\u001b[39m\u001b[38;5;28;01mFalse\u001b[39;00m)\n\u001b[1;32m   1659\u001b[0m s \u001b[38;5;241m=\u001b[39m s\u001b[38;5;241m.\u001b[39mastype(_realType(result_t), copy\u001b[38;5;241m=\u001b[39m\u001b[38;5;28;01mFalse\u001b[39;00m)\n",
      "File \u001b[0;32m~/anaconda3/lib/python3.10/site-packages/numpy/linalg/linalg.py:98\u001b[0m, in \u001b[0;36m_raise_linalgerror_svd_nonconvergence\u001b[0;34m(err, flag)\u001b[0m\n\u001b[1;32m     97\u001b[0m \u001b[38;5;28;01mdef\u001b[39;00m \u001b[38;5;21m_raise_linalgerror_svd_nonconvergence\u001b[39m(err, flag):\n\u001b[0;32m---> 98\u001b[0m     \u001b[38;5;28;01mraise\u001b[39;00m LinAlgError(\u001b[38;5;124m\"\u001b[39m\u001b[38;5;124mSVD did not converge\u001b[39m\u001b[38;5;124m\"\u001b[39m)\n",
      "\u001b[0;31mLinAlgError\u001b[0m: SVD did not converge"
     ]
    }
   ],
   "source": [
    "X_i_list = []\n",
    "max_norm_indices_ranks = [max_norm_indices]\n",
    "for i in range(dataset.num_params-1): \n",
    "    para_cols = S_tildes[np.arange(S_tildes.shape[0]), :, max_norm_indices][:, :, np.newaxis]\n",
    "    X_i_list.append(para_cols)\n",
    "    X_i = np.concatenate(X_i_list, axis=2)\n",
    "    Rs = S_tildes - X_i @ np.linalg.pinv(X_i.transpose(0, 2, 1) @ X_i) @ X_i.transpose(0, 2, 1) @ S_tildes\n",
    "    # Calculate the 2-norm of each column in each matrix\n",
    "    R_norms = np.linalg.norm(Rs, axis=1)\n",
    "    # Find the index of the column with the largest 2-norm for each matrix\n",
    "    max_norm_indices = np.argmax(R_norms, axis=1)\n",
    "    max_norm_indices_ranks.append(max_norm_indices)"
   ]
  },
  {
   "cell_type": "code",
   "execution_count": null,
   "metadata": {},
   "outputs": [],
   "source": []
  }
 ],
 "metadata": {
  "kernelspec": {
   "display_name": "base",
   "language": "python",
   "name": "python3"
  },
  "language_info": {
   "codemirror_mode": {
    "name": "ipython",
    "version": 3
   },
   "file_extension": ".py",
   "mimetype": "text/x-python",
   "name": "python",
   "nbconvert_exporter": "python",
   "pygments_lexer": "ipython3",
   "version": "3.10.9"
  }
 },
 "nbformat": 4,
 "nbformat_minor": 2
}
