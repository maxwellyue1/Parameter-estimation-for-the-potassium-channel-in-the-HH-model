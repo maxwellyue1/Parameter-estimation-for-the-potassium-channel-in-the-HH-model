{
 "cells": [
  {
   "cell_type": "code",
   "execution_count": 1,
   "metadata": {},
   "outputs": [],
   "source": [
    "import sympy as sym\n",
    "import numpy as np\n",
    "import pandas as pd"
   ]
  },
  {
   "cell_type": "code",
   "execution_count": 2,
   "metadata": {},
   "outputs": [],
   "source": [
    "# define symbols\n",
    "t = sym.Symbol('t')\n",
    "\n",
    "I = sym.Symbol('I')\n",
    "m = sym.Symbol('m')\n",
    "m_inf = sym.Symbol('m_inf')\n",
    "\n",
    "p = sym.Symbol('p')\n",
    "\n",
    "prestep_V = sym.Symbol('prestep_V')\n",
    "step_V = sym.Symbol('step_V')\n",
    "\n",
    "g_max = sym.Symbol('g_max')\n",
    "E_rev = sym.Symbol('E_rev')\n",
    "a_m = sym.Symbol('a_m')\n",
    "b_m = sym.Symbol('b_m')\n",
    "delta_m = sym.Symbol('delta_m')\n",
    "s_m = sym.Symbol('s_m')"
   ]
  },
  {
   "cell_type": "code",
   "execution_count": 3,
   "metadata": {},
   "outputs": [],
   "source": [
    "V_2m = -s_m * sym.log(b_m / a_m)\n",
    "tau_0m = 1/a_m * sym.exp(delta_m * V_2m / s_m)\n",
    "m_infty = 1 / (1 + sym.exp((step_V - V_2m) / s_m))\n",
    "tau_m = (tau_0m * sym.exp(delta_m * ((step_V - V_2m) / s_m))) / (1 + sym.exp((step_V - V_2m) / s_m))\n",
    "m_0 = 1 / (1 + sym.exp((prestep_V - V_2m) / s_m))\n",
    "\n",
    "m = m_infty + (m_0 - m_infty) * sym.exp(-t/tau_m)\n",
    "I = g_max * m ** p * (step_V - E_rev)"
   ]
  },
  {
   "cell_type": "code",
   "execution_count": 4,
   "metadata": {},
   "outputs": [],
   "source": [
    "diff_I_p = sym.diff(I, p)\n",
    "diff_I_g_max = sym.diff(I, g_max)\n",
    "diff_I_E_rev = sym.diff(I, E_rev)\n",
    "diff_I_a_m = sym.diff(I, a_m)\n",
    "diff_I_b_m = sym.diff(I, b_m)\n",
    "diff_I_delta_m = sym.diff(I, delta_m)\n",
    "diff_I_s_m = sym.diff(I, s_m)"
   ]
  },
  {
   "cell_type": "code",
   "execution_count": 5,
   "metadata": {},
   "outputs": [],
   "source": [
    "# Create a function from the differentiated expression\n",
    "func_diff_I_p = sym.lambdify((t, prestep_V, step_V, p, g_max, E_rev, a_m, b_m, delta_m, s_m), diff_I_p, \"numpy\")\n",
    "func_diff_I_g_max = sym.lambdify((t, prestep_V, step_V, p, g_max, E_rev, a_m, b_m, delta_m, s_m), diff_I_g_max, \"numpy\")\n",
    "func_diff_I_E_rev = sym.lambdify((t, prestep_V, step_V, p, g_max, E_rev, a_m, b_m, delta_m, s_m), diff_I_E_rev, \"numpy\")\n",
    "func_diff_I_a_m = sym.lambdify((t, prestep_V, step_V, p, g_max, E_rev, a_m, b_m, delta_m, s_m), diff_I_a_m, \"numpy\")\n",
    "func_diff_I_b_m = sym.lambdify((t, prestep_V, step_V, p, g_max, E_rev, a_m, b_m, delta_m, s_m), diff_I_b_m, \"numpy\")\n",
    "func_diff_I_delta_m = sym.lambdify((t, prestep_V, step_V, p, g_max, E_rev, a_m, b_m, delta_m, s_m), diff_I_delta_m, \"numpy\")\n",
    "func_diff_I_s_m = sym.lambdify((t, prestep_V, step_V, p, g_max, E_rev, a_m, b_m, delta_m, s_m), diff_I_s_m, \"numpy\")\n",
    "diff_functions = [func_diff_I_p, func_diff_I_g_max, func_diff_I_E_rev, func_diff_I_a_m, func_diff_I_b_m, func_diff_I_delta_m, func_diff_I_s_m]"
   ]
  },
  {
   "cell_type": "markdown",
   "metadata": {},
   "source": [
    "#### Read test dataset"
   ]
  },
  {
   "cell_type": "code",
   "execution_count": 6,
   "metadata": {},
   "outputs": [],
   "source": [
    "import sys\n",
    "sys.path.append('..')\n",
    "\n",
    "from dataset_reader import Traces_Dataset\n",
    "# load and process dataset \n",
    "dataset = Traces_Dataset('../dataset_test.csv')"
   ]
  },
  {
   "cell_type": "code",
   "execution_count": 7,
   "metadata": {},
   "outputs": [
    {
     "data": {
      "text/plain": [
       "(torch.Size([1000, 8, 20]), torch.Size([1000, 8, 20]), torch.Size([1000, 7]))"
      ]
     },
     "execution_count": 7,
     "metadata": {},
     "output_type": "execute_result"
    }
   ],
   "source": [
    "dataset.time_traces.shape, dataset.current_traces.shape, dataset.params.shape"
   ]
  },
  {
   "cell_type": "code",
   "execution_count": 8,
   "metadata": {},
   "outputs": [
    {
     "name": "stderr",
     "output_type": "stream",
     "text": [
      "<lambdifygenerated-1>:2: RuntimeWarning: divide by zero encountered in log\n",
      "  return g_max*(-E_rev + step_V)*((-1/(exp((s_m*log(b_m/a_m) + step_V)/s_m) + 1) + (exp((prestep_V + s_m*log(b_m/a_m))/s_m) + 1)**(-1.0))*exp(-a_m*t*(exp((s_m*log(b_m/a_m) + step_V)/s_m) + 1)*exp(delta_m*log(b_m/a_m))*exp(-delta_m*(s_m*log(b_m/a_m) + step_V)/s_m)) + (exp((s_m*log(b_m/a_m) + step_V)/s_m) + 1)**(-1.0))**p*log((-1/(exp((s_m*log(b_m/a_m) + step_V)/s_m) + 1) + (exp((prestep_V + s_m*log(b_m/a_m))/s_m) + 1)**(-1.0))*exp(-a_m*t*(exp((s_m*log(b_m/a_m) + step_V)/s_m) + 1)*exp(delta_m*log(b_m/a_m))*exp(-delta_m*(s_m*log(b_m/a_m) + step_V)/s_m)) + (exp((s_m*log(b_m/a_m) + step_V)/s_m) + 1)**(-1.0))\n",
      "<lambdifygenerated-1>:2: RuntimeWarning: invalid value encountered in multiply\n",
      "  return g_max*(-E_rev + step_V)*((-1/(exp((s_m*log(b_m/a_m) + step_V)/s_m) + 1) + (exp((prestep_V + s_m*log(b_m/a_m))/s_m) + 1)**(-1.0))*exp(-a_m*t*(exp((s_m*log(b_m/a_m) + step_V)/s_m) + 1)*exp(delta_m*log(b_m/a_m))*exp(-delta_m*(s_m*log(b_m/a_m) + step_V)/s_m)) + (exp((s_m*log(b_m/a_m) + step_V)/s_m) + 1)**(-1.0))**p*log((-1/(exp((s_m*log(b_m/a_m) + step_V)/s_m) + 1) + (exp((prestep_V + s_m*log(b_m/a_m))/s_m) + 1)**(-1.0))*exp(-a_m*t*(exp((s_m*log(b_m/a_m) + step_V)/s_m) + 1)*exp(delta_m*log(b_m/a_m))*exp(-delta_m*(s_m*log(b_m/a_m) + step_V)/s_m)) + (exp((s_m*log(b_m/a_m) + step_V)/s_m) + 1)**(-1.0))\n",
      "<lambdifygenerated-4>:2: RuntimeWarning: invalid value encountered in divide\n",
      "  return g_max*p*(-E_rev + step_V)*((-1/(exp((s_m*log(b_m/a_m) + step_V)/s_m) + 1) + (exp((prestep_V + s_m*log(b_m/a_m))/s_m) + 1)**(-1.0))*exp(-a_m*t*(exp((s_m*log(b_m/a_m) + step_V)/s_m) + 1)*exp(delta_m*log(b_m/a_m))*exp(-delta_m*(s_m*log(b_m/a_m) + step_V)/s_m)) + (exp((s_m*log(b_m/a_m) + step_V)/s_m) + 1)**(-1.0))**p*((-exp((s_m*log(b_m/a_m) + step_V)/s_m)/(a_m*(exp((s_m*log(b_m/a_m) + step_V)/s_m) + 1)**2) + exp((prestep_V + s_m*log(b_m/a_m))/s_m)/(a_m*(exp((prestep_V + s_m*log(b_m/a_m))/s_m) + 1)**2))*exp(-a_m*t*(exp((s_m*log(b_m/a_m) + step_V)/s_m) + 1)*exp(delta_m*log(b_m/a_m))*exp(-delta_m*(s_m*log(b_m/a_m) + step_V)/s_m)) + (-t*(exp((s_m*log(b_m/a_m) + step_V)/s_m) + 1)*exp(delta_m*log(b_m/a_m))*exp(-delta_m*(s_m*log(b_m/a_m) + step_V)/s_m) + t*exp(delta_m*log(b_m/a_m))*exp((s_m*log(b_m/a_m) + step_V)/s_m)*exp(-delta_m*(s_m*log(b_m/a_m) + step_V)/s_m))*(-1/(exp((s_m*log(b_m/a_m) + step_V)/s_m) + 1) + (exp((prestep_V + s_m*log(b_m/a_m))/s_m) + 1)**(-1.0))*exp(-a_m*t*(exp((s_m*log(b_m/a_m) + step_V)/s_m) + 1)*exp(delta_m*log(b_m/a_m))*exp(-delta_m*(s_m*log(b_m/a_m) + step_V)/s_m)) + exp((s_m*log(b_m/a_m) + step_V)/s_m)/(a_m*(exp((s_m*log(b_m/a_m) + step_V)/s_m) + 1)**2))/((-1/(exp((s_m*log(b_m/a_m) + step_V)/s_m) + 1) + (exp((prestep_V + s_m*log(b_m/a_m))/s_m) + 1)**(-1.0))*exp(-a_m*t*(exp((s_m*log(b_m/a_m) + step_V)/s_m) + 1)*exp(delta_m*log(b_m/a_m))*exp(-delta_m*(s_m*log(b_m/a_m) + step_V)/s_m)) + (exp((s_m*log(b_m/a_m) + step_V)/s_m) + 1)**(-1.0))\n",
      "<lambdifygenerated-5>:2: RuntimeWarning: invalid value encountered in divide\n",
      "  return g_max*p*(-E_rev + step_V)*((-1/(exp((s_m*log(b_m/a_m) + step_V)/s_m) + 1) + (exp((prestep_V + s_m*log(b_m/a_m))/s_m) + 1)**(-1.0))*exp(-a_m*t*(exp((s_m*log(b_m/a_m) + step_V)/s_m) + 1)*exp(delta_m*log(b_m/a_m))*exp(-delta_m*(s_m*log(b_m/a_m) + step_V)/s_m)) + (exp((s_m*log(b_m/a_m) + step_V)/s_m) + 1)**(-1.0))**p*(-a_m*t*(-1/(exp((s_m*log(b_m/a_m) + step_V)/s_m) + 1) + (exp((prestep_V + s_m*log(b_m/a_m))/s_m) + 1)**(-1.0))*exp(delta_m*log(b_m/a_m))*exp((s_m*log(b_m/a_m) + step_V)/s_m)*exp(-delta_m*(s_m*log(b_m/a_m) + step_V)/s_m)*exp(-a_m*t*(exp((s_m*log(b_m/a_m) + step_V)/s_m) + 1)*exp(delta_m*log(b_m/a_m))*exp(-delta_m*(s_m*log(b_m/a_m) + step_V)/s_m))/b_m + (exp((s_m*log(b_m/a_m) + step_V)/s_m)/(b_m*(exp((s_m*log(b_m/a_m) + step_V)/s_m) + 1)**2) - exp((prestep_V + s_m*log(b_m/a_m))/s_m)/(b_m*(exp((prestep_V + s_m*log(b_m/a_m))/s_m) + 1)**2))*exp(-a_m*t*(exp((s_m*log(b_m/a_m) + step_V)/s_m) + 1)*exp(delta_m*log(b_m/a_m))*exp(-delta_m*(s_m*log(b_m/a_m) + step_V)/s_m)) - exp((s_m*log(b_m/a_m) + step_V)/s_m)/(b_m*(exp((s_m*log(b_m/a_m) + step_V)/s_m) + 1)**2))/((-1/(exp((s_m*log(b_m/a_m) + step_V)/s_m) + 1) + (exp((prestep_V + s_m*log(b_m/a_m))/s_m) + 1)**(-1.0))*exp(-a_m*t*(exp((s_m*log(b_m/a_m) + step_V)/s_m) + 1)*exp(delta_m*log(b_m/a_m))*exp(-delta_m*(s_m*log(b_m/a_m) + step_V)/s_m)) + (exp((s_m*log(b_m/a_m) + step_V)/s_m) + 1)**(-1.0))\n",
      "<lambdifygenerated-6>:2: RuntimeWarning: invalid value encountered in divide\n",
      "  return g_max*p*(-E_rev + step_V)*((-1/(exp((s_m*log(b_m/a_m) + step_V)/s_m) + 1) + (exp((prestep_V + s_m*log(b_m/a_m))/s_m) + 1)**(-1.0))*exp(-a_m*t*(exp((s_m*log(b_m/a_m) + step_V)/s_m) + 1)*exp(delta_m*log(b_m/a_m))*exp(-delta_m*(s_m*log(b_m/a_m) + step_V)/s_m)) + (exp((s_m*log(b_m/a_m) + step_V)/s_m) + 1)**(-1.0))**p*(-a_m*t*(exp((s_m*log(b_m/a_m) + step_V)/s_m) + 1)*exp(delta_m*log(b_m/a_m))*exp(-delta_m*(s_m*log(b_m/a_m) + step_V)/s_m)*log(b_m/a_m) + a_m*t*(s_m*log(b_m/a_m) + step_V)*(exp((s_m*log(b_m/a_m) + step_V)/s_m) + 1)*exp(delta_m*log(b_m/a_m))*exp(-delta_m*(s_m*log(b_m/a_m) + step_V)/s_m)/s_m)*(-1/(exp((s_m*log(b_m/a_m) + step_V)/s_m) + 1) + (exp((prestep_V + s_m*log(b_m/a_m))/s_m) + 1)**(-1.0))*exp(-a_m*t*(exp((s_m*log(b_m/a_m) + step_V)/s_m) + 1)*exp(delta_m*log(b_m/a_m))*exp(-delta_m*(s_m*log(b_m/a_m) + step_V)/s_m))/((-1/(exp((s_m*log(b_m/a_m) + step_V)/s_m) + 1) + (exp((prestep_V + s_m*log(b_m/a_m))/s_m) + 1)**(-1.0))*exp(-a_m*t*(exp((s_m*log(b_m/a_m) + step_V)/s_m) + 1)*exp(delta_m*log(b_m/a_m))*exp(-delta_m*(s_m*log(b_m/a_m) + step_V)/s_m)) + (exp((s_m*log(b_m/a_m) + step_V)/s_m) + 1)**(-1.0))\n",
      "<lambdifygenerated-7>:2: RuntimeWarning: invalid value encountered in divide\n",
      "  return g_max*p*(-E_rev + step_V)*((-1/(exp((s_m*log(b_m/a_m) + step_V)/s_m) + 1) + (exp((prestep_V + s_m*log(b_m/a_m))/s_m) + 1)**(-1.0))*exp(-a_m*t*(exp((s_m*log(b_m/a_m) + step_V)/s_m) + 1)*exp(delta_m*log(b_m/a_m))*exp(-delta_m*(s_m*log(b_m/a_m) + step_V)/s_m)) + (exp((s_m*log(b_m/a_m) + step_V)/s_m) + 1)**(-1.0))**p*(-(log(b_m/a_m)/s_m - (s_m*log(b_m/a_m) + step_V)/s_m**2)*exp((s_m*log(b_m/a_m) + step_V)/s_m)/(exp((s_m*log(b_m/a_m) + step_V)/s_m) + 1)**2 + (-(log(b_m/a_m)/s_m - (prestep_V + s_m*log(b_m/a_m))/s_m**2)*exp((prestep_V + s_m*log(b_m/a_m))/s_m)/(exp((prestep_V + s_m*log(b_m/a_m))/s_m) + 1)**2 + (log(b_m/a_m)/s_m - (s_m*log(b_m/a_m) + step_V)/s_m**2)*exp((s_m*log(b_m/a_m) + step_V)/s_m)/(exp((s_m*log(b_m/a_m) + step_V)/s_m) + 1)**2)*exp(-a_m*t*(exp((s_m*log(b_m/a_m) + step_V)/s_m) + 1)*exp(delta_m*log(b_m/a_m))*exp(-delta_m*(s_m*log(b_m/a_m) + step_V)/s_m)) + (-a_m*t*(log(b_m/a_m)/s_m - (s_m*log(b_m/a_m) + step_V)/s_m**2)*exp(delta_m*log(b_m/a_m))*exp((s_m*log(b_m/a_m) + step_V)/s_m)*exp(-delta_m*(s_m*log(b_m/a_m) + step_V)/s_m) - a_m*t*(-delta_m*log(b_m/a_m)/s_m + delta_m*(s_m*log(b_m/a_m) + step_V)/s_m**2)*(exp((s_m*log(b_m/a_m) + step_V)/s_m) + 1)*exp(delta_m*log(b_m/a_m))*exp(-delta_m*(s_m*log(b_m/a_m) + step_V)/s_m))*(-1/(exp((s_m*log(b_m/a_m) + step_V)/s_m) + 1) + (exp((prestep_V + s_m*log(b_m/a_m))/s_m) + 1)**(-1.0))*exp(-a_m*t*(exp((s_m*log(b_m/a_m) + step_V)/s_m) + 1)*exp(delta_m*log(b_m/a_m))*exp(-delta_m*(s_m*log(b_m/a_m) + step_V)/s_m)))/((-1/(exp((s_m*log(b_m/a_m) + step_V)/s_m) + 1) + (exp((prestep_V + s_m*log(b_m/a_m))/s_m) + 1)**(-1.0))*exp(-a_m*t*(exp((s_m*log(b_m/a_m) + step_V)/s_m) + 1)*exp(delta_m*log(b_m/a_m))*exp(-delta_m*(s_m*log(b_m/a_m) + step_V)/s_m)) + (exp((s_m*log(b_m/a_m) + step_V)/s_m) + 1)**(-1.0))\n"
     ]
    },
    {
     "data": {
      "text/plain": [
       "((1000, 160, 7), (1000, 160, 7), (1000, 160, 7))"
      ]
     },
     "execution_count": 8,
     "metadata": {},
     "output_type": "execute_result"
    }
   ],
   "source": [
    "sens_co_matrices_list = []\n",
    "P_matrices_list = []\n",
    "Y_matrices_list = []\n",
    "for sample in range(dataset.__len__()): \n",
    "    # len_params = 7 # dont need, same indexing time \n",
    "    params = dataset.params[sample].numpy()\n",
    "    t_traces = dataset.time_traces[sample].numpy()\n",
    "    current_traces = dataset.current_traces[sample].numpy()\n",
    "    prestep_V = dataset.prestep_V[sample].numpy()\n",
    "    step_Vs = dataset.step_Vs[sample].numpy()\n",
    "\n",
    "    t_pts_col = t_traces.T.reshape(-1)\n",
    "    step_Vs_col = np.tile(step_Vs, dataset.num_pts)\n",
    "\n",
    "    # Initialize an empty list to store the sens_co_matrix_col arrays\n",
    "    sens_co_matrix_col_list = []\n",
    "    \n",
    "    for p in range(dataset.num_params): \n",
    "        sens_co_matrix_col = diff_functions[p](t_pts_col, prestep_V, step_Vs_col, params[0], params[1], params[2], params[3], params[4], params[5], params[6])\n",
    "        sens_co_matrix_col_list.append(sens_co_matrix_col)\n",
    "    \n",
    "    sens_co_matrix = np.array(sens_co_matrix_col_list).T\n",
    "    sens_co_matrices_list.append(sens_co_matrix)\n",
    "\n",
    "    # find the parameter matrix P, and observable matrix Y\n",
    "    P_matrix = np.tile(params, (dataset.num_traces * dataset.num_pts, 1))\n",
    "    P_matrices_list.append(P_matrix)\n",
    "    Y_col = dataset.current_traces[sample].numpy().T.reshape(-1,1)\n",
    "    Y_matrix = np.tile(Y_col, (1, dataset.num_params))\n",
    "    Y_matrices_list.append(Y_matrix)\n",
    "\n",
    "# put lists in 3d numpy matrix\n",
    "sens_co_matrices = np.stack(sens_co_matrices_list, axis=0)\n",
    "P_matrices = np.stack(P_matrices_list, axis=0)\n",
    "Y_matrices = np.stack(Y_matrices_list, axis=0)\n",
    "\n",
    "sens_co_matrices.shape, P_matrices.shape, Y_matrices.shape"
   ]
  },
  {
   "cell_type": "code",
   "execution_count": 9,
   "metadata": {},
   "outputs": [
    {
     "data": {
      "text/plain": [
       "(True, False, False)"
      ]
     },
     "execution_count": 9,
     "metadata": {},
     "output_type": "execute_result"
    }
   ],
   "source": [
    "np.isnan(sens_co_matrices).any(), np.isnan(P_matrices).any(), np.isnan(Y_matrices).any()"
   ]
  },
  {
   "cell_type": "code",
   "execution_count": 27,
   "metadata": {},
   "outputs": [
    {
     "data": {
      "text/plain": [
       "array([  8,  16,  23,  29,  43,  49,  55,  57,  65,  74,  76, 113, 115,\n",
       "       118, 119, 121, 146, 174, 176, 177, 189, 198, 200, 207, 222, 231,\n",
       "       234, 264, 266, 275, 305, 307, 309, 311, 323, 325, 332, 334, 335,\n",
       "       364, 395, 401, 413, 436, 448, 456, 463, 465, 475, 502, 511, 517,\n",
       "       534, 550, 566, 570, 579, 630, 633, 653, 656, 657, 663, 668, 676,\n",
       "       690, 696, 698, 701, 705, 709, 740, 742, 744, 750, 753, 755, 762,\n",
       "       767, 773, 800, 802, 817, 837, 839, 852, 858, 860, 866, 871, 879,\n",
       "       883, 897, 899, 904, 914, 918, 919, 921, 922, 926, 927, 935, 940,\n",
       "       977, 981, 982, 987, 988])"
      ]
     },
     "execution_count": 27,
     "metadata": {},
     "output_type": "execute_result"
    }
   ],
   "source": [
    "# Find indices where elements are NaN\n",
    "nan_indices = np.where(np.isnan(sens_co_matrices))\n",
    "\n",
    "# # Print the indices as tuples\n",
    "# for index_tuple in zip(*nan_indices):\n",
    "#     print(index_tuple)\n",
    "np.unique(nan_indices[0])"
   ]
  },
  {
   "cell_type": "code",
   "execution_count": null,
   "metadata": {},
   "outputs": [],
   "source": []
  },
  {
   "cell_type": "code",
   "execution_count": 10,
   "metadata": {},
   "outputs": [
    {
     "name": "stderr",
     "output_type": "stream",
     "text": [
      "/var/folders/7_/yd2c8wld3sggx9gtmv9ydwm80000gn/T/ipykernel_37545/2943788318.py:1: RuntimeWarning: overflow encountered in divide\n",
      "  relative_sens_co_matrices = (P_matrices / Y_matrices) * sens_co_matrices\n",
      "/var/folders/7_/yd2c8wld3sggx9gtmv9ydwm80000gn/T/ipykernel_37545/2943788318.py:1: RuntimeWarning: invalid value encountered in multiply\n",
      "  relative_sens_co_matrices = (P_matrices / Y_matrices) * sens_co_matrices\n"
     ]
    },
    {
     "data": {
      "text/plain": [
       "((1000, 160, 7), (1000, 7), (1000,), (1000, 160))"
      ]
     },
     "execution_count": 10,
     "metadata": {},
     "output_type": "execute_result"
    }
   ],
   "source": [
    "relative_sens_co_matrices = (P_matrices / Y_matrices) * sens_co_matrices\n",
    "# Calculate the 2-norm of each column in each matrix\n",
    "norms = np.linalg.norm(relative_sens_co_matrices, axis=1)\n",
    "# Find the index of the column with the largest 2-norm for each matrix\n",
    "max_norm_indices = np.argmax(norms, axis=1)\n",
    "# Find the maximum 2-norm column vector\n",
    "X_1 = relative_sens_co_matrices[np.arange(relative_sens_co_matrices.shape[0]), :, max_norm_indices]\n",
    "# max_norm_indices\n",
    "relative_sens_co_matrices.shape, norms.shape, max_norm_indices.shape, X_1.shape"
   ]
  },
  {
   "cell_type": "code",
   "execution_count": 11,
   "metadata": {},
   "outputs": [
    {
     "data": {
      "text/plain": [
       "array([[172.99443054,   0.        ,   0.        , ...,   0.        ,\n",
       "          0.        ,   0.        ],\n",
       "       [ 46.02626801,   0.        ,   0.        , ...,   0.        ,\n",
       "          0.        ,   0.        ],\n",
       "       [131.17332458,   0.        ,   0.        , ...,   0.        ,\n",
       "          0.        ,   0.        ],\n",
       "       ...,\n",
       "       [  0.        ,   0.        ,   0.        , ...,   0.        ,\n",
       "          0.        ,  76.82957458],\n",
       "       [  0.        ,   0.        ,   0.        , ...,   0.        ,\n",
       "          0.        , 111.48114777],\n",
       "       [ 35.79984665,   0.        ,   0.        , ...,   0.        ,\n",
       "          0.        ,   0.        ]])"
      ]
     },
     "execution_count": 11,
     "metadata": {},
     "output_type": "execute_result"
    }
   ],
   "source": [
    "# Initializa the identifiability score for 1000 sample \n",
    "# 1000 by 7 matrix\n",
    "identifiability_score = np.zeros((1000, 7))\n",
    "\n",
    "identifiability_score[np.arange(len(max_norm_indices)),max_norm_indices] = norms[np.arange(len(max_norm_indices)),max_norm_indices]\n",
    "identifiability_score"
   ]
  },
  {
   "cell_type": "code",
   "execution_count": 12,
   "metadata": {},
   "outputs": [
    {
     "data": {
      "text/plain": [
       "((1000, 160, 1), (1000, 1, 160), (1000, 160, 7))"
      ]
     },
     "execution_count": 12,
     "metadata": {},
     "output_type": "execute_result"
    }
   ],
   "source": [
    "X = X_1[:, :, np.newaxis]\n",
    "X.shape, X.transpose(0,2,1).shape, relative_sens_co_matrices.shape"
   ]
  },
  {
   "cell_type": "code",
   "execution_count": 13,
   "metadata": {},
   "outputs": [],
   "source": [
    "# R = relative_sens_co_matrices - X @ np.linalg.inv(X.transpose(0,2,1) @ X) @ X.transpose(0,2,1) @ relative_sens_co_matrices\n",
    "# R.shape"
   ]
  },
  {
   "cell_type": "code",
   "execution_count": 14,
   "metadata": {},
   "outputs": [],
   "source": [
    "# norms = np.linalg.norm(R, axis=1)\n",
    "# max_norm_indices = np.argmax(norms, axis=1)\n",
    "# norms.shape, max_norm_indices.shape"
   ]
  },
  {
   "cell_type": "code",
   "execution_count": 15,
   "metadata": {},
   "outputs": [],
   "source": [
    "j=1\n",
    "for j in range(7): \n",
    "    R = relative_sens_co_matrices - X @ np.linalg.inv(X.transpose(0,2,1) @ X) @ X.transpose(0,2,1) @ relative_sens_co_matrices\n",
    "    # Calculate the 2-norm of each column in each matrix\n",
    "    norms = np.linalg.norm(R, axis=1)\n",
    "    # Find the index of the column with the largest 2-norm for each matrix\n",
    "    max_norm_indices = np.argmax(norms, axis=1)\n",
    "    # Find the maximum 2-norm column vector\n",
    "    X_j = R[np.arange(R.shape[0]), :, max_norm_indices]\n",
    "    identifiability_score[np.arange(len(max_norm_indices)), max_norm_indices] = norms[np.arange(len(max_norm_indices)), max_norm_indices]\n",
    "    X = np.concatenate((X, X_j[:, :, np.newaxis]), axis=2)\n"
   ]
  },
  {
   "cell_type": "code",
   "execution_count": 38,
   "metadata": {},
   "outputs": [
    {
     "data": {
      "text/plain": [
       "array([  8,  16,  23,  29,  43,  49,  55,  57,  65,  74,  76, 113, 115,\n",
       "       118, 119, 121, 146, 174, 176, 177, 189, 198, 200, 207, 222, 231,\n",
       "       234, 264, 266, 275, 305, 307, 309, 311, 323, 325, 332, 334, 335,\n",
       "       364, 395, 401, 413, 436, 448, 456, 463, 465, 475, 502, 511, 517,\n",
       "       534, 550, 566, 570, 579, 630, 633, 653, 656, 657, 663, 668, 676,\n",
       "       690, 696, 698, 701, 705, 709, 740, 742, 744, 750, 753, 755, 762,\n",
       "       767, 773, 800, 802, 817, 837, 839, 852, 858, 860, 866, 871, 879,\n",
       "       883, 897, 899, 904, 914, 918, 919, 921, 922, 926, 927, 935, 940,\n",
       "       977, 981, 982, 987, 988])"
      ]
     },
     "execution_count": 38,
     "metadata": {},
     "output_type": "execute_result"
    }
   ],
   "source": [
    "# Find indices where elements are NaN\n",
    "zero_id_indexes = np.where(identifiability_score == 0)\n",
    "# # Print the indices as tuples\n",
    "# for index_tuple in zip(*nan_indices):\n",
    "#     print(index_tuple)\n",
    "invalid_sample = np.unique(np.where(identifiability_score == 0)[0])\n",
    "invalid_sample"
   ]
  },
  {
   "cell_type": "code",
   "execution_count": 58,
   "metadata": {},
   "outputs": [
    {
     "data": {
      "text/plain": [
       "((891, 7), (891,))"
      ]
     },
     "execution_count": 58,
     "metadata": {},
     "output_type": "execute_result"
    }
   ],
   "source": [
    "valid_id_scores = np.delete(identifiability_score, invalid_sample, axis=0)\n",
    "valid_samples = np.delete(np.arange(1000), invalid_sample)\n",
    "\n",
    "valid_id_scores.shape, valid_samples.shape"
   ]
  },
  {
   "cell_type": "code",
   "execution_count": 45,
   "metadata": {},
   "outputs": [
    {
     "data": {
      "text/plain": [
       "(array([32.31052199,  3.55814084,  1.80646843,  3.37853547,  4.58653036,\n",
       "        12.48733925, 34.42209992]),\n",
       " array([63.73044942,  1.10304445,  2.28823217,  3.86900745,  2.40247847,\n",
       "         7.98972765, 34.25159976]))"
      ]
     },
     "execution_count": 45,
     "metadata": {},
     "output_type": "execute_result"
    }
   ],
   "source": [
    "id_score_avg = np.mean(valid_id_scores, axis=0)\n",
    "id_score_std = np.std(valid_id_scores, axis=0)\n",
    "id_score_avg, id_score_std"
   ]
  },
  {
   "cell_type": "code",
   "execution_count": 76,
   "metadata": {},
   "outputs": [],
   "source": [
    "names = ['$p$', '$g_{max}$', '$E_{rev}$', '$a_m$', '$b_m$', '$\\u03B4_m$', '$s_m$']"
   ]
  },
  {
   "cell_type": "code",
   "execution_count": 77,
   "metadata": {},
   "outputs": [
    {
     "data": {
      "image/png": "[encoded data removed]",
      "text/plain": [
       "<Figure size 1000x600 with 1 Axes>"
      ]
     },
     "metadata": {},
     "output_type": "display_data"
    }
   ],
   "source": [
    "import numpy as np\n",
    "import matplotlib.pyplot as plt\n",
    "import seaborn as sns\n",
    "\n",
    "# Plotting\n",
    "plt.figure(figsize=(10, 6))\n",
    "j = 0\n",
    "for i, data in enumerate(valid_id_scores.T, start=1):\n",
    "    sns.kdeplot(data, label=names[j], linewidth=2)\n",
    "    j += 1\n",
    "plt.xlabel('Value')\n",
    "plt.ylabel('Density')\n",
    "plt.title('Kernel Density Estimate of 7 Data Sets')\n",
    "plt.legend()\n",
    "plt.grid(axis='y', linestyle='--', alpha=0.7)\n",
    "\n",
    "plt.xlim(0, 35)\n",
    "plt.show()"
   ]
  },
  {
   "cell_type": "code",
   "execution_count": 74,
   "metadata": {},
   "outputs": [
    {
     "data": {
      "text/plain": [
       "array([7.50388062e-05, 2.97987604e+00, 2.05693150e+00, 1.19052668e+01,\n",
       "       3.57572293e+00, 3.57530937e+01, 1.55914154e+02])"
      ]
     },
     "execution_count": 74,
     "metadata": {},
     "output_type": "execute_result"
    }
   ],
   "source": [
    "identifiability_score[32]"
   ]
  },
  {
   "cell_type": "code",
   "execution_count": 75,
   "metadata": {},
   "outputs": [
    {
     "data": {
      "text/plain": [
       "array([4.34591566e-05, 3.91357350e+00, 7.92065322e-01, 2.29236507e+00,\n",
       "       6.23647022e+00, 9.43502712e+00, 4.87354774e+01])"
      ]
     },
     "execution_count": 75,
     "metadata": {},
     "output_type": "execute_result"
    }
   ],
   "source": [
    "identifiability_score[9]"
   ]
  },
  {
   "cell_type": "code",
   "execution_count": null,
   "metadata": {},
   "outputs": [],
   "source": []
  }
 ],
 "metadata": {
  "kernelspec": {
   "display_name": "base",
   "language": "python",
   "name": "python3"
  },
  "language_info": {
   "codemirror_mode": {
    "name": "ipython",
    "version": 3
   },
   "file_extension": ".py",
   "mimetype": "text/x-python",
   "name": "python",
   "nbconvert_exporter": "python",
   "pygments_lexer": "ipython3",
   "version": "3.10.9"
  }
 },
 "nbformat": 4,
 "nbformat_minor": 2
}
