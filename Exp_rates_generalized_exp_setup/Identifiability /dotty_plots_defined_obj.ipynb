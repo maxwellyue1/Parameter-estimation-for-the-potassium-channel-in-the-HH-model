{
 "cells": [
  {
   "cell_type": "code",
   "execution_count": 1,
   "metadata": {},
   "outputs": [],
   "source": [
    "import matplotlib.pyplot as plt\n",
    "import numpy as np\n",
    "\n",
    "import sys\n",
    "sys.path.append('..')\n",
    "from dataset_reader import Traces_Dataset\n",
    "\n",
    "from exp_generate_data import exp_formalism_data_generator\n",
    "from exp_hh_model import HH_model_exp"
   ]
  },
  {
   "cell_type": "code",
   "execution_count": 2,
   "metadata": {},
   "outputs": [],
   "source": [
    "dataset = Traces_Dataset('../dataset_test.csv')"
   ]
  },
  {
   "cell_type": "code",
   "execution_count": 3,
   "metadata": {},
   "outputs": [
    {
     "data": {
      "text/plain": [
       "(-122, -41, 11.0)"
      ]
     },
     "execution_count": 3,
     "metadata": {},
     "output_type": "execute_result"
    }
   ],
   "source": [
    "target_num = 2\n",
    "target_prestep_V = int(dataset.prestep_V[target_num])\n",
    "target_step_V1 = int(dataset.step_Vs[target_num].numpy()[0])\n",
    "target_dV = dataset.step_Vs[target_num].numpy()[1] - dataset.step_Vs[target_num].numpy()[0]\n",
    "target_prestep_V, target_step_V1, target_dV"
   ]
  },
  {
   "cell_type": "code",
   "execution_count": 4,
   "metadata": {},
   "outputs": [
    {
     "name": "stdout",
     "output_type": "stream",
     "text": [
      "{'p': 4.0, 'g_max': 106.22407, 'E_rev': -71.32051, 'a_m': 2.2097604, 'b_m': 2.8441272, 'delta_m': 0.96789503, 's_m': -14.623417}\n"
     ]
    },
    {
     "name": "stderr",
     "output_type": "stream",
     "text": [
      "/lustre06/project/6000803/maxwell8/Compute-Canada-Research/Exp_rates_generalized_exp_setup/Identifiability /../exp_hh_model.py:85: RuntimeWarning: divide by zero encountered in divide\n",
      "  diff_arr = np.abs((self.current_traces[i, :][1:] - self.current_traces[i, :][:-1]) / (self.current_traces[i, :][:-1] - self.current_traces[i, :][0]))\n"
     ]
    },
    {
     "data": {
      "text/plain": [
       "((8,), (8, 600))"
      ]
     },
     "execution_count": 4,
     "metadata": {},
     "output_type": "execute_result"
    }
   ],
   "source": [
    "t = np.arange(0.0, 6.0, 0.01)\n",
    "target_params = dataset.params[target_num].numpy()\n",
    "\n",
    "sim_setup = {'prestep_V': target_prestep_V, 'step_Vs': dataset.step_Vs[target_num].numpy(), 't':t}\n",
    "params = {'p': target_params[0], \n",
    "          'g_max': target_params[1], \n",
    "          'E_rev': target_params[2], \n",
    "                 'a_m': target_params[3], \n",
    "                 'b_m': target_params[4], \n",
    "                 'delta_m': target_params[5], \n",
    "                 's_m': target_params[6]}\n",
    "print(params)\n",
    "\n",
    "model = HH_model_exp(params, sim_setup)\n",
    "model.simulation()\n",
    "if model.check_current_ss() and model.check_steady_state_curve(): \n",
    "    target_max_ind_arr = model.max_index_array\n",
    "    target_current_traces = model.current_traces\n",
    "\n",
    "target_max_ind_arr.shape, target_current_traces.shape"
   ]
  },
  {
   "cell_type": "markdown",
   "metadata": {},
   "source": [
    "generate samples using the target sim setup"
   ]
  },
  {
   "cell_type": "code",
   "execution_count": null,
   "metadata": {},
   "outputs": [
    {
     "name": "stderr",
     "output_type": "stream",
     "text": [
      "/lustre06/project/6000803/maxwell8/Compute-Canada-Research/Exp_rates_generalized_exp_setup/Identifiability /../exp_hh_model.py:31: RuntimeWarning: overflow encountered in exp\n",
      "  return 1 / (1 + np.exp((V - self.V_2m) / self.s_m))\n",
      "/lustre06/project/6000803/maxwell8/Compute-Canada-Research/Exp_rates_generalized_exp_setup/Identifiability /../exp_hh_model.py:85: RuntimeWarning: invalid value encountered in divide\n",
      "  diff_arr = np.abs((self.current_traces[i, :][1:] - self.current_traces[i, :][:-1]) / (self.current_traces[i, :][:-1] - self.current_traces[i, :][0]))\n",
      "/lustre06/project/6000803/maxwell8/Compute-Canada-Research/Exp_rates_generalized_exp_setup/Identifiability /../exp_hh_model.py:40: RuntimeWarning: overflow encountered in exp\n",
      "  return (tau_0m * np.exp(self.delta_m * ((V - self.V_2m) / self.s_m))) / (1 + np.exp((V - self.V_2m) / self.s_m))\n",
      "/lustre06/project/6000803/maxwell8/Compute-Canada-Research/Exp_rates_generalized_exp_setup/Identifiability /../exp_hh_model.py:61: RuntimeWarning: divide by zero encountered in divide\n",
      "  return self.m_infty(V) + (self.m_infty(self.prestep_V) - self.m_infty(V)) * np.exp(- self.t / self.tau_m(V))\n",
      "/lustre06/project/6000803/maxwell8/Compute-Canada-Research/Exp_rates_generalized_exp_setup/Identifiability /../exp_hh_model.py:61: RuntimeWarning: invalid value encountered in divide\n",
      "  return self.m_infty(V) + (self.m_infty(self.prestep_V) - self.m_infty(V)) * np.exp(- self.t / self.tau_m(V))\n",
      "/lustre06/project/6000803/maxwell8/Compute-Canada-Research/Exp_rates_generalized_exp_setup/Identifiability /../exp_hh_model.py:40: RuntimeWarning: invalid value encountered in scalar divide\n",
      "  return (tau_0m * np.exp(self.delta_m * ((V - self.V_2m) / self.s_m))) / (1 + np.exp((V - self.V_2m) / self.s_m))\n",
      "/lustre06/project/6000803/maxwell8/Compute-Canada-Research/Exp_rates_generalized_exp_setup/Identifiability /../exp_hh_model.py:61: RuntimeWarning: overflow encountered in divide\n",
      "  return self.m_infty(V) + (self.m_infty(self.prestep_V) - self.m_infty(V)) * np.exp(- self.t / self.tau_m(V))\n"
     ]
    },
    {
     "name": "stdout",
     "output_type": "stream",
     "text": [
      "generated 100 samples!\n",
      "generated 200 samples!\n",
      "generated 300 samples!\n",
      "generated 400 samples!\n",
      "generated 500 samples!\n",
      "generated 600 samples!\n",
      "generated 700 samples!\n",
      "generated 800 samples!\n",
      "generated 900 samples!\n",
      "generated 1000 samples!\n",
      "generated 1100 samples!\n",
      "generated 1200 samples!\n",
      "generated 1300 samples!\n",
      "generated 1400 samples!\n",
      "generated 1500 samples!\n",
      "generated 1600 samples!\n",
      "generated 1700 samples!\n",
      "generated 1800 samples!\n",
      "generated 1900 samples!\n",
      "generated 2000 samples!\n",
      "generated 2100 samples!\n",
      "generated 2200 samples!\n",
      "generated 2300 samples!\n",
      "generated 2400 samples!\n",
      "generated 2500 samples!\n",
      "generated 2600 samples!\n",
      "generated 2700 samples!\n",
      "generated 2800 samples!\n",
      "generated 2900 samples!\n",
      "generated 3000 samples!\n",
      "generated 3100 samples!\n",
      "generated 3200 samples!\n",
      "generated 3300 samples!\n"
     ]
    }
   ],
   "source": [
    "# p inclusive on both ends\n",
    "params_bounds = {'p': (1, 4), \n",
    "                 'g_max': (100, 140), \n",
    "                 'E_rev': (-100, -60), \n",
    "                 'a_m': (0, 100), \n",
    "                 'b_m': (0, 100), \n",
    "                 'delta_m': (0, 1), \n",
    "                 's_m': (-100, 0)}\n",
    "\n",
    "# prestep_V bounds -> only take values from lb to up with increment of 10\n",
    "# step_Vs bounds -> the lower bounds on step_Vs, generate an array of step_Vs using increment of 10 with 11 elements. \n",
    "# dV_bd inclusive on both ends\n",
    "\n",
    "exp_setupNbounds = {'prestep_V_bounds': (target_prestep_V, target_prestep_V), 'step_Vs_lb': (target_step_V1, target_step_V1), 'dV_bd': (target_dV, target_dV), 'n_traces': 8, 't': t}\n",
    "\n",
    "# sim_setup = {'prestep_V': -100, 'step_Vs': np.linspace(-20, 100, 13), 't': np.arange(0.0, 6.0, 0.01)}\n",
    "\n",
    "data_generator = exp_formalism_data_generator(params_bounds, exp_setupNbounds)\n",
    "n_samples = 10000\n",
    "data_generator.generate_data_dotty_plots(n_samples)\n",
    "data_generator.dataset.shape\n"
   ]
  },
  {
   "cell_type": "code",
   "execution_count": null,
   "metadata": {},
   "outputs": [],
   "source": [
    "max_ind_arrs = data_generator.dataset[:, :8]\n",
    "current_traces = data_generator.dataset[:, 8:-7].reshape(-1, 8, 600)\n",
    "params = data_generator.dataset[:, -7:]\n",
    "max_ind_arrs.shape, current_traces.shape, params.shape"
   ]
  },
  {
   "cell_type": "markdown",
   "metadata": {},
   "source": [
    "Visualize sample and target"
   ]
  },
  {
   "cell_type": "code",
   "execution_count": null,
   "metadata": {},
   "outputs": [],
   "source": [
    "sample = 5\n",
    "# Plotting 8 traces\n",
    "for i in range(8):\n",
    "    stop = int(max_ind_arrs[sample, i])\n",
    "    target_stop = int(target_max_ind_arr[i])\n",
    "    plt.plot(t[:stop], current_traces[sample, i, :stop], color = 'blue', linewidth = 0.5)\n",
    "    plt.plot(t[:target_stop], target_current_traces[i, :target_stop], color = 'red', linewidth = 0.5)\n",
    "    plt.axvline(x = min(t[stop], t[target_stop]), color='black', linestyle='--', linewidth = 0.5, alpha = 0.7)\n",
    "\n",
    "\n",
    "plt.xlabel('Time')\n",
    "plt.ylabel('Current')\n",
    "plt.plot([],[], color='blue', label=f'sample')\n",
    "plt.plot([],[], color='red', label=f'target')\n",
    "plt.plot([],[], color='black', linestyle='--', label='comparison window for different traces')\n",
    "plt.legend()\n",
    "plt.show()\n",
    "# current_traces[0]"
   ]
  },
  {
   "cell_type": "markdown",
   "metadata": {},
   "source": [
    "define obj functions"
   ]
  },
  {
   "cell_type": "code",
   "execution_count": null,
   "metadata": {},
   "outputs": [],
   "source": [
    "def obj_trace(sample, trace):\n",
    "    '''\n",
    "    find the area difference in the rising phase instead of the whole simulation. \n",
    "    This can be done by defining a window using the earlier threshold between two sample traces. \n",
    "    the fct is comparing two traces from the same experiment in two different samples. \n",
    "    '''\n",
    "    # find the earlier threshold index + 1. \n",
    "    stop_ind = int(min(max_ind_arrs[sample, trace], target_max_ind_arr[trace]))\n",
    "    #print(sample1, sample2, trace)\n",
    "    #print(np.where(selected_t[sample1, trace] == -1)[0][0], np.where(selected_t[sample2, trace] == -1)[0][0])\n",
    "    # we calculate the (avg over stop_ind points) \n",
    "\n",
    "    # diff_area_one_trace = np.trapz(np.abs(selected_current_traces_3d[sample1, trace, :stop_ind] - selected_current_traces_3d[sample2, trace, :stop_ind]), dataset_generator.t[:stop_ind]) / np.trapz(np.maximum(selected_current_traces_3d[sample1, trace, :stop_ind], selected_current_traces_3d[sample2, trace, :stop_ind]), dataset_generator.t[:stop_ind])\n",
    "    diff_area_one_trace = np.trapz(np.abs(current_traces[sample, trace, :stop_ind] - target_current_traces[trace, :stop_ind]), t[:stop_ind]) / np.trapz(np.maximum(current_traces[sample, trace, :stop_ind], target_current_traces[trace, :stop_ind]), t[:stop_ind])\n",
    "    \n",
    "    \n",
    "    return diff_area_one_trace"
   ]
  },
  {
   "cell_type": "code",
   "execution_count": null,
   "metadata": {},
   "outputs": [],
   "source": [
    "def obj(sample): \n",
    "    diff_area = np.mean([obj_trace(sample, trace) for trace in range(target_current_traces.shape[0])])\n",
    "    # diff_params_square = np.sum(np.square(selected_params[sample1] - selected_params[sample2]))\n",
    "    return diff_area #, diff_params_square"
   ]
  },
  {
   "cell_type": "code",
   "execution_count": null,
   "metadata": {},
   "outputs": [],
   "source": [
    "fitness_list = [obj(sample) for sample in range(n_samples)]\n",
    "param_lists = []\n",
    "for i in range(params.shape[1]):\n",
    "    param_list = [params[sample, i] for sample in range(n_samples)]\n",
    "    param_lists.append(param_list)"
   ]
  },
  {
   "cell_type": "code",
   "execution_count": null,
   "metadata": {},
   "outputs": [],
   "source": [
    "params_names = list(params_bounds.keys())\n",
    "\n",
    "for i in range(params.shape[1]):\n",
    "    plt.figure()\n",
    "    plt.scatter(param_lists[i], fitness_list, alpha=0.6, s=0.5)\n",
    "    plt.plot(target_params[i], 0, 'ro', markersize=1.5)\n",
    "    plt.xlabel(params_names[i])\n",
    "    plt.ylabel('fitness')"
   ]
  },
  {
   "cell_type": "code",
   "execution_count": null,
   "metadata": {},
   "outputs": [],
   "source": []
  }
 ],
 "metadata": {
  "kernelspec": {
   "display_name": "Python 3 (ipykernel)",
   "language": "python",
   "name": "python3"
  },
  "language_info": {
   "codemirror_mode": {
    "name": "ipython",
    "version": 3
   },
   "file_extension": ".py",
   "mimetype": "text/x-python",
   "name": "python",
   "nbconvert_exporter": "python",
   "pygments_lexer": "ipython3",
   "version": "3.10.2"
  }
 },
 "nbformat": 4,
 "nbformat_minor": 4
}
