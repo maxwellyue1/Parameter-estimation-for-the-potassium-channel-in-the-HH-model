{
 "cells": [
  {
   "cell_type": "code",
   "execution_count": 15,
   "metadata": {},
   "outputs": [],
   "source": [
    "import sys\n",
    "sys.path.append('..')\n",
    "from dataset_reader import Traces_Dataset\n",
    "from DE_obj_model import de_obj_model   \n",
    "import numpy as np\n",
    "import matplotlib.pyplot as plt\n",
    "\n",
    "from exp_generate_data import exp_formalism_data_generator\n",
    "from exp_hh_model import HH_model_exp"
   ]
  },
  {
   "cell_type": "code",
   "execution_count": 16,
   "metadata": {},
   "outputs": [],
   "source": [
    "dataset = Traces_Dataset('../dataset_test.csv')\n",
    "\n",
    "# sample = 1\n",
    "# params = dataset.params.numpy()\n",
    "# current_traces = dataset.current_traces.numpy()\n",
    "# time_traces = dataset.time_traces.numpy()\n",
    "\n",
    "# prestep_V_2d = dataset.prestep_V[sample].numpy().reshape(-1,1)\n",
    "# step_Vs_2d = dataset.step_Vs[sample].numpy().reshape(-1,1)\n",
    "# t = time_traces[sample]\n",
    "# # target_traces = current_traces[sample]\n",
    "# target_params = params[sample]"
   ]
  },
  {
   "cell_type": "code",
   "execution_count": 17,
   "metadata": {},
   "outputs": [],
   "source": [
    "# # sim setup for obj evaluation model\n",
    "# sim_setup_2d = {'prestep_V': prestep_V_2d, 'step_Vs': step_Vs_2d, 't': t}\n",
    "\n",
    "# # model = de_obj_model(target_params, sim_setup_2d)"
   ]
  },
  {
   "cell_type": "code",
   "execution_count": 18,
   "metadata": {},
   "outputs": [
    {
     "data": {
      "text/plain": [
       "(-122, -41, 11.0)"
      ]
     },
     "execution_count": 18,
     "metadata": {},
     "output_type": "execute_result"
    }
   ],
   "source": [
    "target_num = 2\n",
    "target_prestep_V = int(dataset.prestep_V[target_num])\n",
    "target_step_V1 = int(dataset.step_Vs[target_num].numpy()[0])\n",
    "target_dV = dataset.step_Vs[target_num].numpy()[1] - dataset.step_Vs[target_num].numpy()[0]\n",
    "target_prestep_V, target_step_V1, target_dV"
   ]
  },
  {
   "cell_type": "code",
   "execution_count": 19,
   "metadata": {},
   "outputs": [
    {
     "name": "stdout",
     "output_type": "stream",
     "text": [
      "{'p': 4.0, 'g_max': 106.22407, 'E_rev': -71.32051, 'a_m': 2.2097604, 'b_m': 2.8441272, 'delta_m': 0.96789503, 's_m': -14.623417}\n"
     ]
    },
    {
     "name": "stderr",
     "output_type": "stream",
     "text": [
      "/Users/maxwellyue/Documents/GitHub/Compute-Canada-Research/Exp_rates_generalized_exp_setup/Identifiability /../exp_hh_model.py:103: RuntimeWarning: divide by zero encountered in divide\n",
      "  diff_arr = np.abs((self.current_traces[i, :][1:] - self.current_traces[i, :][:-1]) / (self.current_traces[i, :][:-1] - self.current_traces[i, :][0]))\n"
     ]
    },
    {
     "data": {
      "text/plain": [
       "((8,), (8, 600))"
      ]
     },
     "execution_count": 19,
     "metadata": {},
     "output_type": "execute_result"
    }
   ],
   "source": [
    "t = np.arange(0.0, 6.0, 0.01)\n",
    "target_params = dataset.params[target_num].numpy()\n",
    "\n",
    "target_sim_setup = {'prestep_V': target_prestep_V, 'step_Vs': dataset.step_Vs[target_num].numpy(), 't':t}\n",
    "params = {'p': target_params[0], \n",
    "          'g_max': target_params[1], \n",
    "          'E_rev': target_params[2], \n",
    "                 'a_m': target_params[3], \n",
    "                 'b_m': target_params[4], \n",
    "                 'delta_m': target_params[5], \n",
    "                 's_m': target_params[6]}\n",
    "print(params)\n",
    "\n",
    "model = HH_model_exp(params, target_sim_setup)\n",
    "model.simulation()\n",
    "if model.check_current_ss() and model.check_steady_state_curve(): \n",
    "    target_max_ind_arr = model.max_index_array\n",
    "    target_current_traces = model.current_traces\n",
    "\n",
    "target_max_ind_arr.shape, target_current_traces.shape"
   ]
  },
  {
   "cell_type": "code",
   "execution_count": 20,
   "metadata": {},
   "outputs": [
    {
     "data": {
      "text/plain": [
       "array([291, 284, 266, 232, 181, 125,  77,  44])"
      ]
     },
     "execution_count": 20,
     "metadata": {},
     "output_type": "execute_result"
    }
   ],
   "source": [
    "target_max_ind_arr"
   ]
  },
  {
   "cell_type": "code",
   "execution_count": 21,
   "metadata": {},
   "outputs": [],
   "source": [
    "def obj_trace(trail_current_traces, trail_max_ind_arr, trace):\n",
    "    '''\n",
    "    find the area difference in the rising phase instead of the whole simulation. \n",
    "    This can be done by defining a window using the earlier threshold between two sample traces. \n",
    "    the fct is comparing two traces from the same experiment in two different samples. \n",
    "    '''\n",
    "    # find the earlier threshold index + 1. \n",
    "    if trail_max_ind_arr[trace] == -1: \n",
    "        stop_ind = int(target_max_ind_arr[trace])\n",
    "    elif target_max_ind_arr[trace] == -1: \n",
    "        stop_ind = int(trail_max_ind_arr[trace])\n",
    "    else:\n",
    "        stop_ind = int(min(trail_max_ind_arr[trace], target_max_ind_arr[trace]))\n",
    "    #print(sample1, sample2, trace)\n",
    "    #print(np.where(selected_t[sample1, trace] == -1)[0][0], np.where(selected_t[sample2, trace] == -1)[0][0])\n",
    "    # we calculate the (avg over stop_ind points) \n",
    "\n",
    "    # diff_area_one_trace = np.trapz(np.abs(selected_current_traces_3d[sample1, trace, :stop_ind] - selected_current_traces_3d[sample2, trace, :stop_ind]), dataset_generator.t[:stop_ind]) / np.trapz(np.maximum(selected_current_traces_3d[sample1, trace, :stop_ind], selected_current_traces_3d[sample2, trace, :stop_ind]), dataset_generator.t[:stop_ind])\n",
    "    diff_area_one_trace = np.trapz(np.abs(trail_current_traces[trace, :stop_ind] - target_current_traces[trace, :stop_ind]), t[:stop_ind]) / np.trapz(np.maximum(trail_current_traces[trace, :stop_ind], target_current_traces[trace, :stop_ind]), t[:stop_ind])\n",
    "    \n",
    "    \n",
    "    return diff_area_one_trace"
   ]
  },
  {
   "cell_type": "code",
   "execution_count": 22,
   "metadata": {},
   "outputs": [],
   "source": [
    "def obj(x, *args):\n",
    "    '''\n",
    "    x: trail parameters\n",
    "    *args=(target_sim_setup, target_current_traces, target_max_ind_arr)\n",
    "    ''' \n",
    "    params = {'p': x[0], 'g_max': x[1], 'E_rev': x[2], 'a_m': x[3], 'b_m': x[4], 'delta_m': x[5], 's_m': x[6]}\n",
    "    model = HH_model_exp(params, target_sim_setup)\n",
    "    trail_current_traces = model.simulation()\n",
    "    trail_max_ind_arr = model.threshold_pos()\n",
    "    \n",
    "    diff_area = np.mean([obj_trace(trail_current_traces, trail_max_ind_arr, trace) for trace in range(target_current_traces.shape[0])])\n",
    "    # diff_params_square = np.sum(np.square(selected_params[sample1] - selected_params[sample2]))\n",
    "    return diff_area #, diff_params_square"
   ]
  },
  {
   "cell_type": "code",
   "execution_count": 23,
   "metadata": {},
   "outputs": [
    {
     "data": {
      "text/plain": [
       "array([  4.        , 106.22407   , -71.32051   ,   2.2097604 ,\n",
       "         2.8441272 ,   0.96789503, -14.623417  ], dtype=float32)"
      ]
     },
     "execution_count": 23,
     "metadata": {},
     "output_type": "execute_result"
    }
   ],
   "source": [
    "target_params"
   ]
  },
  {
   "cell_type": "code",
   "execution_count": 24,
   "metadata": {},
   "outputs": [
    {
     "name": "stderr",
     "output_type": "stream",
     "text": [
      "/Users/maxwellyue/Documents/GitHub/Compute-Canada-Research/Exp_rates_generalized_exp_setup/Identifiability /../exp_hh_model.py:84: RuntimeWarning: divide by zero encountered in divide\n",
      "  diff_arr = np.abs((self.current_traces[i, :][1:] - self.current_traces[i, :][:-1]) / (self.current_traces[i, :][:-1] - self.current_traces[i, :][0]))\n"
     ]
    }
   ],
   "source": [
    "x = target_params\n",
    "params = {'p': x[0], 'g_max': x[1], 'E_rev': x[2], 'a_m': x[3], 'b_m': x[4], 'delta_m': x[5], 's_m': x[6]}\n",
    "model = HH_model_exp(params, target_sim_setup)\n",
    "trail_current_traces = model.simulation()\n",
    "trail_max_ind_arr = model.threshold_pos()"
   ]
  },
  {
   "cell_type": "code",
   "execution_count": 25,
   "metadata": {},
   "outputs": [
    {
     "data": {
      "text/plain": [
       "True"
      ]
     },
     "execution_count": 25,
     "metadata": {},
     "output_type": "execute_result"
    }
   ],
   "source": [
    "model.check_current_ss()"
   ]
  },
  {
   "cell_type": "code",
   "execution_count": 26,
   "metadata": {},
   "outputs": [
    {
     "data": {
      "text/plain": [
       "array([291, 284, 266, 232, 181, 125,  77,  44])"
      ]
     },
     "execution_count": 26,
     "metadata": {},
     "output_type": "execute_result"
    }
   ],
   "source": [
    "trail_max_ind_arr"
   ]
  },
  {
   "cell_type": "code",
   "execution_count": 35,
   "metadata": {},
   "outputs": [
    {
     "data": {
      "text/plain": [
       "0.6207174942207995"
      ]
     },
     "execution_count": 35,
     "metadata": {},
     "output_type": "execute_result"
    }
   ],
   "source": [
    "x = dataset.params[5].numpy()\n",
    "obj(x, target_sim_setup, target_current_traces, target_max_ind_arr)"
   ]
  },
  {
   "cell_type": "code",
   "execution_count": 58,
   "metadata": {},
   "outputs": [],
   "source": [
    "# these bounds are from the distribution of the params in the dataset used for NN training\n",
    "params_searching_bounds = {\n",
    "    'p': (1, 4),\n",
    "    'g_max': (100, 140), \n",
    "    'E_rev': (-100, -60), \n",
    "    'a_m': (0, 100), \n",
    "    'b_m': (0, 100), \n",
    "    'delta_m': (0, 1), \n",
    "    's_m': (-100, 0)\n",
    "}\n",
    "bounds = [params_searching_bounds['p'], params_searching_bounds['g_max'], params_searching_bounds['E_rev'], params_searching_bounds['a_m'], params_searching_bounds['b_m'], params_searching_bounds['delta_m'], params_searching_bounds['s_m']]"
   ]
  },
  {
   "cell_type": "code",
   "execution_count": 54,
   "metadata": {},
   "outputs": [],
   "source": [
    "def callback_function(xk, convergence):\n",
    "    callback_function.iteration += 1\n",
    "    print(\"Iteration:\", callback_function.iteration)\n",
    "    print(\"Solution:\", xk)\n",
    "    print(\"Objective value:\", obj(xk, target_sim_setup, target_current_traces, target_max_ind_arr))\n",
    "    print(\"------------------------\")\n",
    "callback_function.iteration = 0  # Initialize the iteration counter"
   ]
  },
  {
   "cell_type": "code",
   "execution_count": 66,
   "metadata": {},
   "outputs": [
    {
     "name": "stderr",
     "output_type": "stream",
     "text": [
      "/var/folders/7_/yd2c8wld3sggx9gtmv9ydwm80000gn/T/ipykernel_88436/417898969.py:19: RuntimeWarning: invalid value encountered in double_scalars\n",
      "  diff_area_one_trace = np.trapz(np.abs(trail_current_traces[trace, :stop_ind] - target_current_traces[trace, :stop_ind]), t[:stop_ind]) / np.trapz(np.maximum(trail_current_traces[trace, :stop_ind], target_current_traces[trace, :stop_ind]), t[:stop_ind])\n"
     ]
    }
   ],
   "source": [
    "from scipy.optimize import differential_evolution\n",
    "result = differential_evolution(obj, bounds, args=(target_sim_setup, target_current_traces, target_max_ind_arr), strategy='best1bin', maxiter=10000)#, callback=callback_function)"
   ]
  },
  {
   "cell_type": "markdown",
   "metadata": {},
   "source": []
  },
  {
   "cell_type": "code",
   "execution_count": null,
   "metadata": {},
   "outputs": [],
   "source": []
  },
  {
   "cell_type": "code",
   "execution_count": 68,
   "metadata": {},
   "outputs": [
    {
     "data": {
      "text/plain": [
       " message: Maximum number of iterations has been exceeded.\n",
       " success: False\n",
       "     fun: nan\n",
       "       x: [ 2.190e+00  1.113e+02 -9.321e+01  6.393e+01  7.948e+01\n",
       "            9.943e-01 -5.290e+00]\n",
       "     nit: 10000\n",
       "    nfev: 1050273"
      ]
     },
     "execution_count": 68,
     "metadata": {},
     "output_type": "execute_result"
    }
   ],
   "source": [
    "result"
   ]
  },
  {
   "cell_type": "code",
   "execution_count": 69,
   "metadata": {},
   "outputs": [
    {
     "data": {
      "text/plain": [
       "array([  4.        , 106.22407   , -71.32051   ,   2.2097604 ,\n",
       "         2.8441272 ,   0.96789503, -14.623417  ], dtype=float32)"
      ]
     },
     "execution_count": 69,
     "metadata": {},
     "output_type": "execute_result"
    }
   ],
   "source": [
    "target_params"
   ]
  },
  {
   "cell_type": "code",
   "execution_count": null,
   "metadata": {},
   "outputs": [],
   "source": []
  }
 ],
 "metadata": {
  "kernelspec": {
   "display_name": "base",
   "language": "python",
   "name": "python3"
  },
  "language_info": {
   "codemirror_mode": {
    "name": "ipython",
    "version": 3
   },
   "file_extension": ".py",
   "mimetype": "text/x-python",
   "name": "python",
   "nbconvert_exporter": "python",
   "pygments_lexer": "ipython3",
   "version": "3.10.9"
  }
 },
 "nbformat": 4,
 "nbformat_minor": 2
}
