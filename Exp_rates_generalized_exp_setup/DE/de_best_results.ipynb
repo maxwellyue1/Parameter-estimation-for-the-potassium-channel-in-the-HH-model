{
 "cells": [
  {
   "cell_type": "code",
   "execution_count": 1,
   "metadata": {},
   "outputs": [
    {
     "data": {
      "text/html": [
       "<style type='text/css'>\n",
       ".datatable table.frame { margin-bottom: 0; }\n",
       ".datatable table.frame thead { border-bottom: none; }\n",
       ".datatable table.frame tr.coltypes td {  color: #FFFFFF;  line-height: 6px;  padding: 0 0.5em;}\n",
       ".datatable .bool    { background: #DDDD99; }\n",
       ".datatable .object  { background: #565656; }\n",
       ".datatable .int     { background: #5D9E5D; }\n",
       ".datatable .float   { background: #4040CC; }\n",
       ".datatable .str     { background: #CC4040; }\n",
       ".datatable .time    { background: #40CC40; }\n",
       ".datatable .row_index {  background: var(--jp-border-color3);  border-right: 1px solid var(--jp-border-color0);  color: var(--jp-ui-font-color3);  font-size: 9px;}\n",
       ".datatable .frame tbody td { text-align: left; }\n",
       ".datatable .frame tr.coltypes .row_index {  background: var(--jp-border-color0);}\n",
       ".datatable th:nth-child(2) { padding-left: 12px; }\n",
       ".datatable .hellipsis {  color: var(--jp-cell-editor-border-color);}\n",
       ".datatable .vellipsis {  background: var(--jp-layout-color0);  color: var(--jp-cell-editor-border-color);}\n",
       ".datatable .na {  color: var(--jp-cell-editor-border-color);  font-size: 80%;}\n",
       ".datatable .sp {  opacity: 0.25;}\n",
       ".datatable .footer { font-size: 9px; }\n",
       ".datatable .frame_dimensions {  background: var(--jp-border-color3);  border-top: 1px solid var(--jp-border-color0);  color: var(--jp-ui-font-color3);  display: inline-block;  opacity: 0.6;  padding: 1px 10px 1px 5px;}\n",
       "</style>\n"
      ],
      "text/plain": [
       "<IPython.core.display.HTML object>"
      ]
     },
     "metadata": {},
     "output_type": "display_data"
    }
   ],
   "source": [
    "import numpy as np\n",
    "import csv\n",
    "import os\n",
    "import sys  # Import the sys module\n",
    "import time\n",
    "from functools import partial\n",
    "from multiprocessing import Pool\n",
    "from scipy.optimize import differential_evolution\n",
    "\n",
    "sys.path.append('..')\n",
    "from dataset_reader import Traces_Dataset\n",
    "from DE_obj_model import de_obj_model   \n",
    "from exp_hh_model import HH_model_exp"
   ]
  },
  {
   "cell_type": "code",
   "execution_count": 2,
   "metadata": {},
   "outputs": [],
   "source": [
    "dataset = Traces_Dataset('../dataset_test.csv')\n",
    "\n",
    "params = dataset.params.numpy()\n",
    "current_traces = dataset.current_traces.numpy()\n",
    "time_traces = dataset.time_traces.numpy()\n",
    "\n",
    "prestep_V_vec = dataset.prestep_V.numpy()\n",
    "step_Vs_vec = dataset.step_Vs.numpy()"
   ]
  },
  {
   "cell_type": "code",
   "execution_count": 3,
   "metadata": {},
   "outputs": [],
   "source": [
    "def obj(x, *args): \n",
    "    '''\n",
    "    x: a 1-D array of the variables for the obj function (the parameters we are estimating)\n",
    "    *args=(sim_setup_2d, target_current_trances)\n",
    "    '''\n",
    "    trail_model = de_obj_model(x, args[0])\n",
    "    trail_traces = trail_model.simulation()\n",
    "    # print(trail_traces[1])\n",
    "    target_model = de_obj_model(args[1], args[0])\n",
    "    target_traces = target_model.simulation()\n",
    "    # print(target_traces[1]) \n",
    "\n",
    "    fit = np.sum(np.square(trail_traces - target_traces))\n",
    "    # relative_error = fit/np.sum(np.square(target_traces))\n",
    "    \n",
    "    return fit"
   ]
  },
  {
   "cell_type": "code",
   "execution_count": null,
   "metadata": {},
   "outputs": [],
   "source": [
    "fitness = obj(params[0], *(sim_setup_2d, target_params))\n",
    "print(fitness)"
   ]
  },
  {
   "cell_type": "code",
   "execution_count": 4,
   "metadata": {},
   "outputs": [],
   "source": [
    "# these bounds are from the distribution of the params in the dataset used for NN training\n",
    "params_searching_bounds = {\n",
    "    'p': (1, 4),\n",
    "    'g_max': (100, 140), \n",
    "    'E_rev': (-100, -60), \n",
    "    'a_m': (0, 100), \n",
    "    'b_m': (0, 100), \n",
    "    'delta_m': (0, 1), \n",
    "    's_m': (-100, 0)\n",
    "}\n",
    "bounds = [params_searching_bounds['p'], params_searching_bounds['g_max'], params_searching_bounds['E_rev'], params_searching_bounds['a_m'], params_searching_bounds['b_m'], params_searching_bounds['delta_m'], params_searching_bounds['s_m']]"
   ]
  },
  {
   "cell_type": "code",
   "execution_count": 5,
   "metadata": {},
   "outputs": [],
   "source": [
    "hyperparameters_grid = {\n",
    "    'strategy': ['best1bin', 'best1exp', 'rand1exp', 'rand1exp', \n",
    "                'rand2bin', 'rand2exp', 'best2bin', 'best2exp',\n",
    "                'randtobest1bin', 'randtobest1exp',\n",
    "                'currenttobest1bin', 'currenttobest1exp'],\n",
    "    'popsize': [140], #[14,28,42,56,70],  # Example popsize hyperparameter\n",
    "    'mutation': [(0.1, 0.9)],  # Example mutation hyperparameter\n",
    "    'recombination': [0.9],  # Example recombination hyperparameter\n",
    "    'init': ['latinhypercube'],  # Example init hyperparameter\n",
    "}"
   ]
  },
  {
   "cell_type": "code",
   "execution_count": 6,
   "metadata": {},
   "outputs": [],
   "source": [
    "# csv_filename = \"de_experiment_results_parrallell_try_1000_allmetrics.csv\"\n",
    "# # Define the headers for the CSV file\n",
    "# csv_headers = ['Strategy', 'Popsize', 'MSE Overall Avg', 'MSE Overall Std', 'RMSE Overall Avg', 'RMSE Overall Std', 'MAE Overall Avg', 'MAE Overall Std', 'MAPE Overall Avg', 'MAPE Overall Std', 'Elapsed Time Avg',  'Elapsed Time Std']\n",
    "\n",
    "# # Check if the CSV file exists; if not, create and write the headers\n",
    "# if not os.path.exists(csv_filename):\n",
    "#     with open(csv_filename, mode='w', newline='') as file:\n",
    "#         writer = csv.writer(file)\n",
    "#         writer.writerow(csv_headers)"
   ]
  },
  {
   "cell_type": "code",
   "execution_count": null,
   "metadata": {},
   "outputs": [],
   "source": []
  }
 ],
 "metadata": {
  "kernelspec": {
   "display_name": "base",
   "language": "python",
   "name": "python3"
  },
  "language_info": {
   "codemirror_mode": {
    "name": "ipython",
    "version": 3
   },
   "file_extension": ".py",
   "mimetype": "text/x-python",
   "name": "python",
   "nbconvert_exporter": "python",
   "pygments_lexer": "ipython3",
   "version": "3.10.9"
  }
 },
 "nbformat": 4,
 "nbformat_minor": 2
}
