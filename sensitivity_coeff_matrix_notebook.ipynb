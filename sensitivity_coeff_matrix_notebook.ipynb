{
 "cells": [
  {
   "cell_type": "code",
   "execution_count": 1,
   "id": "0c957376-5cb0-4ba3-8db8-596bd4e285f7",
   "metadata": {},
   "outputs": [],
   "source": [
    "import numpy as np"
   ]
  },
  {
   "cell_type": "code",
   "execution_count": 2,
   "id": "e0a4f8c7-8a57-42bc-9211-2c3fcd620bb1",
   "metadata": {},
   "outputs": [],
   "source": [
    "matrices = np.load('sensitivity_coeff_matrix.npy')"
   ]
  },
  {
   "cell_type": "code",
   "execution_count": 3,
   "id": "0d5d2c57-322e-4d54-b53e-1db592848550",
   "metadata": {},
   "outputs": [
    {
     "data": {
      "text/plain": [
       "(1000, 144000, 8)"
      ]
     },
     "execution_count": 3,
     "metadata": {},
     "output_type": "execute_result"
    }
   ],
   "source": [
    "matrices.shape"
   ]
  },
  {
   "cell_type": "code",
   "execution_count": 5,
   "id": "331af2ce-2479-4cad-ba2d-2dc486965aa6",
   "metadata": {},
   "outputs": [],
   "source": [
    "matrice0 = matrices[0]\n",
    "matrice1 = matrices[1]"
   ]
  },
  {
   "cell_type": "code",
   "execution_count": 7,
   "id": "5a9ae192-5aed-4ba8-ae6f-cc9133ac52ac",
   "metadata": {},
   "outputs": [],
   "source": [
    "import pandas as pd\n",
    "\n",
    "params_test = pd.read_csv('dataset_test.csv').iloc[:2, -8:]"
   ]
  },
  {
   "cell_type": "code",
   "execution_count": 13,
   "id": "46a66539-a6b7-4f22-a01d-877295a4aff6",
   "metadata": {},
   "outputs": [],
   "source": [
    "params_sets = params_test.values"
   ]
  },
  {
   "cell_type": "code",
   "execution_count": 45,
   "id": "acbfd35a-f70a-4a1e-a4bb-5e9178ebe106",
   "metadata": {},
   "outputs": [
    {
     "data": {
      "text/plain": [
       "(2, 12, 12000)"
      ]
     },
     "execution_count": 45,
     "metadata": {},
     "output_type": "execute_result"
    }
   ],
   "source": [
    "from generate_dataset_class import potassium_channel_dataset_genaerator\n",
    "M_ha = 2\n",
    "M_hb = 5\n",
    "V_2ha = -40\n",
    "V_2hb = -35\n",
    "s_ha = 6\n",
    "s_hb = -10\n",
    "X_h = [M_ha, M_hb, V_2ha, V_2hb, s_ha, s_hb]\n",
    "\n",
    "param_bounds_wo_h = {'g_max': [100.0, 140.0],\n",
    "                'E_rev': [-100, -80],\n",
    "\n",
    "                'M_ma': [0, 50],\n",
    "                'M_mb': [0, 50],\n",
    "                'V_2ma': [-60, 60],\n",
    "                #'V_2ma': [10, 100],\n",
    "                'V_2mb': [-60, 60],\n",
    "                's_ma': [-50, -0.5],  # excluding small abs values to avoid operating error in exp\n",
    "                's_mb': [0.5, 50]}\n",
    "\n",
    "input = {'p': 4,\n",
    "         'q': 0,\n",
    "        'step_Vs': np.array([0.00, 10.00, 20.00, 30.00, 40.00, 50.00, 60.00, 70.00, 80.00]), # mV\n",
    "        'prestep_Vs': np.array([-80, -50, -20]),\n",
    "        'step_V': 80,\n",
    "        'prestep_V': -100,  #mV\n",
    "        'end_time': 120,\n",
    "        'time_step': 0.01,\n",
    "        'X_h': X_h,\n",
    "        'param_bounds_wo_h': param_bounds_wo_h}\n",
    "\n",
    "current_generator = potassium_channel_dataset_genaerator(input)\n",
    "current_generator.generate_data_w_params(params_sets)\n",
    "current_generator.current_traces_3d.shape"
   ]
  },
  {
   "cell_type": "code",
   "execution_count": null,
   "id": "3a5d2f76-f32a-49e7-9820-3dcab902da5e",
   "metadata": {},
   "outputs": [],
   "source": []
  },
  {
   "cell_type": "code",
   "execution_count": 46,
   "id": "dbaa1c8a-9718-4531-a6f5-0c61ac23dae8",
   "metadata": {},
   "outputs": [
    {
     "data": {
      "text/plain": [
       "array([[4.25438152e-01, 3.47401620e+01, 1.16513469e+02, ...,\n",
       "        3.26313546e+02, 3.26313546e+02, 3.26313546e+02],\n",
       "       [4.71191271e-01, 5.44961764e+01, 1.88910078e+02, ...,\n",
       "        5.30546890e+02, 5.30546890e+02, 5.30546890e+02],\n",
       "       [5.16944389e-01, 8.15907018e+01, 2.91657546e+02, ...,\n",
       "        8.28715100e+02, 8.28715100e+02, 8.28715100e+02],\n",
       "       ...,\n",
       "       [4.51460184e+00, 5.40912725e+02, 2.05089696e+03, ...,\n",
       "        7.23790337e+03, 7.23790337e+03, 7.23790337e+03],\n",
       "       [4.33371919e+01, 8.82610605e+02, 2.52036377e+03, ...,\n",
       "        7.23790337e+03, 7.23790337e+03, 7.23790337e+03],\n",
       "       [2.48536945e+02, 1.52262682e+03, 3.22623586e+03, ...,\n",
       "        7.23790337e+03, 7.23790337e+03, 7.23790337e+03]])"
      ]
     },
     "execution_count": 46,
     "metadata": {},
     "output_type": "execute_result"
    }
   ],
   "source": [
    "current_generator.current_traces_3d[0]"
   ]
  },
  {
   "cell_type": "code",
   "execution_count": 47,
   "id": "bacc4e8b-9816-4a92-93d2-4d4b847132db",
   "metadata": {},
   "outputs": [
    {
     "data": {
      "text/plain": [
       "array([4.25438152e-01, 4.71191271e-01, 5.16944389e-01, ...,\n",
       "       7.23790337e+03, 7.23790337e+03, 7.23790337e+03])"
      ]
     },
     "execution_count": 47,
     "metadata": {},
     "output_type": "execute_result"
    }
   ],
   "source": [
    "current_generator.current_traces_3d[0].reshape(-1, order='F')"
   ]
  },
  {
   "cell_type": "code",
   "execution_count": null,
   "id": "9e4797ea-17ab-4706-98f6-ba91b59057c0",
   "metadata": {},
   "outputs": [],
   "source": []
  },
  {
   "cell_type": "code",
   "execution_count": 48,
   "id": "dccd411d-0d86-4f0d-a80b-ccb1f70a6eef",
   "metadata": {},
   "outputs": [
    {
     "data": {
      "text/plain": [
       "((144000,), (144000,))"
      ]
     },
     "execution_count": 48,
     "metadata": {},
     "output_type": "execute_result"
    }
   ],
   "source": [
    "y_col0 = current_generator.current_traces_3d[0].reshape(-1, order='F')\n",
    "y_col1 = current_generator.current_traces_3d[1].reshape(-1, order='F')\n",
    "y_col0.shape, y_col1.shape"
   ]
  },
  {
   "cell_type": "code",
   "execution_count": 49,
   "id": "febc6f1c-096d-4e13-9b83-21f9244b5154",
   "metadata": {},
   "outputs": [
    {
     "data": {
      "text/plain": [
       "array([4.25438152e-01, 4.71191271e-01, 5.16944389e-01, ...,\n",
       "       7.23790337e+03, 7.23790337e+03, 7.23790337e+03])"
      ]
     },
     "execution_count": 49,
     "metadata": {},
     "output_type": "execute_result"
    }
   ],
   "source": [
    "y_col0"
   ]
  },
  {
   "cell_type": "code",
   "execution_count": 50,
   "id": "cd1239d7-49b6-498f-bf17-8345bc898e25",
   "metadata": {},
   "outputs": [
    {
     "data": {
      "text/plain": [
       "(144000, 8)"
      ]
     },
     "execution_count": 50,
     "metadata": {},
     "output_type": "execute_result"
    }
   ],
   "source": [
    "np.tile(y_col0, (8, 1)).T.shape"
   ]
  },
  {
   "cell_type": "code",
   "execution_count": null,
   "id": "95faccd7-1db9-49ce-8983-c7c147152fef",
   "metadata": {},
   "outputs": [],
   "source": []
  }
 ],
 "metadata": {
  "kernelspec": {
   "display_name": "Python 3 (ipykernel)",
   "language": "python",
   "name": "python3"
  },
  "language_info": {
   "codemirror_mode": {
    "name": "ipython",
    "version": 3
   },
   "file_extension": ".py",
   "mimetype": "text/x-python",
   "name": "python",
   "nbconvert_exporter": "python",
   "pygments_lexer": "ipython3",
   "version": "3.10.2"
  }
 },
 "nbformat": 4,
 "nbformat_minor": 5
}
