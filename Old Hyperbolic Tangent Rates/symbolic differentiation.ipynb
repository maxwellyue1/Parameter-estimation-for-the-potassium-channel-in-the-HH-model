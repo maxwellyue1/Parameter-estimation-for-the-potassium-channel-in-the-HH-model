{
 "cells": [
  {
   "cell_type": "code",
   "execution_count": 1,
   "metadata": {},
   "outputs": [],
   "source": [
    "import sympy as sym\n",
    "import numpy as np"
   ]
  },
  {
   "cell_type": "code",
   "execution_count": 2,
   "metadata": {},
   "outputs": [],
   "source": [
    "t = sym.Symbol('t')\n",
    "\n",
    "I = sym.Symbol('I')\n",
    "m = sym.Symbol('m')\n",
    "m_inf = sym.Symbol('m_inf')\n",
    "\n",
    "p = sym.Symbol('p')\n",
    "\n",
    "prestep_V = sym.Symbol('prestep_V')\n",
    "step_V = sym.Symbol('step_V')\n",
    "\n",
    "a = sym.Symbol('a')\n",
    "b = sym.Symbol('b')\n",
    "\n",
    "g_max = sym.Symbol('g_max')\n",
    "E_rev = sym.Symbol('E_rev')\n",
    "M_ma = sym.Symbol('M_ma')\n",
    "M_mb = sym.Symbol('M_mb')\n",
    "V_2ma = sym.Symbol('V_2ma')\n",
    "V_2mb = sym.Symbol('V_2mb')\n",
    "s_ma = sym.Symbol('s_ma')\n",
    "s_mb = sym.Symbol('s_mb')"
   ]
  },
  {
   "cell_type": "code",
   "execution_count": 3,
   "metadata": {},
   "outputs": [],
   "source": [
    "# H-H model\n",
    "m_inf = 1 / (1 + M_mb/M_ma * ((1+sym.exp((prestep_V-V_2ma)/s_ma)) / (1+sym.exp((prestep_V-V_2mb)/s_mb))))\n",
    "\n",
    "a = M_ma / (1 + sym.exp((step_V - V_2ma) / s_ma))\n",
    "b = M_mb / (1 + sym.exp((step_V - V_2mb) / s_mb))\n",
    "\n",
    "m = (a - (a-(a+b)*m_inf)*sym.exp(-t*(a+b))) / (a + b)\n",
    "I = g_max * m ** 4 * (step_V - E_rev)"
   ]
  },
  {
   "cell_type": "code",
   "execution_count": 4,
   "metadata": {},
   "outputs": [
    {
     "data": {
      "text/plain": [
       "[(-100, 0.0),\n",
       " (-100, 10.0),\n",
       " (-100, 20.0),\n",
       " (-100, 30.0),\n",
       " (-100, 40.0),\n",
       " (-100, 50.0),\n",
       " (-100, 60.0),\n",
       " (-100, 70.0),\n",
       " (-100, 80.0),\n",
       " (-80, 80),\n",
       " (-50, 80),\n",
       " (-20, 80)]"
      ]
     },
     "execution_count": 4,
     "metadata": {},
     "output_type": "execute_result"
    }
   ],
   "source": [
    "# subs \n",
    "t_points = np.arange(0.0, 120, 0.01) \n",
    "sim_p = 4\n",
    "\n",
    "sim_prestep_V = -100\n",
    "prestep_Vs = [-80, -50, -20]\n",
    "\n",
    "step_Vs = [0.00, 10.00, 20.00, 30.00, 40.00, 50.00, 60.00, 70.00, 80.00]\n",
    "sim_step_V = 80\n",
    "\n",
    "traces_Vs = [(sim_prestep_V, v) for v in step_Vs]\n",
    "traces_Vs.extend([(v, sim_step_V) for v in prestep_Vs])\n",
    "traces_Vs"
   ]
  },
  {
   "cell_type": "code",
   "execution_count": null,
   "metadata": {},
   "outputs": [],
   "source": [
    "# read dataset_test\n",
    "import pandas as pd\n",
    "\n",
    "params_test = pd.read_csv('dataset_test.csv').iloc[:, -8:]\n",
    "params_test.columns"
   ]
  },
  {
   "cell_type": "code",
   "execution_count": null,
   "metadata": {},
   "outputs": [],
   "source": [
    "# Initialize a sensitivity_coef_matrix with zeros\n",
    "num_matrices = params_test.shape[0]\n",
    "num_params = 8\n",
    "\n",
    "\n",
    "sensitivity_coef_matrices = np.zeros((num_matrices, len(traces_Vs) * len(t_points), num_params))\n",
    "sensitivity_coef_matrices.shape\n"
   ]
  },
  {
   "cell_type": "code",
   "execution_count": null,
   "metadata": {},
   "outputs": [],
   "source": [
    "params_sub = {g_max:0, E_rev:0, M_ma:0, M_mb:0, V_2ma:0, V_2mb:0, s_ma:0, s_mb:0}"
   ]
  },
  {
   "cell_type": "code",
   "execution_count": null,
   "metadata": {},
   "outputs": [],
   "source": [
    "list(params_sub.keys())"
   ]
  },
  {
   "cell_type": "code",
   "execution_count": null,
   "metadata": {},
   "outputs": [],
   "source": [
    "for i in range(1): # iterating thru all matrices/samples\n",
    "    col = 0\n",
    "    \n",
    "    params_sub = {g_max:0, E_rev:0, M_ma:0, M_mb:0, V_2ma:0, V_2mb:0, s_ma:0, s_mb:0}\n",
    "    for p in list(params_sub.keys()):   # assign the subs of parameters of ith sample\n",
    "        params_sub[p] = params_test[str(p)][i]\n",
    "\n",
    "\n",
    "    for param in list(params_sub.keys()):   # iterate thru param to be integrated\n",
    "        row = 0\n",
    "\n",
    "        # params_sub.pop(param, None) # remove the integrated param from params to be subbed\n",
    "        # for p in list(params_sub.keys()):   # assign the subs of parameters of ith sample\n",
    "        #     params_sub[p] = params_test[str(p)][i]\n",
    "\n",
    "\n",
    "        # log entries on a col\n",
    "        for point in t_points: \n",
    "            params_sub[t] = point\n",
    "            for trace in traces_Vs: \n",
    "                params_sub[prestep_V] = trace[0]\n",
    "                params_sub[step_V] = trace[1]\n",
    "                \n",
    "                sensitivity_coef_matrices[i, row, col] = sym.diff(I, param).subs(params_sub).evalf()\n",
    "\n",
    "                row += 1\n",
    "        \n",
    "        col += 1\n",
    "        # params_sub = {g_max:0, E_rev:0, M_ma:0, M_mb:0, V_2ma:0, V_2mb:0, s_ma:0, s_mb:0}"
   ]
  },
  {
   "cell_type": "code",
   "execution_count": null,
   "metadata": {},
   "outputs": [],
   "source": [
    "param"
   ]
  },
  {
   "cell_type": "code",
   "execution_count": null,
   "metadata": {},
   "outputs": [],
   "source": [
    "params_sub"
   ]
  },
  {
   "cell_type": "code",
   "execution_count": null,
   "metadata": {},
   "outputs": [],
   "source": [
    "sensitivity_coef_matrices.shape"
   ]
  },
  {
   "cell_type": "code",
   "execution_count": null,
   "metadata": {},
   "outputs": [],
   "source": [
    "sensitivity_coef_matrices[0,:,0]"
   ]
  },
  {
   "cell_type": "code",
   "execution_count": null,
   "metadata": {},
   "outputs": [],
   "source": [
    "norms = np.linalg.norm(sensitivity_coef_matrices[0], axis=0)\n",
    "\n",
    "print(\"2-norms of each column vector:\")\n",
    "print(norms)"
   ]
  },
  {
   "cell_type": "code",
   "execution_count": 25,
   "metadata": {},
   "outputs": [],
   "source": [
    "substitution = {prestep_V:-100, step_V:80, E_rev:65, t:2, M_ma:1, M_mb:5, V_2ma:34, V_2mb:23, s_ma:0.3, s_mb:0.5}"
   ]
  },
  {
   "cell_type": "code",
   "execution_count": 15,
   "metadata": {},
   "outputs": [
    {
     "data": {
      "text/latex": [
       "$\\displaystyle 0.0115740740740741$"
      ],
      "text/plain": [
       "0.0115740740740741"
      ]
     },
     "execution_count": 15,
     "metadata": {},
     "output_type": "execute_result"
    }
   ],
   "source": [
    "dI_dg.subs({prestep_V:-100, step_V:80, E_rev:65, t:2, M_ma:1, M_mb:5, V_2ma:34, V_2mb:23, s_ma:0.3, s_mb:0.5}).evalf()"
   ]
  },
  {
   "cell_type": "code",
   "execution_count": 5,
   "metadata": {},
   "outputs": [
    {
     "data": {
      "text/latex": [
       "$\\displaystyle \\frac{s_{ma} \\left(\\frac{M_{ma}}{e^{\\frac{- V_{2ma} + step_{V}}{s_{ma}}} + 1} + \\frac{M_{mb}}{e^{\\frac{- V_{2mb} + step_{V}}{s_{mb}}} + 1}\\right)^{4} \\left(- \\frac{4 M_{ma} g \\left(- E_{rev} + step_{V}\\right) \\left(- V_{2ma} + step_{V}\\right) \\left(\\frac{M_{ma}}{e^{\\frac{- V_{2ma} + step_{V}}{s_{ma}}} + 1} - \\left(\\frac{M_{ma}}{e^{\\frac{- V_{2ma} + step_{V}}{s_{ma}}} + 1} - \\frac{\\frac{M_{ma}}{e^{\\frac{- V_{2ma} + step_{V}}{s_{ma}}} + 1} + \\frac{M_{mb}}{e^{\\frac{- V_{2mb} + step_{V}}{s_{mb}}} + 1}}{1 + \\frac{M_{mb} \\left(e^{\\frac{- V_{2ma} + prestep_{V}}{s_{ma}}} + 1\\right)}{M_{ma} \\left(e^{\\frac{- V_{2mb} + prestep_{V}}{s_{mb}}} + 1\\right)}}\\right) e^{- t \\left(\\frac{M_{ma}}{e^{\\frac{- V_{2ma} + step_{V}}{s_{ma}}} + 1} + \\frac{M_{mb}}{e^{\\frac{- V_{2mb} + step_{V}}{s_{mb}}} + 1}\\right)}\\right)^{4} e^{\\frac{- V_{2ma} + step_{V}}{s_{ma}}}}{s_{ma}^{2} \\left(\\frac{M_{ma}}{e^{\\frac{- V_{2ma} + step_{V}}{s_{ma}}} + 1} + \\frac{M_{mb}}{e^{\\frac{- V_{2mb} + step_{V}}{s_{mb}}} + 1}\\right)^{5} \\left(e^{\\frac{- V_{2ma} + step_{V}}{s_{ma}}} + 1\\right)^{2}} + \\frac{g \\left(- E_{rev} + step_{V}\\right) \\left(\\frac{M_{ma}}{e^{\\frac{- V_{2ma} + step_{V}}{s_{ma}}} + 1} - \\left(\\frac{M_{ma}}{e^{\\frac{- V_{2ma} + step_{V}}{s_{ma}}} + 1} - \\frac{\\frac{M_{ma}}{e^{\\frac{- V_{2ma} + step_{V}}{s_{ma}}} + 1} + \\frac{M_{mb}}{e^{\\frac{- V_{2mb} + step_{V}}{s_{mb}}} + 1}}{1 + \\frac{M_{mb} \\left(e^{\\frac{- V_{2ma} + prestep_{V}}{s_{ma}}} + 1\\right)}{M_{ma} \\left(e^{\\frac{- V_{2mb} + prestep_{V}}{s_{mb}}} + 1\\right)}}\\right) e^{- t \\left(\\frac{M_{ma}}{e^{\\frac{- V_{2ma} + step_{V}}{s_{ma}}} + 1} + \\frac{M_{mb}}{e^{\\frac{- V_{2mb} + step_{V}}{s_{mb}}} + 1}\\right)}\\right)^{3} \\cdot \\left(\\frac{4 M_{ma} t \\left(- V_{2ma} + step_{V}\\right) \\left(\\frac{M_{ma}}{e^{\\frac{- V_{2ma} + step_{V}}{s_{ma}}} + 1} - \\frac{\\frac{M_{ma}}{e^{\\frac{- V_{2ma} + step_{V}}{s_{ma}}} + 1} + \\frac{M_{mb}}{e^{\\frac{- V_{2mb} + step_{V}}{s_{mb}}} + 1}}{1 + \\frac{M_{mb} \\left(e^{\\frac{- V_{2ma} + prestep_{V}}{s_{ma}}} + 1\\right)}{M_{ma} \\left(e^{\\frac{- V_{2mb} + prestep_{V}}{s_{mb}}} + 1\\right)}}\\right) e^{\\frac{- V_{2ma} + step_{V}}{s_{ma}}} e^{- t \\left(\\frac{M_{ma}}{e^{\\frac{- V_{2ma} + step_{V}}{s_{ma}}} + 1} + \\frac{M_{mb}}{e^{\\frac{- V_{2mb} + step_{V}}{s_{mb}}} + 1}\\right)}}{s_{ma}^{2} \\left(e^{\\frac{- V_{2ma} + step_{V}}{s_{ma}}} + 1\\right)^{2}} + \\frac{4 M_{ma} \\left(- V_{2ma} + step_{V}\\right) e^{\\frac{- V_{2ma} + step_{V}}{s_{ma}}}}{s_{ma}^{2} \\left(e^{\\frac{- V_{2ma} + step_{V}}{s_{ma}}} + 1\\right)^{2}} - 4 \\left(\\frac{M_{ma} \\left(- V_{2ma} + step_{V}\\right) e^{\\frac{- V_{2ma} + step_{V}}{s_{ma}}}}{s_{ma}^{2} \\left(e^{\\frac{- V_{2ma} + step_{V}}{s_{ma}}} + 1\\right)^{2}} - \\frac{M_{ma} \\left(- V_{2ma} + step_{V}\\right) e^{\\frac{- V_{2ma} + step_{V}}{s_{ma}}}}{s_{ma}^{2} \\cdot \\left(1 + \\frac{M_{mb} \\left(e^{\\frac{- V_{2ma} + prestep_{V}}{s_{ma}}} + 1\\right)}{M_{ma} \\left(e^{\\frac{- V_{2mb} + prestep_{V}}{s_{mb}}} + 1\\right)}\\right) \\left(e^{\\frac{- V_{2ma} + step_{V}}{s_{ma}}} + 1\\right)^{2}} - \\frac{M_{mb} \\left(- V_{2ma} + prestep_{V}\\right) \\left(\\frac{M_{ma}}{e^{\\frac{- V_{2ma} + step_{V}}{s_{ma}}} + 1} + \\frac{M_{mb}}{e^{\\frac{- V_{2mb} + step_{V}}{s_{mb}}} + 1}\\right) e^{\\frac{- V_{2ma} + prestep_{V}}{s_{ma}}}}{M_{ma} s_{ma}^{2} \\left(1 + \\frac{M_{mb} \\left(e^{\\frac{- V_{2ma} + prestep_{V}}{s_{ma}}} + 1\\right)}{M_{ma} \\left(e^{\\frac{- V_{2mb} + prestep_{V}}{s_{mb}}} + 1\\right)}\\right)^{2} \\left(e^{\\frac{- V_{2mb} + prestep_{V}}{s_{mb}}} + 1\\right)}\\right) e^{- t \\left(\\frac{M_{ma}}{e^{\\frac{- V_{2ma} + step_{V}}{s_{ma}}} + 1} + \\frac{M_{mb}}{e^{\\frac{- V_{2mb} + step_{V}}{s_{mb}}} + 1}\\right)}\\right)}{\\left(\\frac{M_{ma}}{e^{\\frac{- V_{2ma} + step_{V}}{s_{ma}}} + 1} + \\frac{M_{mb}}{e^{\\frac{- V_{2mb} + step_{V}}{s_{mb}}} + 1}\\right)^{4}}\\right)}{g \\left(- E_{rev} + step_{V}\\right) \\left(\\frac{M_{ma}}{e^{\\frac{- V_{2ma} + step_{V}}{s_{ma}}} + 1} - \\left(\\frac{M_{ma}}{e^{\\frac{- V_{2ma} + step_{V}}{s_{ma}}} + 1} - \\frac{\\frac{M_{ma}}{e^{\\frac{- V_{2ma} + step_{V}}{s_{ma}}} + 1} + \\frac{M_{mb}}{e^{\\frac{- V_{2mb} + step_{V}}{s_{mb}}} + 1}}{1 + \\frac{M_{mb} \\left(e^{\\frac{- V_{2ma} + prestep_{V}}{s_{ma}}} + 1\\right)}{M_{ma} \\left(e^{\\frac{- V_{2mb} + prestep_{V}}{s_{mb}}} + 1\\right)}}\\right) e^{- t \\left(\\frac{M_{ma}}{e^{\\frac{- V_{2ma} + step_{V}}{s_{ma}}} + 1} + \\frac{M_{mb}}{e^{\\frac{- V_{2mb} + step_{V}}{s_{mb}}} + 1}\\right)}\\right)^{4}}$"
      ],
      "text/plain": [
       "s_ma*(M_ma/(exp((-V_2ma + step_V)/s_ma) + 1) + M_mb/(exp((-V_2mb + step_V)/s_mb) + 1))**4*(-4*M_ma*g*(-E_rev + step_V)*(-V_2ma + step_V)*(M_ma/(exp((-V_2ma + step_V)/s_ma) + 1) - (M_ma/(exp((-V_2ma + step_V)/s_ma) + 1) - (M_ma/(exp((-V_2ma + step_V)/s_ma) + 1) + M_mb/(exp((-V_2mb + step_V)/s_mb) + 1))/(1 + M_mb*(exp((-V_2ma + prestep_V)/s_ma) + 1)/(M_ma*(exp((-V_2mb + prestep_V)/s_mb) + 1))))*exp(-t*(M_ma/(exp((-V_2ma + step_V)/s_ma) + 1) + M_mb/(exp((-V_2mb + step_V)/s_mb) + 1))))**4*exp((-V_2ma + step_V)/s_ma)/(s_ma**2*(M_ma/(exp((-V_2ma + step_V)/s_ma) + 1) + M_mb/(exp((-V_2mb + step_V)/s_mb) + 1))**5*(exp((-V_2ma + step_V)/s_ma) + 1)**2) + g*(-E_rev + step_V)*(M_ma/(exp((-V_2ma + step_V)/s_ma) + 1) - (M_ma/(exp((-V_2ma + step_V)/s_ma) + 1) - (M_ma/(exp((-V_2ma + step_V)/s_ma) + 1) + M_mb/(exp((-V_2mb + step_V)/s_mb) + 1))/(1 + M_mb*(exp((-V_2ma + prestep_V)/s_ma) + 1)/(M_ma*(exp((-V_2mb + prestep_V)/s_mb) + 1))))*exp(-t*(M_ma/(exp((-V_2ma + step_V)/s_ma) + 1) + M_mb/(exp((-V_2mb + step_V)/s_mb) + 1))))**3*(4*M_ma*t*(-V_2ma + step_V)*(M_ma/(exp((-V_2ma + step_V)/s_ma) + 1) - (M_ma/(exp((-V_2ma + step_V)/s_ma) + 1) + M_mb/(exp((-V_2mb + step_V)/s_mb) + 1))/(1 + M_mb*(exp((-V_2ma + prestep_V)/s_ma) + 1)/(M_ma*(exp((-V_2mb + prestep_V)/s_mb) + 1))))*exp((-V_2ma + step_V)/s_ma)*exp(-t*(M_ma/(exp((-V_2ma + step_V)/s_ma) + 1) + M_mb/(exp((-V_2mb + step_V)/s_mb) + 1)))/(s_ma**2*(exp((-V_2ma + step_V)/s_ma) + 1)**2) + 4*M_ma*(-V_2ma + step_V)*exp((-V_2ma + step_V)/s_ma)/(s_ma**2*(exp((-V_2ma + step_V)/s_ma) + 1)**2) - 4*(M_ma*(-V_2ma + step_V)*exp((-V_2ma + step_V)/s_ma)/(s_ma**2*(exp((-V_2ma + step_V)/s_ma) + 1)**2) - M_ma*(-V_2ma + step_V)*exp((-V_2ma + step_V)/s_ma)/(s_ma**2*(1 + M_mb*(exp((-V_2ma + prestep_V)/s_ma) + 1)/(M_ma*(exp((-V_2mb + prestep_V)/s_mb) + 1)))*(exp((-V_2ma + step_V)/s_ma) + 1)**2) - M_mb*(-V_2ma + prestep_V)*(M_ma/(exp((-V_2ma + step_V)/s_ma) + 1) + M_mb/(exp((-V_2mb + step_V)/s_mb) + 1))*exp((-V_2ma + prestep_V)/s_ma)/(M_ma*s_ma**2*(1 + M_mb*(exp((-V_2ma + prestep_V)/s_ma) + 1)/(M_ma*(exp((-V_2mb + prestep_V)/s_mb) + 1)))**2*(exp((-V_2mb + prestep_V)/s_mb) + 1)))*exp(-t*(M_ma/(exp((-V_2ma + step_V)/s_ma) + 1) + M_mb/(exp((-V_2mb + step_V)/s_mb) + 1))))/(M_ma/(exp((-V_2ma + step_V)/s_ma) + 1) + M_mb/(exp((-V_2mb + step_V)/s_mb) + 1))**4)/(g*(-E_rev + step_V)*(M_ma/(exp((-V_2ma + step_V)/s_ma) + 1) - (M_ma/(exp((-V_2ma + step_V)/s_ma) + 1) - (M_ma/(exp((-V_2ma + step_V)/s_ma) + 1) + M_mb/(exp((-V_2mb + step_V)/s_mb) + 1))/(1 + M_mb*(exp((-V_2ma + prestep_V)/s_ma) + 1)/(M_ma*(exp((-V_2mb + prestep_V)/s_mb) + 1))))*exp(-t*(M_ma/(exp((-V_2ma + step_V)/s_ma) + 1) + M_mb/(exp((-V_2mb + step_V)/s_mb) + 1))))**4)"
      ]
     },
     "execution_count": 5,
     "metadata": {},
     "output_type": "execute_result"
    }
   ],
   "source": [
    "(s_ma / I) * dI_ds_ma"
   ]
  },
  {
   "cell_type": "code",
   "execution_count": 7,
   "metadata": {},
   "outputs": [
    {
     "data": {
      "text/latex": [
       "$\\displaystyle \\frac{1}{1.0 + \\frac{M_{mb} \\left(e^{\\frac{- V_{2ma} - 100}{s_{ma}}} + 1.0\\right)}{M_{ma} \\left(e^{\\frac{- V_{2mb} - 100}{s_{mb}}} + 1.0\\right)}}$"
      ],
      "text/plain": [
       "1/(1.0 + M_mb*(exp((-V_2ma - 100)/s_ma) + 1.0)/(M_ma*(exp((-V_2mb - 100)/s_mb) + 1.0)))"
      ]
     },
     "execution_count": 7,
     "metadata": {},
     "output_type": "execute_result"
    }
   ],
   "source": [
    "m_inf.subs({prestep_V:-100}).evalf()"
   ]
  },
  {
   "cell_type": "code",
   "execution_count": 6,
   "metadata": {},
   "outputs": [
    {
     "data": {
      "text/latex": [
       "$\\displaystyle \\frac{\\left(20 - E_{rev}\\right) \\left(\\frac{M_{ma}}{e^{\\frac{20 - V_{2ma}}{s_{ma}}} + 1} - \\left(\\frac{M_{ma}}{e^{\\frac{20 - V_{2ma}}{s_{ma}}} + 1} - \\frac{\\frac{M_{ma}}{e^{\\frac{20 - V_{2ma}}{s_{ma}}} + 1} + \\frac{M_{mb}}{e^{\\frac{20 - V_{2mb}}{s_{mb}}} + 1}}{1 + \\frac{M_{mb} \\left(e^{\\frac{- V_{2ma} + prestep_{V}}{s_{ma}}} + 1\\right)}{M_{ma} \\left(e^{\\frac{- V_{2mb} + prestep_{V}}{s_{mb}}} + 1\\right)}}\\right) e^{- t \\left(\\frac{M_{ma}}{e^{\\frac{20 - V_{2ma}}{s_{ma}}} + 1} + \\frac{M_{mb}}{e^{\\frac{20 - V_{2mb}}{s_{mb}}} + 1}\\right)}\\right)^{4}}{\\left(\\frac{M_{ma}}{e^{\\frac{20 - V_{2ma}}{s_{ma}}} + 1} + \\frac{M_{mb}}{e^{\\frac{20 - V_{2mb}}{s_{mb}}} + 1}\\right)^{4}}$"
      ],
      "text/plain": [
       "(20 - E_rev)*(M_ma/(exp((20 - V_2ma)/s_ma) + 1) - (M_ma/(exp((20 - V_2ma)/s_ma) + 1) - (M_ma/(exp((20 - V_2ma)/s_ma) + 1) + M_mb/(exp((20 - V_2mb)/s_mb) + 1))/(1 + M_mb*(exp((-V_2ma + prestep_V)/s_ma) + 1)/(M_ma*(exp((-V_2mb + prestep_V)/s_mb) + 1))))*exp(-t*(M_ma/(exp((20 - V_2ma)/s_ma) + 1) + M_mb/(exp((20 - V_2mb)/s_mb) + 1))))**4/(M_ma/(exp((20 - V_2ma)/s_ma) + 1) + M_mb/(exp((20 - V_2mb)/s_mb) + 1))**4"
      ]
     },
     "execution_count": 6,
     "metadata": {},
     "output_type": "execute_result"
    }
   ],
   "source": [
    "dI_dg.subs({step_V: 20, m_inf: m_inf})"
   ]
  }
 ],
 "metadata": {
  "kernelspec": {
   "display_name": "Python 3 (ipykernel)",
   "language": "python",
   "name": "python3"
  },
  "language_info": {
   "codemirror_mode": {
    "name": "ipython",
    "version": 3
   },
   "file_extension": ".py",
   "mimetype": "text/x-python",
   "name": "python",
   "nbconvert_exporter": "python",
   "pygments_lexer": "ipython3",
   "version": "3.10.9"
  }
 },
 "nbformat": 4,
 "nbformat_minor": 4
}
