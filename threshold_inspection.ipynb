{
 "cells": [
  {
   "cell_type": "code",
   "execution_count": 1,
   "metadata": {},
   "outputs": [],
   "source": [
    "from generate_dataset_class import potassium_channel_dataset_genaerator\n",
    "import numpy as np\n",
    "import os\n",
    "\n",
    "M_ha = 2\n",
    "M_hb = 5\n",
    "V_2ha = -40\n",
    "V_2hb = -35\n",
    "s_ha = 6\n",
    "s_hb = -10\n",
    "X_h = [M_ha, M_hb, V_2ha, V_2hb, s_ha, s_hb]\n",
    "\n",
    "param_bounds_wo_h = {'g_max': [100.0, 140.0],\n",
    "                'E_rev': [-100, -80],\n",
    "\n",
    "                'M_ma': [0, 50],\n",
    "                'M_mb': [0, 50],\n",
    "                'V_2ma': [-60, 60],\n",
    "                #'V_2ma': [10, 100],\n",
    "                'V_2mb': [-60, 60],\n",
    "                's_ma': [-50, -0.5],  # excluding small abs values to avoid operating error in exp\n",
    "                's_mb': [0.5, 50]}\n",
    "\n",
    "input = {'p': 4,\n",
    "         'q': 0,\n",
    "        'step_Vs': np.array([0.00, 10.00, 20.00, 30.00, 40.00, 50.00, 60.00, 70.00, 80.00]), # mV\n",
    "        'prestep_Vs': np.array([-80, -50, -20]),\n",
    "        'step_V': 80,\n",
    "        'prestep_V': -100,  #mV\n",
    "        'end_time': 120,\n",
    "        'time_step': 0.01,\n",
    "        'X_h': X_h,\n",
    "        'param_bounds_wo_h': param_bounds_wo_h}\n",
    "\n",
    "dataset_generator = potassium_channel_dataset_genaerator(input)"
   ]
  },
  {
   "cell_type": "code",
   "execution_count": 2,
   "metadata": {},
   "outputs": [
    {
     "name": "stdout",
     "output_type": "stream",
     "text": [
      "A current trace at 126th sample varies below the threshold at all time points!\n",
      "A current trace at 270th sample varies below the threshold at all time points!\n",
      "A current trace at 570th sample varies below the threshold at all time points!\n",
      "A current trace at 632th sample varies below the threshold at all time points!\n",
      "A current trace at 874th sample varies below the threshold at all time points!\n",
      "There are 5 samples with undefined threshold.\n",
      "All trace from 77th sample are below the scaled current!\n",
      "All trace from 100th sample are below the scaled current!\n",
      "All trace from 103th sample are below the scaled current!\n",
      "All trace from 128th sample are below the scaled current!\n",
      "All trace from 135th sample are below the scaled current!\n",
      "All trace from 259th sample are below the scaled current!\n",
      "All trace from 395th sample are below the scaled current!\n",
      "All trace from 424th sample are below the scaled current!\n",
      "All trace from 454th sample are below the scaled current!\n",
      "All trace from 472th sample are below the scaled current!\n",
      "All trace from 620th sample are below the scaled current!\n",
      "All trace from 838th sample are below the scaled current!\n",
      "All trace from 932th sample are below the scaled current!\n",
      "There are 13 small samples.\n"
     ]
    }
   ],
   "source": [
    "iter = 1\n",
    "\n",
    "for i in range(iter): \n",
    "    dataset_generator.generate_data(1000)\n",
    "    dataset_generator.find_illed_samples()\n",
    "    dataset_generator.find_small_current_samples()\n",
    "    dataset_generator.delete_illed_small_samples()\n",
    "    # dataset_generator.collect_points()\n",
    "\n",
    "    # if os.path.isfile(\"dataset.csv\"):\n",
    "    #     # file exists\n",
    "    #     dataset_generator.save_tubular_data(\"dataset.csv\")\n",
    "    # else:\n",
    "    #     dataset_generator.create_empty_csv(\"dataset.csv\")"
   ]
  },
  {
   "cell_type": "code",
   "execution_count": null,
   "metadata": {},
   "outputs": [],
   "source": []
  }
 ],
 "metadata": {
  "kernelspec": {
   "display_name": "base",
   "language": "python",
   "name": "python3"
  },
  "language_info": {
   "codemirror_mode": {
    "name": "ipython",
    "version": 3
   },
   "file_extension": ".py",
   "mimetype": "text/x-python",
   "name": "python",
   "nbconvert_exporter": "python",
   "pygments_lexer": "ipython3",
   "version": "3.10.9"
  }
 },
 "nbformat": 4,
 "nbformat_minor": 2
}
