{
 "cells": [
  {
   "cell_type": "code",
   "execution_count": null,
   "metadata": {},
   "outputs": [],
   "source": [
    "from generate_dataset_class import potassium_channel_dataset_genaerator\n",
    "import numpy as np\n",
    "import os\n",
    "\n",
    "M_ha = 2\n",
    "M_hb = 5\n",
    "V_2ha = -40\n",
    "V_2hb = -35\n",
    "s_ha = 6\n",
    "s_hb = -10\n",
    "X_h = [M_ha, M_hb, V_2ha, V_2hb, s_ha, s_hb]\n",
    "\n",
    "param_bounds_wo_h = {'g_max': [100.0, 140.0],\n",
    "                'E_rev': [-100, -80],\n",
    "\n",
    "                'M_ma': [0, 50],\n",
    "                'M_mb': [0, 50],\n",
    "                'V_2ma': [-60, 60],\n",
    "                #'V_2ma': [10, 100],\n",
    "                'V_2mb': [-60, 60],\n",
    "                's_ma': [-50, -0.5],  # excluding small abs values to avoid operating error in exp\n",
    "                's_mb': [0.5, 50]}\n",
    "\n",
    "input = {'p': 4,\n",
    "         'q': 0,\n",
    "        'step_Vs': np.array([0.00, 10.00, 20.00, 30.00, 40.00, 50.00, 60.00, 70.00, 80.00]), # mV\n",
    "        'prestep_Vs': np.array([-80, -50, -20]),\n",
    "        'step_V': 80,\n",
    "        'prestep_V': -100,  #mV\n",
    "        'end_time': 120,\n",
    "        'time_step': 0.01,\n",
    "        'X_h': X_h,\n",
    "        'param_bounds_wo_h': param_bounds_wo_h}\n",
    "\n",
    "dataset_generator = potassium_channel_dataset_genaerator(input)"
   ]
  },
  {
   "cell_type": "code",
   "execution_count": null,
   "metadata": {},
   "outputs": [],
   "source": [
    "n_samples = 5000\n",
    "\n",
    "dataset_generator.generate_data(n_samples)\n",
    "dataset_generator.find_illed_samples()\n",
    "dataset_generator.find_small_current_samples()\n",
    "dataset_generator.delete_illed_small_samples()\n",
    "# dataset_generator.collect_points()\n",
    "\n",
    "    # if os.path.isfile(\"dataset.csv\"):\n",
    "    #     # file exists\n",
    "    #     dataset_generator.save_tubular_data(\"dataset.csv\")\n",
    "    # else:\n",
    "    #     dataset_generator.create_empty_csv(\"dataset.csv\")"
   ]
  },
  {
   "cell_type": "code",
   "execution_count": null,
   "metadata": {},
   "outputs": [],
   "source": [
    "dataset_generator.selected_max_index_array.shape"
   ]
  },
  {
   "cell_type": "code",
   "execution_count": null,
   "metadata": {},
   "outputs": [],
   "source": [
    "thresholds = dataset_generator.selected_max_index_array.flatten()"
   ]
  },
  {
   "cell_type": "code",
   "execution_count": null,
   "metadata": {},
   "outputs": [],
   "source": [
    "np.max(thresholds)"
   ]
  },
  {
   "cell_type": "code",
   "execution_count": null,
   "metadata": {},
   "outputs": [],
   "source": [
    "import matplotlib.pyplot as plt\n",
    "from matplotlib.ticker import FuncFormatter\n",
    "from scipy import stats\n",
    "\n",
    "bin_range = (0, 1000)\n",
    "# Create a histogram\n",
    "plt.hist(thresholds, bins=100, range=bin_range, color='yellow', edgecolor='black')\n",
    "\n",
    "# Add labels and title\n",
    "plt.xlabel('threshold time (s)')\n",
    "plt.ylabel('Frequency')\n",
    "plt.title('Histogram of threshold across a population')\n",
    "\n",
    "# plt.xlim(0, 100)\n",
    "\n",
    "# Define a custom formatter to scale x-axis labels by a power of 1/1000\n",
    "def format_func(value, tick_number):\n",
    "    scaled_value = value / 100\n",
    "    return f'{scaled_value:.1f}'\n",
    "\n",
    "# Apply the custom formatter to the x-axis\n",
    "plt.gca().xaxis.set_major_formatter(FuncFormatter(format_func))\n",
    "\n",
    "# Calculate mean and standard deviation\n",
    "mean_value = np.mean(thresholds)\n",
    "std_dev = np.std(thresholds)\n",
    "\n",
    "# Calculate 95% confidence interval\n",
    "ci = stats.norm.interval(0.95, loc=mean_value, scale=std_dev / np.sqrt(len(thresholds)))\n",
    "\n",
    "# Plot the confidence interval on the histogram\n",
    "plt.axvline(ci[0], color='red', linestyle='dashed', linewidth=2, label='95% CI')\n",
    "plt.axvline(ci[1], color='red', linestyle='dashed', linewidth=2)\n",
    "\n",
    "# Show the legend\n",
    "plt.legend()\n",
    "\n",
    "# Show the plot\n",
    "plt.show()\n"
   ]
  },
  {
   "cell_type": "code",
   "execution_count": null,
   "metadata": {},
   "outputs": [],
   "source": []
  },
  {
   "cell_type": "code",
   "execution_count": null,
   "metadata": {},
   "outputs": [],
   "source": []
  },
  {
   "cell_type": "code",
   "execution_count": null,
   "metadata": {},
   "outputs": [],
   "source": []
  },
  {
   "cell_type": "code",
   "execution_count": null,
   "metadata": {},
   "outputs": [],
   "source": []
  }
 ],
 "metadata": {
  "kernelspec": {
   "display_name": "Python 3 (ipykernel)",
   "language": "python",
   "name": "python3"
  },
  "language_info": {
   "codemirror_mode": {
    "name": "ipython",
    "version": 3
   },
   "file_extension": ".py",
   "mimetype": "text/x-python",
   "name": "python",
   "nbconvert_exporter": "python",
   "pygments_lexer": "ipython3",
   "version": "3.10.2"
  }
 },
 "nbformat": 4,
 "nbformat_minor": 4
}
