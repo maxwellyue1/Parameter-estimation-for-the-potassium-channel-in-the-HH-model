{
 "cells": [
  {
   "cell_type": "code",
   "execution_count": 2,
   "metadata": {},
   "outputs": [],
   "source": [
    "import sympy as sym\n",
    "import numpy as np"
   ]
  },
  {
   "cell_type": "code",
   "execution_count": 3,
   "metadata": {},
   "outputs": [],
   "source": [
    "t = sym.Symbol('t')\n",
    "\n",
    "I = sym.Symbol('I')\n",
    "m = sym.Symbol('m')\n",
    "m_inf = sym.Symbol('m_inf')\n",
    "\n",
    "p = sym.Symbol('p')\n",
    "\n",
    "prestep_V = sym.Symbol('prestep_V')\n",
    "step_V = sym.Symbol('step_V')\n",
    "\n",
    "a = sym.Symbol('a')\n",
    "b = sym.Symbol('b')\n",
    "\n",
    "g_max = sym.Symbol('g_max')\n",
    "E_rev = sym.Symbol('E_rev')\n",
    "M_ma = sym.Symbol('M_ma')\n",
    "M_mb = sym.Symbol('M_mb')\n",
    "V_2ma = sym.Symbol('V_2ma')\n",
    "V_2mb = sym.Symbol('V_2mb')\n",
    "s_ma = sym.Symbol('s_ma')\n",
    "s_mb = sym.Symbol('s_mb')"
   ]
  },
  {
   "cell_type": "code",
   "execution_count": 4,
   "metadata": {},
   "outputs": [],
   "source": [
    "# H-H model\n",
    "m_inf = 1 / (1 + M_mb/M_ma * ((1+sym.exp((prestep_V-V_2ma)/s_ma)) / (1+sym.exp((prestep_V-V_2mb)/s_mb))))\n",
    "\n",
    "a = M_ma / (1 + sym.exp((step_V - V_2ma) / s_ma))\n",
    "b = M_mb / (1 + sym.exp((step_V - V_2mb) / s_mb))\n",
    "\n",
    "m = (a - (a-(a+b)*m_inf)*sym.exp(-t*(a+b))) / (a + b)\n",
    "I = g_max * m ** 4 * (step_V - E_rev)"
   ]
  },
  {
   "cell_type": "code",
   "execution_count": 5,
   "metadata": {},
   "outputs": [],
   "source": [
    "dI_dg_max = sym.diff(I, g_max)\n",
    "dI_dE_rev = sym.diff(I, E_rev)\n",
    "dI_dM_ma = sym.diff(I, M_ma)\n",
    "dI_dM_mb = sym.diff(I, M_mb)\n",
    "dI_dV_2ma = sym.diff(I, V_2ma)\n",
    "dI_dV_2mb = sym.diff(I, V_2mb)\n",
    "dI_ds_ma = sym.diff(I, s_ma)\n",
    "dI_ds_mb = sym.diff(I, s_mb)"
   ]
  },
  {
   "cell_type": "code",
   "execution_count": 6,
   "metadata": {},
   "outputs": [
    {
     "data": {
      "text/plain": [
       "[(-100, 0.0),\n",
       " (-100, 10.0),\n",
       " (-100, 20.0),\n",
       " (-100, 30.0),\n",
       " (-100, 40.0),\n",
       " (-100, 50.0),\n",
       " (-100, 60.0),\n",
       " (-100, 70.0),\n",
       " (-100, 80.0),\n",
       " (-80, 80),\n",
       " (-50, 80),\n",
       " (-20, 80)]"
      ]
     },
     "execution_count": 6,
     "metadata": {},
     "output_type": "execute_result"
    }
   ],
   "source": [
    "# subs \n",
    "t_points = np.arange(0.0, 120, 0.01) \n",
    "sim_p = 4\n",
    "\n",
    "sim_prestep_V = -100\n",
    "prestep_Vs = [-80, -50, -20]\n",
    "\n",
    "step_Vs = [0.00, 10.00, 20.00, 30.00, 40.00, 50.00, 60.00, 70.00, 80.00]\n",
    "sim_step_V = 80\n",
    "\n",
    "traces_Vs = [(sim_prestep_V, v) for v in step_Vs]\n",
    "traces_Vs.extend([(v, sim_step_V) for v in prestep_Vs])\n",
    "traces_Vs"
   ]
  },
  {
   "cell_type": "code",
   "execution_count": 7,
   "metadata": {},
   "outputs": [
    {
     "data": {
      "text/plain": [
       "Index(['g_max', 'E_rev', 'M_ma', 'M_mb', 'V_2ma', 'V_2mb', 's_ma', 's_mb'], dtype='object')"
      ]
     },
     "execution_count": 7,
     "metadata": {},
     "output_type": "execute_result"
    }
   ],
   "source": [
    "# read dataset_test\n",
    "import pandas as pd\n",
    "\n",
    "params_test = pd.read_csv('dataset_test.csv').iloc[:, -8:]\n",
    "params_test.columns"
   ]
  },
  {
   "cell_type": "code",
   "execution_count": 8,
   "metadata": {},
   "outputs": [
    {
     "data": {
      "text/plain": [
       "(1000, 144000, 8)"
      ]
     },
     "execution_count": 8,
     "metadata": {},
     "output_type": "execute_result"
    }
   ],
   "source": [
    "# Initialize a sensitivity_coef_matrix with zeros\n",
    "num_matrices = params_test.shape[0]\n",
    "num_params = 8\n",
    "\n",
    "\n",
    "sensitivity_coef_matrices = np.zeros((num_matrices, len(traces_Vs) * len(t_points), num_params))\n",
    "sensitivity_coef_matrices.shape\n"
   ]
  },
  {
   "cell_type": "code",
   "execution_count": 9,
   "metadata": {},
   "outputs": [],
   "source": [
    "params_sub = {g_max:0, E_rev:0, M_ma:0, M_mb:0, V_2ma:0, V_2mb:0, s_ma:0, s_mb:0}"
   ]
  },
  {
   "cell_type": "code",
   "execution_count": 10,
   "metadata": {},
   "outputs": [
    {
     "data": {
      "text/plain": [
       "[g_max, E_rev, M_ma, M_mb, V_2ma, V_2mb, s_ma, s_mb]"
      ]
     },
     "execution_count": 10,
     "metadata": {},
     "output_type": "execute_result"
    }
   ],
   "source": [
    "list(params_sub.keys())"
   ]
  },
  {
   "cell_type": "code",
   "execution_count": 12,
   "metadata": {},
   "outputs": [
    {
     "ename": "KeyboardInterrupt",
     "evalue": "",
     "output_type": "error",
     "traceback": [
      "\u001b[0;31m---------------------------------------------------------------------------\u001b[0m",
      "\u001b[0;31mKeyboardInterrupt\u001b[0m                         Traceback (most recent call last)",
      "Cell \u001b[0;32mIn[12], line 24\u001b[0m\n\u001b[1;32m     21\u001b[0m         params_sub[prestep_V] \u001b[38;5;241m=\u001b[39m trace[\u001b[38;5;241m0\u001b[39m]\n\u001b[1;32m     22\u001b[0m         params_sub[step_V] \u001b[38;5;241m=\u001b[39m trace[\u001b[38;5;241m1\u001b[39m]\n\u001b[0;32m---> 24\u001b[0m         sensitivity_coef_matrices[i, row, col] \u001b[38;5;241m=\u001b[39m \u001b[43msym\u001b[49m\u001b[38;5;241;43m.\u001b[39;49m\u001b[43mdiff\u001b[49m\u001b[43m(\u001b[49m\u001b[43mI\u001b[49m\u001b[43m,\u001b[49m\u001b[43m \u001b[49m\u001b[43mparam\u001b[49m\u001b[43m)\u001b[49m\u001b[38;5;241;43m.\u001b[39;49m\u001b[43msubs\u001b[49m\u001b[43m(\u001b[49m\u001b[43mparams_sub\u001b[49m\u001b[43m)\u001b[49m\u001b[38;5;241m.\u001b[39mevalf()\n\u001b[1;32m     26\u001b[0m         row \u001b[38;5;241m+\u001b[39m\u001b[38;5;241m=\u001b[39m \u001b[38;5;241m1\u001b[39m\n\u001b[1;32m     28\u001b[0m col \u001b[38;5;241m+\u001b[39m\u001b[38;5;241m=\u001b[39m \u001b[38;5;241m1\u001b[39m\n",
      "File \u001b[0;32m~/anaconda3/lib/python3.10/site-packages/sympy/core/basic.py:997\u001b[0m, in \u001b[0;36mBasic.subs\u001b[0;34m(self, *args, **kwargs)\u001b[0m\n\u001b[1;32m    995\u001b[0m rv \u001b[38;5;241m=\u001b[39m \u001b[38;5;28mself\u001b[39m\n\u001b[1;32m    996\u001b[0m \u001b[38;5;28;01mfor\u001b[39;00m old, new \u001b[38;5;129;01min\u001b[39;00m sequence:\n\u001b[0;32m--> 997\u001b[0m     rv \u001b[38;5;241m=\u001b[39m \u001b[43mrv\u001b[49m\u001b[38;5;241;43m.\u001b[39;49m\u001b[43m_subs\u001b[49m\u001b[43m(\u001b[49m\u001b[43mold\u001b[49m\u001b[43m,\u001b[49m\u001b[43m \u001b[49m\u001b[43mnew\u001b[49m\u001b[43m,\u001b[49m\u001b[43m \u001b[49m\u001b[38;5;241;43m*\u001b[39;49m\u001b[38;5;241;43m*\u001b[39;49m\u001b[43mkwargs\u001b[49m\u001b[43m)\u001b[49m\n\u001b[1;32m    998\u001b[0m     \u001b[38;5;28;01mif\u001b[39;00m \u001b[38;5;129;01mnot\u001b[39;00m \u001b[38;5;28misinstance\u001b[39m(rv, Basic):\n\u001b[1;32m    999\u001b[0m         \u001b[38;5;28;01mbreak\u001b[39;00m\n",
      "File \u001b[0;32m~/anaconda3/lib/python3.10/site-packages/sympy/core/cache.py:70\u001b[0m, in \u001b[0;36m__cacheit.<locals>.func_wrapper.<locals>.wrapper\u001b[0;34m(*args, **kwargs)\u001b[0m\n\u001b[1;32m     67\u001b[0m \u001b[38;5;129m@wraps\u001b[39m(func)\n\u001b[1;32m     68\u001b[0m \u001b[38;5;28;01mdef\u001b[39;00m \u001b[38;5;21mwrapper\u001b[39m(\u001b[38;5;241m*\u001b[39margs, \u001b[38;5;241m*\u001b[39m\u001b[38;5;241m*\u001b[39mkwargs):\n\u001b[1;32m     69\u001b[0m     \u001b[38;5;28;01mtry\u001b[39;00m:\n\u001b[0;32m---> 70\u001b[0m         retval \u001b[38;5;241m=\u001b[39m \u001b[43mcfunc\u001b[49m\u001b[43m(\u001b[49m\u001b[38;5;241;43m*\u001b[39;49m\u001b[43margs\u001b[49m\u001b[43m,\u001b[49m\u001b[43m \u001b[49m\u001b[38;5;241;43m*\u001b[39;49m\u001b[38;5;241;43m*\u001b[39;49m\u001b[43mkwargs\u001b[49m\u001b[43m)\u001b[49m\n\u001b[1;32m     71\u001b[0m     \u001b[38;5;28;01mexcept\u001b[39;00m \u001b[38;5;167;01mTypeError\u001b[39;00m \u001b[38;5;28;01mas\u001b[39;00m e:\n\u001b[1;32m     72\u001b[0m         \u001b[38;5;28;01mif\u001b[39;00m \u001b[38;5;129;01mnot\u001b[39;00m e\u001b[38;5;241m.\u001b[39margs \u001b[38;5;129;01mor\u001b[39;00m \u001b[38;5;129;01mnot\u001b[39;00m e\u001b[38;5;241m.\u001b[39margs[\u001b[38;5;241m0\u001b[39m]\u001b[38;5;241m.\u001b[39mstartswith(\u001b[38;5;124m'\u001b[39m\u001b[38;5;124munhashable type:\u001b[39m\u001b[38;5;124m'\u001b[39m):\n",
      "File \u001b[0;32m~/anaconda3/lib/python3.10/site-packages/sympy/core/basic.py:1111\u001b[0m, in \u001b[0;36mBasic._subs\u001b[0;34m(self, old, new, **hints)\u001b[0m\n\u001b[1;32m   1109\u001b[0m rv \u001b[38;5;241m=\u001b[39m \u001b[38;5;28mself\u001b[39m\u001b[38;5;241m.\u001b[39m_eval_subs(old, new)\n\u001b[1;32m   1110\u001b[0m \u001b[38;5;28;01mif\u001b[39;00m rv \u001b[38;5;129;01mis\u001b[39;00m \u001b[38;5;28;01mNone\u001b[39;00m:\n\u001b[0;32m-> 1111\u001b[0m     rv \u001b[38;5;241m=\u001b[39m \u001b[43mfallback\u001b[49m\u001b[43m(\u001b[49m\u001b[38;5;28;43mself\u001b[39;49m\u001b[43m,\u001b[49m\u001b[43m \u001b[49m\u001b[43mold\u001b[49m\u001b[43m,\u001b[49m\u001b[43m \u001b[49m\u001b[43mnew\u001b[49m\u001b[43m)\u001b[49m\n\u001b[1;32m   1112\u001b[0m \u001b[38;5;28;01mreturn\u001b[39;00m rv\n",
      "File \u001b[0;32m~/anaconda3/lib/python3.10/site-packages/sympy/core/basic.py:1083\u001b[0m, in \u001b[0;36mBasic._subs.<locals>.fallback\u001b[0;34m(self, old, new)\u001b[0m\n\u001b[1;32m   1081\u001b[0m \u001b[38;5;28;01mif\u001b[39;00m \u001b[38;5;129;01mnot\u001b[39;00m \u001b[38;5;28mhasattr\u001b[39m(arg, \u001b[38;5;124m'\u001b[39m\u001b[38;5;124m_eval_subs\u001b[39m\u001b[38;5;124m'\u001b[39m):\n\u001b[1;32m   1082\u001b[0m     \u001b[38;5;28;01mcontinue\u001b[39;00m\n\u001b[0;32m-> 1083\u001b[0m arg \u001b[38;5;241m=\u001b[39m \u001b[43marg\u001b[49m\u001b[38;5;241;43m.\u001b[39;49m\u001b[43m_subs\u001b[49m\u001b[43m(\u001b[49m\u001b[43mold\u001b[49m\u001b[43m,\u001b[49m\u001b[43m \u001b[49m\u001b[43mnew\u001b[49m\u001b[43m,\u001b[49m\u001b[43m \u001b[49m\u001b[38;5;241;43m*\u001b[39;49m\u001b[38;5;241;43m*\u001b[39;49m\u001b[43mhints\u001b[49m\u001b[43m)\u001b[49m\n\u001b[1;32m   1084\u001b[0m \u001b[38;5;28;01mif\u001b[39;00m \u001b[38;5;129;01mnot\u001b[39;00m _aresame(arg, args[i]):\n\u001b[1;32m   1085\u001b[0m     hit \u001b[38;5;241m=\u001b[39m \u001b[38;5;28;01mTrue\u001b[39;00m\n",
      "File \u001b[0;32m~/anaconda3/lib/python3.10/site-packages/sympy/core/cache.py:70\u001b[0m, in \u001b[0;36m__cacheit.<locals>.func_wrapper.<locals>.wrapper\u001b[0;34m(*args, **kwargs)\u001b[0m\n\u001b[1;32m     67\u001b[0m \u001b[38;5;129m@wraps\u001b[39m(func)\n\u001b[1;32m     68\u001b[0m \u001b[38;5;28;01mdef\u001b[39;00m \u001b[38;5;21mwrapper\u001b[39m(\u001b[38;5;241m*\u001b[39margs, \u001b[38;5;241m*\u001b[39m\u001b[38;5;241m*\u001b[39mkwargs):\n\u001b[1;32m     69\u001b[0m     \u001b[38;5;28;01mtry\u001b[39;00m:\n\u001b[0;32m---> 70\u001b[0m         retval \u001b[38;5;241m=\u001b[39m \u001b[43mcfunc\u001b[49m\u001b[43m(\u001b[49m\u001b[38;5;241;43m*\u001b[39;49m\u001b[43margs\u001b[49m\u001b[43m,\u001b[49m\u001b[43m \u001b[49m\u001b[38;5;241;43m*\u001b[39;49m\u001b[38;5;241;43m*\u001b[39;49m\u001b[43mkwargs\u001b[49m\u001b[43m)\u001b[49m\n\u001b[1;32m     71\u001b[0m     \u001b[38;5;28;01mexcept\u001b[39;00m \u001b[38;5;167;01mTypeError\u001b[39;00m \u001b[38;5;28;01mas\u001b[39;00m e:\n\u001b[1;32m     72\u001b[0m         \u001b[38;5;28;01mif\u001b[39;00m \u001b[38;5;129;01mnot\u001b[39;00m e\u001b[38;5;241m.\u001b[39margs \u001b[38;5;129;01mor\u001b[39;00m \u001b[38;5;129;01mnot\u001b[39;00m e\u001b[38;5;241m.\u001b[39margs[\u001b[38;5;241m0\u001b[39m]\u001b[38;5;241m.\u001b[39mstartswith(\u001b[38;5;124m'\u001b[39m\u001b[38;5;124munhashable type:\u001b[39m\u001b[38;5;124m'\u001b[39m):\n",
      "File \u001b[0;32m~/anaconda3/lib/python3.10/site-packages/sympy/core/basic.py:1111\u001b[0m, in \u001b[0;36mBasic._subs\u001b[0;34m(self, old, new, **hints)\u001b[0m\n\u001b[1;32m   1109\u001b[0m rv \u001b[38;5;241m=\u001b[39m \u001b[38;5;28mself\u001b[39m\u001b[38;5;241m.\u001b[39m_eval_subs(old, new)\n\u001b[1;32m   1110\u001b[0m \u001b[38;5;28;01mif\u001b[39;00m rv \u001b[38;5;129;01mis\u001b[39;00m \u001b[38;5;28;01mNone\u001b[39;00m:\n\u001b[0;32m-> 1111\u001b[0m     rv \u001b[38;5;241m=\u001b[39m \u001b[43mfallback\u001b[49m\u001b[43m(\u001b[49m\u001b[38;5;28;43mself\u001b[39;49m\u001b[43m,\u001b[49m\u001b[43m \u001b[49m\u001b[43mold\u001b[49m\u001b[43m,\u001b[49m\u001b[43m \u001b[49m\u001b[43mnew\u001b[49m\u001b[43m)\u001b[49m\n\u001b[1;32m   1112\u001b[0m \u001b[38;5;28;01mreturn\u001b[39;00m rv\n",
      "File \u001b[0;32m~/anaconda3/lib/python3.10/site-packages/sympy/core/basic.py:1083\u001b[0m, in \u001b[0;36mBasic._subs.<locals>.fallback\u001b[0;34m(self, old, new)\u001b[0m\n\u001b[1;32m   1081\u001b[0m \u001b[38;5;28;01mif\u001b[39;00m \u001b[38;5;129;01mnot\u001b[39;00m \u001b[38;5;28mhasattr\u001b[39m(arg, \u001b[38;5;124m'\u001b[39m\u001b[38;5;124m_eval_subs\u001b[39m\u001b[38;5;124m'\u001b[39m):\n\u001b[1;32m   1082\u001b[0m     \u001b[38;5;28;01mcontinue\u001b[39;00m\n\u001b[0;32m-> 1083\u001b[0m arg \u001b[38;5;241m=\u001b[39m \u001b[43marg\u001b[49m\u001b[38;5;241;43m.\u001b[39;49m\u001b[43m_subs\u001b[49m\u001b[43m(\u001b[49m\u001b[43mold\u001b[49m\u001b[43m,\u001b[49m\u001b[43m \u001b[49m\u001b[43mnew\u001b[49m\u001b[43m,\u001b[49m\u001b[43m \u001b[49m\u001b[38;5;241;43m*\u001b[39;49m\u001b[38;5;241;43m*\u001b[39;49m\u001b[43mhints\u001b[49m\u001b[43m)\u001b[49m\n\u001b[1;32m   1084\u001b[0m \u001b[38;5;28;01mif\u001b[39;00m \u001b[38;5;129;01mnot\u001b[39;00m _aresame(arg, args[i]):\n\u001b[1;32m   1085\u001b[0m     hit \u001b[38;5;241m=\u001b[39m \u001b[38;5;28;01mTrue\u001b[39;00m\n",
      "    \u001b[0;31m[... skipping similar frames: __cacheit.<locals>.func_wrapper.<locals>.wrapper at line 70 (3 times), Basic._subs at line 1111 (2 times), Basic._subs.<locals>.fallback at line 1083 (2 times)]\u001b[0m\n",
      "File \u001b[0;32m~/anaconda3/lib/python3.10/site-packages/sympy/core/basic.py:1111\u001b[0m, in \u001b[0;36mBasic._subs\u001b[0;34m(self, old, new, **hints)\u001b[0m\n\u001b[1;32m   1109\u001b[0m rv \u001b[38;5;241m=\u001b[39m \u001b[38;5;28mself\u001b[39m\u001b[38;5;241m.\u001b[39m_eval_subs(old, new)\n\u001b[1;32m   1110\u001b[0m \u001b[38;5;28;01mif\u001b[39;00m rv \u001b[38;5;129;01mis\u001b[39;00m \u001b[38;5;28;01mNone\u001b[39;00m:\n\u001b[0;32m-> 1111\u001b[0m     rv \u001b[38;5;241m=\u001b[39m \u001b[43mfallback\u001b[49m\u001b[43m(\u001b[49m\u001b[38;5;28;43mself\u001b[39;49m\u001b[43m,\u001b[49m\u001b[43m \u001b[49m\u001b[43mold\u001b[49m\u001b[43m,\u001b[49m\u001b[43m \u001b[49m\u001b[43mnew\u001b[49m\u001b[43m)\u001b[49m\n\u001b[1;32m   1112\u001b[0m \u001b[38;5;28;01mreturn\u001b[39;00m rv\n",
      "File \u001b[0;32m~/anaconda3/lib/python3.10/site-packages/sympy/core/basic.py:1083\u001b[0m, in \u001b[0;36mBasic._subs.<locals>.fallback\u001b[0;34m(self, old, new)\u001b[0m\n\u001b[1;32m   1081\u001b[0m \u001b[38;5;28;01mif\u001b[39;00m \u001b[38;5;129;01mnot\u001b[39;00m \u001b[38;5;28mhasattr\u001b[39m(arg, \u001b[38;5;124m'\u001b[39m\u001b[38;5;124m_eval_subs\u001b[39m\u001b[38;5;124m'\u001b[39m):\n\u001b[1;32m   1082\u001b[0m     \u001b[38;5;28;01mcontinue\u001b[39;00m\n\u001b[0;32m-> 1083\u001b[0m arg \u001b[38;5;241m=\u001b[39m \u001b[43marg\u001b[49m\u001b[38;5;241;43m.\u001b[39;49m\u001b[43m_subs\u001b[49m\u001b[43m(\u001b[49m\u001b[43mold\u001b[49m\u001b[43m,\u001b[49m\u001b[43m \u001b[49m\u001b[43mnew\u001b[49m\u001b[43m,\u001b[49m\u001b[43m \u001b[49m\u001b[38;5;241;43m*\u001b[39;49m\u001b[38;5;241;43m*\u001b[39;49m\u001b[43mhints\u001b[49m\u001b[43m)\u001b[49m\n\u001b[1;32m   1084\u001b[0m \u001b[38;5;28;01mif\u001b[39;00m \u001b[38;5;129;01mnot\u001b[39;00m _aresame(arg, args[i]):\n\u001b[1;32m   1085\u001b[0m     hit \u001b[38;5;241m=\u001b[39m \u001b[38;5;28;01mTrue\u001b[39;00m\n",
      "File \u001b[0;32m~/anaconda3/lib/python3.10/site-packages/sympy/core/cache.py:70\u001b[0m, in \u001b[0;36m__cacheit.<locals>.func_wrapper.<locals>.wrapper\u001b[0;34m(*args, **kwargs)\u001b[0m\n\u001b[1;32m     67\u001b[0m \u001b[38;5;129m@wraps\u001b[39m(func)\n\u001b[1;32m     68\u001b[0m \u001b[38;5;28;01mdef\u001b[39;00m \u001b[38;5;21mwrapper\u001b[39m(\u001b[38;5;241m*\u001b[39margs, \u001b[38;5;241m*\u001b[39m\u001b[38;5;241m*\u001b[39mkwargs):\n\u001b[1;32m     69\u001b[0m     \u001b[38;5;28;01mtry\u001b[39;00m:\n\u001b[0;32m---> 70\u001b[0m         retval \u001b[38;5;241m=\u001b[39m \u001b[43mcfunc\u001b[49m\u001b[43m(\u001b[49m\u001b[38;5;241;43m*\u001b[39;49m\u001b[43margs\u001b[49m\u001b[43m,\u001b[49m\u001b[43m \u001b[49m\u001b[38;5;241;43m*\u001b[39;49m\u001b[38;5;241;43m*\u001b[39;49m\u001b[43mkwargs\u001b[49m\u001b[43m)\u001b[49m\n\u001b[1;32m     71\u001b[0m     \u001b[38;5;28;01mexcept\u001b[39;00m \u001b[38;5;167;01mTypeError\u001b[39;00m \u001b[38;5;28;01mas\u001b[39;00m e:\n\u001b[1;32m     72\u001b[0m         \u001b[38;5;28;01mif\u001b[39;00m \u001b[38;5;129;01mnot\u001b[39;00m e\u001b[38;5;241m.\u001b[39margs \u001b[38;5;129;01mor\u001b[39;00m \u001b[38;5;129;01mnot\u001b[39;00m e\u001b[38;5;241m.\u001b[39margs[\u001b[38;5;241m0\u001b[39m]\u001b[38;5;241m.\u001b[39mstartswith(\u001b[38;5;124m'\u001b[39m\u001b[38;5;124munhashable type:\u001b[39m\u001b[38;5;124m'\u001b[39m):\n",
      "File \u001b[0;32m~/anaconda3/lib/python3.10/site-packages/sympy/core/basic.py:1106\u001b[0m, in \u001b[0;36mBasic._subs\u001b[0;34m(self, old, new, **hints)\u001b[0m\n\u001b[1;32m   1103\u001b[0m         \u001b[38;5;28;01mreturn\u001b[39;00m rv\n\u001b[1;32m   1104\u001b[0m     \u001b[38;5;28;01mreturn\u001b[39;00m \u001b[38;5;28mself\u001b[39m\n\u001b[0;32m-> 1106\u001b[0m \u001b[38;5;28;01mif\u001b[39;00m \u001b[43m_aresame\u001b[49m\u001b[43m(\u001b[49m\u001b[38;5;28;43mself\u001b[39;49m\u001b[43m,\u001b[49m\u001b[43m \u001b[49m\u001b[43mold\u001b[49m\u001b[43m)\u001b[49m:\n\u001b[1;32m   1107\u001b[0m     \u001b[38;5;28;01mreturn\u001b[39;00m new\n\u001b[1;32m   1109\u001b[0m rv \u001b[38;5;241m=\u001b[39m \u001b[38;5;28mself\u001b[39m\u001b[38;5;241m.\u001b[39m_eval_subs(old, new)\n",
      "File \u001b[0;32m~/anaconda3/lib/python3.10/site-packages/sympy/core/basic.py:2044\u001b[0m, in \u001b[0;36m_aresame\u001b[0;34m(a, b)\u001b[0m\n\u001b[1;32m   2042\u001b[0m \u001b[38;5;28;01mif\u001b[39;00m \u001b[38;5;28misinstance\u001b[39m(a, Number) \u001b[38;5;129;01mand\u001b[39;00m \u001b[38;5;28misinstance\u001b[39m(b, Number):\n\u001b[1;32m   2043\u001b[0m     \u001b[38;5;28;01mreturn\u001b[39;00m a \u001b[38;5;241m==\u001b[39m b \u001b[38;5;129;01mand\u001b[39;00m a\u001b[38;5;241m.\u001b[39m\u001b[38;5;18m__class__\u001b[39m \u001b[38;5;241m==\u001b[39m b\u001b[38;5;241m.\u001b[39m\u001b[38;5;18m__class__\u001b[39m\n\u001b[0;32m-> 2044\u001b[0m \u001b[38;5;28;01mfor\u001b[39;00m i, j \u001b[38;5;129;01min\u001b[39;00m zip_longest(_preorder_traversal(a), \u001b[43m_preorder_traversal\u001b[49m\u001b[43m(\u001b[49m\u001b[43mb\u001b[49m\u001b[43m)\u001b[49m):\n\u001b[1;32m   2045\u001b[0m     \u001b[38;5;28;01mif\u001b[39;00m i \u001b[38;5;241m!=\u001b[39m j \u001b[38;5;129;01mor\u001b[39;00m \u001b[38;5;28mtype\u001b[39m(i) \u001b[38;5;241m!=\u001b[39m \u001b[38;5;28mtype\u001b[39m(j):\n\u001b[1;32m   2046\u001b[0m         \u001b[38;5;28;01mif\u001b[39;00m ((\u001b[38;5;28misinstance\u001b[39m(i, UndefFunc) \u001b[38;5;129;01mand\u001b[39;00m \u001b[38;5;28misinstance\u001b[39m(j, UndefFunc)) \u001b[38;5;129;01mor\u001b[39;00m\n\u001b[1;32m   2047\u001b[0m             (\u001b[38;5;28misinstance\u001b[39m(i, AppliedUndef) \u001b[38;5;129;01mand\u001b[39;00m \u001b[38;5;28misinstance\u001b[39m(j, AppliedUndef))):\n",
      "File \u001b[0;32m~/anaconda3/lib/python3.10/site-packages/sympy/core/traversal.py:116\u001b[0m, in \u001b[0;36mpreorder_traversal.__init__\u001b[0;34m(self, node, keys)\u001b[0m\n\u001b[1;32m     71\u001b[0m \u001b[38;5;28;01mclass\u001b[39;00m \u001b[38;5;21;01mpreorder_traversal\u001b[39;00m:\n\u001b[1;32m     72\u001b[0m     \u001b[38;5;124;03m\"\"\"\u001b[39;00m\n\u001b[1;32m     73\u001b[0m \u001b[38;5;124;03m    Do a pre-order traversal of a tree.\u001b[39;00m\n\u001b[1;32m     74\u001b[0m \n\u001b[0;32m   (...)\u001b[0m\n\u001b[1;32m    114\u001b[0m \n\u001b[1;32m    115\u001b[0m \u001b[38;5;124;03m    \"\"\"\u001b[39;00m\n\u001b[0;32m--> 116\u001b[0m     \u001b[38;5;28;01mdef\u001b[39;00m \u001b[38;5;21m__init__\u001b[39m(\u001b[38;5;28mself\u001b[39m, node, keys\u001b[38;5;241m=\u001b[39m\u001b[38;5;28;01mNone\u001b[39;00m):\n\u001b[1;32m    117\u001b[0m         \u001b[38;5;28mself\u001b[39m\u001b[38;5;241m.\u001b[39m_skip_flag \u001b[38;5;241m=\u001b[39m \u001b[38;5;28;01mFalse\u001b[39;00m\n\u001b[1;32m    118\u001b[0m         \u001b[38;5;28mself\u001b[39m\u001b[38;5;241m.\u001b[39m_pt \u001b[38;5;241m=\u001b[39m \u001b[38;5;28mself\u001b[39m\u001b[38;5;241m.\u001b[39m_preorder_traversal(node, keys)\n",
      "\u001b[0;31mKeyboardInterrupt\u001b[0m: "
     ]
    }
   ],
   "source": [
    "for i in range(1): # iterating thru all matrices/samples\n",
    "    col = 0\n",
    "    \n",
    "    params_sub = {g_max:0, E_rev:0, M_ma:0, M_mb:0, V_2ma:0, V_2mb:0, s_ma:0, s_mb:0}\n",
    "    for p in list(params_sub.keys()):   # assign the subs of parameters of ith sample\n",
    "        params_sub[p] = params_test[str(p)][i]\n",
    "\n",
    "\n",
    "    for param in list(params_sub.keys()):   # iterate thru param to be integrated\n",
    "        row = 0\n",
    "\n",
    "        # params_sub.pop(param, None) # remove the integrated param from params to be subbed\n",
    "        # for p in list(params_sub.keys()):   # assign the subs of parameters of ith sample\n",
    "        #     params_sub[p] = params_test[str(p)][i]\n",
    "\n",
    "\n",
    "        # log entries on a col\n",
    "        for point in t_points: \n",
    "            params_sub[t] = point\n",
    "            for trace in traces_Vs: \n",
    "                params_sub[prestep_V] = trace[0]\n",
    "                params_sub[step_V] = trace[1]\n",
    "                \n",
    "                sensitivity_coef_matrices[i, row, col] = sym.diff(I, param).subs(params_sub).evalf()\n",
    "\n",
    "                row += 1\n",
    "        \n",
    "        col += 1\n",
    "        # params_sub = {g_max:0, E_rev:0, M_ma:0, M_mb:0, V_2ma:0, V_2mb:0, s_ma:0, s_mb:0}"
   ]
  },
  {
   "cell_type": "code",
   "execution_count": 13,
   "metadata": {},
   "outputs": [
    {
     "data": {
      "text/latex": [
       "$\\displaystyle s_{mb}$"
      ],
      "text/plain": [
       "s_mb"
      ]
     },
     "execution_count": 13,
     "metadata": {},
     "output_type": "execute_result"
    }
   ],
   "source": [
    "param"
   ]
  },
  {
   "cell_type": "code",
   "execution_count": 14,
   "metadata": {},
   "outputs": [
    {
     "data": {
      "text/plain": [
       "{g_max: 137.75341167850507,\n",
       " E_rev: -92.98560729631389,\n",
       " M_ma: 46.38056317519272,\n",
       " M_mb: 45.49143040784202,\n",
       " V_2ma: -7.285444640985381,\n",
       " V_2mb: 55.13722844798298,\n",
       " s_ma: -37.92308819391361,\n",
       " s_mb: 33.3117504853281,\n",
       " t: 114.97,\n",
       " prestep_V: -100,\n",
       " step_V: 0.0}"
      ]
     },
     "execution_count": 14,
     "metadata": {},
     "output_type": "execute_result"
    }
   ],
   "source": [
    "params_sub"
   ]
  },
  {
   "cell_type": "code",
   "execution_count": 16,
   "metadata": {},
   "outputs": [
    {
     "data": {
      "text/plain": [
       "(1000, 144000, 8)"
      ]
     },
     "execution_count": 16,
     "metadata": {},
     "output_type": "execute_result"
    }
   ],
   "source": [
    "sensitivity_coef_matrices.shape"
   ]
  },
  {
   "cell_type": "code",
   "execution_count": 18,
   "metadata": {},
   "outputs": [
    {
     "data": {
      "text/plain": [
       "array([3.08840374e-03, 3.42054157e-03, 3.75267939e-03, ...,\n",
       "       5.25424618e+01, 5.25424618e+01, 5.25424618e+01])"
      ]
     },
     "execution_count": 18,
     "metadata": {},
     "output_type": "execute_result"
    }
   ],
   "source": [
    "sensitivity_coef_matrices[0,:,0]"
   ]
  },
  {
   "cell_type": "code",
   "execution_count": 19,
   "metadata": {},
   "outputs": [
    {
     "name": "stdout",
     "output_type": "stream",
     "text": [
      "2-norms of each column vector:\n",
      "[12965.69092744 10643.37195856 42985.57601558 43817.63326729\n",
      "  6571.83471746 37798.211666   11797.04125553 25217.88583926]\n"
     ]
    }
   ],
   "source": [
    "norms = np.linalg.norm(sensitivity_coef_matrices[0], axis=0)\n",
    "\n",
    "print(\"2-norms of each column vector:\")\n",
    "print(norms)"
   ]
  },
  {
   "cell_type": "code",
   "execution_count": 25,
   "metadata": {},
   "outputs": [],
   "source": [
    "substitution = {prestep_V:-100, step_V:80, E_rev:65, t:2, M_ma:1, M_mb:5, V_2ma:34, V_2mb:23, s_ma:0.3, s_mb:0.5}"
   ]
  },
  {
   "cell_type": "code",
   "execution_count": 15,
   "metadata": {},
   "outputs": [
    {
     "data": {
      "text/latex": [
       "$\\displaystyle 0.0115740740740741$"
      ],
      "text/plain": [
       "0.0115740740740741"
      ]
     },
     "execution_count": 15,
     "metadata": {},
     "output_type": "execute_result"
    }
   ],
   "source": [
    "dI_dg.subs({prestep_V:-100, step_V:80, E_rev:65, t:2, M_ma:1, M_mb:5, V_2ma:34, V_2mb:23, s_ma:0.3, s_mb:0.5}).evalf()"
   ]
  },
  {
   "cell_type": "code",
   "execution_count": 5,
   "metadata": {},
   "outputs": [
    {
     "data": {
      "text/latex": [
       "$\\displaystyle \\frac{s_{ma} \\left(\\frac{M_{ma}}{e^{\\frac{- V_{2ma} + step_{V}}{s_{ma}}} + 1} + \\frac{M_{mb}}{e^{\\frac{- V_{2mb} + step_{V}}{s_{mb}}} + 1}\\right)^{4} \\left(- \\frac{4 M_{ma} g \\left(- E_{rev} + step_{V}\\right) \\left(- V_{2ma} + step_{V}\\right) \\left(\\frac{M_{ma}}{e^{\\frac{- V_{2ma} + step_{V}}{s_{ma}}} + 1} - \\left(\\frac{M_{ma}}{e^{\\frac{- V_{2ma} + step_{V}}{s_{ma}}} + 1} - \\frac{\\frac{M_{ma}}{e^{\\frac{- V_{2ma} + step_{V}}{s_{ma}}} + 1} + \\frac{M_{mb}}{e^{\\frac{- V_{2mb} + step_{V}}{s_{mb}}} + 1}}{1 + \\frac{M_{mb} \\left(e^{\\frac{- V_{2ma} + prestep_{V}}{s_{ma}}} + 1\\right)}{M_{ma} \\left(e^{\\frac{- V_{2mb} + prestep_{V}}{s_{mb}}} + 1\\right)}}\\right) e^{- t \\left(\\frac{M_{ma}}{e^{\\frac{- V_{2ma} + step_{V}}{s_{ma}}} + 1} + \\frac{M_{mb}}{e^{\\frac{- V_{2mb} + step_{V}}{s_{mb}}} + 1}\\right)}\\right)^{4} e^{\\frac{- V_{2ma} + step_{V}}{s_{ma}}}}{s_{ma}^{2} \\left(\\frac{M_{ma}}{e^{\\frac{- V_{2ma} + step_{V}}{s_{ma}}} + 1} + \\frac{M_{mb}}{e^{\\frac{- V_{2mb} + step_{V}}{s_{mb}}} + 1}\\right)^{5} \\left(e^{\\frac{- V_{2ma} + step_{V}}{s_{ma}}} + 1\\right)^{2}} + \\frac{g \\left(- E_{rev} + step_{V}\\right) \\left(\\frac{M_{ma}}{e^{\\frac{- V_{2ma} + step_{V}}{s_{ma}}} + 1} - \\left(\\frac{M_{ma}}{e^{\\frac{- V_{2ma} + step_{V}}{s_{ma}}} + 1} - \\frac{\\frac{M_{ma}}{e^{\\frac{- V_{2ma} + step_{V}}{s_{ma}}} + 1} + \\frac{M_{mb}}{e^{\\frac{- V_{2mb} + step_{V}}{s_{mb}}} + 1}}{1 + \\frac{M_{mb} \\left(e^{\\frac{- V_{2ma} + prestep_{V}}{s_{ma}}} + 1\\right)}{M_{ma} \\left(e^{\\frac{- V_{2mb} + prestep_{V}}{s_{mb}}} + 1\\right)}}\\right) e^{- t \\left(\\frac{M_{ma}}{e^{\\frac{- V_{2ma} + step_{V}}{s_{ma}}} + 1} + \\frac{M_{mb}}{e^{\\frac{- V_{2mb} + step_{V}}{s_{mb}}} + 1}\\right)}\\right)^{3} \\cdot \\left(\\frac{4 M_{ma} t \\left(- V_{2ma} + step_{V}\\right) \\left(\\frac{M_{ma}}{e^{\\frac{- V_{2ma} + step_{V}}{s_{ma}}} + 1} - \\frac{\\frac{M_{ma}}{e^{\\frac{- V_{2ma} + step_{V}}{s_{ma}}} + 1} + \\frac{M_{mb}}{e^{\\frac{- V_{2mb} + step_{V}}{s_{mb}}} + 1}}{1 + \\frac{M_{mb} \\left(e^{\\frac{- V_{2ma} + prestep_{V}}{s_{ma}}} + 1\\right)}{M_{ma} \\left(e^{\\frac{- V_{2mb} + prestep_{V}}{s_{mb}}} + 1\\right)}}\\right) e^{\\frac{- V_{2ma} + step_{V}}{s_{ma}}} e^{- t \\left(\\frac{M_{ma}}{e^{\\frac{- V_{2ma} + step_{V}}{s_{ma}}} + 1} + \\frac{M_{mb}}{e^{\\frac{- V_{2mb} + step_{V}}{s_{mb}}} + 1}\\right)}}{s_{ma}^{2} \\left(e^{\\frac{- V_{2ma} + step_{V}}{s_{ma}}} + 1\\right)^{2}} + \\frac{4 M_{ma} \\left(- V_{2ma} + step_{V}\\right) e^{\\frac{- V_{2ma} + step_{V}}{s_{ma}}}}{s_{ma}^{2} \\left(e^{\\frac{- V_{2ma} + step_{V}}{s_{ma}}} + 1\\right)^{2}} - 4 \\left(\\frac{M_{ma} \\left(- V_{2ma} + step_{V}\\right) e^{\\frac{- V_{2ma} + step_{V}}{s_{ma}}}}{s_{ma}^{2} \\left(e^{\\frac{- V_{2ma} + step_{V}}{s_{ma}}} + 1\\right)^{2}} - \\frac{M_{ma} \\left(- V_{2ma} + step_{V}\\right) e^{\\frac{- V_{2ma} + step_{V}}{s_{ma}}}}{s_{ma}^{2} \\cdot \\left(1 + \\frac{M_{mb} \\left(e^{\\frac{- V_{2ma} + prestep_{V}}{s_{ma}}} + 1\\right)}{M_{ma} \\left(e^{\\frac{- V_{2mb} + prestep_{V}}{s_{mb}}} + 1\\right)}\\right) \\left(e^{\\frac{- V_{2ma} + step_{V}}{s_{ma}}} + 1\\right)^{2}} - \\frac{M_{mb} \\left(- V_{2ma} + prestep_{V}\\right) \\left(\\frac{M_{ma}}{e^{\\frac{- V_{2ma} + step_{V}}{s_{ma}}} + 1} + \\frac{M_{mb}}{e^{\\frac{- V_{2mb} + step_{V}}{s_{mb}}} + 1}\\right) e^{\\frac{- V_{2ma} + prestep_{V}}{s_{ma}}}}{M_{ma} s_{ma}^{2} \\left(1 + \\frac{M_{mb} \\left(e^{\\frac{- V_{2ma} + prestep_{V}}{s_{ma}}} + 1\\right)}{M_{ma} \\left(e^{\\frac{- V_{2mb} + prestep_{V}}{s_{mb}}} + 1\\right)}\\right)^{2} \\left(e^{\\frac{- V_{2mb} + prestep_{V}}{s_{mb}}} + 1\\right)}\\right) e^{- t \\left(\\frac{M_{ma}}{e^{\\frac{- V_{2ma} + step_{V}}{s_{ma}}} + 1} + \\frac{M_{mb}}{e^{\\frac{- V_{2mb} + step_{V}}{s_{mb}}} + 1}\\right)}\\right)}{\\left(\\frac{M_{ma}}{e^{\\frac{- V_{2ma} + step_{V}}{s_{ma}}} + 1} + \\frac{M_{mb}}{e^{\\frac{- V_{2mb} + step_{V}}{s_{mb}}} + 1}\\right)^{4}}\\right)}{g \\left(- E_{rev} + step_{V}\\right) \\left(\\frac{M_{ma}}{e^{\\frac{- V_{2ma} + step_{V}}{s_{ma}}} + 1} - \\left(\\frac{M_{ma}}{e^{\\frac{- V_{2ma} + step_{V}}{s_{ma}}} + 1} - \\frac{\\frac{M_{ma}}{e^{\\frac{- V_{2ma} + step_{V}}{s_{ma}}} + 1} + \\frac{M_{mb}}{e^{\\frac{- V_{2mb} + step_{V}}{s_{mb}}} + 1}}{1 + \\frac{M_{mb} \\left(e^{\\frac{- V_{2ma} + prestep_{V}}{s_{ma}}} + 1\\right)}{M_{ma} \\left(e^{\\frac{- V_{2mb} + prestep_{V}}{s_{mb}}} + 1\\right)}}\\right) e^{- t \\left(\\frac{M_{ma}}{e^{\\frac{- V_{2ma} + step_{V}}{s_{ma}}} + 1} + \\frac{M_{mb}}{e^{\\frac{- V_{2mb} + step_{V}}{s_{mb}}} + 1}\\right)}\\right)^{4}}$"
      ],
      "text/plain": [
       "s_ma*(M_ma/(exp((-V_2ma + step_V)/s_ma) + 1) + M_mb/(exp((-V_2mb + step_V)/s_mb) + 1))**4*(-4*M_ma*g*(-E_rev + step_V)*(-V_2ma + step_V)*(M_ma/(exp((-V_2ma + step_V)/s_ma) + 1) - (M_ma/(exp((-V_2ma + step_V)/s_ma) + 1) - (M_ma/(exp((-V_2ma + step_V)/s_ma) + 1) + M_mb/(exp((-V_2mb + step_V)/s_mb) + 1))/(1 + M_mb*(exp((-V_2ma + prestep_V)/s_ma) + 1)/(M_ma*(exp((-V_2mb + prestep_V)/s_mb) + 1))))*exp(-t*(M_ma/(exp((-V_2ma + step_V)/s_ma) + 1) + M_mb/(exp((-V_2mb + step_V)/s_mb) + 1))))**4*exp((-V_2ma + step_V)/s_ma)/(s_ma**2*(M_ma/(exp((-V_2ma + step_V)/s_ma) + 1) + M_mb/(exp((-V_2mb + step_V)/s_mb) + 1))**5*(exp((-V_2ma + step_V)/s_ma) + 1)**2) + g*(-E_rev + step_V)*(M_ma/(exp((-V_2ma + step_V)/s_ma) + 1) - (M_ma/(exp((-V_2ma + step_V)/s_ma) + 1) - (M_ma/(exp((-V_2ma + step_V)/s_ma) + 1) + M_mb/(exp((-V_2mb + step_V)/s_mb) + 1))/(1 + M_mb*(exp((-V_2ma + prestep_V)/s_ma) + 1)/(M_ma*(exp((-V_2mb + prestep_V)/s_mb) + 1))))*exp(-t*(M_ma/(exp((-V_2ma + step_V)/s_ma) + 1) + M_mb/(exp((-V_2mb + step_V)/s_mb) + 1))))**3*(4*M_ma*t*(-V_2ma + step_V)*(M_ma/(exp((-V_2ma + step_V)/s_ma) + 1) - (M_ma/(exp((-V_2ma + step_V)/s_ma) + 1) + M_mb/(exp((-V_2mb + step_V)/s_mb) + 1))/(1 + M_mb*(exp((-V_2ma + prestep_V)/s_ma) + 1)/(M_ma*(exp((-V_2mb + prestep_V)/s_mb) + 1))))*exp((-V_2ma + step_V)/s_ma)*exp(-t*(M_ma/(exp((-V_2ma + step_V)/s_ma) + 1) + M_mb/(exp((-V_2mb + step_V)/s_mb) + 1)))/(s_ma**2*(exp((-V_2ma + step_V)/s_ma) + 1)**2) + 4*M_ma*(-V_2ma + step_V)*exp((-V_2ma + step_V)/s_ma)/(s_ma**2*(exp((-V_2ma + step_V)/s_ma) + 1)**2) - 4*(M_ma*(-V_2ma + step_V)*exp((-V_2ma + step_V)/s_ma)/(s_ma**2*(exp((-V_2ma + step_V)/s_ma) + 1)**2) - M_ma*(-V_2ma + step_V)*exp((-V_2ma + step_V)/s_ma)/(s_ma**2*(1 + M_mb*(exp((-V_2ma + prestep_V)/s_ma) + 1)/(M_ma*(exp((-V_2mb + prestep_V)/s_mb) + 1)))*(exp((-V_2ma + step_V)/s_ma) + 1)**2) - M_mb*(-V_2ma + prestep_V)*(M_ma/(exp((-V_2ma + step_V)/s_ma) + 1) + M_mb/(exp((-V_2mb + step_V)/s_mb) + 1))*exp((-V_2ma + prestep_V)/s_ma)/(M_ma*s_ma**2*(1 + M_mb*(exp((-V_2ma + prestep_V)/s_ma) + 1)/(M_ma*(exp((-V_2mb + prestep_V)/s_mb) + 1)))**2*(exp((-V_2mb + prestep_V)/s_mb) + 1)))*exp(-t*(M_ma/(exp((-V_2ma + step_V)/s_ma) + 1) + M_mb/(exp((-V_2mb + step_V)/s_mb) + 1))))/(M_ma/(exp((-V_2ma + step_V)/s_ma) + 1) + M_mb/(exp((-V_2mb + step_V)/s_mb) + 1))**4)/(g*(-E_rev + step_V)*(M_ma/(exp((-V_2ma + step_V)/s_ma) + 1) - (M_ma/(exp((-V_2ma + step_V)/s_ma) + 1) - (M_ma/(exp((-V_2ma + step_V)/s_ma) + 1) + M_mb/(exp((-V_2mb + step_V)/s_mb) + 1))/(1 + M_mb*(exp((-V_2ma + prestep_V)/s_ma) + 1)/(M_ma*(exp((-V_2mb + prestep_V)/s_mb) + 1))))*exp(-t*(M_ma/(exp((-V_2ma + step_V)/s_ma) + 1) + M_mb/(exp((-V_2mb + step_V)/s_mb) + 1))))**4)"
      ]
     },
     "execution_count": 5,
     "metadata": {},
     "output_type": "execute_result"
    }
   ],
   "source": [
    "(s_ma / I) * dI_ds_ma"
   ]
  },
  {
   "cell_type": "code",
   "execution_count": 7,
   "metadata": {},
   "outputs": [
    {
     "data": {
      "text/latex": [
       "$\\displaystyle \\frac{1}{1.0 + \\frac{M_{mb} \\left(e^{\\frac{- V_{2ma} - 100}{s_{ma}}} + 1.0\\right)}{M_{ma} \\left(e^{\\frac{- V_{2mb} - 100}{s_{mb}}} + 1.0\\right)}}$"
      ],
      "text/plain": [
       "1/(1.0 + M_mb*(exp((-V_2ma - 100)/s_ma) + 1.0)/(M_ma*(exp((-V_2mb - 100)/s_mb) + 1.0)))"
      ]
     },
     "execution_count": 7,
     "metadata": {},
     "output_type": "execute_result"
    }
   ],
   "source": [
    "m_inf.subs({prestep_V:-100}).evalf()"
   ]
  },
  {
   "cell_type": "code",
   "execution_count": 6,
   "metadata": {},
   "outputs": [
    {
     "data": {
      "text/latex": [
       "$\\displaystyle \\frac{\\left(20 - E_{rev}\\right) \\left(\\frac{M_{ma}}{e^{\\frac{20 - V_{2ma}}{s_{ma}}} + 1} - \\left(\\frac{M_{ma}}{e^{\\frac{20 - V_{2ma}}{s_{ma}}} + 1} - \\frac{\\frac{M_{ma}}{e^{\\frac{20 - V_{2ma}}{s_{ma}}} + 1} + \\frac{M_{mb}}{e^{\\frac{20 - V_{2mb}}{s_{mb}}} + 1}}{1 + \\frac{M_{mb} \\left(e^{\\frac{- V_{2ma} + prestep_{V}}{s_{ma}}} + 1\\right)}{M_{ma} \\left(e^{\\frac{- V_{2mb} + prestep_{V}}{s_{mb}}} + 1\\right)}}\\right) e^{- t \\left(\\frac{M_{ma}}{e^{\\frac{20 - V_{2ma}}{s_{ma}}} + 1} + \\frac{M_{mb}}{e^{\\frac{20 - V_{2mb}}{s_{mb}}} + 1}\\right)}\\right)^{4}}{\\left(\\frac{M_{ma}}{e^{\\frac{20 - V_{2ma}}{s_{ma}}} + 1} + \\frac{M_{mb}}{e^{\\frac{20 - V_{2mb}}{s_{mb}}} + 1}\\right)^{4}}$"
      ],
      "text/plain": [
       "(20 - E_rev)*(M_ma/(exp((20 - V_2ma)/s_ma) + 1) - (M_ma/(exp((20 - V_2ma)/s_ma) + 1) - (M_ma/(exp((20 - V_2ma)/s_ma) + 1) + M_mb/(exp((20 - V_2mb)/s_mb) + 1))/(1 + M_mb*(exp((-V_2ma + prestep_V)/s_ma) + 1)/(M_ma*(exp((-V_2mb + prestep_V)/s_mb) + 1))))*exp(-t*(M_ma/(exp((20 - V_2ma)/s_ma) + 1) + M_mb/(exp((20 - V_2mb)/s_mb) + 1))))**4/(M_ma/(exp((20 - V_2ma)/s_ma) + 1) + M_mb/(exp((20 - V_2mb)/s_mb) + 1))**4"
      ]
     },
     "execution_count": 6,
     "metadata": {},
     "output_type": "execute_result"
    }
   ],
   "source": [
    "dI_dg.subs({step_V: 20, m_inf: m_inf})"
   ]
  }
 ],
 "metadata": {
  "kernelspec": {
   "display_name": "base",
   "language": "python",
   "name": "python3"
  },
  "language_info": {
   "codemirror_mode": {
    "name": "ipython",
    "version": 3
   },
   "file_extension": ".py",
   "mimetype": "text/x-python",
   "name": "python",
   "nbconvert_exporter": "python",
   "pygments_lexer": "ipython3",
   "version": "3.10.9"
  }
 },
 "nbformat": 4,
 "nbformat_minor": 2
}
