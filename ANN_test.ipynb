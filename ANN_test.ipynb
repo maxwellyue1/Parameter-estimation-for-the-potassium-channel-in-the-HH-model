{
 "cells": [
  {
   "cell_type": "code",
   "execution_count": 2,
   "metadata": {},
   "outputs": [],
   "source": [
    "import csv\n",
    "import os\n",
    "import random\n",
    "import numpy as np\n",
    "import pandas as pd\n",
    "from traces_dataset import Traces_Dataset\n",
    "import ast\n",
    "import torch \n",
    "from MLP_model import Net"
   ]
  },
  {
   "cell_type": "code",
   "execution_count": 3,
   "metadata": {},
   "outputs": [],
   "source": [
    "dataset = Traces_Dataset('dataset_test.csv')"
   ]
  },
  {
   "cell_type": "code",
   "execution_count": 4,
   "metadata": {},
   "outputs": [],
   "source": [
    "exp_narva_df = pd.read_csv('experiment records narval new.csv')"
   ]
  },
  {
   "cell_type": "code",
   "execution_count": 5,
   "metadata": {},
   "outputs": [],
   "source": [
    "normalized_mean = torch.tensor(ast.literal_eval(exp_narva_df['normalize_mean'][15]))\n",
    "normalized_std = torch.tensor(ast.literal_eval(exp_narva_df['normalize_std'][15]))"
   ]
  },
  {
   "cell_type": "code",
   "execution_count": 6,
   "metadata": {},
   "outputs": [],
   "source": [
    "dataset.clean_features()"
   ]
  },
  {
   "cell_type": "code",
   "execution_count": 7,
   "metadata": {},
   "outputs": [],
   "source": [
    "dataset.normalize_test(normalized_mean, normalized_std)"
   ]
  },
  {
   "cell_type": "code",
   "execution_count": 8,
   "metadata": {},
   "outputs": [],
   "source": [
    "target_params = dataset.params"
   ]
  },
  {
   "cell_type": "code",
   "execution_count": 9,
   "metadata": {},
   "outputs": [],
   "source": [
    "import torch\n",
    "\n",
    "# Specify the path to your saved model\n",
    "model_path = exp_narva_df['model'][15]\n",
    "\n",
    "# Load the model with map_location\n",
    "device = torch.device('cpu')  # Map tensors to CPU\n",
    "model = torch.load(model_path, map_location=device)"
   ]
  },
  {
   "cell_type": "code",
   "execution_count": 10,
   "metadata": {},
   "outputs": [],
   "source": [
    "model = Net(dataset.inputs.shape[1])"
   ]
  },
  {
   "cell_type": "code",
   "execution_count": 11,
   "metadata": {},
   "outputs": [
    {
     "data": {
      "text/plain": [
       "<All keys matched successfully>"
      ]
     },
     "execution_count": 11,
     "metadata": {},
     "output_type": "execute_result"
    }
   ],
   "source": [
    "model.load_state_dict(torch.load(exp_narva_df['model'][15], map_location=device))"
   ]
  },
  {
   "cell_type": "code",
   "execution_count": 12,
   "metadata": {},
   "outputs": [],
   "source": [
    "estimated_params = model(dataset.inputs)"
   ]
  },
  {
   "cell_type": "code",
   "execution_count": 42,
   "metadata": {},
   "outputs": [
    {
     "data": {
      "text/plain": [
       "(torch.Size([1000, 8]), torch.Size([1000, 8]))"
      ]
     },
     "execution_count": 42,
     "metadata": {},
     "output_type": "execute_result"
    }
   ],
   "source": [
    "estimated_params.shape, target_params.shape"
   ]
  },
  {
   "cell_type": "code",
   "execution_count": 15,
   "metadata": {},
   "outputs": [
    {
     "name": "stdout",
     "output_type": "stream",
     "text": [
      "tensor([[4.8016e+00, 2.2343e+00, 3.1916e+00,  ..., 8.5660e-01, 9.9321e-01,\n",
      "         2.2983e-02],\n",
      "        [6.6767e-02, 3.2031e-01, 1.8418e-02,  ..., 7.6059e-04, 3.6957e-01,\n",
      "         2.3242e-02],\n",
      "        [1.8740e+00, 2.4259e-01, 2.5492e-03,  ..., 2.0309e+00, 3.1924e-01,\n",
      "         4.7253e-01],\n",
      "        ...,\n",
      "        [4.0961e+01, 5.9379e+01, 1.8904e-02,  ..., 4.5999e+00, 1.3634e-01,\n",
      "         3.2624e-01],\n",
      "        [4.7879e-01, 3.6489e-01, 1.0378e-02,  ..., 6.8852e+00, 1.4496e-01,\n",
      "         1.1568e+00],\n",
      "        [9.5371e+00, 2.3254e+01, 5.3095e-02,  ..., 5.9517e-02, 2.9019e-01,\n",
      "         8.8415e-02]], grad_fn=<PowBackward0>)\n"
     ]
    }
   ],
   "source": [
    "mse_each_param = (estimated_params - target_params)**2\n",
    "print(mse_each_param)"
   ]
  },
  {
   "cell_type": "code",
   "execution_count": 19,
   "metadata": {},
   "outputs": [
    {
     "name": "stdout",
     "output_type": "stream",
     "text": [
      "tensor([12.9173, 10.4419,  0.5615, 10.0132,  2.8792, 12.5059,  1.1472,  2.0171],\n",
      "       grad_fn=<MeanBackward1>)\n"
     ]
    }
   ],
   "source": [
    "avg_mse_each_param = torch.mean((estimated_params - target_params)**2, dim=0)\n",
    "print(avg_mse_each_param)"
   ]
  },
  {
   "cell_type": "code",
   "execution_count": 20,
   "metadata": {},
   "outputs": [
    {
     "name": "stdout",
     "output_type": "stream",
     "text": [
      "tensor(6.5604, grad_fn=<MeanBackward0>)\n"
     ]
    }
   ],
   "source": [
    "overall_mse = torch.mean(avg_mse_each_param)\n",
    "print(overall_mse)"
   ]
  },
  {
   "cell_type": "code",
   "execution_count": 21,
   "metadata": {},
   "outputs": [
    {
     "name": "stdout",
     "output_type": "stream",
     "text": [
      "tensor([9.8675e-04, 1.2993e-03, 5.0390e-02, 2.8947e+01, 1.2528e-01, 5.2929e-01,\n",
      "        5.1218e-02, 8.3912e-02], grad_fn=<MeanBackward1>)\n"
     ]
    }
   ],
   "source": [
    "avg_re_each_param = torch.mean(((estimated_params - target_params)/target_params)**2, dim=0)\n",
    "print(avg_re_each_param)"
   ]
  },
  {
   "cell_type": "code",
   "execution_count": 22,
   "metadata": {},
   "outputs": [
    {
     "name": "stdout",
     "output_type": "stream",
     "text": [
      "tensor(3.7236, grad_fn=<MeanBackward0>)\n"
     ]
    }
   ],
   "source": [
    "overall_re = torch.mean(avg_re_each_param)\n",
    "print(overall_re)"
   ]
  },
  {
   "cell_type": "code",
   "execution_count": null,
   "metadata": {},
   "outputs": [],
   "source": []
  },
  {
   "cell_type": "code",
   "execution_count": 24,
   "metadata": {},
   "outputs": [],
   "source": [
    "dataset = Traces_Dataset('dataset_test.csv')"
   ]
  },
  {
   "cell_type": "code",
   "execution_count": 27,
   "metadata": {},
   "outputs": [
    {
     "data": {
      "text/plain": [
       "(torch.Size([1000, 12, 20]), torch.Size([1000, 12, 20]), torch.Size([1000, 8]))"
      ]
     },
     "execution_count": 27,
     "metadata": {},
     "output_type": "execute_result"
    }
   ],
   "source": [
    "dataset.time_traces.shape, dataset.current_traces.shape, dataset.params.shape"
   ]
  },
  {
   "cell_type": "code",
   "execution_count": 34,
   "metadata": {},
   "outputs": [],
   "source": [
    "target_time_traces_set = dataset.time_traces.numpy()\n",
    "target_current_traces_set = dataset.current_traces.numpy()\n",
    "target_params_set = dataset.params.numpy()"
   ]
  },
  {
   "cell_type": "code",
   "execution_count": 35,
   "metadata": {},
   "outputs": [
    {
     "data": {
      "text/plain": [
       "((1000, 12, 20), (1000, 12, 20), (1000, 8))"
      ]
     },
     "execution_count": 35,
     "metadata": {},
     "output_type": "execute_result"
    }
   ],
   "source": [
    "target_time_traces_set.shape, target_current_traces_set.shape, target_params_set.shape"
   ]
  },
  {
   "cell_type": "code",
   "execution_count": 36,
   "metadata": {},
   "outputs": [],
   "source": [
    "from GA_test import ga_algorithm"
   ]
  },
  {
   "cell_type": "code",
   "execution_count": 37,
   "metadata": {},
   "outputs": [
    {
     "name": "stdout",
     "output_type": "stream",
     "text": [
      "Experiment ID: 22815183\n",
      "1th Optimum Solution:  [128.22188764499822, -80.02136029223942, 36.636389882703156, 34.73110086983161, -38.28934151410932, 43.544789962649475, -44.82165837459445, 39.165527182315365]\n",
      "{'Min': 14608306.280788608, 'Max': 29645417661.39089, 'Avg': 803137931.6531272, 'Std': 1298704768.725753, 'Generation': 1}\n",
      "{'Min': 5179353.678392287, 'Max': 32922083120.744335, 'Avg': 382638931.98117965, 'Std': 1123437950.9286318, 'Generation': 2}\n",
      "{'Min': 2792982.7139410316, 'Max': 69725255265.81367, 'Avg': 308764780.97681993, 'Std': 1788394762.9741168, 'Generation': 3}\n",
      "{'Min': 1478584.0360958846, 'Max': 12583472387.851852, 'Avg': 228221893.29075512, 'Std': 741793629.6460779, 'Generation': 4}\n",
      "{'Min': 1411177.592229811, 'Max': 20177707687.81855, 'Avg': 258264754.60586652, 'Std': 991810908.598639, 'Generation': 5}\n",
      "{'Min': 724412.6473952099, 'Max': 15615046264.435219, 'Avg': 220929756.58078924, 'Std': 786686234.7707369, 'Generation': 6}\n",
      "{'Min': 724412.6473952099, 'Max': 7781531701.527845, 'Avg': 186561317.392489, 'Std': 630497221.8961437, 'Generation': 7}\n",
      "{'Min': 650580.1680636748, 'Max': 8598463196.350286, 'Avg': 184648258.5977109, 'Std': 645065839.1805208, 'Generation': 8}\n",
      "{'Min': 611107.3054576725, 'Max': 11054118872.09399, 'Avg': 189007280.0690636, 'Std': 745368720.0521605, 'Generation': 9}\n",
      "10th Optimum Solution:  [122.85283612934938, -82.95464786152402, 49.68894090363593, 35.275708175336035, 1.9101121907183085, 59.88143794666965, -48.044220797248116, 29.552284808751395]\n",
      "{'Min': 441906.72502166335, 'Max': 9628794375.469952, 'Avg': 191524315.8751743, 'Std': 729823683.6851168, 'Generation': 10}\n",
      "{'Min': 441906.72502166335, 'Max': 10941063393.062853, 'Avg': 152982101.8915761, 'Std': 729360668.1520399, 'Generation': 11}\n",
      "{'Min': 342996.4078340839, 'Max': 11149471982.565495, 'Avg': 151253946.78490955, 'Std': 638356504.7277248, 'Generation': 12}\n",
      "{'Min': 342996.4078340839, 'Max': 25952429130.1671, 'Avg': 176838696.13822076, 'Std': 909111076.5593396, 'Generation': 13}\n",
      "{'Min': 326466.2579424059, 'Max': 13932644230.657375, 'Avg': 164849613.84328762, 'Std': 689402848.2122675, 'Generation': 14}\n",
      "{'Min': 253383.29974879348, 'Max': 17536192741.46478, 'Avg': 205533860.1907736, 'Std': 879110136.7866336, 'Generation': 15}\n",
      "{'Min': 239708.60273632908, 'Max': 17226980139.91024, 'Avg': 212746385.3065136, 'Std': 974228435.1238182, 'Generation': 16}\n",
      "{'Min': 231614.61648525746, 'Max': 10004588598.360617, 'Avg': 162433152.34737223, 'Std': 698424270.8011358, 'Generation': 17}\n",
      "{'Min': 220885.39929286702, 'Max': 9602070056.967068, 'Avg': 167715223.6250567, 'Std': 699147285.5051594, 'Generation': 18}\n",
      "{'Min': 220320.88251149043, 'Max': 7490824078.738989, 'Avg': 155073071.351255, 'Std': 650347769.8300219, 'Generation': 19}\n",
      "{'Min': 216998.4303566115, 'Max': 12171212052.74845, 'Avg': 170993517.4182232, 'Std': 797667831.4883645, 'Generation': 20}\n",
      "{'Min': 209752.6216900481, 'Max': 11028541579.4618, 'Avg': 184554250.67276746, 'Std': 809645418.9904937, 'Generation': 21}\n",
      "{'Min': 205328.06419772853, 'Max': 20944654842.706604, 'Avg': 162222803.08199835, 'Std': 833060197.037215, 'Generation': 22}\n",
      "{'Min': 205328.06419772853, 'Max': 11413382296.949974, 'Avg': 191417544.27301055, 'Std': 758616240.7741969, 'Generation': 23}\n",
      "{'Min': 173801.06147952756, 'Max': 11191115856.4631, 'Avg': 160470720.87757397, 'Std': 737353041.1523776, 'Generation': 24}\n",
      "{'Min': 173798.56943948954, 'Max': 11868058195.267168, 'Avg': 158633974.47345343, 'Std': 678969418.4279463, 'Generation': 25}\n",
      "{'Min': 170229.65274188644, 'Max': 16429358624.158978, 'Avg': 163575769.78474346, 'Std': 745963798.0043561, 'Generation': 26}\n",
      "{'Min': 170086.1095143183, 'Max': 10377908883.31643, 'Avg': 173004975.63414705, 'Std': 820694278.2881411, 'Generation': 27}\n",
      "{'Min': 169987.3370737278, 'Max': 6226470773.89426, 'Avg': 149276365.3716179, 'Std': 595299240.2264135, 'Generation': 28}\n",
      "{'Min': 169796.6453786476, 'Max': 9334420787.221722, 'Avg': 160383016.010357, 'Std': 653779650.210325, 'Generation': 29}\n",
      "{'Min': 169796.6453786476, 'Max': 9576294280.76334, 'Avg': 178876381.2912489, 'Std': 725280129.1904967, 'Generation': 30}\n",
      "{'Min': 161531.13419967573, 'Max': 10084410783.829464, 'Avg': 176995129.27417222, 'Std': 729701728.7383187, 'Generation': 31}\n",
      "{'Min': 161529.90501720208, 'Max': 12903809814.863672, 'Avg': 141874753.15112808, 'Std': 646093277.8795614, 'Generation': 32}\n",
      "{'Min': 154042.86361342302, 'Max': 13858403212.292107, 'Avg': 166772382.8888734, 'Std': 709495951.2190424, 'Generation': 33}\n",
      "{'Min': 154042.86361342302, 'Max': 14523184216.851496, 'Avg': 171314880.59009913, 'Std': 792901413.5965471, 'Generation': 34}\n",
      "{'Min': 153847.06532440145, 'Max': 9450737419.816776, 'Avg': 168276274.99623585, 'Std': 682967808.4582008, 'Generation': 35}\n",
      "{'Min': 153405.14254282555, 'Max': 9118151541.385952, 'Avg': 149614462.50485724, 'Std': 628355436.947966, 'Generation': 36}\n",
      "{'Min': 153405.14254282555, 'Max': 11897331189.575779, 'Avg': 178929660.95849758, 'Std': 752509285.0251637, 'Generation': 37}\n",
      "{'Min': 153197.70028585335, 'Max': 11939279685.002367, 'Avg': 185506365.80450085, 'Std': 782118571.8874297, 'Generation': 38}\n",
      "{'Min': 150919.05347974674, 'Max': 19176746167.50695, 'Avg': 216870250.1561211, 'Std': 1005707930.8168055, 'Generation': 39}\n",
      "{'Min': 150913.5689810465, 'Max': 10817787712.756485, 'Avg': 157224200.58890247, 'Std': 716753473.121613, 'Generation': 40}\n",
      "{'Min': 150027.64405963995, 'Max': 14349618223.289362, 'Avg': 177168524.0737696, 'Std': 728732541.7263738, 'Generation': 41}\n",
      "{'Min': 148023.48174294087, 'Max': 6964918876.658588, 'Avg': 152549054.33901376, 'Std': 597835425.4050342, 'Generation': 42}\n",
      "{'Min': 147887.6122334737, 'Max': 11089055916.245056, 'Avg': 182658188.35568908, 'Std': 782335847.3252522, 'Generation': 43}\n",
      "{'Min': 147887.03729190116, 'Max': 11591964985.725368, 'Avg': 163229804.4659213, 'Std': 768313274.3817122, 'Generation': 44}\n",
      "{'Min': 147484.96856367745, 'Max': 9680188798.509737, 'Avg': 165892631.6741752, 'Std': 725300031.498775, 'Generation': 45}\n",
      "{'Min': 146892.8907133331, 'Max': 12114895490.858198, 'Avg': 153278368.66392753, 'Std': 690031385.0226139, 'Generation': 46}\n",
      "{'Min': 146489.50339692994, 'Max': 24980846899.880333, 'Avg': 192673356.6183454, 'Std': 976137558.1283883, 'Generation': 47}\n",
      "{'Min': 144236.5364081058, 'Max': 11451112870.529236, 'Avg': 182303869.2062368, 'Std': 742754757.9493426, 'Generation': 48}\n",
      "{'Min': 144236.5364081058, 'Max': 23736420621.59884, 'Avg': 166164213.41830614, 'Std': 885016956.6937566, 'Generation': 49}\n",
      "50th Optimum Solution:  [111.57596597926681, -87.95501130087968, 49.88408078672606, 37.29114558020482, -0.7228144399146927, 56.74800630569571, -41.7726597131208, 29.721802399146178]\n",
      "{'Min': 143851.16537373012, 'Max': 8890142339.460224, 'Avg': 159374832.39667922, 'Std': 667829164.8053553, 'Generation': 50}\n",
      "{'Min': 143387.6209155125, 'Max': 15090258496.824173, 'Avg': 176548236.43261665, 'Std': 788342093.3939587, 'Generation': 51}\n",
      "{'Min': 141031.24293302122, 'Max': 9954597935.98305, 'Avg': 152627229.8088291, 'Std': 625491199.874667, 'Generation': 52}\n",
      "{'Min': 140866.1482537338, 'Max': 14881554408.491678, 'Avg': 161255410.24440613, 'Std': 737527593.8816712, 'Generation': 53}\n",
      "{'Min': 140841.91417496017, 'Max': 10372705231.628242, 'Avg': 172836373.1177989, 'Std': 697065503.0033706, 'Generation': 54}\n",
      "{'Min': 140529.277025252, 'Max': 13339457746.015636, 'Avg': 171680918.43488213, 'Std': 790785361.7070926, 'Generation': 55}\n",
      "{'Min': 140463.4580088791, 'Max': 14500264916.301737, 'Avg': 190524216.0871702, 'Std': 832693160.1627537, 'Generation': 56}\n",
      "{'Min': 140395.5472761247, 'Max': 8116548541.921661, 'Avg': 147966791.12862414, 'Std': 630545537.6679145, 'Generation': 57}\n",
      "{'Min': 139751.4259121137, 'Max': 14067468350.992352, 'Avg': 159093263.5691628, 'Std': 737896055.0335177, 'Generation': 58}\n",
      "{'Min': 139723.9927817755, 'Max': 11877304396.943045, 'Avg': 148652230.51641142, 'Std': 637647325.2822433, 'Generation': 59}\n",
      "{'Min': 139723.9927817755, 'Max': 8548513301.060214, 'Avg': 141955761.01223847, 'Std': 587690315.9431444, 'Generation': 60}\n",
      "{'Min': 139715.4743513615, 'Max': 14356917368.697502, 'Avg': 177921942.41178223, 'Std': 788393266.6797417, 'Generation': 61}\n",
      "{'Min': 139707.99627643934, 'Max': 23314036803.02487, 'Avg': 194726347.30575365, 'Std': 928439922.9716209, 'Generation': 62}\n",
      "{'Min': 139707.99627643934, 'Max': 16279118365.1493, 'Avg': 172147321.16906464, 'Std': 770139046.9065838, 'Generation': 63}\n",
      "{'Min': 135363.62488235525, 'Max': 11722119092.70819, 'Avg': 163508193.2669708, 'Std': 701355698.9776503, 'Generation': 64}\n",
      "{'Min': 135169.07578975282, 'Max': 12571847832.932833, 'Avg': 149787272.12157312, 'Std': 650993879.5480535, 'Generation': 65}\n",
      "{'Min': 135169.07578975282, 'Max': 8757757103.216486, 'Avg': 172137242.63765648, 'Std': 722476692.6183705, 'Generation': 66}\n",
      "{'Min': 135153.31940532516, 'Max': 12333361102.668056, 'Avg': 184640191.67715916, 'Std': 757204856.5340993, 'Generation': 67}\n",
      "{'Min': 135145.40989500514, 'Max': 11161004240.837322, 'Avg': 155961316.80928972, 'Std': 668691962.5277765, 'Generation': 68}\n",
      "{'Min': 135145.08837166952, 'Max': 14874196238.57691, 'Avg': 181358598.79986352, 'Std': 794664573.5565846, 'Generation': 69}\n",
      "{'Min': 135138.54239527293, 'Max': 13963396893.52659, 'Avg': 159215463.49635524, 'Std': 736103705.6757052, 'Generation': 70}\n",
      "{'Min': 133837.9232538316, 'Max': 16032072393.9527, 'Avg': 186145828.58546665, 'Std': 835316696.5354953, 'Generation': 71}\n",
      "{'Min': 133416.06824686506, 'Max': 8449790005.979174, 'Avg': 164730305.79118738, 'Std': 655500856.1369661, 'Generation': 72}\n",
      "{'Min': 132966.6488617663, 'Max': 8481633985.355267, 'Avg': 144789161.8609678, 'Std': 596819930.9159783, 'Generation': 73}\n",
      "{'Min': 132889.6167413322, 'Max': 8948375032.246794, 'Avg': 158941024.91000423, 'Std': 627080438.6362587, 'Generation': 74}\n",
      "{'Min': 132889.28289662916, 'Max': 17005653778.465717, 'Avg': 204766480.45898438, 'Std': 862294927.1957893, 'Generation': 75}\n",
      "{'Min': 132874.2168471578, 'Max': 11868025118.84442, 'Avg': 158873225.29562, 'Std': 734354303.5741959, 'Generation': 76}\n",
      "{'Min': 132870.54667515832, 'Max': 11827552575.678068, 'Avg': 149427743.77835825, 'Std': 633929791.3801308, 'Generation': 77}\n",
      "{'Min': 132870.54667515832, 'Max': 7474910185.227768, 'Avg': 168286336.64200476, 'Std': 662310843.875279, 'Generation': 78}\n",
      "{'Min': 132870.54667515832, 'Max': 13401279914.1221, 'Avg': 186423551.41156366, 'Std': 742163584.5850819, 'Generation': 79}\n",
      "{'Min': 132870.54667515832, 'Max': 10839787683.526531, 'Avg': 199964066.05327165, 'Std': 812838971.8095254, 'Generation': 80}\n",
      "{'Min': 132870.54667515832, 'Max': 15627780266.52373, 'Avg': 200841158.4833731, 'Std': 846495753.4225304, 'Generation': 81}\n",
      "{'Min': 132870.54667515832, 'Max': 22002914680.980896, 'Avg': 206544784.93231437, 'Std': 985840313.8954983, 'Generation': 82}\n",
      "{'Min': 132870.54667515832, 'Max': 20051713554.629253, 'Avg': 186363974.94549945, 'Std': 856282432.5194846, 'Generation': 83}\n",
      "{'Min': 132870.54667515832, 'Max': 7976280661.264145, 'Avg': 179817863.68588406, 'Std': 737226470.3922247, 'Generation': 84}\n",
      "{'Min': 132870.54667515832, 'Max': 17464494880.26243, 'Avg': 167702356.73868558, 'Std': 759056122.8003868, 'Generation': 85}\n",
      "{'Min': 132870.54667515832, 'Max': 21945952281.362957, 'Avg': 192195236.3993186, 'Std': 871205274.2635369, 'Generation': 86}\n",
      "{'Min': 132870.54667515832, 'Max': 10658913956.825071, 'Avg': 170315191.59764937, 'Std': 710376986.112665, 'Generation': 87}\n",
      "{'Min': 132870.54667515832, 'Max': 11167080848.53827, 'Avg': 167659273.378698, 'Std': 692838970.3501236, 'Generation': 88}\n",
      "{'Min': 132870.54667515832, 'Max': 10073422349.376516, 'Avg': 168446381.84891942, 'Std': 701389428.1874467, 'Generation': 89}\n",
      "{'Min': 132870.54667515832, 'Max': 7078815919.931112, 'Avg': 159903152.22729152, 'Std': 624647024.1100479, 'Generation': 90}\n",
      "{'Min': 132870.54667515832, 'Max': 7911512278.035309, 'Avg': 173934833.80988178, 'Std': 655173976.5182039, 'Generation': 91}\n",
      "{'Min': 132848.19973577026, 'Max': 10492099016.190998, 'Avg': 181266129.5094446, 'Std': 707577929.9759935, 'Generation': 92}\n",
      "{'Min': 132848.19973577026, 'Max': 14937335287.95311, 'Avg': 210589095.62734264, 'Std': 902213326.0167836, 'Generation': 93}\n",
      "{'Min': 132769.03305652985, 'Max': 8068007705.234471, 'Avg': 161054587.72940168, 'Std': 702094479.0860244, 'Generation': 94}\n",
      "{'Min': 132584.85876797605, 'Max': 9467020266.200235, 'Avg': 142053447.6637292, 'Std': 655400837.2931432, 'Generation': 95}\n",
      "{'Min': 132582.97768875601, 'Max': 9544844143.204033, 'Avg': 171883185.938972, 'Std': 669486565.3056101, 'Generation': 96}\n",
      "{'Min': 132535.02552713905, 'Max': 9143704785.288956, 'Avg': 163427235.72113636, 'Std': 673268325.708402, 'Generation': 97}\n",
      "{'Min': 132535.02552713905, 'Max': 14182329208.947065, 'Avg': 170243887.01219857, 'Std': 742619358.2295853, 'Generation': 98}\n",
      "{'Min': 132535.02552713905, 'Max': 7240601264.2005, 'Avg': 182710586.75190932, 'Std': 713013311.0661652, 'Generation': 99}\n",
      "100th Optimum Solution:  [111.66012796120708, -87.95622961981901, 49.984215803872445, 37.450599739550256, -0.4902777048125415, 56.726190468851385, -42.00112901116722, 29.509979053793362]\n",
      "{'Min': 132534.96149218082, 'Max': 14886782466.868622, 'Avg': 169843158.26939306, 'Std': 771591515.9265658, 'Generation': 100}\n",
      "{'Min': 132534.96149218082, 'Max': 15509216577.194956, 'Avg': 197571791.89591894, 'Std': 811482963.2552058, 'Generation': 101}\n",
      "{'Min': 132534.96149218082, 'Max': 12962692444.517494, 'Avg': 170180390.61819452, 'Std': 722942966.8798374, 'Generation': 102}\n",
      "{'Min': 132534.96149218082, 'Max': 7923664301.38744, 'Avg': 152022482.16383588, 'Std': 604896398.8806056, 'Generation': 103}\n",
      "{'Min': 132534.96149218082, 'Max': 11122254247.581593, 'Avg': 152576435.54614308, 'Std': 664216203.1825073, 'Generation': 104}\n",
      "{'Min': 132534.96149218082, 'Max': 8820008497.546848, 'Avg': 156141693.70425925, 'Std': 673685932.5669476, 'Generation': 105}\n",
      "{'Min': 132534.96149218082, 'Max': 7285365338.946362, 'Avg': 148532344.895942, 'Std': 614290056.7309659, 'Generation': 106}\n",
      "{'Min': 132534.96149218082, 'Max': 10126759667.178452, 'Avg': 176024410.7980413, 'Std': 789936304.8523413, 'Generation': 107}\n",
      "{'Min': 132534.96149218082, 'Max': 8205583395.706571, 'Avg': 152912284.39608553, 'Std': 625731243.1920195, 'Generation': 108}\n",
      "{'Min': 132534.96149218082, 'Max': 8178240647.055306, 'Avg': 144146268.6013289, 'Std': 590415091.7110195, 'Generation': 109}\n",
      "{'Min': 132534.96149218082, 'Max': 7830319013.494058, 'Avg': 152823743.20570728, 'Std': 639495997.6931726, 'Generation': 110}\n",
      "{'Min': 132534.96149218082, 'Max': 14588749399.137207, 'Avg': 176943872.23979694, 'Std': 805941759.0318297, 'Generation': 111}\n",
      "{'Min': 132534.96149218082, 'Max': 14326369736.240414, 'Avg': 169508281.0607645, 'Std': 741228232.6158952, 'Generation': 112}\n",
      "{'Min': 132534.96149218082, 'Max': 17085275304.95336, 'Avg': 174182760.7245143, 'Std': 847635639.5785581, 'Generation': 113}\n",
      "{'Min': 132534.96149218082, 'Max': 15045712889.10083, 'Avg': 197308140.54875192, 'Std': 806571109.4112341, 'Generation': 114}\n",
      "{'Min': 132534.96149218082, 'Max': 8263251895.985326, 'Avg': 161840180.6337027, 'Std': 714399420.0707254, 'Generation': 115}\n",
      "{'Min': 132534.96149218082, 'Max': 9186335332.03228, 'Avg': 142684126.07981053, 'Std': 586779189.7653192, 'Generation': 116}\n",
      "{'Min': 132534.96149218082, 'Max': 15196502157.359764, 'Avg': 182801764.09932682, 'Std': 813043962.0566841, 'Generation': 117}\n",
      "{'Min': 132534.96149218082, 'Max': 15941974797.290556, 'Avg': 163667263.93050203, 'Std': 800989597.6342537, 'Generation': 118}\n",
      "{'Min': 132534.96149218082, 'Max': 9122097990.77836, 'Avg': 198874875.6208419, 'Std': 733169449.6211475, 'Generation': 119}\n",
      "{'Min': 132534.96149218082, 'Max': 12364429832.809784, 'Avg': 170398966.3036358, 'Std': 746841596.29725, 'Generation': 120}\n",
      "{'Min': 132534.96149218082, 'Max': 12932157307.996803, 'Avg': 172615785.1659588, 'Std': 772761156.055942, 'Generation': 121}\n",
      "{'Min': 132534.96149218082, 'Max': 13237542946.429821, 'Avg': 146200195.61891076, 'Std': 678183751.6335028, 'Generation': 122}\n",
      "{'Min': 132534.96149218082, 'Max': 20615763754.454113, 'Avg': 189680650.8722928, 'Std': 894488831.7346069, 'Generation': 123}\n",
      "{'Min': 132534.96149218082, 'Max': 7761232926.581554, 'Avg': 148673562.92802146, 'Std': 586573211.490315, 'Generation': 124}\n",
      "{'Min': 132534.96149218082, 'Max': 10976530054.24329, 'Avg': 171100716.2509454, 'Std': 737307230.1480211, 'Generation': 125}\n",
      "{'Min': 132534.96149218082, 'Max': 14513265285.746513, 'Avg': 147574993.93781185, 'Std': 728212110.1854799, 'Generation': 126}\n",
      "{'Min': 132534.96149218082, 'Max': 8497475930.525681, 'Avg': 132757024.5460463, 'Std': 593242785.2098141, 'Generation': 127}\n",
      "{'Min': 132534.96149218082, 'Max': 13068117527.870584, 'Avg': 130644923.38548853, 'Std': 582851989.0619941, 'Generation': 128}\n",
      "{'Min': 132534.96149218082, 'Max': 12974884646.682467, 'Avg': 166573585.34158725, 'Std': 768986762.8782846, 'Generation': 129}\n",
      "{'Min': 132534.96149218082, 'Max': 11408327163.007372, 'Avg': 191681504.0593614, 'Std': 806273445.7482646, 'Generation': 130}\n",
      "{'Min': 132534.96149218082, 'Max': 12249623291.85408, 'Avg': 168812092.25920787, 'Std': 680806610.692684, 'Generation': 131}\n",
      "{'Min': 132534.96149218082, 'Max': 18577543990.97262, 'Avg': 164974930.42905995, 'Std': 803846839.2407084, 'Generation': 132}\n",
      "{'Min': 132534.96149218082, 'Max': 6254404645.365321, 'Avg': 155450493.9121979, 'Std': 602327459.1909558, 'Generation': 133}\n",
      "{'Min': 132534.96149218082, 'Max': 9179114964.050442, 'Avg': 157822236.49834463, 'Std': 651023722.0194335, 'Generation': 134}\n",
      "{'Min': 132534.96149218082, 'Max': 31863839922.21555, 'Avg': 182433712.26890874, 'Std': 984884735.2514793, 'Generation': 135}\n",
      "{'Min': 132534.96149218082, 'Max': 7310638977.965187, 'Avg': 170903845.64187256, 'Std': 654661915.4831442, 'Generation': 136}\n",
      "{'Min': 132534.96149218082, 'Max': 13132549909.105621, 'Avg': 175164040.93980432, 'Std': 742798687.8256886, 'Generation': 137}\n",
      "{'Min': 132534.96149218082, 'Max': 9543663911.897308, 'Avg': 179356567.2837253, 'Std': 712005922.3288668, 'Generation': 138}\n",
      "{'Min': 132534.96149218082, 'Max': 10129216999.809715, 'Avg': 168519180.91522986, 'Std': 649756853.755418, 'Generation': 139}\n",
      "{'Min': 132534.96149218082, 'Max': 14468644918.858253, 'Avg': 161944705.7884122, 'Std': 727702260.687716, 'Generation': 140}\n",
      "{'Min': 132534.96149218082, 'Max': 13586500349.345116, 'Avg': 199395230.68939584, 'Std': 884810908.7321547, 'Generation': 141}\n",
      "{'Min': 132534.96149218082, 'Max': 11176349603.092518, 'Avg': 160753287.56352496, 'Std': 665693143.7432281, 'Generation': 142}\n",
      "{'Min': 132534.96149218082, 'Max': 9854408084.837872, 'Avg': 160358330.2105965, 'Std': 653022682.3739605, 'Generation': 143}\n",
      "{'Min': 132534.96149218082, 'Max': 22732533692.80684, 'Avg': 167327199.78338653, 'Std': 877338700.3438809, 'Generation': 144}\n",
      "{'Min': 132534.96149218082, 'Max': 12684551540.62623, 'Avg': 190958803.6584775, 'Std': 821815879.441668, 'Generation': 145}\n",
      "{'Min': 132534.96149218082, 'Max': 6683637026.197672, 'Avg': 157348249.0808421, 'Std': 645067989.3182214, 'Generation': 146}\n",
      "{'Min': 132534.96149218082, 'Max': 11667248064.312025, 'Avg': 167062663.49210924, 'Std': 760364013.89166, 'Generation': 147}\n",
      "{'Min': 132534.96149218082, 'Max': 11834399963.85218, 'Avg': 159038808.82661748, 'Std': 682354090.476408, 'Generation': 148}\n",
      "{'Min': 132534.96149218082, 'Max': 13177615157.137196, 'Avg': 168510488.0329129, 'Std': 693493345.9903659, 'Generation': 149}\n",
      "{'Min': 132534.96149218082, 'Max': 8868365092.217312, 'Avg': 149535127.22309098, 'Std': 651067799.0776786, 'Generation': 150}\n",
      "{'Min': 132534.96149218082, 'Max': 8555934180.641052, 'Avg': 153188253.91377804, 'Std': 593196835.131185, 'Generation': 151}\n",
      "{'Min': 132534.96149218082, 'Max': 6884714306.977341, 'Avg': 178006378.6888584, 'Std': 684859184.2968471, 'Generation': 152}\n",
      "{'Min': 132534.96149218082, 'Max': 13094667786.39998, 'Avg': 169992962.13474286, 'Std': 762544896.3253181, 'Generation': 153}\n",
      "{'Min': 132534.96149218082, 'Max': 11512375333.293066, 'Avg': 170276877.0655016, 'Std': 745811039.9279485, 'Generation': 154}\n",
      "{'Min': 132534.96149218082, 'Max': 9243489768.087048, 'Avg': 171533864.4800429, 'Std': 701338893.1537527, 'Generation': 155}\n",
      "{'Min': 132534.96149218082, 'Max': 12556056221.000202, 'Avg': 192233070.01699206, 'Std': 800573088.1231716, 'Generation': 156}\n",
      "{'Min': 132534.96149218082, 'Max': 10173525188.498299, 'Avg': 182403325.49997166, 'Std': 775526782.8926746, 'Generation': 157}\n",
      "{'Min': 132534.96149218082, 'Max': 11737822760.736374, 'Avg': 171649920.85929772, 'Std': 730878127.3502407, 'Generation': 158}\n",
      "{'Min': 132534.96149218082, 'Max': 11844903267.622501, 'Avg': 161902327.91973773, 'Std': 725999178.8380647, 'Generation': 159}\n",
      "{'Min': 132534.96149218082, 'Max': 16754429244.824097, 'Avg': 195955166.13073376, 'Std': 903993468.7025872, 'Generation': 160}\n",
      "{'Min': 132534.96149218082, 'Max': 12586367143.171217, 'Avg': 191776036.75589222, 'Std': 800650774.1094606, 'Generation': 161}\n",
      "{'Min': 132534.96149218082, 'Max': 8447210863.262484, 'Avg': 164862546.61575335, 'Std': 706376636.4434118, 'Generation': 162}\n",
      "{'Min': 132534.96149218082, 'Max': 13157396118.536793, 'Avg': 142279074.43369016, 'Std': 690587292.2608544, 'Generation': 163}\n",
      "{'Min': 132534.96149218082, 'Max': 12113091728.72307, 'Avg': 182049562.41052082, 'Std': 767314100.2542014, 'Generation': 164}\n",
      "{'Min': 132534.96149218082, 'Max': 8670512076.326763, 'Avg': 154091809.25909755, 'Std': 609365217.3491224, 'Generation': 165}\n",
      "{'Min': 132534.96149218082, 'Max': 7626493444.980417, 'Avg': 150324846.85341266, 'Std': 562892521.2725484, 'Generation': 166}\n",
      "{'Min': 132534.96149218082, 'Max': 11744828039.151882, 'Avg': 184711763.9937187, 'Std': 763033406.4983516, 'Generation': 167}\n",
      "{'Min': 132534.96149218082, 'Max': 22499381113.06461, 'Avg': 161475724.15303394, 'Std': 814219945.6795013, 'Generation': 168}\n",
      "{'Min': 132534.96149218082, 'Max': 31155806366.407227, 'Avg': 163378135.34658352, 'Std': 922415952.2565718, 'Generation': 169}\n",
      "{'Min': 132534.96149218082, 'Max': 16604421322.728222, 'Avg': 180901069.8689016, 'Std': 769159106.2102894, 'Generation': 170}\n",
      "{'Min': 132534.96149218082, 'Max': 11653658937.847637, 'Avg': 207082219.84597528, 'Std': 837254155.7641863, 'Generation': 171}\n",
      "{'Min': 132534.96149218082, 'Max': 9802155970.646278, 'Avg': 165000512.8354368, 'Std': 676637957.8559053, 'Generation': 172}\n",
      "{'Min': 132534.96149218082, 'Max': 20710224013.132687, 'Avg': 173344815.98273182, 'Std': 823082888.4133648, 'Generation': 173}\n",
      "{'Min': 132534.96149218082, 'Max': 12410634302.082167, 'Avg': 163243005.3664517, 'Std': 709281983.5714823, 'Generation': 174}\n",
      "{'Min': 132534.96149218082, 'Max': 8690203978.539013, 'Avg': 158285942.58913037, 'Std': 672857869.3345218, 'Generation': 175}\n",
      "{'Min': 132534.96149218082, 'Max': 10274798901.416164, 'Avg': 190728496.39888898, 'Std': 767210976.2070833, 'Generation': 176}\n",
      "{'Min': 132534.96149218082, 'Max': 10892553741.74263, 'Avg': 153636123.40421134, 'Std': 642644617.6193609, 'Generation': 177}\n",
      "{'Min': 132534.96149218082, 'Max': 11838878107.783867, 'Avg': 190616413.76934057, 'Std': 744622530.6320492, 'Generation': 178}\n",
      "{'Min': 132534.96149218082, 'Max': 14701262005.647419, 'Avg': 164160177.98022816, 'Std': 759401685.0710126, 'Generation': 179}\n",
      "{'Min': 132534.96149218082, 'Max': 8349368678.039558, 'Avg': 157131436.34519508, 'Std': 673524465.7557539, 'Generation': 180}\n",
      "{'Min': 132534.96149218082, 'Max': 10358632717.787146, 'Avg': 166411412.9217505, 'Std': 754541394.2408348, 'Generation': 181}\n",
      "{'Min': 132534.96149218082, 'Max': 9694596683.675587, 'Avg': 154339332.7350885, 'Std': 649259049.8172392, 'Generation': 182}\n",
      "{'Min': 132534.96149218082, 'Max': 11817693274.212803, 'Avg': 172171509.44044954, 'Std': 768426782.70526, 'Generation': 183}\n",
      "{'Min': 132534.96149218082, 'Max': 9545875994.36784, 'Avg': 179232595.5339823, 'Std': 760809796.3633088, 'Generation': 184}\n",
      "{'Min': 132534.96149218082, 'Max': 11290542160.369915, 'Avg': 151053613.29619727, 'Std': 619948418.1354367, 'Generation': 185}\n",
      "{'Min': 132534.96149218082, 'Max': 15089049192.1461, 'Avg': 175229023.70409197, 'Std': 867236512.9520298, 'Generation': 186}\n"
     ]
    },
    {
     "ename": "KeyboardInterrupt",
     "evalue": "",
     "output_type": "error",
     "traceback": [
      "\u001b[0;31m---------------------------------------------------------------------------\u001b[0m",
      "\u001b[0;31mKeyboardInterrupt\u001b[0m                         Traceback (most recent call last)",
      "\u001b[1;32m/Users/maxwellyue/Documents/GitHub/Compute-Canada-Research/ANN_test.ipynb Cell 24\u001b[0m line \u001b[0;36m1\n\u001b[0;32m----> <a href='vscode-notebook-cell:/Users/maxwellyue/Documents/GitHub/Compute-Canada-Research/ANN_test.ipynb#X33sZmlsZQ%3D%3D?line=0'>1</a>\u001b[0m ga_algorithm(target_time_traces_set[\u001b[39m0\u001b[39;49m], target_current_traces_set[\u001b[39m0\u001b[39;49m], target_params_set[\u001b[39m0\u001b[39;49m])\n",
      "File \u001b[0;32m~/Documents/GitHub/Compute-Canada-Research/GA_test.py:354\u001b[0m, in \u001b[0;36mga_algorithm\u001b[0;34m(target_t_traces, target_current_traces, target_params)\u001b[0m\n\u001b[1;32m    352\u001b[0m invalid_ind \u001b[39m=\u001b[39m [ind \u001b[39mfor\u001b[39;00m ind \u001b[39min\u001b[39;00m offspring \u001b[39mif\u001b[39;00m \u001b[39mnot\u001b[39;00m ind\u001b[39m.\u001b[39mfitness\u001b[39m.\u001b[39mvalid]\n\u001b[1;32m    353\u001b[0m fitnesses \u001b[39m=\u001b[39m \u001b[39mmap\u001b[39m(toolbox\u001b[39m.\u001b[39mevaluate, invalid_ind)\n\u001b[0;32m--> 354\u001b[0m \u001b[39mfor\u001b[39;00m ind, fit \u001b[39min\u001b[39;00m \u001b[39mzip\u001b[39m(invalid_ind, fitnesses):\n\u001b[1;32m    355\u001b[0m     ind\u001b[39m.\u001b[39mfitness\u001b[39m.\u001b[39mvalues \u001b[39m=\u001b[39m fit\n\u001b[1;32m    358\u001b[0m \u001b[39m# To check the performance of the evolution, we will calculate and print the\u001b[39;00m\n\u001b[1;32m    359\u001b[0m \u001b[39m# minimal, maximal, and mean values of the fitnesses of all individuals in our population\u001b[39;00m\n\u001b[1;32m    360\u001b[0m \u001b[39m# as well as their standard deviations.\u001b[39;00m\n\u001b[1;32m    361\u001b[0m \u001b[39m# Gather all the fitnesses in one list and print the stats\u001b[39;00m\n\u001b[1;32m    362\u001b[0m \u001b[39m#this_gen_fitness = [ind.fitness.values[0] for ind in offspring]\u001b[39;00m\n",
      "File \u001b[0;32m~/Documents/GitHub/Compute-Canada-Research/GA_test.py:260\u001b[0m, in \u001b[0;36mga_algorithm.<locals>.objective_fxn\u001b[0;34m(individual)\u001b[0m\n\u001b[1;32m    258\u001b[0m \u001b[39mdef\u001b[39;00m \u001b[39mobjective_fxn\u001b[39m(individual):\n\u001b[1;32m    259\u001b[0m     \u001b[39m# decoding chromosome to get decoded x in a list\u001b[39;00m\n\u001b[0;32m--> 260\u001b[0m     X \u001b[39m=\u001b[39m decode_all_x(individual, no_of_variables, param_bounds_wo_h)\n\u001b[1;32m    262\u001b[0m     Ik_stim \u001b[39m=\u001b[39m get_current_trace(target_t_traces, X)\n\u001b[1;32m    264\u001b[0m     obj_function_value \u001b[39m=\u001b[39m \u001b[39m0\u001b[39m\n",
      "File \u001b[0;32m~/Documents/GitHub/Compute-Canada-Research/GA_test.py:241\u001b[0m, in \u001b[0;36mga_algorithm.<locals>.decode_all_x\u001b[0;34m(individual, no_of_variables, bounds)\u001b[0m\n\u001b[1;32m    238\u001b[0m \u001b[39m# one loop each for x(first 50 bits of individual) and y(next 50 of individual)\u001b[39;00m\n\u001b[1;32m    239\u001b[0m \u001b[39mfor\u001b[39;00m i \u001b[39min\u001b[39;00m \u001b[39mrange\u001b[39m(\u001b[39m0\u001b[39m,len_chromosome,len_chromosome_one_var):\n\u001b[1;32m    240\u001b[0m     \u001b[39m# converts binary to decimial using 2**place_value\u001b[39;00m\n\u001b[0;32m--> 241\u001b[0m     chromosome_string \u001b[39m=\u001b[39m \u001b[39m'\u001b[39;49m\u001b[39m'\u001b[39;49m\u001b[39m.\u001b[39;49mjoin((\u001b[39mstr\u001b[39;49m(xi) \u001b[39mfor\u001b[39;49;00m xi \u001b[39min\u001b[39;49;00m  individual[i:i\u001b[39m+\u001b[39;49mlen_chromosome_one_var]))\n\u001b[1;32m    242\u001b[0m     binary_to_decimal \u001b[39m=\u001b[39m \u001b[39mint\u001b[39m(chromosome_string,\u001b[39m2\u001b[39m)\n\u001b[1;32m    244\u001b[0m     \u001b[39m# this formula for decoding gives us two benefits\u001b[39;00m\n\u001b[1;32m    245\u001b[0m     \u001b[39m# we are able to implement lower and upper bounds for each variable\u001b[39;00m\n\u001b[1;32m    246\u001b[0m     \u001b[39m# gives us flexibility to choose chromosome of any length,\u001b[39;00m\n\u001b[1;32m    247\u001b[0m     \u001b[39m#      more the no. of bits for a variable, more precise the decoded value can be\u001b[39;00m\n",
      "File \u001b[0;32m~/Documents/GitHub/Compute-Canada-Research/GA_test.py:241\u001b[0m, in \u001b[0;36m<genexpr>\u001b[0;34m(.0)\u001b[0m\n\u001b[1;32m    238\u001b[0m \u001b[39m# one loop each for x(first 50 bits of individual) and y(next 50 of individual)\u001b[39;00m\n\u001b[1;32m    239\u001b[0m \u001b[39mfor\u001b[39;00m i \u001b[39min\u001b[39;00m \u001b[39mrange\u001b[39m(\u001b[39m0\u001b[39m,len_chromosome,len_chromosome_one_var):\n\u001b[1;32m    240\u001b[0m     \u001b[39m# converts binary to decimial using 2**place_value\u001b[39;00m\n\u001b[0;32m--> 241\u001b[0m     chromosome_string \u001b[39m=\u001b[39m \u001b[39m'\u001b[39m\u001b[39m'\u001b[39m\u001b[39m.\u001b[39mjoin((\u001b[39mstr\u001b[39;49m(xi) \u001b[39mfor\u001b[39;00m xi \u001b[39min\u001b[39;00m  individual[i:i\u001b[39m+\u001b[39mlen_chromosome_one_var]))\n\u001b[1;32m    242\u001b[0m     binary_to_decimal \u001b[39m=\u001b[39m \u001b[39mint\u001b[39m(chromosome_string,\u001b[39m2\u001b[39m)\n\u001b[1;32m    244\u001b[0m     \u001b[39m# this formula for decoding gives us two benefits\u001b[39;00m\n\u001b[1;32m    245\u001b[0m     \u001b[39m# we are able to implement lower and upper bounds for each variable\u001b[39;00m\n\u001b[1;32m    246\u001b[0m     \u001b[39m# gives us flexibility to choose chromosome of any length,\u001b[39;00m\n\u001b[1;32m    247\u001b[0m     \u001b[39m#      more the no. of bits for a variable, more precise the decoded value can be\u001b[39;00m\n",
      "\u001b[0;31mKeyboardInterrupt\u001b[0m: "
     ]
    }
   ],
   "source": [
    "ga_algorithm(target_time_traces_set[0], target_current_traces_set[0], target_params_set[0])"
   ]
  },
  {
   "cell_type": "code",
   "execution_count": null,
   "metadata": {},
   "outputs": [],
   "source": []
  }
 ],
 "metadata": {
  "kernelspec": {
   "display_name": "base",
   "language": "python",
   "name": "python3"
  },
  "language_info": {
   "codemirror_mode": {
    "name": "ipython",
    "version": 3
   },
   "file_extension": ".py",
   "mimetype": "text/x-python",
   "name": "python",
   "nbconvert_exporter": "python",
   "pygments_lexer": "ipython3",
   "version": "3.10.9"
  }
 },
 "nbformat": 4,
 "nbformat_minor": 2
}
