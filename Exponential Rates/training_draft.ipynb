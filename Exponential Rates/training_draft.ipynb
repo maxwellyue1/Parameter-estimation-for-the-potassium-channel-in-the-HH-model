{
 "cells": [
  {
   "cell_type": "code",
   "execution_count": 1,
   "metadata": {},
   "outputs": [],
   "source": [
    "import torch\n",
    "import csv\n",
    "import os\n",
    "import random\n",
    "import numpy as np\n",
    "from torch.utils.data import TensorDataset, DataLoader, random_split\n",
    "import pandas as pd\n",
    "from dataset_reader import Traces_Dataset\n",
    "from mlp_model import MLP\n",
    "import torch.nn as nn\n",
    "import torch.optim as optim\n",
    "import matplotlib.pyplot as plt\n",
    "import uuid"
   ]
  },
  {
   "cell_type": "code",
   "execution_count": 2,
   "metadata": {},
   "outputs": [
    {
     "name": "stdout",
     "output_type": "stream",
     "text": [
      "Experiment ID: b292ea70\n"
     ]
    }
   ],
   "source": [
    "# initialize a dictionary of training history to store in a csv file\n",
    "history_dict = {}\n",
    "\n",
    "unique_id = str(uuid.uuid4())[:8]\n",
    "history_dict['unique_id'] = unique_id\n",
    "print(f'Experiment ID: {unique_id}')"
   ]
  },
  {
   "cell_type": "code",
   "execution_count": 3,
   "metadata": {},
   "outputs": [
    {
     "name": "stdout",
     "output_type": "stream",
     "text": [
      "Using device: cuda\n"
     ]
    }
   ],
   "source": [
    "# making training reproducible\n",
    "seed = 42\n",
    "random.seed(seed)\n",
    "np.random.seed(seed)\n",
    "torch.manual_seed(seed)\n",
    "torch.backends.cudnn.deterministic = True\n",
    "torch.backends.cudnn.benchmark = False\n",
    "history_dict['seed'] = seed\n",
    "\n",
    "device = torch.device('cuda' if torch.cuda.is_available() else 'cpu')  # Uncomment this line\n",
    "print(f\"Using device: {device}\")"
   ]
  },
  {
   "cell_type": "code",
   "execution_count": 4,
   "metadata": {},
   "outputs": [
    {
     "name": "stdout",
     "output_type": "stream",
     "text": [
      "torch.Size([1786000, 429])\n"
     ]
    }
   ],
   "source": [
    "# load and process dataset \n",
    "dataset = Traces_Dataset('dataset_exp.csv')\n",
    "dataset.split_dataset(0.95, 0.05, 0)\n",
    "dataset.clean_features()\n",
    "dataset.find_mean_std()\n",
    "dataset.normalize()\n",
    "print(dataset.inputs.shape)\n",
    "history_dict['normalize_mean'] = dataset.train_mean.tolist()\n",
    "history_dict['normalize_std'] = dataset.train_std.tolist()\n",
    "history_dict['dataset'] = (dataset.inputs.shape[0], dataset.inputs.shape[1])"
   ]
  },
  {
   "cell_type": "code",
   "execution_count": 5,
   "metadata": {},
   "outputs": [
    {
     "data": {
      "text/plain": [
       "(tensor([[ 1.0591e+01,  1.0469e+01,  1.0355e+01,  ..., -1.6977e-01,\n",
       "          -1.6974e-01, -1.6971e-01],\n",
       "         [-2.1859e-01, -1.6914e-01, -2.2237e-01,  ..., -1.6419e+00,\n",
       "          -1.6419e+00, -1.6418e+00],\n",
       "         [ 1.4342e-01,  2.9130e-02,  2.4940e-03,  ...,  1.4377e+00,\n",
       "           1.4377e+00,  1.4377e+00],\n",
       "         ...,\n",
       "         [ 3.1253e-01,  2.5577e-01,  2.2049e-01,  ..., -5.2708e-02,\n",
       "          -5.2677e-02, -5.2648e-02],\n",
       "         [-6.1433e-01, -6.5592e-01, -6.6348e-01,  ..., -9.3848e-01,\n",
       "          -9.3876e-01, -9.3900e-01],\n",
       "         [ 5.7889e-01,  6.7437e-01,  7.3329e-01,  ...,  1.0395e-01,\n",
       "           1.0398e-01,  1.0401e-01]]),\n",
       " torch.Size([1786000, 7]))"
      ]
     },
     "execution_count": 5,
     "metadata": {},
     "output_type": "execute_result"
    }
   ],
   "source": [
    "dataset.inputs, dataset.params.shape"
   ]
  },
  {
   "cell_type": "code",
   "execution_count": 6,
   "metadata": {},
   "outputs": [],
   "source": [
    "# initialize train, val, test set\n",
    "X_train = dataset[dataset.train_set.indices][0]\n",
    "Y_train = dataset[dataset.train_set.indices][1]\n",
    "\n",
    "X_val = dataset[dataset.val_set.indices][0]\n",
    "Y_val = dataset[dataset.val_set.indices][1]\n",
    "\n",
    "X_test = dataset[dataset.test_set.indices][0]\n",
    "Y_test = dataset[dataset.test_set.indices][1]\n",
    "\n",
    "# initialize NN model\n",
    "model = MLP(dataset.inputs.shape[1], dataset.params.shape[1]).to(device)\n",
    "model.initialize_weights()"
   ]
  },
  {
   "cell_type": "code",
   "execution_count": 7,
   "metadata": {},
   "outputs": [
    {
     "data": {
      "text/plain": [
       "[Sequential(\n",
       "   (0): Linear(in_features=429, out_features=512, bias=True)\n",
       "   (1): SiLU()\n",
       "   (2): Linear(in_features=512, out_features=512, bias=True)\n",
       "   (3): SiLU()\n",
       "   (4): Linear(in_features=512, out_features=7, bias=True)\n",
       " )]"
      ]
     },
     "execution_count": 7,
     "metadata": {},
     "output_type": "execute_result"
    }
   ],
   "source": [
    "# store model architecture\n",
    "architecture = []\n",
    "for name, layer in model.named_children():\n",
    "    architecture.append(layer)\n",
    "history_dict['architecture'] = architecture\n",
    "architecture"
   ]
  },
  {
   "cell_type": "code",
   "execution_count": 8,
   "metadata": {},
   "outputs": [
    {
     "data": {
      "text/plain": [
       "'Adam 0.001'"
      ]
     },
     "execution_count": 8,
     "metadata": {},
     "output_type": "execute_result"
    }
   ],
   "source": [
    "# loss function and optimizer\n",
    "loss_fn = nn.MSELoss()  # mean square error\n",
    "optimizer = optim.Adam(model.parameters(), lr=0.001) \n",
    "\n",
    "# record optimizer\n",
    "lr = optimizer.param_groups[0]['lr']\n",
    "history_dict['optimizer'] = f'{optimizer.__class__.__name__} {lr}'\n",
    "history_dict['optimizer']"
   ]
  },
  {
   "cell_type": "code",
   "execution_count": 9,
   "metadata": {},
   "outputs": [],
   "source": [
    "# functions to save and load best nn model, and create an unique id to store the model\n",
    "def checkpoint(model, filename, folder='models'):\n",
    "    os.makedirs(folder, exist_ok=True)\n",
    "    filepath = os.path.join(folder, filename)\n",
    "    torch.save(model.state_dict(), filepath)\n",
    "    return filepath\n",
    "def resume(model, filepath):\n",
    "    model.load_state_dict(torch.load(filepath))"
   ]
  },
  {
   "cell_type": "code",
   "execution_count": 10,
   "metadata": {},
   "outputs": [
    {
     "name": "stdout",
     "output_type": "stream",
     "text": [
      "Number of model parameters: 486407\n"
     ]
    }
   ],
   "source": [
    "# this is a 1d vector containing all weight in the nn model, no bias included. \n",
    "def weights_1d(model): \n",
    "    # Get parameters with gradients\n",
    "    parameters_with_grad = [param for param in model.parameters() if param.requires_grad]\n",
    "    # Concatenate parameters into a 1D tensor\n",
    "    flat_parameters = torch.cat([param.view(-1) for param in parameters_with_grad])\n",
    "    return flat_parameters\n",
    "print(f'Number of model parameters: {weights_1d(model).shape[0]}')\n",
    "weights_change_updates = np.array([])  # using numpy array to save memory \n",
    "weights_change_epochs = []"
   ]
  },
  {
   "cell_type": "code",
   "execution_count": 11,
   "metadata": {},
   "outputs": [],
   "source": [
    "# training parameters\n",
    "n_epochs = 300   # number of epochs to run\n",
    "batch_size = 1024  # size of each batch\n",
    "history_dict['epochs'] = n_epochs\n",
    "history_dict['batch size'] = batch_size"
   ]
  },
  {
   "cell_type": "code",
   "execution_count": 12,
   "metadata": {},
   "outputs": [],
   "source": [
    "# initialize dataloader \n",
    "train_dataset = TensorDataset(X_train, Y_train)\n",
    "train_loader = DataLoader(train_dataset, batch_size=batch_size, shuffle=True)\n",
    "\n",
    "val_dataset = TensorDataset(X_val, Y_val)\n",
    "val_loader = DataLoader(val_dataset, batch_size=batch_size, shuffle=True)\n",
    "\n",
    "# initialization train, val losses\n",
    "train_losses = []\n",
    "val_losses = []\n",
    "\n",
    "best_validation_loss = float('inf')"
   ]
  },
  {
   "cell_type": "code",
   "execution_count": 13,
   "metadata": {},
   "outputs": [
    {
     "name": "stdout",
     "output_type": "stream",
     "text": [
      "1: train-43.09805644616062, val-6.09941353039308\n",
      "2: train-3.1102608075398024, val-2.2470590323209763\n",
      "3: train-1.6109759458304171, val-1.4437725354324689\n",
      "4: train-1.144413437156988, val-0.906839561056007\n",
      "5: train-0.9361130951504141, val-0.5618959865109487\n",
      "6: train-0.8118831172864266, val-1.0362345637245611\n",
      "7: train-0.7309353036663225, val-0.4607139676809311\n",
      "8: train-0.6859704906421032, val-0.7550737424330278\n",
      "9: train-0.6366745155567711, val-0.7849946265870874\n",
      "10: train-0.6051958510421742, val-0.30062906545671547\n",
      "11: train-0.5504836863110277, val-0.3395680019801313\n",
      "12: train-0.5283841485799474, val-0.557375078174201\n",
      "13: train-0.5011360214446493, val-0.37978378954258835\n",
      "14: train-0.4787763011207333, val-0.2579362194307826\n",
      "15: train-0.46019988828976616, val-1.3072781854055144\n",
      "16: train-0.45414968251318694, val-0.41441523419185117\n",
      "17: train-0.42223985923940904, val-0.4628353477879004\n",
      "18: train-0.41696985147772025, val-0.17096417854455384\n",
      "19: train-0.4221487126448605, val-0.20496235991066153\n",
      "20: train-0.4039359786736008, val-0.6134673831137744\n",
      "21: train-0.37373605425827605, val-0.2963107685473832\n",
      "22: train-0.36306424095426326, val-0.7491872974417426\n",
      "23: train-0.3457986285295124, val-0.5771569856865839\n",
      "24: train-0.33987852015100334, val-0.19169887714087963\n",
      "25: train-0.3455627285389204, val-0.11355618853121996\n",
      "26: train-0.3412001835621835, val-0.5704396488991651\n",
      "27: train-0.3153158981054032, val-0.4650334980000149\n",
      "28: train-0.3087453143508159, val-0.2394652231173082\n",
      "29: train-0.31312072809446123, val-0.2604806123470718\n",
      "30: train-0.31680535728322073, val-0.17322097363119776\n",
      "31: train-0.2863626198985883, val-0.17711894349618393\n",
      "32: train-0.2925567219936495, val-0.18332448550923305\n",
      "33: train-0.2690371799456404, val-0.9792323545976118\n",
      "34: train-0.2754828594062943, val-0.22574390470981598\n",
      "35: train-0.2772330789094455, val-0.21740672855891965\n",
      "36: train-0.25939377791185875, val-0.40939534252340143\n",
      "37: train-0.28473897135772114, val-1.441570062528957\n",
      "38: train-0.24959168910719431, val-0.358716680244966\n",
      "39: train-0.25838332509258893, val-0.28010377507995476\n",
      "40: train-0.231455224391363, val-0.21031548590822655\n",
      "41: train-0.25768544235338126, val-0.13432648684829473\n",
      "42: train-0.24087487091689708, val-0.11324031778018583\n",
      "43: train-0.23342136353676982, val-0.2716552655805241\n",
      "44: train-0.2354489914335504, val-0.08017686839130791\n",
      "45: train-0.23327187793616005, val-0.2011064152148637\n",
      "46: train-0.23676061827642197, val-0.13603101738474585\n",
      "47: train-0.2164055186947139, val-0.2231799541887912\n",
      "48: train-0.21651815901149016, val-0.1327306218445301\n",
      "49: train-0.22465649393977857, val-0.5064401426775889\n",
      "50: train-0.21704650794391397, val-0.21289962530136108\n",
      "51: train-0.21351913617464097, val-0.144940307025205\n",
      "52: train-0.20711196508251836, val-0.24884436906061388\n",
      "53: train-0.22097343592648774, val-0.08539855387061834\n",
      "54: train-0.19176315313894202, val-0.07084974951364777\n",
      "55: train-0.2023063169597824, val-0.08834056721322915\n",
      "56: train-0.21048548058637598, val-0.1282035754993558\n",
      "57: train-0.19291839527621568, val-0.20600285855206577\n",
      "58: train-0.19720555342144827, val-0.24112926643680443\n",
      "59: train-0.193100834788061, val-0.20613671957769178\n",
      "60: train-0.19316189268949022, val-0.4842154583470388\n",
      "61: train-0.19575985427327594, val-0.12712637504393404\n",
      "62: train-0.18190417638162065, val-0.3639158433811231\n",
      "63: train-0.1849484562122937, val-0.17013700238683008\n",
      "64: train-0.18019300663712232, val-0.19608146460218864\n",
      "65: train-0.18850705090080605, val-0.3890614526515657\n",
      "66: train-0.1762358522988006, val-0.5076146684587002\n",
      "67: train-0.183467853998717, val-0.23052204078571362\n",
      "68: train-0.17316050863024982, val-0.1330569941889156\n",
      "69: train-0.16616344964946692, val-0.10394531429152597\n",
      "70: train-0.17389400453769305, val-0.1564782719889825\n",
      "71: train-0.16314931360664106, val-0.12570615798573603\n",
      "72: train-0.1567262531374511, val-0.19545448639176108\n",
      "73: train-0.17413449554951996, val-0.11364945430647243\n",
      "74: train-0.14593344342748157, val-0.12188710661774332\n",
      "75: train-0.1635478566151717, val-0.18594260852445255\n",
      "76: train-0.15309649227017297, val-0.10517288304188034\n",
      "77: train-0.1578523409707437, val-0.13073844047771258\n",
      "78: train-0.15837653024896628, val-0.1279919773170894\n",
      "79: train-0.14853669810696185, val-0.2542539367621595\n",
      "80: train-0.15677488339175716, val-0.14265016034584155\n",
      "81: train-0.15477941417476465, val-0.29151774231683125\n",
      "82: train-0.13946556838821703, val-0.4155546569011428\n",
      "83: train-0.15942569405478962, val-0.09658216989853165\n",
      "84: train-0.1385635690641065, val-0.3193172873421149\n",
      "85: train-0.14754527559032912, val-0.07942156595262614\n",
      "86: train-0.15052165012125446, val-0.09513158520514314\n",
      "87: train-0.14697503217585345, val-0.27041197602044453\n",
      "88: train-0.14500743440618233, val-0.09657884423028339\n",
      "89: train-0.14202733457708977, val-0.1031664815646681\n",
      "90: train-0.1421564711189245, val-0.09073712913827463\n",
      "91: train-0.14265415125723768, val-0.1632406825030392\n",
      "92: train-0.1339373071922476, val-0.05885478625582023\n",
      "93: train-0.14121914523000018, val-0.19229564189233564\n",
      "94: train-0.13662828230307486, val-0.06125241272490133\n",
      "95: train-0.13168172047383, val-0.08516062000258402\n",
      "96: train-0.1449425696683671, val-0.21142097884281116\n",
      "97: train-0.13617458305218777, val-0.08455021146007559\n",
      "98: train-0.12371799416781623, val-0.16875993816012685\n",
      "99: train-0.12752191484869246, val-0.14720654987137427\n",
      "100: train-0.12922125661776018, val-0.05159829264845361\n",
      "101: train-0.14423711594097502, val-0.044713642575185404\n",
      "102: train-0.12040444992046509, val-0.07998335581611503\n",
      "103: train-0.12321478209593746, val-0.08114912314340472\n",
      "104: train-0.13554900453645707, val-0.0671893438662995\n",
      "105: train-0.1291430198290151, val-0.2122893137010661\n",
      "106: train-0.12135365691123666, val-0.25094762596894393\n",
      "107: train-0.12128901047723151, val-0.10153376835991036\n",
      "108: train-0.12820689249884923, val-0.10520913384177467\n",
      "109: train-0.11572882895260672, val-0.05267423704605211\n",
      "110: train-0.1297321216566921, val-0.13858650709417733\n",
      "111: train-0.11998668658014838, val-0.13920455493710257\n",
      "112: train-0.11876560581930085, val-0.396500901742415\n",
      "113: train-0.11098647740369974, val-0.07710122799670155\n",
      "114: train-0.1234410486566819, val-0.05733176371590658\n",
      "115: train-0.12632264957218625, val-0.10091208522631363\n",
      "116: train-0.11069648698709712, val-0.08852043730968778\n",
      "117: train-0.11890631901661207, val-0.07419045341455123\n",
      "118: train-0.11583179955786081, val-0.7403399741107767\n",
      "119: train-0.11478160345318739, val-0.16234493916007606\n",
      "120: train-0.11230948463410553, val-0.2572703789919615\n",
      "121: train-0.11423736170505319, val-0.3382886360314759\n",
      "122: train-0.12188656953785638, val-0.08563959784805775\n",
      "123: train-0.10450728931764953, val-0.1108807349069552\n",
      "124: train-0.11075356298822664, val-0.08213362673466856\n",
      "125: train-0.10915351588578022, val-0.08831363967196508\n",
      "126: train-0.11323368791704373, val-0.07084224999628284\n",
      "127: train-0.10839019065152901, val-0.09698819106614048\n",
      "128: train-0.10979342229515944, val-0.061610957522961224\n",
      "129: train-0.10705691419753167, val-0.16583683307875285\n",
      "130: train-0.10739656204023884, val-0.04247180859304287\n",
      "131: train-0.11395850021102087, val-0.10246997495943849\n",
      "132: train-0.10722572690771874, val-0.04623251560736786\n",
      "133: train-0.10144100951420916, val-0.11194224189966917\n",
      "134: train-0.09820584889431638, val-0.0389488899064335\n",
      "135: train-0.10576640869286777, val-0.06504041659222408\n",
      "136: train-0.10133311234405584, val-0.08863125335086476\n",
      "137: train-0.10457710149840159, val-0.06960044483738867\n",
      "138: train-0.11160326655223453, val-0.07427504133771766\n",
      "139: train-0.09624689550678019, val-0.11225759669799697\n",
      "140: train-0.09335526423815438, val-0.04963313347914002\n",
      "141: train-0.1044434845811751, val-0.04848074946891178\n",
      "142: train-0.09867821857625451, val-0.16212045706131242\n",
      "143: train-0.09875397293001648, val-0.1652131685987115\n",
      "144: train-0.09566332796654863, val-0.2740375551987778\n",
      "145: train-0.10603047008516563, val-0.0941844977946444\n",
      "146: train-0.08974050851757978, val-0.07168887834995985\n",
      "147: train-0.09859696023085245, val-0.03914699500257319\n",
      "148: train-0.09447372255326396, val-0.10830292986197905\n",
      "149: train-0.09488156060623562, val-0.02899226669052785\n",
      "150: train-0.09975020597786088, val-0.07783667743206024\n",
      "151: train-0.0928000863405438, val-0.6855736808343367\n",
      "152: train-0.09166840104387335, val-0.12089112020013007\n",
      "153: train-0.09324013430784824, val-0.09037799786098978\n",
      "154: train-0.09101674272400576, val-0.04947722182524475\n",
      "155: train-0.08746988225928365, val-0.16806723126633602\n",
      "156: train-0.08893973720144743, val-0.05005109034986659\n",
      "157: train-0.0948842913598074, val-0.09533367729322477\n",
      "158: train-0.09312990982721711, val-0.07093345191837712\n",
      "159: train-0.0909010004207231, val-0.06580223532562907\n",
      "160: train-0.09007280603990939, val-0.05621794890612364\n",
      "161: train-0.09489943661856845, val-0.09324284609068524\n",
      "162: train-0.0869564484303517, val-0.21366517719897357\n",
      "163: train-0.08783530663894507, val-0.06539247007193891\n",
      "164: train-0.08963303351701744, val-0.04349893801422282\n",
      "165: train-0.09010925849783867, val-0.18555192141370339\n",
      "166: train-0.08821327006809669, val-0.0551462994295765\n",
      "167: train-0.08799463701948712, val-0.034281241982667285\n",
      "168: train-0.08383931395163288, val-0.24379270049658688\n",
      "169: train-0.09005794486544653, val-0.04770994156768376\n",
      "170: train-0.09075838297731414, val-0.0605639632452618\n",
      "171: train-0.0833209444896313, val-0.06919864082539623\n",
      "172: train-0.07984012963366062, val-0.0494329432787543\n",
      "173: train-0.08674795265654052, val-0.1343612034212459\n",
      "174: train-0.082103078535156, val-0.030562541913241148\n",
      "175: train-0.08639211808800626, val-0.03592320328409022\n",
      "176: train-0.08263098073962516, val-0.03681263530796224\n",
      "177: train-0.08419429044777108, val-0.03110062455843118\n",
      "178: train-0.08148982100116789, val-0.11153218251737682\n",
      "179: train-0.08675441670630017, val-0.05423853000287305\n",
      "180: train-0.07892634807515375, val-0.05984166006303646\n",
      "181: train-0.08746370448470656, val-0.6093680350617929\n",
      "182: train-0.08336646129828515, val-0.04191702498461713\n",
      "183: train-0.08006594866833452, val-0.10951965793289921\n",
      "184: train-0.0911545123563215, val-0.061036974572661246\n",
      "185: train-0.07931180668384394, val-0.22172953069887377\n",
      "186: train-0.07466494909492723, val-0.030751698777418245\n",
      "187: train-0.08669749716736318, val-0.05118396014652469\n",
      "188: train-0.07396296368586995, val-0.03888245511122725\n",
      "189: train-0.08230687433591828, val-0.061686764217235825\n",
      "190: train-0.07753740144611376, val-0.08312580696391789\n",
      "191: train-0.07771452154916995, val-0.03680163850499825\n",
      "192: train-0.0801177897384333, val-0.1108521433885802\n",
      "193: train-0.07451297507796147, val-0.13966473251242528\n",
      "194: train-0.08217326514355447, val-0.04146934175779196\n",
      "195: train-0.0826287747854811, val-0.0859844721853733\n",
      "196: train-0.079034392648322, val-0.040613340340893374\n",
      "197: train-0.0784492030780252, val-0.037671305958858946\n",
      "198: train-0.07547659007523279, val-0.05604136049408804\n",
      "199: train-0.08299802408840869, val-0.036383144091814756\n",
      "200: train-0.07455449789654582, val-0.09253054586323825\n",
      "201: train-0.07781533474371277, val-0.04084589590572498\n",
      "202: train-0.0795717139188234, val-0.13579223889180206\n",
      "203: train-0.0770773900921221, val-0.029585530642758717\n",
      "204: train-0.07321231337078703, val-0.035733827664940196\n",
      "205: train-0.0764091976243254, val-0.0296665411230854\n",
      "206: train-0.07120441100641627, val-0.05114315784620968\n",
      "207: train-0.07677095813151757, val-0.02771422374908897\n",
      "208: train-0.07654103896635156, val-0.04463031193749471\n",
      "209: train-0.07620358829626529, val-0.054931337691166184\n",
      "210: train-0.0734807363012665, val-0.06252337056635456\n",
      "211: train-0.07251174071119108, val-0.11128423049707305\n",
      "212: train-0.0762127370865286, val-0.03295963824811307\n",
      "213: train-0.07339876248542271, val-0.03272164735773748\n",
      "214: train-0.07720470382490824, val-0.03938544126735492\n",
      "215: train-0.06492110609099962, val-0.08230945451015775\n",
      "216: train-0.07598908816047764, val-0.06589319129389795\n",
      "217: train-0.07055527908872536, val-0.0687772195193578\n",
      "218: train-0.0713263903011039, val-0.034056242470714176\n",
      "219: train-0.06801586532172807, val-0.10849555878138001\n",
      "220: train-0.07285379364245724, val-0.05013932215727188\n",
      "221: train-0.07257847919021483, val-0.06507766966454008\n",
      "222: train-0.07140887037985247, val-0.05863584870133887\n",
      "223: train-0.07280355982660042, val-0.035939778010784226\n",
      "224: train-0.07232695479591209, val-0.09462337187406691\n",
      "225: train-0.07062091921693907, val-0.0442326509563083\n",
      "226: train-0.06760647669591922, val-0.1994845045899803\n",
      "227: train-0.0702745165702857, val-0.04382205775684931\n",
      "228: train-0.06675945688769734, val-0.04988878461616961\n",
      "229: train-0.0789009598935305, val-0.03612975469282405\n",
      "230: train-0.07017508910954286, val-0.0252959470433945\n",
      "231: train-0.06538415634886609, val-0.04439859828827056\n",
      "232: train-0.07113256389539359, val-0.037548484238372606\n",
      "233: train-0.06644751421104517, val-0.07008116493340243\n",
      "234: train-0.0661919900982241, val-0.22837192412804475\n",
      "235: train-0.07253582149128024, val-0.05864814355630766\n",
      "236: train-0.07420072167792555, val-0.05521943216974085\n",
      "237: train-0.06717606373333615, val-0.04379324293272062\n",
      "238: train-0.0660433127563368, val-0.037199693858962164\n",
      "239: train-0.0660873126265563, val-0.030624640280042182\n",
      "240: train-0.062457129339011375, val-0.06940843469717285\n",
      "241: train-0.07408953722910343, val-0.040241999847983774\n",
      "242: train-0.06147810776521804, val-0.11774727575142276\n",
      "243: train-0.06715844878134378, val-0.04827575986696915\n",
      "244: train-0.06998197155216046, val-0.09663454527882012\n",
      "245: train-0.062212771818707276, val-0.03126291263933209\n",
      "246: train-0.0640985902064965, val-0.12644506228918378\n",
      "247: train-0.0992980018155801, val-0.033172026043757796\n",
      "248: train-0.0674939845173238, val-0.039575818523933944\n",
      "249: train-0.0632197383620344, val-0.04462722638113932\n",
      "250: train-0.06529532349232851, val-0.03888159990310669\n",
      "251: train-0.06501764836499112, val-0.09147547668015416\n",
      "252: train-0.06443853136747806, val-0.0385288505137644\n",
      "253: train-0.06397396635419285, val-0.07017010869458318\n",
      "254: train-0.06205067607896222, val-0.0528520288115198\n",
      "255: train-0.07105606295591065, val-0.0595679542219097\n",
      "256: train-0.064173978449317, val-0.03317336071367291\n",
      "257: train-0.06245011882097716, val-0.07257505764507434\n",
      "258: train-0.0651142698503001, val-0.04981632458723404\n",
      "259: train-0.0591737717417039, val-0.04045649289830842\n",
      "260: train-0.06380476513017569, val-0.1644947784529491\n",
      "261: train-0.062378122692159955, val-0.08619303239340131\n",
      "262: train-0.06059917868899072, val-0.04464028098366477\n",
      "263: train-0.0716113264902338, val-0.08577239471064373\n",
      "264: train-0.05836584517090398, val-0.06460842794992706\n",
      "265: train-0.05895395960161933, val-0.02551142678765411\n",
      "266: train-0.06613763427506855, val-0.035511727868156\n",
      "267: train-0.06904105700700845, val-0.04468418272550811\n",
      "268: train-0.06352726444736906, val-0.039781440726735375\n",
      "269: train-0.05915399692282665, val-0.047929629387164656\n",
      "270: train-0.062299880309858884, val-0.042228964855894446\n",
      "271: train-0.063971150148262, val-0.032306652177463875\n",
      "272: train-0.06133724718849812, val-0.08789764412424782\n",
      "273: train-0.05948022101018252, val-0.04020354075526649\n",
      "274: train-0.057443968390210716, val-0.02964528434147889\n",
      "275: train-0.06604337980706575, val-0.059498639396307146\n",
      "276: train-0.05901652296097903, val-0.07338176506825468\n",
      "277: train-0.06219708905811042, val-0.049275431358678776\n",
      "278: train-0.05651684135971979, val-0.03491225679913028\n",
      "279: train-0.06567710415023453, val-0.030765815553340046\n",
      "280: train-0.05969401562050228, val-0.055246233897791666\n",
      "281: train-0.06270040484908553, val-0.04330191934819926\n",
      "282: train-0.057128956461045384, val-0.03030303029597483\n",
      "283: train-0.058543723591422916, val-0.09305668673054739\n",
      "284: train-0.05833478672817736, val-0.07308357611129229\n",
      "285: train-0.057346602185760265, val-0.04467547066848387\n",
      "286: train-0.059752526644147444, val-0.039316854079846635\n",
      "287: train-0.06069207368120686, val-0.040372834032909435\n",
      "288: train-0.057878465597969116, val-0.0419119007631459\n",
      "289: train-0.05449935353732587, val-0.046241395683451134\n",
      "290: train-0.06554362910316879, val-0.0876822726462375\n",
      "291: train-0.053960270540059224, val-0.12476800771599467\n",
      "292: train-0.056661100688856374, val-0.08738468697463925\n",
      "293: train-0.06086236408894222, val-0.05299520996314558\n",
      "294: train-0.055360425101209816, val-0.027767487018453805\n",
      "295: train-0.05728550780200336, val-0.05055920733138919\n",
      "296: train-0.05930276062197907, val-0.09451687175103209\n",
      "297: train-0.060395297738816196, val-0.0465895530175079\n",
      "298: train-0.06824862872186867, val-0.05882468447089195\n",
      "299: train-0.06053474453751697, val-0.04219241499562155\n",
      "300: train-0.0514356275361681, val-0.025425846201621673\n"
     ]
    }
   ],
   "source": [
    "# record the weights with no training\n",
    "# with torch.no_grad():\n",
    "#     previous_weights_epoch = weights_1d(model)\n",
    "\n",
    "# Training loop\n",
    "for epoch in range(1, n_epochs + 1):\n",
    "    model.train()  # Set the model to training mode\n",
    "    total_loss = 0.0\n",
    "\n",
    "    for inputs, labels in train_loader:\n",
    "        inputs, labels = inputs.to(device), labels.to(device)\n",
    "        optimizer.zero_grad()  # Zero the gradients\n",
    "        outputs = model(inputs)  # Forward pass\n",
    "        loss = loss_fn(outputs, labels)  # Calculate the loss\n",
    "        loss.backward()  # Backward pass\n",
    "        optimizer.step()  # Update weights\n",
    "\n",
    "        # record the weights changes across each updates (batches)\n",
    "        # with torch.no_grad():\n",
    "        #     current_weights = weights_1d(model)\n",
    "        #     if 'previous_weights' in locals():\n",
    "        #         weight_change = torch.norm(current_weights - previous_weights).item()#.cpu()\n",
    "        #         weights_change_updates = np.append(weights_change_updates, weight_change)\n",
    "        #     previous_weights = current_weights\n",
    "\n",
    "        total_loss += loss.item()\n",
    "\n",
    "    # Average training loss for the epoch\n",
    "    avg_train_loss = total_loss / len(train_loader)\n",
    "    train_losses.append(avg_train_loss)\n",
    "\n",
    "    # Validation loop\n",
    "    model.eval()  # Set the model to evaluation mode\n",
    "    total_val_loss = 0.0\n",
    "\n",
    "    with torch.no_grad():  # Disable gradient calculation during validation\n",
    "        # record the weights change across epochs\n",
    "        # current_weights_epoch = weights_1d(model)\n",
    "        # if 'previous_weights_epoch' in locals():\n",
    "        #     weight_change_epoch = torch.norm(current_weights_epoch - previous_weights_epoch).item()#.cpu()\n",
    "        #     weights_change_epochs.append(weight_change_epoch)\n",
    "        # previous_weights_epoch = current_weights_epoch\n",
    "\n",
    "        # validation\n",
    "        for val_inputs, val_labels in val_loader:\n",
    "            val_inputs, val_labels = val_inputs.to(device), val_labels.to(device)\n",
    "            val_outputs = model(val_inputs)\n",
    "            val_loss = loss_fn(val_outputs, val_labels)\n",
    "            total_val_loss += val_loss.item()\n",
    "\n",
    "    # Average validation loss for the epoch\n",
    "    avg_val_loss = total_val_loss / len(val_loader)\n",
    "    val_losses.append(avg_val_loss)\n",
    "\n",
    "    print(f'{epoch}: train-{avg_train_loss}, val-{avg_val_loss}')\n",
    "\n",
    "    # saving the model with best training mse\n",
    "    # if len(train_losses) != 1:\n",
    "    #     if avg_train_loss < train_losses[-2]: \n",
    "    #         best_loss = avg_train_loss\n",
    "    #         best_epoch = epoch\n",
    "    #         model_path = checkpoint(model, f\"model_{unique_id}.pth\")\n",
    "    if avg_val_loss < best_validation_loss:\n",
    "        best_epoch = epoch\n",
    "        model_path = checkpoint(model, f\"model_{unique_id}.pth\")\n",
    "        best_training_loss = avg_train_loss\n",
    "        best_validation_loss = avg_val_loss"
   ]
  },
  {
   "cell_type": "code",
   "execution_count": 14,
   "metadata": {},
   "outputs": [],
   "source": [
    "# record training, validationg losses, weight updates, and the result model path\n",
    "history_dict['best_epoch'] = best_epoch\n",
    "history_dict['best_val'] = best_validation_loss\n",
    "history_dict['best_train'] = best_training_loss\n",
    "history_dict['training'] = train_losses\n",
    "history_dict['validation'] = val_losses\n",
    "history_dict['weights'] = weights_change_epochs\n",
    "history_dict['model'] = model_path"
   ]
  },
  {
   "cell_type": "code",
   "execution_count": 16,
   "metadata": {},
   "outputs": [],
   "source": [
    "def experiment_records(row_data, file_path = 'experiment records.csv'): \n",
    "    '''\n",
    "    row_data is a dictionary of the row_data we want to store\n",
    "    '''\n",
    "    # Check if the file exists\n",
    "    file_exists = os.path.isfile(file_path)\n",
    "\n",
    "    with open(file_path, mode='a' if file_exists else 'w', newline='') as csv_file:\n",
    "        # Create a CSV writer object\n",
    "        csv_writer = csv.writer(csv_file)\n",
    "\n",
    "        # If the file is newly created, write the header row\n",
    "        if not file_exists:\n",
    "            header_row = row_data.keys() if isinstance(row_data, dict) else row_data\n",
    "            csv_writer.writerow(header_row)\n",
    "\n",
    "        # Write the data row\n",
    "        if isinstance(row_data, dict):\n",
    "            csv_writer.writerow(row_data.values())\n",
    "        else:\n",
    "            csv_writer.writerow(row_data)"
   ]
  },
  {
   "cell_type": "code",
   "execution_count": 17,
   "metadata": {},
   "outputs": [],
   "source": [
    "experiment_records(history_dict)"
   ]
  },
  {
   "cell_type": "code",
   "execution_count": 18,
   "metadata": {},
   "outputs": [
    {
     "name": "stdout",
     "output_type": "stream",
     "text": [
      "Best validation loss: 0.0252959470433945, at epoch: 230\n",
      "Number of total training samples:  1696700\n"
     ]
    }
   ],
   "source": [
    "print(f\"Best validation loss: {best_validation_loss}, at epoch: {best_epoch}\")\n",
    "#print(\"RMSE: %.2f\" % np.sqrt(best_mse))\n",
    "print('Number of total training samples: ', X_train.shape[0])"
   ]
  },
  {
   "cell_type": "code",
   "execution_count": 25,
   "metadata": {},
   "outputs": [
    {
     "data": {
      "text/plain": [
       "(0.0, 1.0)"
      ]
     },
     "execution_count": 25,
     "metadata": {},
     "output_type": "execute_result"
    },
    {
     "data": {
      "image/png": "[encoded data removed]",
      "text/plain": [
       "<Figure size 640x480 with 1 Axes>"
      ]
     },
     "metadata": {},
     "output_type": "display_data"
    }
   ],
   "source": [
    "plt.plot(train_losses, label='train_history')\n",
    "plt.plot(val_losses, label = 'val_history')\n",
    "plt.legend()\n",
    "plt.ylim(0, 1)"
   ]
  },
  {
   "cell_type": "code",
   "execution_count": 20,
   "metadata": {},
   "outputs": [
    {
     "data": {
      "image/png": "[encoded data removed]",
      "text/plain": [
       "<Figure size 640x480 with 1 Axes>"
      ]
     },
     "metadata": {},
     "output_type": "display_data"
    }
   ],
   "source": [
    "os.makedirs('train_figures', exist_ok=True)\n",
    "plt.figure()  # Create a new figure\n",
    "plt.plot(train_losses, label='train_history')\n",
    "#plt.plot(train_loss_history, label='train_history')\n",
    "plt.plot(val_losses, label = 'val_history')\n",
    "plt.legend()\n",
    "#plt.ylim(100, 300)\n",
    "#plt.xlim(0,10)\n",
    "plt.savefig(f'train_figures/{unique_id}.png')\n",
    "\n",
    "# os.makedirs('weights_figures', exist_ok=True)\n",
    "# plt.figure()  # Create a new figure\n",
    "# plt.plot(weights_change_updates, label = 'norm_weights_diff') \n",
    "# plt.xlabel('Epoch')\n",
    "# plt.ylabel('Norm of diff in model weights across batch updates')\n",
    "# plt.legend()\n",
    "# plt.savefig(f'weights_figures/updates {unique_id}.png')\n",
    "\n",
    "# plt.figure()  # Create a new figure\n",
    "# plt.plot(weights_change_epochs, label = 'norm_weights_diff') \n",
    "# plt.xlabel('Epoch')\n",
    "# plt.ylabel('Norm of diff in model weights across epochs')\n",
    "# plt.legend()\n",
    "# plt.savefig(f'weights_figures/epochs {unique_id}.png')\n",
    "\n",
    "# print(train_losses)\n",
    "# print(weights_change_epochs)"
   ]
  },
  {
   "cell_type": "code",
   "execution_count": null,
   "metadata": {},
   "outputs": [],
   "source": []
  },
  {
   "cell_type": "code",
   "execution_count": null,
   "metadata": {},
   "outputs": [],
   "source": []
  },
  {
   "cell_type": "markdown",
   "metadata": {},
   "source": [
    "Test the model"
   ]
  },
  {
   "cell_type": "code",
   "execution_count": 27,
   "metadata": {
    "scrolled": true
   },
   "outputs": [
    {
     "data": {
      "text/plain": [
       "MLP(\n",
       "  (layers): Sequential(\n",
       "    (0): Linear(in_features=429, out_features=512, bias=True)\n",
       "    (1): SiLU()\n",
       "    (2): Linear(in_features=512, out_features=512, bias=True)\n",
       "    (3): SiLU()\n",
       "    (4): Linear(in_features=512, out_features=7, bias=True)\n",
       "  )\n",
       ")"
      ]
     },
     "execution_count": 27,
     "metadata": {},
     "output_type": "execute_result"
    }
   ],
   "source": [
    "resume(model, f'models/model_{unique_id}.pth')\n",
    "model.cpu()"
   ]
  },
  {
   "cell_type": "code",
   "execution_count": 39,
   "metadata": {},
   "outputs": [
    {
     "data": {
      "text/plain": [
       "(tensor([  0.9303, 137.5029, -63.6215,   0.8221,  22.4191,   0.5264, -14.9443]),\n",
       " tensor([  1.0000, 137.7803, -63.5929,   0.8495,  22.3191,   0.4920, -14.9882]))"
      ]
     },
     "execution_count": 39,
     "metadata": {},
     "output_type": "execute_result"
    }
   ],
   "source": [
    "test_sample = 13407\n",
    "model(X_val[test_sample]).detach(), Y_val[test_sample]"
   ]
  },
  {
   "cell_type": "code",
   "execution_count": 51,
   "metadata": {},
   "outputs": [
    {
     "data": {
      "text/plain": [
       "1696700"
      ]
     },
     "execution_count": 51,
     "metadata": {},
     "output_type": "execute_result"
    }
   ],
   "source": [
    "X_train.shape[0]"
   ]
  },
  {
   "cell_type": "code",
   "execution_count": null,
   "metadata": {},
   "outputs": [],
   "source": []
  },
  {
   "cell_type": "code",
   "execution_count": null,
   "metadata": {},
   "outputs": [],
   "source": []
  },
  {
   "cell_type": "code",
   "execution_count": 29,
   "metadata": {},
   "outputs": [
    {
     "data": {
      "text/html": [
       "<div>\n",
       "<style scoped>\n",
       "    .dataframe tbody tr th:only-of-type {\n",
       "        vertical-align: middle;\n",
       "    }\n",
       "\n",
       "    .dataframe tbody tr th {\n",
       "        vertical-align: top;\n",
       "    }\n",
       "\n",
       "    .dataframe thead th {\n",
       "        text-align: right;\n",
       "    }\n",
       "</style>\n",
       "<table border=\"1\" class=\"dataframe\">\n",
       "  <thead>\n",
       "    <tr style=\"text-align: right;\">\n",
       "      <th></th>\n",
       "      <th>unique_id</th>\n",
       "      <th>seed</th>\n",
       "      <th>normalize_mean</th>\n",
       "      <th>normalize_std</th>\n",
       "      <th>dataset</th>\n",
       "      <th>architecture</th>\n",
       "      <th>optimizer</th>\n",
       "      <th>epochs</th>\n",
       "      <th>batch size</th>\n",
       "      <th>best_epoch</th>\n",
       "      <th>best_val</th>\n",
       "      <th>best_train</th>\n",
       "      <th>training</th>\n",
       "      <th>validation</th>\n",
       "      <th>weights</th>\n",
       "      <th>model</th>\n",
       "    </tr>\n",
       "  </thead>\n",
       "  <tbody>\n",
       "    <tr>\n",
       "      <th>0</th>\n",
       "      <td>45c4bad6</td>\n",
       "      <td>42</td>\n",
       "      <td>[0.008891306817531586, 0.013731910847127438, 0...</td>\n",
       "      <td>[0.012370031327009201, 0.016995912417769432, 0...</td>\n",
       "      <td>torch.Size([1786000, 429])</td>\n",
       "      <td>[Sequential(\\n  (0): Linear(in_features=429, o...</td>\n",
       "      <td>Adam 0.001</td>\n",
       "      <td>300</td>\n",
       "      <td>1024</td>\n",
       "      <td>258</td>\n",
       "      <td>0.029846</td>\n",
       "      <td>0.080799</td>\n",
       "      <td>[31.792827115982647, 2.3219674535378965, 1.444...</td>\n",
       "      <td>[8.479385934092782, 0.9476684358986941, 0.5425...</td>\n",
       "      <td>[]</td>\n",
       "      <td>models/model_45c4bad6.pth</td>\n",
       "    </tr>\n",
       "    <tr>\n",
       "      <th>1</th>\n",
       "      <td>b292ea70</td>\n",
       "      <td>42</td>\n",
       "      <td>[0.008891306817531586, 0.013731910847127438, 0...</td>\n",
       "      <td>[0.012370031327009201, 0.016995912417769432, 0...</td>\n",
       "      <td>(1786000, 429)</td>\n",
       "      <td>[Sequential(\\n  (0): Linear(in_features=429, o...</td>\n",
       "      <td>Adam 0.001</td>\n",
       "      <td>300</td>\n",
       "      <td>1024</td>\n",
       "      <td>230</td>\n",
       "      <td>0.025296</td>\n",
       "      <td>0.070175</td>\n",
       "      <td>[43.09805644616062, 3.1102608075398024, 1.6109...</td>\n",
       "      <td>[6.09941353039308, 2.2470590323209763, 1.44377...</td>\n",
       "      <td>[]</td>\n",
       "      <td>models/model_b292ea70.pth</td>\n",
       "    </tr>\n",
       "  </tbody>\n",
       "</table>\n",
       "</div>"
      ],
      "text/plain": [
       "  unique_id  seed                                     normalize_mean  \\\n",
       "0  45c4bad6    42  [0.008891306817531586, 0.013731910847127438, 0...   \n",
       "1  b292ea70    42  [0.008891306817531586, 0.013731910847127438, 0...   \n",
       "\n",
       "                                       normalize_std  \\\n",
       "0  [0.012370031327009201, 0.016995912417769432, 0...   \n",
       "1  [0.012370031327009201, 0.016995912417769432, 0...   \n",
       "\n",
       "                      dataset  \\\n",
       "0  torch.Size([1786000, 429])   \n",
       "1              (1786000, 429)   \n",
       "\n",
       "                                        architecture   optimizer  epochs  \\\n",
       "0  [Sequential(\\n  (0): Linear(in_features=429, o...  Adam 0.001     300   \n",
       "1  [Sequential(\\n  (0): Linear(in_features=429, o...  Adam 0.001     300   \n",
       "\n",
       "   batch size  best_epoch  best_val  best_train  \\\n",
       "0        1024         258  0.029846    0.080799   \n",
       "1        1024         230  0.025296    0.070175   \n",
       "\n",
       "                                            training  \\\n",
       "0  [31.792827115982647, 2.3219674535378965, 1.444...   \n",
       "1  [43.09805644616062, 3.1102608075398024, 1.6109...   \n",
       "\n",
       "                                          validation weights  \\\n",
       "0  [8.479385934092782, 0.9476684358986941, 0.5425...      []   \n",
       "1  [6.09941353039308, 2.2470590323209763, 1.44377...      []   \n",
       "\n",
       "                       model  \n",
       "0  models/model_45c4bad6.pth  \n",
       "1  models/model_b292ea70.pth  "
      ]
     },
     "execution_count": 29,
     "metadata": {},
     "output_type": "execute_result"
    }
   ],
   "source": [
    "import pandas as pd\n",
    "\n",
    "# Read the CSV file into a DataFrame\n",
    "df = pd.read_csv('experiment records.csv')\n",
    "\n",
    "df"
   ]
  },
  {
   "cell_type": "code",
   "execution_count": null,
   "metadata": {},
   "outputs": [],
   "source": []
  }
 ],
 "metadata": {
  "kernelspec": {
   "display_name": "Python 3 (ipykernel)",
   "language": "python",
   "name": "python3"
  },
  "language_info": {
   "codemirror_mode": {
    "name": "ipython",
    "version": 3
   },
   "file_extension": ".py",
   "mimetype": "text/x-python",
   "name": "python",
   "nbconvert_exporter": "python",
   "pygments_lexer": "ipython3",
   "version": "3.10.2"
  }
 },
 "nbformat": 4,
 "nbformat_minor": 4
}
